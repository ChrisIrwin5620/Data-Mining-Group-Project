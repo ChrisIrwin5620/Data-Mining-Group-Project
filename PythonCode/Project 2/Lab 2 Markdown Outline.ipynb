{
 "cells": [
  {
   "cell_type": "markdown",
   "metadata": {},
   "source": [
    "# Project 2: Classification\n",
    "## MSDS 7331 Data Mining Section 404\n",
    "## 7/9/2017\n",
    "\n",
    "### Chris Irwin, Damon Resnick, Josh Klien, Anna Frowein\n",
    "\n",
    "## Data Preparation\n",
    "\n",
    "Data Defintion:\n",
    "    - Define and prepare class varaibles\n",
    "    - Proper variable represenations\n",
    "    - dimensionality reduction as needed\n",
    "    - scaling as needed\n",
    "    - remove uneeded/un-useful varaibles\n",
    " \n",
    "Final Data Set:\n",
    "    - describe final data set\n",
    "    - New varaibles/featues as needed"
   ]
  },
  {
   "cell_type": "markdown",
   "metadata": {},
   "source": [
    "## Modeling and Evaluation\n",
    "\n",
    "### Evaluation Metrics\n",
    "\n",
    "### Method of Data Division\n",
    "\n",
    "### Model Creation\n",
    "3 models for each task\n",
    "\n",
    "#### Task 1: Prediciting the Tax Value of a House\n",
    "3 models\n",
    "\n",
    "#### Task 2: Possible estiamte time on market, see if we can predict how quickly a house will sell after being put on the market or predict the existence of a fireplace  \n",
    "3 models\n",
    "\n",
    "\n",
    "we will need a total of 6 models\n",
    "\n",
    "### Results\n",
    "\n",
    "Need visualizations, no set number \n",
    "\n",
    "### Model Advantages\n",
    "Discuss the model advantages if any, if non explain\n",
    "\n",
    "95% CI\n",
    "\n",
    "### Important Attributes\n",
    "\n",
    "what attributes are important and why, use proper terms and methods as discussed in class\n",
    "\n",
    "hypthosis on why some attributes are more important that others\n",
    "\n",
    "\n"
   ]
  },
  {
   "cell_type": "markdown",
   "metadata": {},
   "source": [
    "## Deployment\n",
    "\n",
    " - are models useful to third parties\n",
    " - how would they use them\n",
    " - how would you deploy them for use"
   ]
  },
  {
   "cell_type": "markdown",
   "metadata": {},
   "source": [
    "## Exceptional Work"
   ]
  },
  {
   "cell_type": "code",
   "execution_count": null,
   "metadata": {
    "collapsed": true
   },
   "outputs": [],
   "source": []
  }
 ],
 "metadata": {
  "anaconda-cloud": {},
  "kernelspec": {
   "display_name": "Python [default]",
   "language": "python",
   "name": "python2"
  },
  "language_info": {
   "codemirror_mode": {
    "name": "ipython",
    "version": 2
   },
   "file_extension": ".py",
   "mimetype": "text/x-python",
   "name": "python",
   "nbconvert_exporter": "python",
   "pygments_lexer": "ipython2",
   "version": "2.7.12"
  }
 },
 "nbformat": 4,
 "nbformat_minor": 1
}
