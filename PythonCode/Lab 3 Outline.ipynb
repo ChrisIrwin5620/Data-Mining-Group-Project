{
 "cells": [
  {
   "cell_type": "markdown",
   "metadata": {},
   "source": [
    "# Project 3: CRISP-DM Capston: \n",
    "## MSDS 7331 Data Mining Section 404\n",
    "## 7/9/2017\n",
    "\n",
    "### Chris Irwin, Damon Resnick, Josh Klein, Anna Frowein\n",
    "\n",
    "## Introduction\n",
    "\n",
    "Pick an option:\n",
    "\n",
    "    - A: Clustering on an unlabeled dataset to provide insight or fatures\n",
    "    - B: Use Transaction data for mining associations rules\n",
    "    - C: Use collaborative filtering to buid a custom recommendation system\n",
    "    \n",
    "## Business Understanding (10 points)\n",
    "\n",
    "    - Purpose of the data\n",
    "    - Meaure the effectiveness of a good algorithm\n",
    "        - how does this make sense for data\n",
    "        - and how does this make sense for stakeholders\n",
    "        \n",
    "## Data Understanding (20 points)\n",
    "\n",
    "### Part 1 (10 points)\n",
    "\n",
    "    -  meaning and type of data\n",
    "     - data quality\n",
    "         - missing values\n",
    "         - duplicate data\n",
    "         - outlies\n",
    "     - How we deal with these issues\n",
    "     \n",
    "### Part 2 (10 points)\n",
    "\n",
    "    - Visualize important attributes\n",
    "    - Interpretation of all charts and graphs\n",
    "    - NO Required number\n",
    "    \n",
    "## Modeling and Evaluation (50 points)\n",
    "Details for each of the following subsections differ depending on the option we choose. I will fill in the detail when we pick an option\n",
    "\n",
    "### Train and adjust parameters (10 points)\n",
    "\n",
    "### Evaluate and Compare (10 points)\n",
    "\n",
    "### Visualize Results (10 points)\n",
    "\n",
    "### Summarize the Ramificaitons (20 points)\n",
    "\n",
    "## Deployment (10 points)\n",
    "\n",
    "    - Did we achieve goals\n",
    "    -  how useful is modle for interested parties\n",
    "    - How would we deploy model\n",
    "    - What other data should be collected\n",
    "    - how often should model be updated\n",
    "\n",
    "## Exceptional Work (10 points)\n",
    "\n"
   ]
  },
  {
   "cell_type": "code",
   "execution_count": null,
   "metadata": {
    "collapsed": true
   },
   "outputs": [],
   "source": []
  }
 ],
 "metadata": {
  "anaconda-cloud": {},
  "kernelspec": {
   "display_name": "Python [default]",
   "language": "python",
   "name": "python2"
  },
  "language_info": {
   "codemirror_mode": {
    "name": "ipython",
    "version": 2
   },
   "file_extension": ".py",
   "mimetype": "text/x-python",
   "name": "python",
   "nbconvert_exporter": "python",
   "pygments_lexer": "ipython2",
   "version": "2.7.12"
  }
 },
 "nbformat": 4,
 "nbformat_minor": 1
}
