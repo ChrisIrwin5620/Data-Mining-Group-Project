{
 "cells": [
  {
   "cell_type": "markdown",
   "metadata": {},
   "source": [
    "# Project 3: CRISP-DM Capston: \n",
    "## MSDS 7331 Data Mining Section 404\n",
    "## 7/9/2017\n",
    "\n",
    "### Chris Irwin, Damon Resnick, Josh Klein, Anna Frowein\n",
    "\n",
    "## Introduction\n",
    "\n",
    "Pick an option:\n",
    "\n",
    "    - A: Clustering on an unlabeled dataset to provide insight or fatures\n",
    "    - B: Use Transaction data for mining associations rules\n",
    "    - C: Use collaborative filtering to buid a custom recommendation system\n",
    "    \n",
    "## Business Understanding (10 points)\n",
    "\n",
    "    - Purpose of the data\n",
    "    - Meaure the effectiveness of a good algorithm\n",
    "        - how does this make sense for data\n",
    "        - and how does this make sense for stakeholders\n",
    "        \n",
    "## Data Understanding (20 points)\n",
    "\n",
    "### Part 1 (10 points)\n",
    "\n",
    "    -  meaning and type of data\n",
    "     - data quality\n",
    "         - missing values\n",
    "         - duplicate data\n",
    "         - outlies\n",
    "     - How we deal with these issues\n",
    "     \n",
    "### Part 2 (10 points)\n",
    "\n",
    "    - Visualize important attributes\n",
    "    - Interpretation of all charts and graphs\n",
    "    - NO Required number\n",
    "    \n",
    "## Modeling and Evaluation (50 points)\n",
    "Details for each of the following subsections differ depending on the option we choose. I will fill in the detail when we pick an option\n",
    "\n",
    "### Train and adjust parameters (10 points)\n",
    "\n",
    "### Evaluate and Compare (10 points)\n",
    "\n",
    "### Visualize Results (10 points)\n",
    "\n",
    "### Summarize the Ramificaitons (20 points)\n",
    "\n",
    "## Deployment (10 points)\n",
    "\n",
    "    - Did we achieve goals\n",
    "    - How useful is modle for interested parties\n",
    "    - How would we deploy model\n",
    "    - What other data should be collected\n",
    "    - How often should model be updated\n",
    "\n",
    "## Exceptional Work (10 points)\n",
    "\n"
   ]
  },
  {
   "cell_type": "code",
   "execution_count": 1,
   "metadata": {
    "collapsed": false
   },
   "outputs": [
    {
     "name": "stderr",
     "output_type": "stream",
     "text": [
      "/Users/joshuaklein/anaconda/envs/gl-env/lib/python2.7/site-packages/IPython/core/interactiveshell.py:2723: DtypeWarning: Columns (22,32,34,49,55) have mixed types. Specify dtype option on import or set low_memory=False.\n",
      "  interactivity=interactivity, compiler=compiler, result=result)\n"
     ]
    },
    {
     "data": {
      "text/html": [
       "<div>\n",
       "<style>\n",
       "    .dataframe thead tr:only-child th {\n",
       "        text-align: right;\n",
       "    }\n",
       "\n",
       "    .dataframe thead th {\n",
       "        text-align: left;\n",
       "    }\n",
       "\n",
       "    .dataframe tbody tr th {\n",
       "        vertical-align: top;\n",
       "    }\n",
       "</style>\n",
       "<table border=\"1\" class=\"dataframe\">\n",
       "  <thead>\n",
       "    <tr style=\"text-align: right;\">\n",
       "      <th></th>\n",
       "      <th>parcelid</th>\n",
       "      <th>logerror</th>\n",
       "      <th>transactiondate</th>\n",
       "      <th>airconditioningtypeid</th>\n",
       "      <th>architecturalstyletypeid</th>\n",
       "      <th>basementsqft</th>\n",
       "      <th>bathroomcnt</th>\n",
       "      <th>bedroomcnt</th>\n",
       "      <th>buildingclasstypeid</th>\n",
       "      <th>buildingqualitytypeid</th>\n",
       "      <th>...</th>\n",
       "      <th>numberofstories</th>\n",
       "      <th>fireplaceflag</th>\n",
       "      <th>structuretaxvaluedollarcnt</th>\n",
       "      <th>taxvaluedollarcnt</th>\n",
       "      <th>assessmentyear</th>\n",
       "      <th>landtaxvaluedollarcnt</th>\n",
       "      <th>taxamount</th>\n",
       "      <th>taxdelinquencyflag</th>\n",
       "      <th>taxdelinquencyyear</th>\n",
       "      <th>censustractandblock</th>\n",
       "    </tr>\n",
       "  </thead>\n",
       "  <tbody>\n",
       "    <tr>\n",
       "      <th>0</th>\n",
       "      <td>11016594</td>\n",
       "      <td>0.0276</td>\n",
       "      <td>2016-01-01</td>\n",
       "      <td>1.0</td>\n",
       "      <td>NaN</td>\n",
       "      <td>NaN</td>\n",
       "      <td>2.0</td>\n",
       "      <td>3.0</td>\n",
       "      <td>NaN</td>\n",
       "      <td>4.0</td>\n",
       "      <td>...</td>\n",
       "      <td>NaN</td>\n",
       "      <td>NaN</td>\n",
       "      <td>122754.0</td>\n",
       "      <td>360170.0</td>\n",
       "      <td>2015.0</td>\n",
       "      <td>237416.0</td>\n",
       "      <td>6735.88</td>\n",
       "      <td>NaN</td>\n",
       "      <td>NaN</td>\n",
       "      <td>6.037107e+13</td>\n",
       "    </tr>\n",
       "    <tr>\n",
       "      <th>1</th>\n",
       "      <td>14366692</td>\n",
       "      <td>-0.1684</td>\n",
       "      <td>2016-01-01</td>\n",
       "      <td>NaN</td>\n",
       "      <td>NaN</td>\n",
       "      <td>NaN</td>\n",
       "      <td>3.5</td>\n",
       "      <td>4.0</td>\n",
       "      <td>NaN</td>\n",
       "      <td>NaN</td>\n",
       "      <td>...</td>\n",
       "      <td>NaN</td>\n",
       "      <td>NaN</td>\n",
       "      <td>346458.0</td>\n",
       "      <td>585529.0</td>\n",
       "      <td>2015.0</td>\n",
       "      <td>239071.0</td>\n",
       "      <td>10153.02</td>\n",
       "      <td>NaN</td>\n",
       "      <td>NaN</td>\n",
       "      <td>NaN</td>\n",
       "    </tr>\n",
       "    <tr>\n",
       "      <th>2</th>\n",
       "      <td>12098116</td>\n",
       "      <td>-0.0040</td>\n",
       "      <td>2016-01-01</td>\n",
       "      <td>1.0</td>\n",
       "      <td>NaN</td>\n",
       "      <td>NaN</td>\n",
       "      <td>3.0</td>\n",
       "      <td>2.0</td>\n",
       "      <td>NaN</td>\n",
       "      <td>4.0</td>\n",
       "      <td>...</td>\n",
       "      <td>NaN</td>\n",
       "      <td>NaN</td>\n",
       "      <td>61994.0</td>\n",
       "      <td>119906.0</td>\n",
       "      <td>2015.0</td>\n",
       "      <td>57912.0</td>\n",
       "      <td>11484.48</td>\n",
       "      <td>NaN</td>\n",
       "      <td>NaN</td>\n",
       "      <td>6.037464e+13</td>\n",
       "    </tr>\n",
       "    <tr>\n",
       "      <th>3</th>\n",
       "      <td>12643413</td>\n",
       "      <td>0.0218</td>\n",
       "      <td>2016-01-02</td>\n",
       "      <td>1.0</td>\n",
       "      <td>NaN</td>\n",
       "      <td>NaN</td>\n",
       "      <td>2.0</td>\n",
       "      <td>2.0</td>\n",
       "      <td>NaN</td>\n",
       "      <td>4.0</td>\n",
       "      <td>...</td>\n",
       "      <td>NaN</td>\n",
       "      <td>NaN</td>\n",
       "      <td>171518.0</td>\n",
       "      <td>244880.0</td>\n",
       "      <td>2015.0</td>\n",
       "      <td>73362.0</td>\n",
       "      <td>3048.74</td>\n",
       "      <td>NaN</td>\n",
       "      <td>NaN</td>\n",
       "      <td>6.037296e+13</td>\n",
       "    </tr>\n",
       "    <tr>\n",
       "      <th>4</th>\n",
       "      <td>14432541</td>\n",
       "      <td>-0.0050</td>\n",
       "      <td>2016-01-02</td>\n",
       "      <td>NaN</td>\n",
       "      <td>NaN</td>\n",
       "      <td>NaN</td>\n",
       "      <td>2.5</td>\n",
       "      <td>4.0</td>\n",
       "      <td>NaN</td>\n",
       "      <td>NaN</td>\n",
       "      <td>...</td>\n",
       "      <td>2.0</td>\n",
       "      <td>NaN</td>\n",
       "      <td>169574.0</td>\n",
       "      <td>434551.0</td>\n",
       "      <td>2015.0</td>\n",
       "      <td>264977.0</td>\n",
       "      <td>5488.96</td>\n",
       "      <td>NaN</td>\n",
       "      <td>NaN</td>\n",
       "      <td>6.059042e+13</td>\n",
       "    </tr>\n",
       "    <tr>\n",
       "      <th>5</th>\n",
       "      <td>11509835</td>\n",
       "      <td>-0.2705</td>\n",
       "      <td>2016-01-02</td>\n",
       "      <td>1.0</td>\n",
       "      <td>NaN</td>\n",
       "      <td>NaN</td>\n",
       "      <td>4.0</td>\n",
       "      <td>4.0</td>\n",
       "      <td>NaN</td>\n",
       "      <td>1.0</td>\n",
       "      <td>...</td>\n",
       "      <td>NaN</td>\n",
       "      <td>NaN</td>\n",
       "      <td>880650.0</td>\n",
       "      <td>2447951.0</td>\n",
       "      <td>2015.0</td>\n",
       "      <td>1567301.0</td>\n",
       "      <td>27126.57</td>\n",
       "      <td>NaN</td>\n",
       "      <td>NaN</td>\n",
       "      <td>6.037621e+13</td>\n",
       "    </tr>\n",
       "    <tr>\n",
       "      <th>6</th>\n",
       "      <td>12286022</td>\n",
       "      <td>0.0440</td>\n",
       "      <td>2016-01-02</td>\n",
       "      <td>NaN</td>\n",
       "      <td>NaN</td>\n",
       "      <td>NaN</td>\n",
       "      <td>1.0</td>\n",
       "      <td>2.0</td>\n",
       "      <td>NaN</td>\n",
       "      <td>7.0</td>\n",
       "      <td>...</td>\n",
       "      <td>NaN</td>\n",
       "      <td>NaN</td>\n",
       "      <td>64549.0</td>\n",
       "      <td>111521.0</td>\n",
       "      <td>2015.0</td>\n",
       "      <td>46972.0</td>\n",
       "      <td>2304.97</td>\n",
       "      <td>NaN</td>\n",
       "      <td>NaN</td>\n",
       "      <td>6.037542e+13</td>\n",
       "    </tr>\n",
       "    <tr>\n",
       "      <th>7</th>\n",
       "      <td>17177301</td>\n",
       "      <td>0.1638</td>\n",
       "      <td>2016-01-02</td>\n",
       "      <td>NaN</td>\n",
       "      <td>NaN</td>\n",
       "      <td>NaN</td>\n",
       "      <td>2.5</td>\n",
       "      <td>3.0</td>\n",
       "      <td>NaN</td>\n",
       "      <td>NaN</td>\n",
       "      <td>...</td>\n",
       "      <td>2.0</td>\n",
       "      <td>NaN</td>\n",
       "      <td>107000.0</td>\n",
       "      <td>306000.0</td>\n",
       "      <td>2015.0</td>\n",
       "      <td>199000.0</td>\n",
       "      <td>3745.50</td>\n",
       "      <td>NaN</td>\n",
       "      <td>NaN</td>\n",
       "      <td>6.111003e+13</td>\n",
       "    </tr>\n",
       "    <tr>\n",
       "      <th>8</th>\n",
       "      <td>14739064</td>\n",
       "      <td>-0.0030</td>\n",
       "      <td>2016-01-02</td>\n",
       "      <td>NaN</td>\n",
       "      <td>NaN</td>\n",
       "      <td>NaN</td>\n",
       "      <td>1.0</td>\n",
       "      <td>2.0</td>\n",
       "      <td>NaN</td>\n",
       "      <td>NaN</td>\n",
       "      <td>...</td>\n",
       "      <td>NaN</td>\n",
       "      <td>NaN</td>\n",
       "      <td>66834.0</td>\n",
       "      <td>210064.0</td>\n",
       "      <td>2015.0</td>\n",
       "      <td>143230.0</td>\n",
       "      <td>2172.88</td>\n",
       "      <td>NaN</td>\n",
       "      <td>NaN</td>\n",
       "      <td>6.059042e+13</td>\n",
       "    </tr>\n",
       "    <tr>\n",
       "      <th>9</th>\n",
       "      <td>14677559</td>\n",
       "      <td>0.0843</td>\n",
       "      <td>2016-01-03</td>\n",
       "      <td>NaN</td>\n",
       "      <td>NaN</td>\n",
       "      <td>NaN</td>\n",
       "      <td>2.0</td>\n",
       "      <td>2.0</td>\n",
       "      <td>NaN</td>\n",
       "      <td>NaN</td>\n",
       "      <td>...</td>\n",
       "      <td>1.0</td>\n",
       "      <td>NaN</td>\n",
       "      <td>109977.0</td>\n",
       "      <td>190960.0</td>\n",
       "      <td>2015.0</td>\n",
       "      <td>80983.0</td>\n",
       "      <td>1940.26</td>\n",
       "      <td>NaN</td>\n",
       "      <td>NaN</td>\n",
       "      <td>6.059063e+13</td>\n",
       "    </tr>\n",
       "  </tbody>\n",
       "</table>\n",
       "<p>10 rows × 60 columns</p>\n",
       "</div>"
      ],
      "text/plain": [
       "   parcelid  logerror transactiondate  airconditioningtypeid  \\\n",
       "0  11016594    0.0276      2016-01-01                    1.0   \n",
       "1  14366692   -0.1684      2016-01-01                    NaN   \n",
       "2  12098116   -0.0040      2016-01-01                    1.0   \n",
       "3  12643413    0.0218      2016-01-02                    1.0   \n",
       "4  14432541   -0.0050      2016-01-02                    NaN   \n",
       "5  11509835   -0.2705      2016-01-02                    1.0   \n",
       "6  12286022    0.0440      2016-01-02                    NaN   \n",
       "7  17177301    0.1638      2016-01-02                    NaN   \n",
       "8  14739064   -0.0030      2016-01-02                    NaN   \n",
       "9  14677559    0.0843      2016-01-03                    NaN   \n",
       "\n",
       "   architecturalstyletypeid  basementsqft  bathroomcnt  bedroomcnt  \\\n",
       "0                       NaN           NaN          2.0         3.0   \n",
       "1                       NaN           NaN          3.5         4.0   \n",
       "2                       NaN           NaN          3.0         2.0   \n",
       "3                       NaN           NaN          2.0         2.0   \n",
       "4                       NaN           NaN          2.5         4.0   \n",
       "5                       NaN           NaN          4.0         4.0   \n",
       "6                       NaN           NaN          1.0         2.0   \n",
       "7                       NaN           NaN          2.5         3.0   \n",
       "8                       NaN           NaN          1.0         2.0   \n",
       "9                       NaN           NaN          2.0         2.0   \n",
       "\n",
       "   buildingclasstypeid  buildingqualitytypeid         ...           \\\n",
       "0                  NaN                    4.0         ...            \n",
       "1                  NaN                    NaN         ...            \n",
       "2                  NaN                    4.0         ...            \n",
       "3                  NaN                    4.0         ...            \n",
       "4                  NaN                    NaN         ...            \n",
       "5                  NaN                    1.0         ...            \n",
       "6                  NaN                    7.0         ...            \n",
       "7                  NaN                    NaN         ...            \n",
       "8                  NaN                    NaN         ...            \n",
       "9                  NaN                    NaN         ...            \n",
       "\n",
       "   numberofstories  fireplaceflag  structuretaxvaluedollarcnt  \\\n",
       "0              NaN            NaN                    122754.0   \n",
       "1              NaN            NaN                    346458.0   \n",
       "2              NaN            NaN                     61994.0   \n",
       "3              NaN            NaN                    171518.0   \n",
       "4              2.0            NaN                    169574.0   \n",
       "5              NaN            NaN                    880650.0   \n",
       "6              NaN            NaN                     64549.0   \n",
       "7              2.0            NaN                    107000.0   \n",
       "8              NaN            NaN                     66834.0   \n",
       "9              1.0            NaN                    109977.0   \n",
       "\n",
       "   taxvaluedollarcnt  assessmentyear  landtaxvaluedollarcnt  taxamount  \\\n",
       "0           360170.0          2015.0               237416.0    6735.88   \n",
       "1           585529.0          2015.0               239071.0   10153.02   \n",
       "2           119906.0          2015.0                57912.0   11484.48   \n",
       "3           244880.0          2015.0                73362.0    3048.74   \n",
       "4           434551.0          2015.0               264977.0    5488.96   \n",
       "5          2447951.0          2015.0              1567301.0   27126.57   \n",
       "6           111521.0          2015.0                46972.0    2304.97   \n",
       "7           306000.0          2015.0               199000.0    3745.50   \n",
       "8           210064.0          2015.0               143230.0    2172.88   \n",
       "9           190960.0          2015.0                80983.0    1940.26   \n",
       "\n",
       "   taxdelinquencyflag  taxdelinquencyyear  censustractandblock  \n",
       "0                 NaN                 NaN         6.037107e+13  \n",
       "1                 NaN                 NaN                  NaN  \n",
       "2                 NaN                 NaN         6.037464e+13  \n",
       "3                 NaN                 NaN         6.037296e+13  \n",
       "4                 NaN                 NaN         6.059042e+13  \n",
       "5                 NaN                 NaN         6.037621e+13  \n",
       "6                 NaN                 NaN         6.037542e+13  \n",
       "7                 NaN                 NaN         6.111003e+13  \n",
       "8                 NaN                 NaN         6.059042e+13  \n",
       "9                 NaN                 NaN         6.059063e+13  \n",
       "\n",
       "[10 rows x 60 columns]"
      ]
     },
     "execution_count": 1,
     "metadata": {},
     "output_type": "execute_result"
    }
   ],
   "source": [
    "# Load Pandas library\n",
    "import pandas as pd\n",
    "\n",
    "#Load numpy library\n",
    "import numpy as np\n",
    "\n",
    "#import MatPlotLib\n",
    "import matplotlib as mpl \n",
    "\n",
    "#Import PyPlot in MatPlotLib\n",
    "import matplotlib.pyplot as plt \n",
    "\n",
    "#Import SciKitLearn decomposition PCA library\n",
    "from sklearn.decomposition import PCA\n",
    "\n",
    "#Import SciKitLearn dataset \n",
    "from sklearn import datasets as ds\n",
    "\n",
    "#LinearRegression \n",
    "from sklearn.linear_model import LinearRegression\n",
    "\n",
    "#Allows for meterics to be found after Logistic Regression\n",
    "from sklearn import metrics as mt\n",
    "\n",
    "#Create KFolds for CV_Object\n",
    "from sklearn.model_selection import StratifiedKFold\n",
    "\n",
    "#Creates Standard Scaler Variables\n",
    "from sklearn.preprocessing import StandardScaler\n",
    "\n",
    "#Support Vector Machine\n",
    "from sklearn.svm import SVC\n",
    "\n",
    "#Seaborn \n",
    "import seaborn as sb\n",
    "\n",
    "#Magics for inline code.\n",
    "%matplotlib inline\n",
    "\n",
    "#Create Zillow Data Frame using Read_CSV\n",
    "# read in the csv file\n",
    "#dfAttributeData = pd.read_csv('/users/cmirwin/desktop/Smu Data Sets/Data Mining/ZillowData/Properties_2016.csv') \n",
    "dfAttributeData = pd.read_csv('/Users/joshuaklein/Desktop/properties_2016.csv')\n",
    "\n",
    "#dfTrainingData = pd.read_csv('/users/cmirwin/desktop/Smu Data Sets/Data Mining/ZillowData/train_2016.csv')\n",
    "dfTrainingData = pd.read_csv('/Users/joshuaklein/Desktop/train_2016_v2.csv')\n",
    "\n",
    "#Create new data set that contains both the data zillow and the data to train against\n",
    "dfZillowData = pd.merge(dfTrainingData, dfAttributeData, on='parcelid', how='left')\n",
    "\n",
    "#Remove 2.9 million records from memory\n",
    "del dfAttributeData\n",
    "\n",
    "\n",
    "#Get the headers to ensure all columns are included.\n",
    "dfZillowData.head(10)"
   ]
  },
  {
   "cell_type": "code",
   "execution_count": 2,
   "metadata": {
    "collapsed": false
   },
   "outputs": [
    {
     "data": {
      "text/html": [
       "<div>\n",
       "<style>\n",
       "    .dataframe thead tr:only-child th {\n",
       "        text-align: right;\n",
       "    }\n",
       "\n",
       "    .dataframe thead th {\n",
       "        text-align: left;\n",
       "    }\n",
       "\n",
       "    .dataframe tbody tr th {\n",
       "        vertical-align: top;\n",
       "    }\n",
       "</style>\n",
       "<table border=\"1\" class=\"dataframe\">\n",
       "  <thead>\n",
       "    <tr style=\"text-align: right;\">\n",
       "      <th></th>\n",
       "      <th>parcelid</th>\n",
       "      <th>logerror</th>\n",
       "      <th>airconditioningtypeid</th>\n",
       "      <th>architecturalstyletypeid</th>\n",
       "      <th>basementsqft</th>\n",
       "      <th>bathroomcnt</th>\n",
       "      <th>bedroomcnt</th>\n",
       "      <th>buildingclasstypeid</th>\n",
       "      <th>buildingqualitytypeid</th>\n",
       "      <th>calculatedbathnbr</th>\n",
       "      <th>...</th>\n",
       "      <th>LandUseTypeId_263.0</th>\n",
       "      <th>LandUseTypeId_264.0</th>\n",
       "      <th>LandUseTypeId_265.0</th>\n",
       "      <th>LandUseTypeId_266.0</th>\n",
       "      <th>LandUseTypeId_267.0</th>\n",
       "      <th>LandUseTypeId_269.0</th>\n",
       "      <th>LandUseTypeId_275.0</th>\n",
       "      <th>StoryTypeId7.0</th>\n",
       "      <th>StoryTypeId24.0</th>\n",
       "      <th>hasgarage</th>\n",
       "    </tr>\n",
       "  </thead>\n",
       "  <tbody>\n",
       "    <tr>\n",
       "      <th>0</th>\n",
       "      <td>11016594</td>\n",
       "      <td>0.0276</td>\n",
       "      <td>1.0</td>\n",
       "      <td>7.0</td>\n",
       "      <td>0.0</td>\n",
       "      <td>2.0</td>\n",
       "      <td>3.0</td>\n",
       "      <td>4.0</td>\n",
       "      <td>4.0</td>\n",
       "      <td>2.0</td>\n",
       "      <td>...</td>\n",
       "      <td>0</td>\n",
       "      <td>0</td>\n",
       "      <td>0</td>\n",
       "      <td>0</td>\n",
       "      <td>0</td>\n",
       "      <td>0</td>\n",
       "      <td>0</td>\n",
       "      <td>0</td>\n",
       "      <td>1</td>\n",
       "      <td>1</td>\n",
       "    </tr>\n",
       "    <tr>\n",
       "      <th>1</th>\n",
       "      <td>14366692</td>\n",
       "      <td>-0.1684</td>\n",
       "      <td>5.0</td>\n",
       "      <td>7.0</td>\n",
       "      <td>0.0</td>\n",
       "      <td>3.5</td>\n",
       "      <td>4.0</td>\n",
       "      <td>4.0</td>\n",
       "      <td>7.0</td>\n",
       "      <td>3.5</td>\n",
       "      <td>...</td>\n",
       "      <td>0</td>\n",
       "      <td>0</td>\n",
       "      <td>0</td>\n",
       "      <td>0</td>\n",
       "      <td>0</td>\n",
       "      <td>0</td>\n",
       "      <td>0</td>\n",
       "      <td>0</td>\n",
       "      <td>1</td>\n",
       "      <td>1</td>\n",
       "    </tr>\n",
       "    <tr>\n",
       "      <th>2</th>\n",
       "      <td>12098116</td>\n",
       "      <td>-0.0040</td>\n",
       "      <td>1.0</td>\n",
       "      <td>7.0</td>\n",
       "      <td>0.0</td>\n",
       "      <td>3.0</td>\n",
       "      <td>2.0</td>\n",
       "      <td>4.0</td>\n",
       "      <td>4.0</td>\n",
       "      <td>3.0</td>\n",
       "      <td>...</td>\n",
       "      <td>0</td>\n",
       "      <td>0</td>\n",
       "      <td>0</td>\n",
       "      <td>0</td>\n",
       "      <td>0</td>\n",
       "      <td>0</td>\n",
       "      <td>0</td>\n",
       "      <td>0</td>\n",
       "      <td>1</td>\n",
       "      <td>1</td>\n",
       "    </tr>\n",
       "    <tr>\n",
       "      <th>3</th>\n",
       "      <td>12643413</td>\n",
       "      <td>0.0218</td>\n",
       "      <td>1.0</td>\n",
       "      <td>7.0</td>\n",
       "      <td>0.0</td>\n",
       "      <td>2.0</td>\n",
       "      <td>2.0</td>\n",
       "      <td>4.0</td>\n",
       "      <td>4.0</td>\n",
       "      <td>2.0</td>\n",
       "      <td>...</td>\n",
       "      <td>0</td>\n",
       "      <td>0</td>\n",
       "      <td>0</td>\n",
       "      <td>1</td>\n",
       "      <td>0</td>\n",
       "      <td>0</td>\n",
       "      <td>0</td>\n",
       "      <td>0</td>\n",
       "      <td>1</td>\n",
       "      <td>1</td>\n",
       "    </tr>\n",
       "    <tr>\n",
       "      <th>4</th>\n",
       "      <td>14432541</td>\n",
       "      <td>-0.0050</td>\n",
       "      <td>5.0</td>\n",
       "      <td>7.0</td>\n",
       "      <td>0.0</td>\n",
       "      <td>2.5</td>\n",
       "      <td>4.0</td>\n",
       "      <td>4.0</td>\n",
       "      <td>7.0</td>\n",
       "      <td>2.5</td>\n",
       "      <td>...</td>\n",
       "      <td>0</td>\n",
       "      <td>0</td>\n",
       "      <td>0</td>\n",
       "      <td>0</td>\n",
       "      <td>0</td>\n",
       "      <td>0</td>\n",
       "      <td>0</td>\n",
       "      <td>0</td>\n",
       "      <td>1</td>\n",
       "      <td>1</td>\n",
       "    </tr>\n",
       "    <tr>\n",
       "      <th>5</th>\n",
       "      <td>11509835</td>\n",
       "      <td>-0.2705</td>\n",
       "      <td>1.0</td>\n",
       "      <td>7.0</td>\n",
       "      <td>0.0</td>\n",
       "      <td>4.0</td>\n",
       "      <td>4.0</td>\n",
       "      <td>4.0</td>\n",
       "      <td>1.0</td>\n",
       "      <td>4.0</td>\n",
       "      <td>...</td>\n",
       "      <td>0</td>\n",
       "      <td>0</td>\n",
       "      <td>0</td>\n",
       "      <td>0</td>\n",
       "      <td>0</td>\n",
       "      <td>0</td>\n",
       "      <td>0</td>\n",
       "      <td>0</td>\n",
       "      <td>1</td>\n",
       "      <td>1</td>\n",
       "    </tr>\n",
       "    <tr>\n",
       "      <th>6</th>\n",
       "      <td>12286022</td>\n",
       "      <td>0.0440</td>\n",
       "      <td>5.0</td>\n",
       "      <td>7.0</td>\n",
       "      <td>0.0</td>\n",
       "      <td>1.0</td>\n",
       "      <td>2.0</td>\n",
       "      <td>4.0</td>\n",
       "      <td>7.0</td>\n",
       "      <td>1.0</td>\n",
       "      <td>...</td>\n",
       "      <td>0</td>\n",
       "      <td>0</td>\n",
       "      <td>0</td>\n",
       "      <td>0</td>\n",
       "      <td>0</td>\n",
       "      <td>0</td>\n",
       "      <td>0</td>\n",
       "      <td>0</td>\n",
       "      <td>1</td>\n",
       "      <td>1</td>\n",
       "    </tr>\n",
       "    <tr>\n",
       "      <th>7</th>\n",
       "      <td>17177301</td>\n",
       "      <td>0.1638</td>\n",
       "      <td>5.0</td>\n",
       "      <td>7.0</td>\n",
       "      <td>0.0</td>\n",
       "      <td>2.5</td>\n",
       "      <td>3.0</td>\n",
       "      <td>4.0</td>\n",
       "      <td>7.0</td>\n",
       "      <td>2.5</td>\n",
       "      <td>...</td>\n",
       "      <td>0</td>\n",
       "      <td>0</td>\n",
       "      <td>0</td>\n",
       "      <td>1</td>\n",
       "      <td>0</td>\n",
       "      <td>0</td>\n",
       "      <td>0</td>\n",
       "      <td>0</td>\n",
       "      <td>1</td>\n",
       "      <td>1</td>\n",
       "    </tr>\n",
       "    <tr>\n",
       "      <th>8</th>\n",
       "      <td>14739064</td>\n",
       "      <td>-0.0030</td>\n",
       "      <td>5.0</td>\n",
       "      <td>7.0</td>\n",
       "      <td>0.0</td>\n",
       "      <td>1.0</td>\n",
       "      <td>2.0</td>\n",
       "      <td>4.0</td>\n",
       "      <td>7.0</td>\n",
       "      <td>1.0</td>\n",
       "      <td>...</td>\n",
       "      <td>0</td>\n",
       "      <td>0</td>\n",
       "      <td>0</td>\n",
       "      <td>1</td>\n",
       "      <td>0</td>\n",
       "      <td>0</td>\n",
       "      <td>0</td>\n",
       "      <td>0</td>\n",
       "      <td>1</td>\n",
       "      <td>1</td>\n",
       "    </tr>\n",
       "    <tr>\n",
       "      <th>9</th>\n",
       "      <td>14677559</td>\n",
       "      <td>0.0843</td>\n",
       "      <td>5.0</td>\n",
       "      <td>7.0</td>\n",
       "      <td>0.0</td>\n",
       "      <td>2.0</td>\n",
       "      <td>2.0</td>\n",
       "      <td>4.0</td>\n",
       "      <td>7.0</td>\n",
       "      <td>2.0</td>\n",
       "      <td>...</td>\n",
       "      <td>0</td>\n",
       "      <td>0</td>\n",
       "      <td>0</td>\n",
       "      <td>1</td>\n",
       "      <td>0</td>\n",
       "      <td>0</td>\n",
       "      <td>0</td>\n",
       "      <td>0</td>\n",
       "      <td>1</td>\n",
       "      <td>1</td>\n",
       "    </tr>\n",
       "  </tbody>\n",
       "</table>\n",
       "<p>10 rows × 114 columns</p>\n",
       "</div>"
      ],
      "text/plain": [
       "   parcelid  logerror  airconditioningtypeid  architecturalstyletypeid  \\\n",
       "0  11016594    0.0276                    1.0                       7.0   \n",
       "1  14366692   -0.1684                    5.0                       7.0   \n",
       "2  12098116   -0.0040                    1.0                       7.0   \n",
       "3  12643413    0.0218                    1.0                       7.0   \n",
       "4  14432541   -0.0050                    5.0                       7.0   \n",
       "5  11509835   -0.2705                    1.0                       7.0   \n",
       "6  12286022    0.0440                    5.0                       7.0   \n",
       "7  17177301    0.1638                    5.0                       7.0   \n",
       "8  14739064   -0.0030                    5.0                       7.0   \n",
       "9  14677559    0.0843                    5.0                       7.0   \n",
       "\n",
       "   basementsqft  bathroomcnt  bedroomcnt  buildingclasstypeid  \\\n",
       "0           0.0          2.0         3.0                  4.0   \n",
       "1           0.0          3.5         4.0                  4.0   \n",
       "2           0.0          3.0         2.0                  4.0   \n",
       "3           0.0          2.0         2.0                  4.0   \n",
       "4           0.0          2.5         4.0                  4.0   \n",
       "5           0.0          4.0         4.0                  4.0   \n",
       "6           0.0          1.0         2.0                  4.0   \n",
       "7           0.0          2.5         3.0                  4.0   \n",
       "8           0.0          1.0         2.0                  4.0   \n",
       "9           0.0          2.0         2.0                  4.0   \n",
       "\n",
       "   buildingqualitytypeid  calculatedbathnbr    ...      LandUseTypeId_263.0  \\\n",
       "0                    4.0                2.0    ...                        0   \n",
       "1                    7.0                3.5    ...                        0   \n",
       "2                    4.0                3.0    ...                        0   \n",
       "3                    4.0                2.0    ...                        0   \n",
       "4                    7.0                2.5    ...                        0   \n",
       "5                    1.0                4.0    ...                        0   \n",
       "6                    7.0                1.0    ...                        0   \n",
       "7                    7.0                2.5    ...                        0   \n",
       "8                    7.0                1.0    ...                        0   \n",
       "9                    7.0                2.0    ...                        0   \n",
       "\n",
       "   LandUseTypeId_264.0  LandUseTypeId_265.0  LandUseTypeId_266.0  \\\n",
       "0                    0                    0                    0   \n",
       "1                    0                    0                    0   \n",
       "2                    0                    0                    0   \n",
       "3                    0                    0                    1   \n",
       "4                    0                    0                    0   \n",
       "5                    0                    0                    0   \n",
       "6                    0                    0                    0   \n",
       "7                    0                    0                    1   \n",
       "8                    0                    0                    1   \n",
       "9                    0                    0                    1   \n",
       "\n",
       "   LandUseTypeId_267.0  LandUseTypeId_269.0  LandUseTypeId_275.0  \\\n",
       "0                    0                    0                    0   \n",
       "1                    0                    0                    0   \n",
       "2                    0                    0                    0   \n",
       "3                    0                    0                    0   \n",
       "4                    0                    0                    0   \n",
       "5                    0                    0                    0   \n",
       "6                    0                    0                    0   \n",
       "7                    0                    0                    0   \n",
       "8                    0                    0                    0   \n",
       "9                    0                    0                    0   \n",
       "\n",
       "   StoryTypeId7.0  StoryTypeId24.0  hasgarage  \n",
       "0               0                1          1  \n",
       "1               0                1          1  \n",
       "2               0                1          1  \n",
       "3               0                1          1  \n",
       "4               0                1          1  \n",
       "5               0                1          1  \n",
       "6               0                1          1  \n",
       "7               0                1          1  \n",
       "8               0                1          1  \n",
       "9               0                1          1  \n",
       "\n",
       "[10 rows x 114 columns]"
      ]
     },
     "execution_count": 2,
     "metadata": {},
     "output_type": "execute_result"
    }
   ],
   "source": [
    "#We can see that a number of the data columns have NaN values that were assigned during import\n",
    "#we choose to replace those values with the median values for the variable.\n",
    "\n",
    "#Create new columns with highest missing values as True/False.\n",
    "#print(dfMajorityOfDataMissing)\n",
    "\n",
    "dfZillowData['hasbasement'] = dfZillowData[['basementsqft']].where(dfZillowData[['basementsqft']].isnull(), 1).fillna(0).astype(int)\n",
    "\n",
    "dfZillowData['hasdeck'] = dfZillowData[['yardbuildingsqft26']].where(dfZillowData[['yardbuildingsqft26']].isnull(), 1).fillna(0).astype(int)\n",
    "\n",
    "dfZillowData['hasfireplace'] = dfZillowData[['fireplaceflag']].where(dfZillowData[['fireplaceflag']].isnull(), 1).fillna(0).astype(int)\n",
    "\n",
    "dfZillowData['hashottuborspa'] = dfZillowData[['hashottuborspa', 'pooltypeid2', 'pooltypeid10']].where(dfZillowData[['hashottuborspa','pooltypeid2','pooltypeid10']].isnull(), 1).fillna(0).astype(int)\n",
    "\n",
    "dfZillowData['haspatio'] = dfZillowData[['yardbuildingsqft17']].where(dfZillowData[['yardbuildingsqft17']].isnull(), 1).fillna(0).astype(int)\n",
    "\n",
    "#Create Function for County Rename\n",
    "def rename(row):\n",
    "    if row['regionidcounty'] == 1286:\n",
    "        val = 'Ventura County'\n",
    "    elif row['regionidcounty'] == 3101:\n",
    "        val = 'Los Angeles County'\n",
    "    else:\n",
    "        val = 'Orange County'\n",
    "    return val\n",
    "\n",
    "dfZillowData['countyname'] = dfZillowData.apply(rename, axis=1)\n",
    "\n",
    "#Need to transform Tax Value because of large outliers\n",
    "dfZillowData['log10TaxValue'] = np.log10(dfZillowData['taxvaluedollarcnt'])\n",
    "\n",
    "#Create New data frame for everything\n",
    "dfForModel = dfZillowData.replace(to_replace='NaN',value= np.nan)\n",
    "\n",
    "#Get median values for based on original values\n",
    "dfMedians = pd.DataFrame(dfZillowData.median())\n",
    "\n",
    "#Add Column Name to Medians DataFrame\n",
    "dfMedians.columns = ['medianvalue']\n",
    "\n",
    "#Create custom updates\n",
    "dfColumns = pd.DataFrame(pd.Series([1.,0.,0.\n",
    "                                    ,0.,0.\n",
    "                                    ,0.,0.,0.\n",
    "                                    ,13.,5.,0.\n",
    "                                    ,24.,0.,0.\n",
    "                                    ,0.,0.,0.\n",
    "                                    ,0.]\n",
    "              , index=['numberofstories', 'bathroomcnt','bedroomcnt'\n",
    "                      ,'fireplacecnt','fullbathcnt'\n",
    "                      , 'poolcnt', 'roomcnt','unitcnt'\n",
    "                      , 'heatingorsystemtypeid','airconditioningtypeid', 'garagetotalsqft'\n",
    "                      , 'storytypeid', 'basementsqft', 'finishedsquarefeet13'\n",
    "                      , 'finishedsquarefeet6','finishedsquarefeet15','finishedsquarefeet50'\n",
    "                      , 'finishedfloor1squarefeet']))\n",
    "#Second Row #,0.#,'garagecarcnt'\n",
    "#Set Column Name\n",
    "dfColumns.columns = ['updatevalue']\n",
    "\n",
    "#Create Merged Data set with values of both medians and custom\n",
    "dfMerged = pd.concat([dfMedians, dfColumns], axis=1, join_axes=[dfMedians.index])\n",
    "\n",
    "#Create new column of data that is custom values filled with median for any null\n",
    "dfMerged['values'] = dfMerged['updatevalue'].fillna(dfMerged['medianvalue'])\n",
    "\n",
    "#Apply median values to the overall data set\n",
    "dfForModel = dfForModel.fillna(dfMerged['values'])\n",
    "\n",
    "#Create dummy variables for all TypeId columns\n",
    "#This section takes a long time due to the fact that we are creating \n",
    "#so many additional variables by 3 million records. \n",
    "\n",
    "#heatingorsystemtypeid\n",
    "#Create dynamic Name\n",
    "dummies = pd.get_dummies(dfForModel['heatingorsystemtypeid']).rename(columns=lambda x: 'HSTypeId_' + str(x))\n",
    "#Join to Dataframe for Model\n",
    "dfForModel = pd.concat([dfForModel, dummies], axis=1)\n",
    "\n",
    "#Repeat of code above\n",
    "#airconditioningtypeid\n",
    "dummies = pd.get_dummies(dfForModel['airconditioningtypeid']).rename(columns=lambda x: 'ACTypeId_' + str(x))\n",
    "dfForModel = pd.concat([dfForModel, dummies], axis=1)\n",
    "#dfForModel.drop(['airconditioningtypeid'], inplace=True, axis=1)\n",
    "\n",
    "#architecturalstyletypeid\n",
    "dummies = pd.get_dummies(dfForModel['architecturalstyletypeid']).rename(columns=lambda x: 'ArchStyleTypeId_' + str(x))\n",
    "dfForModel = pd.concat([dfForModel, dummies], axis=1)\n",
    "#dfForModel.drop(['architecturalstyletypeid'], inplace=True, axis=1)\n",
    "\n",
    "#decktypeid\n",
    "dummies = pd.get_dummies(dfForModel['decktypeid']).rename(columns=lambda x: 'DeckTypeId_' + str(x))\n",
    "dfForModel = pd.concat([dfForModel, dummies], axis=1)\n",
    "#dfForModel.drop(['decktypeid'], inplace=True, axis=1)\n",
    "\n",
    "#buildingclasstypeid\n",
    "dummies = pd.get_dummies(dfForModel['buildingclasstypeid']).rename(columns=lambda x: 'BuildClassTypeId_' + str(x))\n",
    "dfForModel = pd.concat([dfForModel, dummies], axis=1)\n",
    "#dfForModel.drop(['buildingclasstypeid'], inplace=True, axis=1)\n",
    "\n",
    "#typeconstructiontypeid\n",
    "dummies = pd.get_dummies(dfForModel['typeconstructiontypeid']).rename(columns=lambda x: 'ConstructionTypeId_' + str(x))\n",
    "dfForModel = pd.concat([dfForModel, dummies], axis=1)\n",
    "#dfForModel.drop(['typeconstructiontypeid'], inplace=True, axis=1)\n",
    "\n",
    "#buildingqualitytypeid\n",
    "dummies = pd.get_dummies(dfForModel['buildingqualitytypeid']).rename(columns=lambda x: 'BuildingQualTypeId_' + str(x))\n",
    "dfForModel = pd.concat([dfForModel, dummies], axis=1)\n",
    "#dfForModel.drop(['buildingqualitytypeid'], inplace=True, axis=1)\n",
    "\n",
    "#propertylandusetypeid\n",
    "dummies = pd.get_dummies(dfForModel['propertylandusetypeid']).rename(columns=lambda x: 'LandUseTypeId_' + str(x))\n",
    "dfForModel = pd.concat([dfForModel, dummies], axis=1)\n",
    "#dfForModel.drop(['propertylandusetypeid'], inplace=True, axis=1)\n",
    "\n",
    "#storytypeid\n",
    "dummies = pd.get_dummies(dfForModel['storytypeid']).rename(columns=lambda x: 'StoryTypeId' + str(x))\n",
    "dfForModel = pd.concat([dfForModel, dummies], axis=1)\n",
    "#dfForModel.drop(['storytypeid'], inplace=True, axis=1)\n",
    "\n",
    "#Create Function for County Rename\n",
    "def garagecnt(row):\n",
    "    if row['garagecarcnt'] > 0:\n",
    "        val = 1\n",
    "    else:\n",
    "        val = 0\n",
    "    return val\n",
    "\n",
    "dfForModel['hasgarage'] = dfForModel.apply(garagecnt, axis=1)\n",
    "\n",
    "#Find out what data types are in the Data set\n",
    "dfDataTypes = pd.DataFrame(dfForModel)\n",
    "\n",
    "#Create Numeric Only Dataframe\n",
    "dfZillowDataNumeric = dfDataTypes.select_dtypes(['float64','int64','uint8'])\n",
    "\n",
    "dfZillowDataNumeric.head(10)"
   ]
  },
  {
   "cell_type": "code",
   "execution_count": 3,
   "metadata": {
    "collapsed": false
   },
   "outputs": [
    {
     "name": "stdout",
     "output_type": "stream",
     "text": [
      "Cross Validation Object is created\n"
     ]
    }
   ],
   "source": [
    "#Create data set that has all original values from the file.\n",
    "#Every Zillow value with a real garage car count\n",
    "dfTrainValues = dfZillowData[['parcelid']][~(dfZillowData['garagecarcnt'].isnull())]\n",
    "\n",
    "#Get values for dfForModel \n",
    "dfTrainValues = pd.merge(dfTrainValues, dfForModel, on='parcelid', how='left')\n",
    "\n",
    "#Create Numeric Dataframe only for PCA and Classification.\n",
    "#Find out what data types are in the Data set\n",
    "dfDataTypes = pd.DataFrame(dfTrainValues)\n",
    "\n",
    "#Create Numeric Only Dataframe\n",
    "dfTrainValuesNumeric = dfDataTypes.select_dtypes(['float64','int64','uint8'])\n",
    "\n",
    "#Number of iterations\n",
    "num_cv_iterations = 5\n",
    "#Create Cross Validation objects using folds\n",
    "cv_object = StratifiedKFold(n_splits=num_cv_iterations, random_state=None, shuffle=True)\n",
    "\n",
    "print('Cross Validation Object is created')"
   ]
  },
  {
   "cell_type": "code",
   "execution_count": 6,
   "metadata": {
    "collapsed": false
   },
   "outputs": [
    {
     "data": {
      "image/png": "[encoded data removed]",
      "text/plain": [
       "<matplotlib.figure.Figure at 0x13b8129d0>"
      ]
     },
     "metadata": {},
     "output_type": "display_data"
    }
   ],
   "source": [
    "ZillowDataPCA = dfZillowDataNumeric\n",
    "\n",
    "#This section scales the data in order to create a more useable data set\n",
    "# scale attributes by the training set\n",
    "stdsclrObj = StandardScaler()\n",
    "\n",
    "# find scalings for each column that make this zero mean and unit std\n",
    "#We use the training data to help fit the standard dev\n",
    "# find scalings for each column that make this zero mean and unit std\n",
    "stdsclrObj.fit(ZillowDataPCA) \n",
    "\n",
    "# to transform new feature data\n",
    "# apply to training\n",
    "ZillowData_scaled = stdsclrObj.transform(ZillowDataPCA)\n",
    "\n",
    "components = 20\n",
    "\n",
    "pca = PCA(n_components= components)\n",
    "\n",
    "#Run PCA\n",
    "ZillowDataPCA_pca = pca.fit(ZillowData_scaled).transform(ZillowData_scaled) # fit data and then transform it\n",
    "\n",
    "variance_ratio = pca.explained_variance_ratio_\n",
    "\n",
    "fig = plt.figure(figsize=(8,5))\n",
    "#Create \n",
    "CompentValues = np.arange(components) + 1\n",
    "plt.plot(CompentValues, variance_ratio, 'ro-', linewidth=2)\n",
    "plt.title('Scree Plot')\n",
    "plt.xlabel('Principal Component')\n",
    "plt.ylabel('Variance Ratio')\n",
    "plt.show()"
   ]
  },
  {
   "cell_type": "markdown",
   "metadata": {},
   "source": [
    "## Column Selection\n",
    "Using PCA we see that while looking at the first 15 Principal Components we use an absolute value of .05 in order to see which columns are considered to be most important. This is important for us to be able to remove a large amount of noise due to the dataset having a total of 114 columns. After the analysis, we can see that the number of columns is reduced to only 26, which we will try different types of Clustering to try and get a deeper understanding of the data."
   ]
  },
  {
   "cell_type": "code",
   "execution_count": 80,
   "metadata": {
    "collapsed": false
   },
   "outputs": [
    {
     "name": "stdout",
     "output_type": "stream",
     "text": [
      "26\n",
      "Index([u'airconditioningtypeid', u'buildingqualitytypeid',\n",
      "       u'finishedfloor1squarefeet', u'finishedsquarefeet50', u'fips',\n",
      "       u'fireplacecnt', u'fullbathcnt', u'garagetotalsqft',\n",
      "       u'heatingorsystemtypeid', u'latitude', u'rawcensustractandblock',\n",
      "       u'regionidcounty', u'roomcnt', u'unitcnt', u'numberofstories',\n",
      "       u'censustractandblock', u'haspatio', u'HSTypeId_2.0', u'HSTypeId_13.0',\n",
      "       u'ACTypeId_1.0', u'ACTypeId_5.0', u'ACTypeId_13.0',\n",
      "       u'BuildingQualTypeId_1.0', u'BuildingQualTypeId_4.0',\n",
      "       u'BuildingQualTypeId_7.0', u'LandUseTypeId_269.0'],\n",
      "      dtype='object')\n"
     ]
    }
   ],
   "source": [
    "\n",
    "import sklearn.datasets as ds\n",
    "\n",
    "pca_components = pca.components_\n",
    "\n",
    "compValues = pd.DataFrame(pca_components,columns=ZillowDataPCA.columns)\n",
    "\n",
    "#show top 13 vectors due to the analysis \n",
    "compValues = compValues[compValues.index <= 15]\n",
    "\n",
    "compValuesTransformed = compValues.T\n",
    "\n",
    "ColumnsAndValues = []\n",
    "\n",
    "dfColumns = pd.DataFrame([])\n",
    "\n",
    "for compValue in compValuesTransformed:\n",
    "    i = 0 \n",
    "    ColumnsAndValues = compValuesTransformed[i].loc[abs(compValuesTransformed[i]) > .05]\n",
    "    for columns in ColumnsAndValues.index:\n",
    "        if columns != 'parcelid':\n",
    "            dfColumns = dfColumns.append([columns])\n",
    "            #print columns\n",
    "    i = i + 1\n",
    "\n",
    "dfClustering = pd.DataFrame([])\n",
    "\n",
    "#Reset Index from removing data\n",
    "dfColumns = dfColumns.drop_duplicates([0], keep='last').reset_index(drop=True)\n",
    "\n",
    "for columnNames in dfColumns[0]:\n",
    "    dataValues = dfZillowDataNumeric[[columnNames]]\n",
    "    dfClustering[columnNames] = pd.DataFrame(dataValues, index=dataValues.index)\n",
    "    #dfClustering[columnNames] = dfClustering.add(dfZillowDataNumeric[[columnNames][0]])\n",
    "\n",
    "print(len(dfClustering.columns))\n",
    "print(dfClustering.columns)\n"
   ]
  },
  {
   "cell_type": "markdown",
   "metadata": {},
   "source": [
    "## Creating Clustering \n",
    "After creating a new clustering data set with what is considered the most important columns according to PCA we can now begin the process of running multiple clustering functions. This is showing that we are trying to predict the values of Region by using Full Bath Count and Room count. We are using random forests to create a baseline value to compare against. Additionally, we choose 3 groupings because in the data set there are 3 distinct counties in which properties can be found."
   ]
  },
  {
   "cell_type": "code",
   "execution_count": 14,
   "metadata": {
    "collapsed": false
   },
   "outputs": [
    {
     "name": "stdout",
     "output_type": "stream",
     "text": [
      "('Average accuracy = ', 87.695322653660781, '+-', 0.081340361866189176)\n"
     ]
    }
   ],
   "source": [
    "#Creating Baseline\n",
    "from sklearn.model_selection import StratifiedKFold, cross_val_score\n",
    "from sklearn.ensemble import RandomForestClassifier\n",
    "\n",
    "groupingCnt = 3\n",
    "\n",
    "y = dfClustering['regionidcounty']\n",
    "\n",
    "X = dfClustering[['finishedfloor1squarefeet','fullbathcnt','roomcnt']]\n",
    "\n",
    "rFCLF = RandomForestClassifier(n_estimators=groupingCnt,random_state=1)\n",
    "\n",
    "acc = cross_val_score(rFCLF,X,y=y,cv=cv_object)\n",
    "\n",
    "print (\"Average accuracy = \", acc.mean()*100, \"+-\", acc.std()*100)"
   ]
  },
  {
   "cell_type": "markdown",
   "metadata": {},
   "source": [
    "We can see that by using the most common attributes when home buying Finished Square feet, bath count and room count we have a base line accuracy of 87.69% when attempting to predict one of the three counties that this data set might contain."
   ]
  },
  {
   "cell_type": "code",
   "execution_count": 66,
   "metadata": {
    "collapsed": false,
    "scrolled": false
   },
   "outputs": [
    {
     "name": "stdout",
     "output_type": "stream",
     "text": [
      "('Average accuracy = ', 87.699731395764019, '+-', 0.25356188301614174)\n"
     ]
    }
   ],
   "source": [
    "#Creating Baseline\n",
    "from sklearn.model_selection import StratifiedKFold, cross_val_score\n",
    "from sklearn.ensemble import RandomForestClassifier\n",
    "\n",
    "groupingCnt = 3\n",
    "\n",
    "y = dfClustering['regionidcounty']\n",
    "\n",
    "X = dfClustering[['finishedfloor1squarefeet','roomcnt']]\n",
    "\n",
    "rFCLF = RandomForestClassifier(n_estimators=groupingCnt,random_state=1)\n",
    "\n",
    "acc = cross_val_score(rFCLF,X,y=y,cv=cv_object)\n",
    "\n",
    "print (\"Average accuracy = \", acc.mean()*100, \"+-\", acc.std()*100)"
   ]
  },
  {
   "cell_type": "markdown",
   "metadata": {},
   "source": [
    "In taking a deeper look at the data we wondered what type of effect full bath count on the accuracy. Below we can see that by removing the full bath count variable there is actually a very small increase in accuracy, but there is also a very small increase in variance. We felt that the increase in variance was not enough to truly affect the outcome and choose to remove the variables for the remainder of the analysis. Below you can see a scatter plot that shows the values of finished square footage versus home room count. In order to help with creating a better view we added some addition randomization in order to allow the clustering to better show. The differences can be seen between the two graphs below. The original graph on the right versus the left, which has had random noise added to the points.  "
   ]
  },
  {
   "cell_type": "code",
   "execution_count": 33,
   "metadata": {
    "collapsed": false
   },
   "outputs": [
    {
     "data": {
      "image/png": "[encoded data removed]",
      "text/plain": [
       "<matplotlib.figure.Figure at 0x1128666d0>"
      ]
     },
     "metadata": {},
     "output_type": "display_data"
    }
   ],
   "source": [
    "from matplotlib import pyplot as plt\n",
    "plt.style.use(\"ggplot\")\n",
    "\n",
    "%matplotlib inline\n",
    "X1 = dfClustering[['roomcnt','finishedfloor1squarefeet']].values\n",
    "\n",
    "\n",
    "\n",
    "f, ax = plt.subplots(figsize=(15, 10))\n",
    "\n",
    "f.title = plt.title(\"Initialization and Clustering Effect on Std Dev\")\n",
    "\n",
    "plt.subplot(2,2,1)\n",
    "plt.scatter(X1[:, 1], X1[:, 0], s=20)\n",
    "plt.xlabel('finished Square feet'), plt.ylabel('Room Count')\n",
    "plt.grid()\n",
    "plt.title('Square Feet vs Room Count Original')\n",
    "\n",
    "plt.subplot(2,2,2)\n",
    "plt.scatter(X1[:, 1], X1[:, 0]+np.random.random(X1[:, 1].shape)/2, s=20)\n",
    "plt.xlabel('finished Square feet (normalized)'), plt.ylabel('Room Count')\n",
    "plt.grid()\n",
    "plt.title('Square Feet vs Room Count with Random Noise')\n",
    "plt.show()\n"
   ]
  },
  {
   "cell_type": "markdown",
   "metadata": {},
   "source": [
    "Below we run KMeans clustering multiple times in order to see what combination of cluster count and which initialization would create the best accuracy. We randomly chose between 3 and 10 clusters, but were limited to two methods of initialization, which are K-means++ and Random. \n",
    "\n",
    "- Need to explain what KMeans and Random are...."
   ]
  },
  {
   "cell_type": "code",
   "execution_count": 63,
   "metadata": {
    "collapsed": false,
    "scrolled": false
   },
   "outputs": [
    {
     "name": "stdout",
     "output_type": "stream",
     "text": [
      "('Average accuracy (with ', 'random', ' and ', 3, 'number of clusters for finished Sqft/Bedrooms)= ', 87.699726606091374, '+-', 0.13098293899808985)\n",
      "('Average accuracy (with ', 'random', ' and ', 4, 'number of clusters for finished Sqft/Bedrooms)= ', 87.699726606091374, '+-', 0.11368557214083742)\n",
      "('Average accuracy (with ', 'random', ' and ', 5, 'number of clusters for finished Sqft/Bedrooms)= ', 87.697525114906199, '+-', 0.10386575279868486)\n",
      "('Average accuracy (with ', 'random', ' and ', 6, 'number of clusters for finished Sqft/Bedrooms)= ', 87.696424520885557, '+-', 0.28668103491839064)\n",
      "('Average accuracy (with ', 'random', ' and ', 7, 'number of clusters for finished Sqft/Bedrooms)= ', 87.699730910733876, '+-', 0.18317617601023897)\n",
      "('Average accuracy (with ', 'random', ' and ', 8, 'number of clusters for finished Sqft/Bedrooms)= ', 87.699728546211944, '+-', 0.096246082784847142)\n",
      "('Average accuracy (with ', 'random', ' and ', 9, 'number of clusters for finished Sqft/Bedrooms)= ', 87.697530510866557, '+-', 0.2923543404102914)\n",
      "('Average accuracy (with ', 'random', ' and ', 10, 'number of clusters for finished Sqft/Bedrooms)= ', 87.699725999803704, '+-', 0.10110703045643213)\n",
      "('Average accuracy (with ', 'k-means++', ' and ', 3, 'number of clusters for finished Sqft/Bedrooms)= ', 87.698625527040591, '+-', 0.10365266718726741)\n",
      "('Average accuracy (with ', 'k-means++', ' and ', 4, 'number of clusters for finished Sqft/Bedrooms)= ', 87.699727030492753, '+-', 0.049242228686544653)\n",
      "('Average accuracy (with ', 'k-means++', ' and ', 5, 'number of clusters for finished Sqft/Bedrooms)= ', 87.699727697409187, '+-', 0.10519890718674318)\n",
      "('Average accuracy (with ', 'k-means++', ' and ', 6, 'number of clusters for finished Sqft/Bedrooms)= ', 87.696425854718441, '+-', 0.10754037859505818)\n",
      "('Average accuracy (with ', 'k-means++', ' and ', 7, 'number of clusters for finished Sqft/Bedrooms)= ', 87.699726242318761, '+-', 0.19327638758844135)\n",
      "('Average accuracy (with ', 'k-means++', ' and ', 8, 'number of clusters for finished Sqft/Bedrooms)= ', 87.699728485583179, '+-', 0.22983236536628435)\n",
      "('Average accuracy (with ', 'k-means++', ' and ', 9, 'number of clusters for finished Sqft/Bedrooms)= ', 87.698625223896727, '+-', 0.33020572203225546)\n",
      "('Average accuracy (with ', 'k-means++', ' and ', 10, 'number of clusters for finished Sqft/Bedrooms)= ', 87.699724241569427, '+-', 0.1789381010163052)\n",
      "Values Created\n"
     ]
    }
   ],
   "source": [
    "from sklearn.cluster import KMeans\n",
    "import numpy as np\n",
    "import pandas as pd\n",
    "\n",
    "dfKmeansValues = pd.DataFrame(columns=('init', 'groupingCnt', 'accuracy', 'StdDev'))\n",
    "\n",
    "for init in ('random', 'k-means++'):\n",
    "    for groupingCnt in range(3,11):\n",
    "        cls = KMeans(n_clusters=groupingCnt, init=init,random_state=1)\n",
    "        cls.fit(X1)\n",
    "        newfeature = cls.labels_ # the labels from kmeans clustering\n",
    "        \n",
    "        acc = cross_val_score(rFCLF,X,y=y,cv=cv_object)\n",
    "        \n",
    "        dfKmeansValues = dfKmeansValues.append(pd.DataFrame({'init': init\n",
    "                                                            ,'groupingCnt':groupingCnt\n",
    "                                                            ,'accuracy':acc.mean()*100\n",
    "                                                            ,'StdDev':acc.std()*100}, index=[0]), ignore_index=True)   \n",
    "\n",
    "        print (\"Average accuracy (with \", init,\" and \", groupingCnt , \"number of clusters for finished Sqft/Bedrooms)= \", acc.mean()*100, \"+-\", acc.std()*100)\n",
    "        \n",
    "print('Values Created')      "
   ]
  },
  {
   "cell_type": "markdown",
   "metadata": {},
   "source": [
    "# Additional Parameters\n",
    "If we need additional parameters I will add another loop so we can run everything as expected. It doesnt take that long so if we decide we want to explain another variable let me know\n",
    "\n",
    "http://scikit-learn.org/stable/modules/generated/sklearn.cluster.KMeans.html"
   ]
  },
  {
   "cell_type": "code",
   "execution_count": 67,
   "metadata": {
    "collapsed": false,
    "scrolled": false
   },
   "outputs": [
    {
     "data": {
      "image/png": "[encoded data removed]",
      "text/plain": [
       "<matplotlib.figure.Figure at 0x121947590>"
      ]
     },
     "metadata": {},
     "output_type": "display_data"
    }
   ],
   "source": [
    "#Craete Random DataFrame\n",
    "dfKmeansRandomValues = dfKmeansValues.loc[dfKmeansValues['init'] == 'random']\n",
    "\n",
    "#Create Kmean++ Dataframe\n",
    "dfKmeansPlusValues = dfKmeansValues.loc[dfKmeansValues['init'] == 'k-means++']\n",
    "\n",
    "#Create Graphs\n",
    "\n",
    "f, ax = plt.subplots(figsize=(15, 10))\n",
    "\n",
    "f.title = plt.title(\"Initialization and Clustering Effect on Std Dev\")\n",
    "\n",
    "plt.subplot(2,2,1)\n",
    "plt.ylabel('Standard Deviation')\n",
    "plt.xticks(dfKmeansRandomValues.groupingCnt)\n",
    "plt.xlabel('Num. Of Clusters')\n",
    "plt.legend(loc='best')\n",
    "plt.title('KMeans++ Initialization and Clustering')\n",
    "plt.plot(dfKmeansPlusValues.groupingCnt,dfKmeansPlusValues.StdDev, '--', color='navy', linewidth=2,label='KMeans++')\n",
    "for xy in zip(dfKmeansPlusValues.groupingCnt,dfKmeansPlusValues.StdDev):\n",
    "    ax.annotate('(%s, %s)' % xy, xy=xy, textcoords='data')\n",
    "\n",
    "\n",
    "plt.subplot(2,2,2)\n",
    "plt.ylabel('Standard Deviation')\n",
    "plt.xticks(dfKmeansRandomValues.groupingCnt)\n",
    "plt.xlabel('Num. Of Clusters')\n",
    "plt.legend(loc='best')\n",
    "plt.title('Random Initialization and Clustering')\n",
    "plt.plot(dfKmeansRandomValues.groupingCnt,dfKmeansRandomValues.StdDev, color='lightgreen', linewidth=2,label='Random')\n",
    "for xy in zip(dfKmeansRandomValues.groupingCnt,dfKmeansRandomValues.StdDev):\n",
    "    ax.annotate('(%s, %s)' % xy, xy=xy, textcoords='data')\n",
    "    \n",
    "    \n",
    "plt.subplot(2,2,3)\n",
    "plt.ylabel('Accuracy')\n",
    "plt.xticks(dfKmeansRandomValues.groupingCnt)\n",
    "plt.xlabel('Num. Of Clusters')\n",
    "plt.legend(loc='best')\n",
    "plt.title('KMeans++ Initialization and Clustering')\n",
    "plt.plot(dfKmeansPlusValues.groupingCnt,dfKmeansPlusValues.accuracy, '--', color='navy', linewidth=2,label='KMeans++')\n",
    "for xy in zip(dfKmeansPlusValues.groupingCnt,dfKmeansPlusValues.accuracy):\n",
    "    ax.annotate('(%s, %s)' % xy, xy=xy, textcoords='data')\n",
    "\n",
    "\n",
    "plt.subplot(2,2,4)\n",
    "plt.ylabel('Accuracy')\n",
    "plt.xticks(dfKmeansRandomValues.groupingCnt)\n",
    "plt.xlabel('Num. Of Clusters')\n",
    "plt.legend(loc='best')\n",
    "plt.title('Random Initialization and Clustering')\n",
    "plt.plot(dfKmeansRandomValues.groupingCnt,dfKmeansRandomValues.accuracy, color='lightgreen', linewidth=2,label='Random')\n",
    "for xy in zip(dfKmeansRandomValues.groupingCnt,dfKmeansRandomValues.accuracy):\n",
    "    ax.annotate('(%s, %s)' % xy, xy=xy, textcoords='data')\n",
    "    \n",
    "    \n",
    "plt.grid()\n",
    "plt.show()\n",
    "\n",
    "\n"
   ]
  },
  {
   "cell_type": "markdown",
   "metadata": {},
   "source": [
    "## What should we use?\n",
    "It looks like based on graphs above that an initialization value of Random gives us a more consistent accuracy across multiple clusters with differences in standard deviation. Also based on a combination of accuracy and standard deviation we found that 8 clusters were the best overall performer.  "
   ]
  },
  {
   "cell_type": "markdown",
   "metadata": {},
   "source": [
    "## Additional Attributes\n",
    "In looking at other attributes that could help improve the accuracy of our Random clustering we found that we could try different algorithms when creating clusters. In turn, we completed an additional experiment using 8 clusters and random initialization to see if using one of the three different algorithms available to us created a better overall accuracy. \n",
    "\n",
    "The three algorithms are-\n",
    "Can we get an explanation of each?\n",
    "- Also just want to point out what the standard is, which is Auto.\n",
    "\n",
    "- “auto”\n",
    "- “full” \n",
    "- “elkan”"
   ]
  },
  {
   "cell_type": "code",
   "execution_count": 68,
   "metadata": {
    "collapsed": false
   },
   "outputs": [
    {
     "name": "stdout",
     "output_type": "stream",
     "text": [
      "Values Created\n"
     ]
    }
   ],
   "source": [
    "dfKmeansValuesWithAlgo = pd.DataFrame(columns=('init', 'algorithm', 'groupingCnt', 'accuracy', 'StdDev'))\n",
    "\n",
    "init = 'random'\n",
    "groupingCnt = 8\n",
    "\n",
    "for algo in ('auto', 'full', 'elkan'):\n",
    "    cls = KMeans(n_clusters=groupingCnt, init=init,random_state=1, algorithm = algo)\n",
    "    cls.fit(X1)\n",
    "    newfeature = cls.labels_ # the labels from kmeans clustering\n",
    "\n",
    "    acc = cross_val_score(rFCLF,X,y=y,cv=cv_object)\n",
    "\n",
    "    dfKmeansValuesWithAlgo = dfKmeansValuesWithAlgo.append(pd.DataFrame({'init': init\n",
    "                                                                        ,'algorithm':algo\n",
    "                                                                        ,'groupingCnt':groupingCnt\n",
    "                                                                        ,'accuracy':acc.mean()*100\n",
    "                                                                        ,'StdDev':acc.std()*100}, index=[0]), ignore_index=True)   \n",
    "\n",
    "            #print (\"Average accuracy (with \", init,\" and \", groupingCnt , \"number of clusters for finished Sqft/Bedrooms)= \", acc.mean()*100, \"+-\", acc.std()*100)\n",
    "        \n",
    "print('Values Created') "
   ]
  },
  {
   "cell_type": "code",
   "execution_count": 69,
   "metadata": {
    "collapsed": false
   },
   "outputs": [
    {
     "name": "stdout",
     "output_type": "stream",
     "text": [
      "     StdDev   accuracy algorithm  groupingCnt    init\n",
      "0  0.137838  87.699729      auto          8.0  random\n",
      "1  0.085699  87.695324      full          8.0  random\n",
      "2  0.130389  87.699730     elkan          8.0  random\n"
     ]
    }
   ],
   "source": [
    "print(dfKmeansValuesWithAlgo)"
   ]
  },
  {
   "cell_type": "markdown",
   "metadata": {},
   "source": [
    "After altering the algorithm, we found that the Elkan algorithm showed the ability to lower the standard deviation when compared to the initial random forest values. Overall, we did not see a large change in the overall accuracy from the baseline, which was created using random forests. \n",
    "\n",
    "- Need for fluff for why it might not of been useful?"
   ]
  },
  {
   "cell_type": "markdown",
   "metadata": {},
   "source": [
    "# What do the clusters look like?"
   ]
  },
  {
   "cell_type": "code",
   "execution_count": 81,
   "metadata": {
    "collapsed": false,
    "scrolled": true
   },
   "outputs": [
    {
     "data": {
      "image/png": "[encoded data removed]",
      "text/plain": [
       "<matplotlib.figure.Figure at 0x11ced46d0>"
      ]
     },
     "metadata": {},
     "output_type": "display_data"
    }
   ],
   "source": [
    "cls_ClustersKMeans = KMeans(n_clusters=groupingCnt, init='k-means++',random_state=1, algorithm =  'elkan')\n",
    "cls_ClustersKMeans.fit(X1)\n",
    "newfeature_RoomsKMeans = cls_ClustersKMeans.labels_ # the labels from kmeans clustering\n",
    "\n",
    "\n",
    "cls_ClustersRandom = KMeans(n_clusters=groupingCnt, init='random',random_state=1, algorithm =  'elkan')\n",
    "cls_ClustersRandom.fit(X1)\n",
    "newfeature_RoomsRandom = cls_ClustersRandom.labels_ # the labels from kmeans clustering\n",
    "\n",
    "#Create Graph\n",
    "f, ax = plt.subplots(figsize=(15, 10))\n",
    "\n",
    "plt.subplot(2,2,1)\n",
    "plt.scatter(X1[:, 1], X1[:, 0]+np.random.random(X1[:, 0].shape)/2, c=newfeature_RoomsKMeans, cmap=plt.cm.rainbow, s=20, linewidths=0)\n",
    "plt.title('Initialzation KMeans++')\n",
    "plt.xlabel('Finished Square Feet'), plt.ylabel('Number of Beds')\n",
    "plt.grid()\n",
    "plt.plot()\n",
    "\n",
    "plt.subplot(2,2,2)\n",
    "plt.scatter(X1[:, 1], X1[:, 0]+np.random.random(X1[:, 0].shape)/2, c=newfeature_RoomsRandom, cmap=plt.cm.rainbow, s=20, linewidths=0)\n",
    "plt.title('Initialzation Random')\n",
    "plt.xlabel('Finished Square Feet'), plt.ylabel('Number of Beds')\n",
    "plt.plot()\n",
    "\n",
    "plt.grid()\n",
    "plt.show()\n"
   ]
  },
  {
   "cell_type": "markdown",
   "metadata": {
    "collapsed": true
   },
   "source": [
    "# Exceptional Work"
   ]
  },
  {
   "cell_type": "code",
   "execution_count": 70,
   "metadata": {
    "collapsed": false
   },
   "outputs": [
    {
     "name": "stderr",
     "output_type": "stream",
     "text": [
      "/Users/joshuaklein/anaconda/envs/gl-env/lib/python2.7/site-packages/ipykernel/__main__.py:4: SettingWithCopyWarning: \n",
      "A value is trying to be set on a copy of a slice from a DataFrame.\n",
      "Try using .loc[row_indexer,col_indexer] = value instead\n",
      "\n",
      "See the caveats in the documentation: http://pandas.pydata.org/pandas-docs/stable/indexing.html#indexing-view-versus-copy\n",
      "/Users/joshuaklein/anaconda/envs/gl-env/lib/python2.7/site-packages/ipykernel/__main__.py:5: SettingWithCopyWarning: \n",
      "A value is trying to be set on a copy of a slice from a DataFrame.\n",
      "Try using .loc[row_indexer,col_indexer] = value instead\n",
      "\n",
      "See the caveats in the documentation: http://pandas.pydata.org/pandas-docs/stable/indexing.html#indexing-view-versus-copy\n"
     ]
    },
    {
     "data": {
      "text/html": [
       "<pre>Recsys training: model = ranking_factorization_recommender</pre>"
      ],
      "text/plain": [
       "Recsys training: model = ranking_factorization_recommender"
      ]
     },
     "metadata": {},
     "output_type": "display_data"
    },
    {
     "data": {
      "text/html": [
       "<pre>Preparing data set.</pre>"
      ],
      "text/plain": [
       "Preparing data set."
      ]
     },
     "metadata": {},
     "output_type": "display_data"
    },
    {
     "data": {
      "text/html": [
       "<pre>    Data has 90275 observations with 177 users and 14 items.</pre>"
      ],
      "text/plain": [
       "    Data has 90275 observations with 177 users and 14 items."
      ]
     },
     "metadata": {},
     "output_type": "display_data"
    },
    {
     "data": {
      "text/html": [
       "<pre>    Data prepared in: 0.101576s</pre>"
      ],
      "text/plain": [
       "    Data prepared in: 0.101576s"
      ]
     },
     "metadata": {},
     "output_type": "display_data"
    },
    {
     "data": {
      "text/html": [
       "<pre>Training ranking_factorization_recommender for recommendations.</pre>"
      ],
      "text/plain": [
       "Training ranking_factorization_recommender for recommendations."
      ]
     },
     "metadata": {},
     "output_type": "display_data"
    },
    {
     "data": {
      "text/html": [
       "<pre>+--------------------------------+--------------------------------------------------+----------+</pre>"
      ],
      "text/plain": [
       "+--------------------------------+--------------------------------------------------+----------+"
      ]
     },
     "metadata": {},
     "output_type": "display_data"
    },
    {
     "data": {
      "text/html": [
       "<pre>| Parameter                      | Description                                      | Value    |</pre>"
      ],
      "text/plain": [
       "| Parameter                      | Description                                      | Value    |"
      ]
     },
     "metadata": {},
     "output_type": "display_data"
    },
    {
     "data": {
      "text/html": [
       "<pre>+--------------------------------+--------------------------------------------------+----------+</pre>"
      ],
      "text/plain": [
       "+--------------------------------+--------------------------------------------------+----------+"
      ]
     },
     "metadata": {},
     "output_type": "display_data"
    },
    {
     "data": {
      "text/html": [
       "<pre>| num_factors                    | Factor Dimension                                 | 32       |</pre>"
      ],
      "text/plain": [
       "| num_factors                    | Factor Dimension                                 | 32       |"
      ]
     },
     "metadata": {},
     "output_type": "display_data"
    },
    {
     "data": {
      "text/html": [
       "<pre>| regularization                 | L2 Regularization on Factors                     | 1e-09    |</pre>"
      ],
      "text/plain": [
       "| regularization                 | L2 Regularization on Factors                     | 1e-09    |"
      ]
     },
     "metadata": {},
     "output_type": "display_data"
    },
    {
     "data": {
      "text/html": [
       "<pre>| solver                         | Solver used for training                         | sgd      |</pre>"
      ],
      "text/plain": [
       "| solver                         | Solver used for training                         | sgd      |"
      ]
     },
     "metadata": {},
     "output_type": "display_data"
    },
    {
     "data": {
      "text/html": [
       "<pre>| linear_regularization          | L2 Regularization on Linear Coefficients         | 1e-09    |</pre>"
      ],
      "text/plain": [
       "| linear_regularization          | L2 Regularization on Linear Coefficients         | 1e-09    |"
      ]
     },
     "metadata": {},
     "output_type": "display_data"
    },
    {
     "data": {
      "text/html": [
       "<pre>| ranking_regularization         | Rank-based Regularization Weight                 | 0.25     |</pre>"
      ],
      "text/plain": [
       "| ranking_regularization         | Rank-based Regularization Weight                 | 0.25     |"
      ]
     },
     "metadata": {},
     "output_type": "display_data"
    },
    {
     "data": {
      "text/html": [
       "<pre>| max_iterations                 | Maximum Number of Iterations                     | 25       |</pre>"
      ],
      "text/plain": [
       "| max_iterations                 | Maximum Number of Iterations                     | 25       |"
      ]
     },
     "metadata": {},
     "output_type": "display_data"
    },
    {
     "data": {
      "text/html": [
       "<pre>+--------------------------------+--------------------------------------------------+----------+</pre>"
      ],
      "text/plain": [
       "+--------------------------------+--------------------------------------------------+----------+"
      ]
     },
     "metadata": {},
     "output_type": "display_data"
    },
    {
     "data": {
      "text/html": [
       "<pre>  Optimizing model using SGD; tuning step size.</pre>"
      ],
      "text/plain": [
       "  Optimizing model using SGD; tuning step size."
      ]
     },
     "metadata": {},
     "output_type": "display_data"
    },
    {
     "data": {
      "text/html": [
       "<pre>  Using 11284 / 90275 points for tuning the step size.</pre>"
      ],
      "text/plain": [
       "  Using 11284 / 90275 points for tuning the step size."
      ]
     },
     "metadata": {},
     "output_type": "display_data"
    },
    {
     "data": {
      "text/html": [
       "<pre>+---------+-------------------+------------------------------------------+</pre>"
      ],
      "text/plain": [
       "+---------+-------------------+------------------------------------------+"
      ]
     },
     "metadata": {},
     "output_type": "display_data"
    },
    {
     "data": {
      "text/html": [
       "<pre>| Attempt | Initial Step Size | Estimated Objective Value                |</pre>"
      ],
      "text/plain": [
       "| Attempt | Initial Step Size | Estimated Objective Value                |"
      ]
     },
     "metadata": {},
     "output_type": "display_data"
    },
    {
     "data": {
      "text/html": [
       "<pre>+---------+-------------------+------------------------------------------+</pre>"
      ],
      "text/plain": [
       "+---------+-------------------+------------------------------------------+"
      ]
     },
     "metadata": {},
     "output_type": "display_data"
    },
    {
     "data": {
      "text/html": [
       "<pre>| 0       | 25                | Not Viable                               |</pre>"
      ],
      "text/plain": [
       "| 0       | 25                | Not Viable                               |"
      ]
     },
     "metadata": {},
     "output_type": "display_data"
    },
    {
     "data": {
      "text/html": [
       "<pre>| 1       | 6.25              | Not Viable                               |</pre>"
      ],
      "text/plain": [
       "| 1       | 6.25              | Not Viable                               |"
      ]
     },
     "metadata": {},
     "output_type": "display_data"
    },
    {
     "data": {
      "text/html": [
       "<pre>| 2       | 1.5625            | Not Viable                               |</pre>"
      ],
      "text/plain": [
       "| 2       | 1.5625            | Not Viable                               |"
      ]
     },
     "metadata": {},
     "output_type": "display_data"
    },
    {
     "data": {
      "text/html": [
       "<pre>| 3       | 0.390625          | Not Viable                               |</pre>"
      ],
      "text/plain": [
       "| 3       | 0.390625          | Not Viable                               |"
      ]
     },
     "metadata": {},
     "output_type": "display_data"
    },
    {
     "data": {
      "text/html": [
       "<pre>| 4       | 0.0976562         | 1.44694                                  |</pre>"
      ],
      "text/plain": [
       "| 4       | 0.0976562         | 1.44694                                  |"
      ]
     },
     "metadata": {},
     "output_type": "display_data"
    },
    {
     "data": {
      "text/html": [
       "<pre>| 5       | 0.0488281         | 1.47917                                  |</pre>"
      ],
      "text/plain": [
       "| 5       | 0.0488281         | 1.47917                                  |"
      ]
     },
     "metadata": {},
     "output_type": "display_data"
    },
    {
     "data": {
      "text/html": [
       "<pre>| 6       | 0.0244141         | 1.7317                                   |</pre>"
      ],
      "text/plain": [
       "| 6       | 0.0244141         | 1.7317                                   |"
      ]
     },
     "metadata": {},
     "output_type": "display_data"
    },
    {
     "data": {
      "text/html": [
       "<pre>| 7       | 0.012207          | 1.95038                                  |</pre>"
      ],
      "text/plain": [
       "| 7       | 0.012207          | 1.95038                                  |"
      ]
     },
     "metadata": {},
     "output_type": "display_data"
    },
    {
     "data": {
      "text/html": [
       "<pre>+---------+-------------------+------------------------------------------+</pre>"
      ],
      "text/plain": [
       "+---------+-------------------+------------------------------------------+"
      ]
     },
     "metadata": {},
     "output_type": "display_data"
    },
    {
     "data": {
      "text/html": [
       "<pre>| Final   | 0.0976562         | 1.44694                                  |</pre>"
      ],
      "text/plain": [
       "| Final   | 0.0976562         | 1.44694                                  |"
      ]
     },
     "metadata": {},
     "output_type": "display_data"
    },
    {
     "data": {
      "text/html": [
       "<pre>+---------+-------------------+------------------------------------------+</pre>"
      ],
      "text/plain": [
       "+---------+-------------------+------------------------------------------+"
      ]
     },
     "metadata": {},
     "output_type": "display_data"
    },
    {
     "data": {
      "text/html": [
       "<pre>Starting Optimization.</pre>"
      ],
      "text/plain": [
       "Starting Optimization."
      ]
     },
     "metadata": {},
     "output_type": "display_data"
    },
    {
     "data": {
      "text/html": [
       "<pre>+---------+--------------+-------------------+-----------------------+-------------+</pre>"
      ],
      "text/plain": [
       "+---------+--------------+-------------------+-----------------------+-------------+"
      ]
     },
     "metadata": {},
     "output_type": "display_data"
    },
    {
     "data": {
      "text/html": [
       "<pre>| Iter.   | Elapsed Time | Approx. Objective | Approx. Training RMSE | Step Size   |</pre>"
      ],
      "text/plain": [
       "| Iter.   | Elapsed Time | Approx. Objective | Approx. Training RMSE | Step Size   |"
      ]
     },
     "metadata": {},
     "output_type": "display_data"
    },
    {
     "data": {
      "text/html": [
       "<pre>+---------+--------------+-------------------+-----------------------+-------------+</pre>"
      ],
      "text/plain": [
       "+---------+--------------+-------------------+-----------------------+-------------+"
      ]
     },
     "metadata": {},
     "output_type": "display_data"
    },
    {
     "data": {
      "text/html": [
       "<pre>| Initial | 106us        | 2.62243           | 1.15658               |             |</pre>"
      ],
      "text/plain": [
       "| Initial | 106us        | 2.62243           | 1.15658               |             |"
      ]
     },
     "metadata": {},
     "output_type": "display_data"
    },
    {
     "data": {
      "text/html": [
       "<pre>+---------+--------------+-------------------+-----------------------+-------------+</pre>"
      ],
      "text/plain": [
       "+---------+--------------+-------------------+-----------------------+-------------+"
      ]
     },
     "metadata": {},
     "output_type": "display_data"
    },
    {
     "data": {
      "text/html": [
       "<pre>| 1       | 99.187ms     | 1.17619           | 1.07864               | 0.0976562   |</pre>"
      ],
      "text/plain": [
       "| 1       | 99.187ms     | 1.17619           | 1.07864               | 0.0976562   |"
      ]
     },
     "metadata": {},
     "output_type": "display_data"
    },
    {
     "data": {
      "text/html": [
       "<pre>| 2       | 177.821ms    | 1.05321           | 1.02091               | 0.0580668   |</pre>"
      ],
      "text/plain": [
       "| 2       | 177.821ms    | 1.05321           | 1.02091               | 0.0580668   |"
      ]
     },
     "metadata": {},
     "output_type": "display_data"
    },
    {
     "data": {
      "text/html": [
       "<pre>| 3       | 260.028ms    | 1.00099           | 0.996327              | 0.042841    |</pre>"
      ],
      "text/plain": [
       "| 3       | 260.028ms    | 1.00099           | 0.996327              | 0.042841    |"
      ]
     },
     "metadata": {},
     "output_type": "display_data"
    },
    {
     "data": {
      "text/html": [
       "<pre>| 4       | 343.647ms    | 0.973543          | 0.983259              | 0.0345267   |</pre>"
      ],
      "text/plain": [
       "| 4       | 343.647ms    | 0.973543          | 0.983259              | 0.0345267   |"
      ]
     },
     "metadata": {},
     "output_type": "display_data"
    },
    {
     "data": {
      "text/html": [
       "<pre>| 5       | 449.429ms    | 0.957708          | 0.975363              | 0.029206    |</pre>"
      ],
      "text/plain": [
       "| 5       | 449.429ms    | 0.957708          | 0.975363              | 0.029206    |"
      ]
     },
     "metadata": {},
     "output_type": "display_data"
    },
    {
     "data": {
      "text/html": [
       "<pre>| 6       | 529.973ms    | 0.946798          | 0.969911              | 0.0254734   |</pre>"
      ],
      "text/plain": [
       "| 6       | 529.973ms    | 0.946798          | 0.969911              | 0.0254734   |"
      ]
     },
     "metadata": {},
     "output_type": "display_data"
    },
    {
     "data": {
      "text/html": [
       "<pre>| 11      | 905.625ms    | 0.893357          | 0.943136              | 0.00961353  |</pre>"
      ],
      "text/plain": [
       "| 11      | 905.625ms    | 0.893357          | 0.943136              | 0.00961353  |"
      ]
     },
     "metadata": {},
     "output_type": "display_data"
    },
    {
     "data": {
      "text/html": [
       "<pre>| 25      | 2.14s        | 0.863929          | 0.928237              | 0.00308816  |</pre>"
      ],
      "text/plain": [
       "| 25      | 2.14s        | 0.863929          | 0.928237              | 0.00308816  |"
      ]
     },
     "metadata": {},
     "output_type": "display_data"
    },
    {
     "data": {
      "text/html": [
       "<pre>+---------+--------------+-------------------+-----------------------+-------------+</pre>"
      ],
      "text/plain": [
       "+---------+--------------+-------------------+-----------------------+-------------+"
      ]
     },
     "metadata": {},
     "output_type": "display_data"
    },
    {
     "data": {
      "text/html": [
       "<pre>Optimization Complete: Maximum number of passes through the data reached.</pre>"
      ],
      "text/plain": [
       "Optimization Complete: Maximum number of passes through the data reached."
      ]
     },
     "metadata": {},
     "output_type": "display_data"
    },
    {
     "data": {
      "text/html": [
       "<pre>Computing final objective value and training RMSE.</pre>"
      ],
      "text/plain": [
       "Computing final objective value and training RMSE."
      ]
     },
     "metadata": {},
     "output_type": "display_data"
    },
    {
     "data": {
      "text/html": [
       "<pre>       Final objective value: 1.11679</pre>"
      ],
      "text/plain": [
       "       Final objective value: 1.11679"
      ]
     },
     "metadata": {},
     "output_type": "display_data"
    },
    {
     "data": {
      "text/html": [
       "<pre>       Final training RMSE: 0.937362</pre>"
      ],
      "text/plain": [
       "       Final training RMSE: 0.937362"
      ]
     },
     "metadata": {},
     "output_type": "display_data"
    }
   ],
   "source": [
    "import graphlab as gl\n",
    "\n",
    "dfZillowDataNumeric2 = dfZillowDataNumeric[['regionidcity','propertylandusetypeid','bedroomcnt']]\n",
    "dfZillowDataNumeric2['regionidcity'] = dfZillowDataNumeric2['regionidcity'].astype('str')\n",
    "dfZillowDataNumeric2['propertylandusetypeid'] = dfZillowDataNumeric2['propertylandusetypeid'].astype('str')\n",
    "\n",
    "data = gl.SFrame(dfZillowDataNumeric2)\n",
    "model = gl.recommender.create(data, user_id=\"regionidcity\", item_id=\"propertylandusetypeid\", target=\"bedroomcnt\")\n",
    "results = model.recommend(users=None, k=5)\n",
    "model.save(\"my_model\")\n"
   ]
  },
  {
   "cell_type": "code",
   "execution_count": 55,
   "metadata": {
    "collapsed": false
   },
   "outputs": [
    {
     "data": {
      "text/html": [
       "<div style=\"max-height:1000px;max-width:1500px;overflow:auto;\"><table frame=\"box\" rules=\"cols\">\n",
       "    <tr>\n",
       "        <th style=\"padding-left: 1em; padding-right: 1em; text-align: center\">regionidcounty</th>\n",
       "        <th style=\"padding-left: 1em; padding-right: 1em; text-align: center\">propertylandusetypeid</th>\n",
       "        <th style=\"padding-left: 1em; padding-right: 1em; text-align: center\">score</th>\n",
       "        <th style=\"padding-left: 1em; padding-right: 1em; text-align: center\">rank</th>\n",
       "    </tr>\n",
       "    <tr>\n",
       "        <td style=\"padding-left: 1em; padding-right: 1em; text-align: center; vertical-align: top\">3101.0</td>\n",
       "        <td style=\"padding-left: 1em; padding-right: 1em; text-align: center; vertical-align: top\">265.0</td>\n",
       "        <td style=\"padding-left: 1em; padding-right: 1em; text-align: center; vertical-align: top\">2.86360516747</td>\n",
       "        <td style=\"padding-left: 1em; padding-right: 1em; text-align: center; vertical-align: top\">1</td>\n",
       "    </tr>\n",
       "    <tr>\n",
       "        <td style=\"padding-left: 1em; padding-right: 1em; text-align: center; vertical-align: top\">3101.0</td>\n",
       "        <td style=\"padding-left: 1em; padding-right: 1em; text-align: center; vertical-align: top\">275.0</td>\n",
       "        <td style=\"padding-left: 1em; padding-right: 1em; text-align: center; vertical-align: top\">0.917111512025</td>\n",
       "        <td style=\"padding-left: 1em; padding-right: 1em; text-align: center; vertical-align: top\">2</td>\n",
       "    </tr>\n",
       "    <tr>\n",
       "        <td style=\"padding-left: 1em; padding-right: 1em; text-align: center; vertical-align: top\">1286.0</td>\n",
       "        <td style=\"padding-left: 1em; padding-right: 1em; text-align: center; vertical-align: top\">265.0</td>\n",
       "        <td style=\"padding-left: 1em; padding-right: 1em; text-align: center; vertical-align: top\">2.38018333515</td>\n",
       "        <td style=\"padding-left: 1em; padding-right: 1em; text-align: center; vertical-align: top\">1</td>\n",
       "    </tr>\n",
       "    <tr>\n",
       "        <td style=\"padding-left: 1em; padding-right: 1em; text-align: center; vertical-align: top\">1286.0</td>\n",
       "        <td style=\"padding-left: 1em; padding-right: 1em; text-align: center; vertical-align: top\">264.0</td>\n",
       "        <td style=\"padding-left: 1em; padding-right: 1em; text-align: center; vertical-align: top\">1.5742158552</td>\n",
       "        <td style=\"padding-left: 1em; padding-right: 1em; text-align: center; vertical-align: top\">2</td>\n",
       "    </tr>\n",
       "    <tr>\n",
       "        <td style=\"padding-left: 1em; padding-right: 1em; text-align: center; vertical-align: top\">1286.0</td>\n",
       "        <td style=\"padding-left: 1em; padding-right: 1em; text-align: center; vertical-align: top\">47.0</td>\n",
       "        <td style=\"padding-left: 1em; padding-right: 1em; text-align: center; vertical-align: top\">1.44333690008</td>\n",
       "        <td style=\"padding-left: 1em; padding-right: 1em; text-align: center; vertical-align: top\">3</td>\n",
       "    </tr>\n",
       "    <tr>\n",
       "        <td style=\"padding-left: 1em; padding-right: 1em; text-align: center; vertical-align: top\">1286.0</td>\n",
       "        <td style=\"padding-left: 1em; padding-right: 1em; text-align: center; vertical-align: top\">267.0</td>\n",
       "        <td style=\"padding-left: 1em; padding-right: 1em; text-align: center; vertical-align: top\">0.25080978473</td>\n",
       "        <td style=\"padding-left: 1em; padding-right: 1em; text-align: center; vertical-align: top\">4</td>\n",
       "    </tr>\n",
       "    <tr>\n",
       "        <td style=\"padding-left: 1em; padding-right: 1em; text-align: center; vertical-align: top\">1286.0</td>\n",
       "        <td style=\"padding-left: 1em; padding-right: 1em; text-align: center; vertical-align: top\">275.0</td>\n",
       "        <td style=\"padding-left: 1em; padding-right: 1em; text-align: center; vertical-align: top\">-0.0562611858048</td>\n",
       "        <td style=\"padding-left: 1em; padding-right: 1em; text-align: center; vertical-align: top\">5</td>\n",
       "    </tr>\n",
       "    <tr>\n",
       "        <td style=\"padding-left: 1em; padding-right: 1em; text-align: center; vertical-align: top\">2061.0</td>\n",
       "        <td style=\"padding-left: 1em; padding-right: 1em; text-align: center; vertical-align: top\">264.0</td>\n",
       "        <td style=\"padding-left: 1em; padding-right: 1em; text-align: center; vertical-align: top\">1.6437583228</td>\n",
       "        <td style=\"padding-left: 1em; padding-right: 1em; text-align: center; vertical-align: top\">1</td>\n",
       "    </tr>\n",
       "    <tr>\n",
       "        <td style=\"padding-left: 1em; padding-right: 1em; text-align: center; vertical-align: top\">2061.0</td>\n",
       "        <td style=\"padding-left: 1em; padding-right: 1em; text-align: center; vertical-align: top\">47.0</td>\n",
       "        <td style=\"padding-left: 1em; padding-right: 1em; text-align: center; vertical-align: top\">1.55184623202</td>\n",
       "        <td style=\"padding-left: 1em; padding-right: 1em; text-align: center; vertical-align: top\">2</td>\n",
       "    </tr>\n",
       "    <tr>\n",
       "        <td style=\"padding-left: 1em; padding-right: 1em; text-align: center; vertical-align: top\">2061.0</td>\n",
       "        <td style=\"padding-left: 1em; padding-right: 1em; text-align: center; vertical-align: top\">260.0</td>\n",
       "        <td style=\"padding-left: 1em; padding-right: 1em; text-align: center; vertical-align: top\">1.03338050445</td>\n",
       "        <td style=\"padding-left: 1em; padding-right: 1em; text-align: center; vertical-align: top\">3</td>\n",
       "    </tr>\n",
       "</table>\n",
       "[11 rows x 4 columns]<br/>Note: Only the head of the SFrame is printed.<br/>You can use print_rows(num_rows=m, num_columns=n) to print more rows and columns.\n",
       "</div>"
      ],
      "text/plain": [
       "Columns:\n",
       "\tregionidcounty\tstr\n",
       "\tpropertylandusetypeid\tstr\n",
       "\tscore\tfloat\n",
       "\trank\tint\n",
       "\n",
       "Rows: 11\n",
       "\n",
       "Data:\n",
       "+----------------+-----------------------+------------------+------+\n",
       "| regionidcounty | propertylandusetypeid |      score       | rank |\n",
       "+----------------+-----------------------+------------------+------+\n",
       "|     3101.0     |         265.0         |  2.86360516747   |  1   |\n",
       "|     3101.0     |         275.0         |  0.917111512025  |  2   |\n",
       "|     1286.0     |         265.0         |  2.38018333515   |  1   |\n",
       "|     1286.0     |         264.0         |   1.5742158552   |  2   |\n",
       "|     1286.0     |          47.0         |  1.44333690008   |  3   |\n",
       "|     1286.0     |         267.0         |  0.25080978473   |  4   |\n",
       "|     1286.0     |         275.0         | -0.0562611858048 |  5   |\n",
       "|     2061.0     |         264.0         |   1.6437583228   |  1   |\n",
       "|     2061.0     |          47.0         |  1.55184623202   |  2   |\n",
       "|     2061.0     |         260.0         |  1.03338050445   |  3   |\n",
       "+----------------+-----------------------+------------------+------+\n",
       "[11 rows x 4 columns]\n",
       "Note: Only the head of the SFrame is printed.\n",
       "You can use print_rows(num_rows=m, num_columns=n) to print more rows and columns."
      ]
     },
     "execution_count": 55,
     "metadata": {},
     "output_type": "execute_result"
    }
   ],
   "source": [
    "results"
   ]
  },
  {
   "cell_type": "markdown",
   "metadata": {},
   "source": [
    "# Item-Item Recommendation"
   ]
  },
  {
   "cell_type": "code",
   "execution_count": 71,
   "metadata": {
    "collapsed": false
   },
   "outputs": [
    {
     "data": {
      "text/html": [
       "<pre>Recsys training: model = item_similarity</pre>"
      ],
      "text/plain": [
       "Recsys training: model = item_similarity"
      ]
     },
     "metadata": {},
     "output_type": "display_data"
    },
    {
     "data": {
      "text/html": [
       "<pre>Preparing data set.</pre>"
      ],
      "text/plain": [
       "Preparing data set."
      ]
     },
     "metadata": {},
     "output_type": "display_data"
    },
    {
     "data": {
      "text/html": [
       "<pre>    Data has 90275 observations with 177 users and 14 items.</pre>"
      ],
      "text/plain": [
       "    Data has 90275 observations with 177 users and 14 items."
      ]
     },
     "metadata": {},
     "output_type": "display_data"
    },
    {
     "data": {
      "text/html": [
       "<pre>    Data prepared in: 0.100101s</pre>"
      ],
      "text/plain": [
       "    Data prepared in: 0.100101s"
      ]
     },
     "metadata": {},
     "output_type": "display_data"
    },
    {
     "data": {
      "text/html": [
       "<pre>Training model from provided data.</pre>"
      ],
      "text/plain": [
       "Training model from provided data."
      ]
     },
     "metadata": {},
     "output_type": "display_data"
    },
    {
     "data": {
      "text/html": [
       "<pre>Gathering per-item and per-user statistics.</pre>"
      ],
      "text/plain": [
       "Gathering per-item and per-user statistics."
      ]
     },
     "metadata": {},
     "output_type": "display_data"
    },
    {
     "data": {
      "text/html": [
       "<pre>+--------------------------------+------------+</pre>"
      ],
      "text/plain": [
       "+--------------------------------+------------+"
      ]
     },
     "metadata": {},
     "output_type": "display_data"
    },
    {
     "data": {
      "text/html": [
       "<pre>| Elapsed Time (Item Statistics) | % Complete |</pre>"
      ],
      "text/plain": [
       "| Elapsed Time (Item Statistics) | % Complete |"
      ]
     },
     "metadata": {},
     "output_type": "display_data"
    },
    {
     "data": {
      "text/html": [
       "<pre>+--------------------------------+------------+</pre>"
      ],
      "text/plain": [
       "+--------------------------------+------------+"
      ]
     },
     "metadata": {},
     "output_type": "display_data"
    },
    {
     "data": {
      "text/html": [
       "<pre>| 10.548ms                       | 100        |</pre>"
      ],
      "text/plain": [
       "| 10.548ms                       | 100        |"
      ]
     },
     "metadata": {},
     "output_type": "display_data"
    },
    {
     "data": {
      "text/html": [
       "<pre>+--------------------------------+------------+</pre>"
      ],
      "text/plain": [
       "+--------------------------------+------------+"
      ]
     },
     "metadata": {},
     "output_type": "display_data"
    },
    {
     "data": {
      "text/html": [
       "<pre>Setting up lookup tables.</pre>"
      ],
      "text/plain": [
       "Setting up lookup tables."
      ]
     },
     "metadata": {},
     "output_type": "display_data"
    },
    {
     "data": {
      "text/html": [
       "<pre>Processing data in one pass using dense lookup tables.</pre>"
      ],
      "text/plain": [
       "Processing data in one pass using dense lookup tables."
      ]
     },
     "metadata": {},
     "output_type": "display_data"
    },
    {
     "data": {
      "text/html": [
       "<pre>+-------------------------------------+------------------+-----------------+</pre>"
      ],
      "text/plain": [
       "+-------------------------------------+------------------+-----------------+"
      ]
     },
     "metadata": {},
     "output_type": "display_data"
    },
    {
     "data": {
      "text/html": [
       "<pre>| Elapsed Time (Constructing Lookups) | Total % Complete | Items Processed |</pre>"
      ],
      "text/plain": [
       "| Elapsed Time (Constructing Lookups) | Total % Complete | Items Processed |"
      ]
     },
     "metadata": {},
     "output_type": "display_data"
    },
    {
     "data": {
      "text/html": [
       "<pre>+-------------------------------------+------------------+-----------------+</pre>"
      ],
      "text/plain": [
       "+-------------------------------------+------------------+-----------------+"
      ]
     },
     "metadata": {},
     "output_type": "display_data"
    },
    {
     "data": {
      "text/html": [
       "<pre>| 10.79ms                             | 2.5              | 0               |</pre>"
      ],
      "text/plain": [
       "| 10.79ms                             | 2.5              | 0               |"
      ]
     },
     "metadata": {},
     "output_type": "display_data"
    },
    {
     "data": {
      "text/html": [
       "<pre>| 32.161ms                            | 100              | 14              |</pre>"
      ],
      "text/plain": [
       "| 32.161ms                            | 100              | 14              |"
      ]
     },
     "metadata": {},
     "output_type": "display_data"
    },
    {
     "data": {
      "text/html": [
       "<pre>+-------------------------------------+------------------+-----------------+</pre>"
      ],
      "text/plain": [
       "+-------------------------------------+------------------+-----------------+"
      ]
     },
     "metadata": {},
     "output_type": "display_data"
    },
    {
     "data": {
      "text/html": [
       "<pre>Finalizing lookup tables.</pre>"
      ],
      "text/plain": [
       "Finalizing lookup tables."
      ]
     },
     "metadata": {},
     "output_type": "display_data"
    },
    {
     "data": {
      "text/html": [
       "<pre>Generating candidate set for working with new users.</pre>"
      ],
      "text/plain": [
       "Generating candidate set for working with new users."
      ]
     },
     "metadata": {},
     "output_type": "display_data"
    },
    {
     "data": {
      "text/html": [
       "<pre>Finished training in 0.044417s</pre>"
      ],
      "text/plain": [
       "Finished training in 0.044417s"
      ]
     },
     "metadata": {},
     "output_type": "display_data"
    },
    {
     "data": {
      "text/html": [
       "<div style=\"max-height:1000px;max-width:1500px;overflow:auto;\"><table frame=\"box\" rules=\"cols\">\n",
       "    <tr>\n",
       "        <th style=\"padding-left: 1em; padding-right: 1em; text-align: center\">propertylandusetypeid</th>\n",
       "        <th style=\"padding-left: 1em; padding-right: 1em; text-align: center\">similar</th>\n",
       "        <th style=\"padding-left: 1em; padding-right: 1em; text-align: center\">score</th>\n",
       "        <th style=\"padding-left: 1em; padding-right: 1em; text-align: center\">rank</th>\n",
       "    </tr>\n",
       "    <tr>\n",
       "        <td style=\"padding-left: 1em; padding-right: 1em; text-align: center; vertical-align: top\">261.0</td>\n",
       "        <td style=\"padding-left: 1em; padding-right: 1em; text-align: center; vertical-align: top\">266.0</td>\n",
       "        <td style=\"padding-left: 1em; padding-right: 1em; text-align: center; vertical-align: top\">0.883653223515</td>\n",
       "        <td style=\"padding-left: 1em; padding-right: 1em; text-align: center; vertical-align: top\">1</td>\n",
       "    </tr>\n",
       "    <tr>\n",
       "        <td style=\"padding-left: 1em; padding-right: 1em; text-align: center; vertical-align: top\">261.0</td>\n",
       "        <td style=\"padding-left: 1em; padding-right: 1em; text-align: center; vertical-align: top\">246.0</td>\n",
       "        <td style=\"padding-left: 1em; padding-right: 1em; text-align: center; vertical-align: top\">0.671064019203</td>\n",
       "        <td style=\"padding-left: 1em; padding-right: 1em; text-align: center; vertical-align: top\">2</td>\n",
       "    </tr>\n",
       "    <tr>\n",
       "        <td style=\"padding-left: 1em; padding-right: 1em; text-align: center; vertical-align: top\">261.0</td>\n",
       "        <td style=\"padding-left: 1em; padding-right: 1em; text-align: center; vertical-align: top\">265.0</td>\n",
       "        <td style=\"padding-left: 1em; padding-right: 1em; text-align: center; vertical-align: top\">0.296048700809</td>\n",
       "        <td style=\"padding-left: 1em; padding-right: 1em; text-align: center; vertical-align: top\">3</td>\n",
       "    </tr>\n",
       "    <tr>\n",
       "        <td style=\"padding-left: 1em; padding-right: 1em; text-align: center; vertical-align: top\">266.0</td>\n",
       "        <td style=\"padding-left: 1em; padding-right: 1em; text-align: center; vertical-align: top\">261.0</td>\n",
       "        <td style=\"padding-left: 1em; padding-right: 1em; text-align: center; vertical-align: top\">0.883653223515</td>\n",
       "        <td style=\"padding-left: 1em; padding-right: 1em; text-align: center; vertical-align: top\">1</td>\n",
       "    </tr>\n",
       "    <tr>\n",
       "        <td style=\"padding-left: 1em; padding-right: 1em; text-align: center; vertical-align: top\">266.0</td>\n",
       "        <td style=\"padding-left: 1em; padding-right: 1em; text-align: center; vertical-align: top\">246.0</td>\n",
       "        <td style=\"padding-left: 1em; padding-right: 1em; text-align: center; vertical-align: top\">0.692997157574</td>\n",
       "        <td style=\"padding-left: 1em; padding-right: 1em; text-align: center; vertical-align: top\">2</td>\n",
       "    </tr>\n",
       "    <tr>\n",
       "        <td style=\"padding-left: 1em; padding-right: 1em; text-align: center; vertical-align: top\">266.0</td>\n",
       "        <td style=\"padding-left: 1em; padding-right: 1em; text-align: center; vertical-align: top\">265.0</td>\n",
       "        <td style=\"padding-left: 1em; padding-right: 1em; text-align: center; vertical-align: top\">0.305771946907</td>\n",
       "        <td style=\"padding-left: 1em; padding-right: 1em; text-align: center; vertical-align: top\">3</td>\n",
       "    </tr>\n",
       "    <tr>\n",
       "        <td style=\"padding-left: 1em; padding-right: 1em; text-align: center; vertical-align: top\">265.0</td>\n",
       "        <td style=\"padding-left: 1em; padding-right: 1em; text-align: center; vertical-align: top\">263.0</td>\n",
       "        <td style=\"padding-left: 1em; padding-right: 1em; text-align: center; vertical-align: top\">0.422854185104</td>\n",
       "        <td style=\"padding-left: 1em; padding-right: 1em; text-align: center; vertical-align: top\">1</td>\n",
       "    </tr>\n",
       "    <tr>\n",
       "        <td style=\"padding-left: 1em; padding-right: 1em; text-align: center; vertical-align: top\">265.0</td>\n",
       "        <td style=\"padding-left: 1em; padding-right: 1em; text-align: center; vertical-align: top\">266.0</td>\n",
       "        <td style=\"padding-left: 1em; padding-right: 1em; text-align: center; vertical-align: top\">0.305771946907</td>\n",
       "        <td style=\"padding-left: 1em; padding-right: 1em; text-align: center; vertical-align: top\">2</td>\n",
       "    </tr>\n",
       "    <tr>\n",
       "        <td style=\"padding-left: 1em; padding-right: 1em; text-align: center; vertical-align: top\">265.0</td>\n",
       "        <td style=\"padding-left: 1em; padding-right: 1em; text-align: center; vertical-align: top\">275.0</td>\n",
       "        <td style=\"padding-left: 1em; padding-right: 1em; text-align: center; vertical-align: top\">0.238130152225</td>\n",
       "        <td style=\"padding-left: 1em; padding-right: 1em; text-align: center; vertical-align: top\">3</td>\n",
       "    </tr>\n",
       "    <tr>\n",
       "        <td style=\"padding-left: 1em; padding-right: 1em; text-align: center; vertical-align: top\">246.0</td>\n",
       "        <td style=\"padding-left: 1em; padding-right: 1em; text-align: center; vertical-align: top\">247.0</td>\n",
       "        <td style=\"padding-left: 1em; padding-right: 1em; text-align: center; vertical-align: top\">0.792651355267</td>\n",
       "        <td style=\"padding-left: 1em; padding-right: 1em; text-align: center; vertical-align: top\">1</td>\n",
       "    </tr>\n",
       "</table>\n",
       "[10 rows x 4 columns]<br/>\n",
       "</div>"
      ],
      "text/plain": [
       "Columns:\n",
       "\tpropertylandusetypeid\tstr\n",
       "\tsimilar\tstr\n",
       "\tscore\tfloat\n",
       "\trank\tint\n",
       "\n",
       "Rows: 10\n",
       "\n",
       "Data:\n",
       "+-----------------------+---------+----------------+------+\n",
       "| propertylandusetypeid | similar |     score      | rank |\n",
       "+-----------------------+---------+----------------+------+\n",
       "|         261.0         |  266.0  | 0.883653223515 |  1   |\n",
       "|         261.0         |  246.0  | 0.671064019203 |  2   |\n",
       "|         261.0         |  265.0  | 0.296048700809 |  3   |\n",
       "|         266.0         |  261.0  | 0.883653223515 |  1   |\n",
       "|         266.0         |  246.0  | 0.692997157574 |  2   |\n",
       "|         266.0         |  265.0  | 0.305771946907 |  3   |\n",
       "|         265.0         |  263.0  | 0.422854185104 |  1   |\n",
       "|         265.0         |  266.0  | 0.305771946907 |  2   |\n",
       "|         265.0         |  275.0  | 0.238130152225 |  3   |\n",
       "|         246.0         |  247.0  | 0.792651355267 |  1   |\n",
       "+-----------------------+---------+----------------+------+\n",
       "[10 rows x 4 columns]"
      ]
     },
     "execution_count": 71,
     "metadata": {},
     "output_type": "execute_result"
    }
   ],
   "source": [
    "item_item = gl.recommender.item_similarity_recommender.create(data, \n",
    "                                  user_id=\"regionidcity\", \n",
    "                                  item_id=\"propertylandusetypeid\", \n",
    "                                  target=\"bedroomcnt\",\n",
    "                                  only_top_k=3,\n",
    "                                  similarity_type=\"cosine\")\n",
    "\n",
    "results = item_item.get_similar_items(k=3)\n",
    "results.head()"
   ]
  },
  {
   "cell_type": "code",
   "execution_count": 72,
   "metadata": {
    "collapsed": true
   },
   "outputs": [],
   "source": [
    "train, test = gl.recommender.util.random_split_by_user(data,\n",
    "                                                    user_id=\"regionidcity\", item_id=\"propertylandusetypeid\",\n",
    "                                                    max_num_users=40, item_test_proportion=0.2)"
   ]
  },
  {
   "cell_type": "code",
   "execution_count": 73,
   "metadata": {
    "collapsed": false
   },
   "outputs": [
    {
     "data": {
      "text/html": [
       "<pre>Recsys training: model = item_similarity</pre>"
      ],
      "text/plain": [
       "Recsys training: model = item_similarity"
      ]
     },
     "metadata": {},
     "output_type": "display_data"
    },
    {
     "data": {
      "text/html": [
       "<pre>Preparing data set.</pre>"
      ],
      "text/plain": [
       "Preparing data set."
      ]
     },
     "metadata": {},
     "output_type": "display_data"
    },
    {
     "data": {
      "text/html": [
       "<pre>    Data has 87949 observations with 177 users and 14 items.</pre>"
      ],
      "text/plain": [
       "    Data has 87949 observations with 177 users and 14 items."
      ]
     },
     "metadata": {},
     "output_type": "display_data"
    },
    {
     "data": {
      "text/html": [
       "<pre>    Data prepared in: 0.092174s</pre>"
      ],
      "text/plain": [
       "    Data prepared in: 0.092174s"
      ]
     },
     "metadata": {},
     "output_type": "display_data"
    },
    {
     "data": {
      "text/html": [
       "<pre>Training model from provided data.</pre>"
      ],
      "text/plain": [
       "Training model from provided data."
      ]
     },
     "metadata": {},
     "output_type": "display_data"
    },
    {
     "data": {
      "text/html": [
       "<pre>Gathering per-item and per-user statistics.</pre>"
      ],
      "text/plain": [
       "Gathering per-item and per-user statistics."
      ]
     },
     "metadata": {},
     "output_type": "display_data"
    },
    {
     "data": {
      "text/html": [
       "<pre>+--------------------------------+------------+</pre>"
      ],
      "text/plain": [
       "+--------------------------------+------------+"
      ]
     },
     "metadata": {},
     "output_type": "display_data"
    },
    {
     "data": {
      "text/html": [
       "<pre>| Elapsed Time (Item Statistics) | % Complete |</pre>"
      ],
      "text/plain": [
       "| Elapsed Time (Item Statistics) | % Complete |"
      ]
     },
     "metadata": {},
     "output_type": "display_data"
    },
    {
     "data": {
      "text/html": [
       "<pre>+--------------------------------+------------+</pre>"
      ],
      "text/plain": [
       "+--------------------------------+------------+"
      ]
     },
     "metadata": {},
     "output_type": "display_data"
    },
    {
     "data": {
      "text/html": [
       "<pre>| 3.385ms                        | 100        |</pre>"
      ],
      "text/plain": [
       "| 3.385ms                        | 100        |"
      ]
     },
     "metadata": {},
     "output_type": "display_data"
    },
    {
     "data": {
      "text/html": [
       "<pre>+--------------------------------+------------+</pre>"
      ],
      "text/plain": [
       "+--------------------------------+------------+"
      ]
     },
     "metadata": {},
     "output_type": "display_data"
    },
    {
     "data": {
      "text/html": [
       "<pre>Setting up lookup tables.</pre>"
      ],
      "text/plain": [
       "Setting up lookup tables."
      ]
     },
     "metadata": {},
     "output_type": "display_data"
    },
    {
     "data": {
      "text/html": [
       "<pre>Processing data in one pass using dense lookup tables.</pre>"
      ],
      "text/plain": [
       "Processing data in one pass using dense lookup tables."
      ]
     },
     "metadata": {},
     "output_type": "display_data"
    },
    {
     "data": {
      "text/html": [
       "<pre>+-------------------------------------+------------------+-----------------+</pre>"
      ],
      "text/plain": [
       "+-------------------------------------+------------------+-----------------+"
      ]
     },
     "metadata": {},
     "output_type": "display_data"
    },
    {
     "data": {
      "text/html": [
       "<pre>| Elapsed Time (Constructing Lookups) | Total % Complete | Items Processed |</pre>"
      ],
      "text/plain": [
       "| Elapsed Time (Constructing Lookups) | Total % Complete | Items Processed |"
      ]
     },
     "metadata": {},
     "output_type": "display_data"
    },
    {
     "data": {
      "text/html": [
       "<pre>+-------------------------------------+------------------+-----------------+</pre>"
      ],
      "text/plain": [
       "+-------------------------------------+------------------+-----------------+"
      ]
     },
     "metadata": {},
     "output_type": "display_data"
    },
    {
     "data": {
      "text/html": [
       "<pre>| 3.584ms                             | 2.5              | 0               |</pre>"
      ],
      "text/plain": [
       "| 3.584ms                             | 2.5              | 0               |"
      ]
     },
     "metadata": {},
     "output_type": "display_data"
    },
    {
     "data": {
      "text/html": [
       "<pre>| 11.575ms                            | 100              | 14              |</pre>"
      ],
      "text/plain": [
       "| 11.575ms                            | 100              | 14              |"
      ]
     },
     "metadata": {},
     "output_type": "display_data"
    },
    {
     "data": {
      "text/html": [
       "<pre>+-------------------------------------+------------------+-----------------+</pre>"
      ],
      "text/plain": [
       "+-------------------------------------+------------------+-----------------+"
      ]
     },
     "metadata": {},
     "output_type": "display_data"
    },
    {
     "data": {
      "text/html": [
       "<pre>Finalizing lookup tables.</pre>"
      ],
      "text/plain": [
       "Finalizing lookup tables."
      ]
     },
     "metadata": {},
     "output_type": "display_data"
    },
    {
     "data": {
      "text/html": [
       "<pre>Generating candidate set for working with new users.</pre>"
      ],
      "text/plain": [
       "Generating candidate set for working with new users."
      ]
     },
     "metadata": {},
     "output_type": "display_data"
    },
    {
     "data": {
      "text/html": [
       "<pre>Finished training in 0.024199s</pre>"
      ],
      "text/plain": [
       "Finished training in 0.024199s"
      ]
     },
     "metadata": {},
     "output_type": "display_data"
    },
    {
     "name": "stdout",
     "output_type": "stream",
     "text": [
      "\n",
      "Precision and recall summary statistics by cutoff\n",
      "+--------+-----------------+-------------------+\n",
      "| cutoff |  mean_precision |    mean_recall    |\n",
      "+--------+-----------------+-------------------+\n",
      "|   1    | 0.0263157894737 | 0.000271296798698 |\n",
      "|   2    | 0.0263157894737 |  0.00246427925484 |\n",
      "|   3    | 0.0175438596491 |  0.00246427925484 |\n",
      "|   4    | 0.0197368421053 |  0.00258841033726 |\n",
      "|   5    | 0.0157894736842 |  0.00258841033726 |\n",
      "|   6    | 0.0131578947368 |  0.00258841033726 |\n",
      "|   7    | 0.0119047619048 |  0.00258841033726 |\n",
      "|   8    | 0.0109649122807 |  0.00258841033726 |\n",
      "|   9    | 0.0102339181287 |  0.00258841033726 |\n",
      "|   10   | 0.0102339181287 |  0.00258841033726 |\n",
      "+--------+-----------------+-------------------+\n",
      "[10 rows x 3 columns]\n",
      "\n",
      "('\\nOverall RMSE: ', 2.313234162829496)\n",
      "\n",
      "Per User RMSE (best)\n",
      "+--------------+-------+------+\n",
      "| regionidcity | count | rmse |\n",
      "+--------------+-------+------+\n",
      "|   24797.0    |   1   | 0.0  |\n",
      "+--------------+-------+------+\n",
      "[1 rows x 3 columns]\n",
      "\n",
      "\n",
      "Per User RMSE (worst)\n",
      "+--------------+-------+---------------+\n",
      "| regionidcity | count |      rmse     |\n",
      "+--------------+-------+---------------+\n",
      "|   42091.0    |   7   | 4.45613541728 |\n",
      "+--------------+-------+---------------+\n",
      "[1 rows x 3 columns]\n",
      "\n",
      "\n",
      "Per Item RMSE (best)\n",
      "+-----------------------+-------+------+\n",
      "| propertylandusetypeid | count | rmse |\n",
      "+-----------------------+-------+------+\n",
      "|          31.0         |   1   | 0.0  |\n",
      "+-----------------------+-------+------+\n",
      "[1 rows x 3 columns]\n",
      "\n",
      "\n",
      "Per Item RMSE (worst)\n",
      "+-----------------------+-------+---------------+\n",
      "| propertylandusetypeid | count |      rmse     |\n",
      "+-----------------------+-------+---------------+\n",
      "|         248.0         |   29  | 5.47582217562 |\n",
      "+-----------------------+-------+---------------+\n",
      "[1 rows x 3 columns]\n",
      "\n"
     ]
    }
   ],
   "source": [
    "from IPython.display import display\n",
    "from IPython.display import Image\n",
    "\n",
    "gl.canvas.set_target('ipynb')\n",
    "\n",
    "\n",
    "item_item = gl.recommender.item_similarity_recommender.create(train, \n",
    "                                  user_id=\"regionidcity\", \n",
    "                                  item_id=\"propertylandusetypeid\", \n",
    "                                  target=\"bedroomcnt\",\n",
    "                                  only_top_k=5,\n",
    "                                  similarity_type=\"cosine\")\n",
    "\n",
    "rmse_results = item_item.evaluate(test)"
   ]
  },
  {
   "cell_type": "code",
   "execution_count": 74,
   "metadata": {
    "collapsed": false
   },
   "outputs": [
    {
     "name": "stdout",
     "output_type": "stream",
     "text": [
      "dict_keys(['rmse_by_user', 'precision_recall_overall', 'rmse_by_item', 'precision_recall_by_user', 'rmse_overall'])\n"
     ]
    }
   ],
   "source": [
    "print rmse_results.viewkeys()"
   ]
  },
  {
   "cell_type": "code",
   "execution_count": 75,
   "metadata": {
    "collapsed": false
   },
   "outputs": [
    {
     "data": {
      "text/html": [
       "<div style=\"max-height:1000px;max-width:1500px;overflow:auto;\"><table frame=\"box\" rules=\"cols\">\n",
       "    <tr>\n",
       "        <th style=\"padding-left: 1em; padding-right: 1em; text-align: center\">regionidcity</th>\n",
       "        <th style=\"padding-left: 1em; padding-right: 1em; text-align: center\">count</th>\n",
       "        <th style=\"padding-left: 1em; padding-right: 1em; text-align: center\">rmse</th>\n",
       "    </tr>\n",
       "    <tr>\n",
       "        <td style=\"padding-left: 1em; padding-right: 1em; text-align: center; vertical-align: top\">10815.0</td>\n",
       "        <td style=\"padding-left: 1em; padding-right: 1em; text-align: center; vertical-align: top\">2</td>\n",
       "        <td style=\"padding-left: 1em; padding-right: 1em; text-align: center; vertical-align: top\">0.888706913501</td>\n",
       "    </tr>\n",
       "    <tr>\n",
       "        <td style=\"padding-left: 1em; padding-right: 1em; text-align: center; vertical-align: top\">37086.0</td>\n",
       "        <td style=\"padding-left: 1em; padding-right: 1em; text-align: center; vertical-align: top\">148</td>\n",
       "        <td style=\"padding-left: 1em; padding-right: 1em; text-align: center; vertical-align: top\">1.90313731932</td>\n",
       "    </tr>\n",
       "    <tr>\n",
       "        <td style=\"padding-left: 1em; padding-right: 1em; text-align: center; vertical-align: top\">45888.0</td>\n",
       "        <td style=\"padding-left: 1em; padding-right: 1em; text-align: center; vertical-align: top\">66</td>\n",
       "        <td style=\"padding-left: 1em; padding-right: 1em; text-align: center; vertical-align: top\">1.39105843147</td>\n",
       "    </tr>\n",
       "    <tr>\n",
       "        <td style=\"padding-left: 1em; padding-right: 1em; text-align: center; vertical-align: top\">3491.0</td>\n",
       "        <td style=\"padding-left: 1em; padding-right: 1em; text-align: center; vertical-align: top\">9</td>\n",
       "        <td style=\"padding-left: 1em; padding-right: 1em; text-align: center; vertical-align: top\">1.61495844393</td>\n",
       "    </tr>\n",
       "    <tr>\n",
       "        <td style=\"padding-left: 1em; padding-right: 1em; text-align: center; vertical-align: top\">17686.0</td>\n",
       "        <td style=\"padding-left: 1em; padding-right: 1em; text-align: center; vertical-align: top\">72</td>\n",
       "        <td style=\"padding-left: 1em; padding-right: 1em; text-align: center; vertical-align: top\">2.35128816351</td>\n",
       "    </tr>\n",
       "    <tr>\n",
       "        <td style=\"padding-left: 1em; padding-right: 1em; text-align: center; vertical-align: top\">24245.0</td>\n",
       "        <td style=\"padding-left: 1em; padding-right: 1em; text-align: center; vertical-align: top\">102</td>\n",
       "        <td style=\"padding-left: 1em; padding-right: 1em; text-align: center; vertical-align: top\">1.3896810804</td>\n",
       "    </tr>\n",
       "    <tr>\n",
       "        <td style=\"padding-left: 1em; padding-right: 1em; text-align: center; vertical-align: top\">396556.0</td>\n",
       "        <td style=\"padding-left: 1em; padding-right: 1em; text-align: center; vertical-align: top\">30</td>\n",
       "        <td style=\"padding-left: 1em; padding-right: 1em; text-align: center; vertical-align: top\">0.943650709736</td>\n",
       "    </tr>\n",
       "    <tr>\n",
       "        <td style=\"padding-left: 1em; padding-right: 1em; text-align: center; vertical-align: top\">34543.0</td>\n",
       "        <td style=\"padding-left: 1em; padding-right: 1em; text-align: center; vertical-align: top\">212</td>\n",
       "        <td style=\"padding-left: 1em; padding-right: 1em; text-align: center; vertical-align: top\">2.62384941893</td>\n",
       "    </tr>\n",
       "    <tr>\n",
       "        <td style=\"padding-left: 1em; padding-right: 1em; text-align: center; vertical-align: top\">24812.0</td>\n",
       "        <td style=\"padding-left: 1em; padding-right: 1em; text-align: center; vertical-align: top\">170</td>\n",
       "        <td style=\"padding-left: 1em; padding-right: 1em; text-align: center; vertical-align: top\">2.93385301944</td>\n",
       "    </tr>\n",
       "    <tr>\n",
       "        <td style=\"padding-left: 1em; padding-right: 1em; text-align: center; vertical-align: top\">30399.0</td>\n",
       "        <td style=\"padding-left: 1em; padding-right: 1em; text-align: center; vertical-align: top\">14</td>\n",
       "        <td style=\"padding-left: 1em; padding-right: 1em; text-align: center; vertical-align: top\">1.6076025188</td>\n",
       "    </tr>\n",
       "</table>\n",
       "[38 rows x 3 columns]<br/>Note: Only the head of the SFrame is printed.<br/>You can use print_rows(num_rows=m, num_columns=n) to print more rows and columns.\n",
       "</div>"
      ],
      "text/plain": [
       "Columns:\n",
       "\tregionidcity\tstr\n",
       "\tcount\tint\n",
       "\trmse\tfloat\n",
       "\n",
       "Rows: 38\n",
       "\n",
       "Data:\n",
       "+--------------+-------+----------------+\n",
       "| regionidcity | count |      rmse      |\n",
       "+--------------+-------+----------------+\n",
       "|   10815.0    |   2   | 0.888706913501 |\n",
       "|   37086.0    |  148  | 1.90313731932  |\n",
       "|   45888.0    |   66  | 1.39105843147  |\n",
       "|    3491.0    |   9   | 1.61495844393  |\n",
       "|   17686.0    |   72  | 2.35128816351  |\n",
       "|   24245.0    |  102  |  1.3896810804  |\n",
       "|   396556.0   |   30  | 0.943650709736 |\n",
       "|   34543.0    |  212  | 2.62384941893  |\n",
       "|   24812.0    |  170  | 2.93385301944  |\n",
       "|   30399.0    |   14  |  1.6076025188  |\n",
       "+--------------+-------+----------------+\n",
       "[38 rows x 3 columns]\n",
       "Note: Only the head of the SFrame is printed.\n",
       "You can use print_rows(num_rows=m, num_columns=n) to print more rows and columns."
      ]
     },
     "execution_count": 75,
     "metadata": {},
     "output_type": "execute_result"
    }
   ],
   "source": [
    "rmse_results['rmse_by_user']"
   ]
  },
  {
   "cell_type": "code",
   "execution_count": 76,
   "metadata": {
    "collapsed": false
   },
   "outputs": [
    {
     "data": {
      "image/png": "[encoded data removed]",
      "text/plain": [
       "<matplotlib.figure.Figure at 0x11a8e4c10>"
      ]
     },
     "metadata": {},
     "output_type": "display_data"
    }
   ],
   "source": [
    "from matplotlib import pyplot as plt\n",
    "%matplotlib inline\n",
    "plt.style.use('ggplot')\n",
    "\n",
    "rmsevals = rmse_results['rmse_by_user']['rmse']\n",
    "rmsevals = rmsevals[rmse_results['rmse_by_user']['count']]\n",
    "\n",
    "plt.hist(rmsevals,bins=20)\n",
    "plt.title('RMSE by User')\n",
    "plt.show()"
   ]
  },
  {
   "cell_type": "code",
   "execution_count": 77,
   "metadata": {
    "collapsed": false
   },
   "outputs": [
    {
     "data": {
      "text/html": [
       "<div style=\"max-height:1000px;max-width:1500px;overflow:auto;\"><table frame=\"box\" rules=\"cols\">\n",
       "    <tr>\n",
       "        <th style=\"padding-left: 1em; padding-right: 1em; text-align: center\">regionidcity</th>\n",
       "        <th style=\"padding-left: 1em; padding-right: 1em; text-align: center\">cutoff</th>\n",
       "        <th style=\"padding-left: 1em; padding-right: 1em; text-align: center\">precision</th>\n",
       "        <th style=\"padding-left: 1em; padding-right: 1em; text-align: center\">recall</th>\n",
       "        <th style=\"padding-left: 1em; padding-right: 1em; text-align: center\">count</th>\n",
       "    </tr>\n",
       "    <tr>\n",
       "        <td style=\"padding-left: 1em; padding-right: 1em; text-align: center; vertical-align: top\">10389.0</td>\n",
       "        <td style=\"padding-left: 1em; padding-right: 1em; text-align: center; vertical-align: top\">1</td>\n",
       "        <td style=\"padding-left: 1em; padding-right: 1em; text-align: center; vertical-align: top\">0.0</td>\n",
       "        <td style=\"padding-left: 1em; padding-right: 1em; text-align: center; vertical-align: top\">0.0</td>\n",
       "        <td style=\"padding-left: 1em; padding-right: 1em; text-align: center; vertical-align: top\">46</td>\n",
       "    </tr>\n",
       "    <tr>\n",
       "        <td style=\"padding-left: 1em; padding-right: 1em; text-align: center; vertical-align: top\">10389.0</td>\n",
       "        <td style=\"padding-left: 1em; padding-right: 1em; text-align: center; vertical-align: top\">2</td>\n",
       "        <td style=\"padding-left: 1em; padding-right: 1em; text-align: center; vertical-align: top\">0.0</td>\n",
       "        <td style=\"padding-left: 1em; padding-right: 1em; text-align: center; vertical-align: top\">0.0</td>\n",
       "        <td style=\"padding-left: 1em; padding-right: 1em; text-align: center; vertical-align: top\">46</td>\n",
       "    </tr>\n",
       "    <tr>\n",
       "        <td style=\"padding-left: 1em; padding-right: 1em; text-align: center; vertical-align: top\">10389.0</td>\n",
       "        <td style=\"padding-left: 1em; padding-right: 1em; text-align: center; vertical-align: top\">3</td>\n",
       "        <td style=\"padding-left: 1em; padding-right: 1em; text-align: center; vertical-align: top\">0.0</td>\n",
       "        <td style=\"padding-left: 1em; padding-right: 1em; text-align: center; vertical-align: top\">0.0</td>\n",
       "        <td style=\"padding-left: 1em; padding-right: 1em; text-align: center; vertical-align: top\">46</td>\n",
       "    </tr>\n",
       "    <tr>\n",
       "        <td style=\"padding-left: 1em; padding-right: 1em; text-align: center; vertical-align: top\">10389.0</td>\n",
       "        <td style=\"padding-left: 1em; padding-right: 1em; text-align: center; vertical-align: top\">4</td>\n",
       "        <td style=\"padding-left: 1em; padding-right: 1em; text-align: center; vertical-align: top\">0.0</td>\n",
       "        <td style=\"padding-left: 1em; padding-right: 1em; text-align: center; vertical-align: top\">0.0</td>\n",
       "        <td style=\"padding-left: 1em; padding-right: 1em; text-align: center; vertical-align: top\">46</td>\n",
       "    </tr>\n",
       "    <tr>\n",
       "        <td style=\"padding-left: 1em; padding-right: 1em; text-align: center; vertical-align: top\">10389.0</td>\n",
       "        <td style=\"padding-left: 1em; padding-right: 1em; text-align: center; vertical-align: top\">5</td>\n",
       "        <td style=\"padding-left: 1em; padding-right: 1em; text-align: center; vertical-align: top\">0.0</td>\n",
       "        <td style=\"padding-left: 1em; padding-right: 1em; text-align: center; vertical-align: top\">0.0</td>\n",
       "        <td style=\"padding-left: 1em; padding-right: 1em; text-align: center; vertical-align: top\">46</td>\n",
       "    </tr>\n",
       "    <tr>\n",
       "        <td style=\"padding-left: 1em; padding-right: 1em; text-align: center; vertical-align: top\">10389.0</td>\n",
       "        <td style=\"padding-left: 1em; padding-right: 1em; text-align: center; vertical-align: top\">6</td>\n",
       "        <td style=\"padding-left: 1em; padding-right: 1em; text-align: center; vertical-align: top\">0.0</td>\n",
       "        <td style=\"padding-left: 1em; padding-right: 1em; text-align: center; vertical-align: top\">0.0</td>\n",
       "        <td style=\"padding-left: 1em; padding-right: 1em; text-align: center; vertical-align: top\">46</td>\n",
       "    </tr>\n",
       "    <tr>\n",
       "        <td style=\"padding-left: 1em; padding-right: 1em; text-align: center; vertical-align: top\">10389.0</td>\n",
       "        <td style=\"padding-left: 1em; padding-right: 1em; text-align: center; vertical-align: top\">7</td>\n",
       "        <td style=\"padding-left: 1em; padding-right: 1em; text-align: center; vertical-align: top\">0.0</td>\n",
       "        <td style=\"padding-left: 1em; padding-right: 1em; text-align: center; vertical-align: top\">0.0</td>\n",
       "        <td style=\"padding-left: 1em; padding-right: 1em; text-align: center; vertical-align: top\">46</td>\n",
       "    </tr>\n",
       "    <tr>\n",
       "        <td style=\"padding-left: 1em; padding-right: 1em; text-align: center; vertical-align: top\">10389.0</td>\n",
       "        <td style=\"padding-left: 1em; padding-right: 1em; text-align: center; vertical-align: top\">8</td>\n",
       "        <td style=\"padding-left: 1em; padding-right: 1em; text-align: center; vertical-align: top\">0.0</td>\n",
       "        <td style=\"padding-left: 1em; padding-right: 1em; text-align: center; vertical-align: top\">0.0</td>\n",
       "        <td style=\"padding-left: 1em; padding-right: 1em; text-align: center; vertical-align: top\">46</td>\n",
       "    </tr>\n",
       "    <tr>\n",
       "        <td style=\"padding-left: 1em; padding-right: 1em; text-align: center; vertical-align: top\">10389.0</td>\n",
       "        <td style=\"padding-left: 1em; padding-right: 1em; text-align: center; vertical-align: top\">9</td>\n",
       "        <td style=\"padding-left: 1em; padding-right: 1em; text-align: center; vertical-align: top\">0.0</td>\n",
       "        <td style=\"padding-left: 1em; padding-right: 1em; text-align: center; vertical-align: top\">0.0</td>\n",
       "        <td style=\"padding-left: 1em; padding-right: 1em; text-align: center; vertical-align: top\">46</td>\n",
       "    </tr>\n",
       "    <tr>\n",
       "        <td style=\"padding-left: 1em; padding-right: 1em; text-align: center; vertical-align: top\">10389.0</td>\n",
       "        <td style=\"padding-left: 1em; padding-right: 1em; text-align: center; vertical-align: top\">10</td>\n",
       "        <td style=\"padding-left: 1em; padding-right: 1em; text-align: center; vertical-align: top\">0.0</td>\n",
       "        <td style=\"padding-left: 1em; padding-right: 1em; text-align: center; vertical-align: top\">0.0</td>\n",
       "        <td style=\"padding-left: 1em; padding-right: 1em; text-align: center; vertical-align: top\">46</td>\n",
       "    </tr>\n",
       "</table>\n",
       "[684 rows x 5 columns]<br/>Note: Only the head of the SFrame is printed.<br/>You can use print_rows(num_rows=m, num_columns=n) to print more rows and columns.\n",
       "</div>"
      ],
      "text/plain": [
       "Columns:\n",
       "\tregionidcity\tstr\n",
       "\tcutoff\tint\n",
       "\tprecision\tfloat\n",
       "\trecall\tfloat\n",
       "\tcount\tint\n",
       "\n",
       "Rows: 684\n",
       "\n",
       "Data:\n",
       "+--------------+--------+-----------+--------+-------+\n",
       "| regionidcity | cutoff | precision | recall | count |\n",
       "+--------------+--------+-----------+--------+-------+\n",
       "|   10389.0    |   1    |    0.0    |  0.0   |   46  |\n",
       "|   10389.0    |   2    |    0.0    |  0.0   |   46  |\n",
       "|   10389.0    |   3    |    0.0    |  0.0   |   46  |\n",
       "|   10389.0    |   4    |    0.0    |  0.0   |   46  |\n",
       "|   10389.0    |   5    |    0.0    |  0.0   |   46  |\n",
       "|   10389.0    |   6    |    0.0    |  0.0   |   46  |\n",
       "|   10389.0    |   7    |    0.0    |  0.0   |   46  |\n",
       "|   10389.0    |   8    |    0.0    |  0.0   |   46  |\n",
       "|   10389.0    |   9    |    0.0    |  0.0   |   46  |\n",
       "|   10389.0    |   10   |    0.0    |  0.0   |   46  |\n",
       "+--------------+--------+-----------+--------+-------+\n",
       "[684 rows x 5 columns]\n",
       "Note: Only the head of the SFrame is printed.\n",
       "You can use print_rows(num_rows=m, num_columns=n) to print more rows and columns."
      ]
     },
     "execution_count": 77,
     "metadata": {},
     "output_type": "execute_result"
    }
   ],
   "source": [
    "rmse_results['precision_recall_by_user']"
   ]
  },
  {
   "cell_type": "code",
   "execution_count": 78,
   "metadata": {
    "collapsed": false
   },
   "outputs": [
    {
     "data": {
      "text/html": [
       "<div style=\"max-height:1000px;max-width:1500px;overflow:auto;\"><table frame=\"box\" rules=\"cols\">\n",
       "    <tr>\n",
       "        <th style=\"padding-left: 1em; padding-right: 1em; text-align: center\">cutoff</th>\n",
       "        <th style=\"padding-left: 1em; padding-right: 1em; text-align: center\">Avg of precision</th>\n",
       "        <th style=\"padding-left: 1em; padding-right: 1em; text-align: center\">Stdv of precision</th>\n",
       "        <th style=\"padding-left: 1em; padding-right: 1em; text-align: center\">Avg of recall</th>\n",
       "        <th style=\"padding-left: 1em; padding-right: 1em; text-align: center\">Stdv of recall</th>\n",
       "    </tr>\n",
       "    <tr>\n",
       "        <td style=\"padding-left: 1em; padding-right: 1em; text-align: center; vertical-align: top\">16</td>\n",
       "        <td style=\"padding-left: 1em; padding-right: 1em; text-align: center; vertical-align: top\">0.0102339181287</td>\n",
       "        <td style=\"padding-left: 1em; padding-right: 1em; text-align: center; vertical-align: top\">0.0357216132248</td>\n",
       "        <td style=\"padding-left: 1em; padding-right: 1em; text-align: center; vertical-align: top\">0.00258841033726</td>\n",
       "        <td style=\"padding-left: 1em; padding-right: 1em; text-align: center; vertical-align: top\">0.0133951882452</td>\n",
       "    </tr>\n",
       "    <tr>\n",
       "        <td style=\"padding-left: 1em; padding-right: 1em; text-align: center; vertical-align: top\">10</td>\n",
       "        <td style=\"padding-left: 1em; padding-right: 1em; text-align: center; vertical-align: top\">0.0102339181287</td>\n",
       "        <td style=\"padding-left: 1em; padding-right: 1em; text-align: center; vertical-align: top\">0.0357216132248</td>\n",
       "        <td style=\"padding-left: 1em; padding-right: 1em; text-align: center; vertical-align: top\">0.00258841033726</td>\n",
       "        <td style=\"padding-left: 1em; padding-right: 1em; text-align: center; vertical-align: top\">0.0133951882452</td>\n",
       "    </tr>\n",
       "    <tr>\n",
       "        <td style=\"padding-left: 1em; padding-right: 1em; text-align: center; vertical-align: top\">36</td>\n",
       "        <td style=\"padding-left: 1em; padding-right: 1em; text-align: center; vertical-align: top\">0.0102339181287</td>\n",
       "        <td style=\"padding-left: 1em; padding-right: 1em; text-align: center; vertical-align: top\">0.0357216132248</td>\n",
       "        <td style=\"padding-left: 1em; padding-right: 1em; text-align: center; vertical-align: top\">0.00258841033726</td>\n",
       "        <td style=\"padding-left: 1em; padding-right: 1em; text-align: center; vertical-align: top\">0.0133951882452</td>\n",
       "    </tr>\n",
       "    <tr>\n",
       "        <td style=\"padding-left: 1em; padding-right: 1em; text-align: center; vertical-align: top\">26</td>\n",
       "        <td style=\"padding-left: 1em; padding-right: 1em; text-align: center; vertical-align: top\">0.0102339181287</td>\n",
       "        <td style=\"padding-left: 1em; padding-right: 1em; text-align: center; vertical-align: top\">0.0357216132248</td>\n",
       "        <td style=\"padding-left: 1em; padding-right: 1em; text-align: center; vertical-align: top\">0.00258841033726</td>\n",
       "        <td style=\"padding-left: 1em; padding-right: 1em; text-align: center; vertical-align: top\">0.0133951882452</td>\n",
       "    </tr>\n",
       "    <tr>\n",
       "        <td style=\"padding-left: 1em; padding-right: 1em; text-align: center; vertical-align: top\">41</td>\n",
       "        <td style=\"padding-left: 1em; padding-right: 1em; text-align: center; vertical-align: top\">0.0102339181287</td>\n",
       "        <td style=\"padding-left: 1em; padding-right: 1em; text-align: center; vertical-align: top\">0.0357216132248</td>\n",
       "        <td style=\"padding-left: 1em; padding-right: 1em; text-align: center; vertical-align: top\">0.00258841033726</td>\n",
       "        <td style=\"padding-left: 1em; padding-right: 1em; text-align: center; vertical-align: top\">0.0133951882452</td>\n",
       "    </tr>\n",
       "    <tr>\n",
       "        <td style=\"padding-left: 1em; padding-right: 1em; text-align: center; vertical-align: top\">3</td>\n",
       "        <td style=\"padding-left: 1em; padding-right: 1em; text-align: center; vertical-align: top\">0.0175438596491</td>\n",
       "        <td style=\"padding-left: 1em; padding-right: 1em; text-align: center; vertical-align: top\">0.0744322927565</td>\n",
       "        <td style=\"padding-left: 1em; padding-right: 1em; text-align: center; vertical-align: top\">0.00246427925484</td>\n",
       "        <td style=\"padding-left: 1em; padding-right: 1em; text-align: center; vertical-align: top\">0.0133967436334</td>\n",
       "    </tr>\n",
       "    <tr>\n",
       "        <td style=\"padding-left: 1em; padding-right: 1em; text-align: center; vertical-align: top\">1</td>\n",
       "        <td style=\"padding-left: 1em; padding-right: 1em; text-align: center; vertical-align: top\">0.0263157894737</td>\n",
       "        <td style=\"padding-left: 1em; padding-right: 1em; text-align: center; vertical-align: top\">0.160072698166</td>\n",
       "        <td style=\"padding-left: 1em; padding-right: 1em; text-align: center; vertical-align: top\">0.000271296798698</td>\n",
       "        <td style=\"padding-left: 1em; padding-right: 1em; text-align: center; vertical-align: top\">0.00165023400171</td>\n",
       "    </tr>\n",
       "    <tr>\n",
       "        <td style=\"padding-left: 1em; padding-right: 1em; text-align: center; vertical-align: top\">6</td>\n",
       "        <td style=\"padding-left: 1em; padding-right: 1em; text-align: center; vertical-align: top\">0.0131578947368</td>\n",
       "        <td style=\"padding-left: 1em; padding-right: 1em; text-align: center; vertical-align: top\">0.0449427665174</td>\n",
       "        <td style=\"padding-left: 1em; padding-right: 1em; text-align: center; vertical-align: top\">0.00258841033726</td>\n",
       "        <td style=\"padding-left: 1em; padding-right: 1em; text-align: center; vertical-align: top\">0.0133951882452</td>\n",
       "    </tr>\n",
       "    <tr>\n",
       "        <td style=\"padding-left: 1em; padding-right: 1em; text-align: center; vertical-align: top\">11</td>\n",
       "        <td style=\"padding-left: 1em; padding-right: 1em; text-align: center; vertical-align: top\">0.0102339181287</td>\n",
       "        <td style=\"padding-left: 1em; padding-right: 1em; text-align: center; vertical-align: top\">0.0357216132248</td>\n",
       "        <td style=\"padding-left: 1em; padding-right: 1em; text-align: center; vertical-align: top\">0.00258841033726</td>\n",
       "        <td style=\"padding-left: 1em; padding-right: 1em; text-align: center; vertical-align: top\">0.0133951882452</td>\n",
       "    </tr>\n",
       "    <tr>\n",
       "        <td style=\"padding-left: 1em; padding-right: 1em; text-align: center; vertical-align: top\">2</td>\n",
       "        <td style=\"padding-left: 1em; padding-right: 1em; text-align: center; vertical-align: top\">0.0263157894737</td>\n",
       "        <td style=\"padding-left: 1em; padding-right: 1em; text-align: center; vertical-align: top\">0.111648439135</td>\n",
       "        <td style=\"padding-left: 1em; padding-right: 1em; text-align: center; vertical-align: top\">0.00246427925484</td>\n",
       "        <td style=\"padding-left: 1em; padding-right: 1em; text-align: center; vertical-align: top\">0.0133967436334</td>\n",
       "    </tr>\n",
       "</table>\n",
       "[18 rows x 5 columns]<br/>Note: Only the head of the SFrame is printed.<br/>You can use print_rows(num_rows=m, num_columns=n) to print more rows and columns.\n",
       "</div>"
      ],
      "text/plain": [
       "Columns:\n",
       "\tcutoff\tint\n",
       "\tAvg of precision\tfloat\n",
       "\tStdv of precision\tfloat\n",
       "\tAvg of recall\tfloat\n",
       "\tStdv of recall\tfloat\n",
       "\n",
       "Rows: 18\n",
       "\n",
       "Data:\n",
       "+--------+------------------+-------------------+-------------------+\n",
       "| cutoff | Avg of precision | Stdv of precision |   Avg of recall   |\n",
       "+--------+------------------+-------------------+-------------------+\n",
       "|   16   | 0.0102339181287  |  0.0357216132248  |  0.00258841033726 |\n",
       "|   10   | 0.0102339181287  |  0.0357216132248  |  0.00258841033726 |\n",
       "|   36   | 0.0102339181287  |  0.0357216132248  |  0.00258841033726 |\n",
       "|   26   | 0.0102339181287  |  0.0357216132248  |  0.00258841033726 |\n",
       "|   41   | 0.0102339181287  |  0.0357216132248  |  0.00258841033726 |\n",
       "|   3    | 0.0175438596491  |  0.0744322927565  |  0.00246427925484 |\n",
       "|   1    | 0.0263157894737  |   0.160072698166  | 0.000271296798698 |\n",
       "|   6    | 0.0131578947368  |  0.0449427665174  |  0.00258841033726 |\n",
       "|   11   | 0.0102339181287  |  0.0357216132248  |  0.00258841033726 |\n",
       "|   2    | 0.0263157894737  |   0.111648439135  |  0.00246427925484 |\n",
       "+--------+------------------+-------------------+-------------------+\n",
       "+------------------+\n",
       "|  Stdv of recall  |\n",
       "+------------------+\n",
       "| 0.0133951882452  |\n",
       "| 0.0133951882452  |\n",
       "| 0.0133951882452  |\n",
       "| 0.0133951882452  |\n",
       "| 0.0133951882452  |\n",
       "| 0.0133967436334  |\n",
       "| 0.00165023400171 |\n",
       "| 0.0133951882452  |\n",
       "| 0.0133951882452  |\n",
       "| 0.0133967436334  |\n",
       "+------------------+\n",
       "[18 rows x 5 columns]\n",
       "Note: Only the head of the SFrame is printed.\n",
       "You can use print_rows(num_rows=m, num_columns=n) to print more rows and columns."
      ]
     },
     "execution_count": 78,
     "metadata": {},
     "output_type": "execute_result"
    }
   ],
   "source": [
    "import graphlab.aggregate as agg\n",
    "\n",
    "# we will be using these aggregations\n",
    "agg_list = [agg.AVG('precision'),agg.STD('precision'),agg.AVG('recall'),agg.STD('recall')]\n",
    "\n",
    "# apply these functions to each group (we will group the results by 'k' which is the cutoff)\n",
    "# the cutoff is the number of top items to look for see the following URL for the actual equation\n",
    "# https://dato.com/products/create/docs/generated/graphlab.recommender.util.precision_recall_by_user.html#graphlab.recommender.util.precision_recall_by_user\n",
    "rmse_results['precision_recall_by_user'].groupby('cutoff',agg_list)"
   ]
  },
  {
   "cell_type": "code",
   "execution_count": 79,
   "metadata": {
    "collapsed": false
   },
   "outputs": [
    {
     "data": {
      "text/html": [
       "<pre>Recsys training: model = ranking_factorization_recommender</pre>"
      ],
      "text/plain": [
       "Recsys training: model = ranking_factorization_recommender"
      ]
     },
     "metadata": {},
     "output_type": "display_data"
    },
    {
     "data": {
      "text/html": [
       "<pre>Preparing data set.</pre>"
      ],
      "text/plain": [
       "Preparing data set."
      ]
     },
     "metadata": {},
     "output_type": "display_data"
    },
    {
     "data": {
      "text/html": [
       "<pre>    Data has 87949 observations with 177 users and 14 items.</pre>"
      ],
      "text/plain": [
       "    Data has 87949 observations with 177 users and 14 items."
      ]
     },
     "metadata": {},
     "output_type": "display_data"
    },
    {
     "data": {
      "text/html": [
       "<pre>    Data prepared in: 0.095022s</pre>"
      ],
      "text/plain": [
       "    Data prepared in: 0.095022s"
      ]
     },
     "metadata": {},
     "output_type": "display_data"
    },
    {
     "data": {
      "text/html": [
       "<pre>Training ranking_factorization_recommender for recommendations.</pre>"
      ],
      "text/plain": [
       "Training ranking_factorization_recommender for recommendations."
      ]
     },
     "metadata": {},
     "output_type": "display_data"
    },
    {
     "data": {
      "text/html": [
       "<pre>+--------------------------------+--------------------------------------------------+----------+</pre>"
      ],
      "text/plain": [
       "+--------------------------------+--------------------------------------------------+----------+"
      ]
     },
     "metadata": {},
     "output_type": "display_data"
    },
    {
     "data": {
      "text/html": [
       "<pre>| Parameter                      | Description                                      | Value    |</pre>"
      ],
      "text/plain": [
       "| Parameter                      | Description                                      | Value    |"
      ]
     },
     "metadata": {},
     "output_type": "display_data"
    },
    {
     "data": {
      "text/html": [
       "<pre>+--------------------------------+--------------------------------------------------+----------+</pre>"
      ],
      "text/plain": [
       "+--------------------------------+--------------------------------------------------+----------+"
      ]
     },
     "metadata": {},
     "output_type": "display_data"
    },
    {
     "data": {
      "text/html": [
       "<pre>| num_factors                    | Factor Dimension                                 | 32       |</pre>"
      ],
      "text/plain": [
       "| num_factors                    | Factor Dimension                                 | 32       |"
      ]
     },
     "metadata": {},
     "output_type": "display_data"
    },
    {
     "data": {
      "text/html": [
       "<pre>| regularization                 | L2 Regularization on Factors                     | 1e-09    |</pre>"
      ],
      "text/plain": [
       "| regularization                 | L2 Regularization on Factors                     | 1e-09    |"
      ]
     },
     "metadata": {},
     "output_type": "display_data"
    },
    {
     "data": {
      "text/html": [
       "<pre>| solver                         | Solver used for training                         | sgd      |</pre>"
      ],
      "text/plain": [
       "| solver                         | Solver used for training                         | sgd      |"
      ]
     },
     "metadata": {},
     "output_type": "display_data"
    },
    {
     "data": {
      "text/html": [
       "<pre>| linear_regularization          | L2 Regularization on Linear Coefficients         | 1e-09    |</pre>"
      ],
      "text/plain": [
       "| linear_regularization          | L2 Regularization on Linear Coefficients         | 1e-09    |"
      ]
     },
     "metadata": {},
     "output_type": "display_data"
    },
    {
     "data": {
      "text/html": [
       "<pre>| ranking_regularization         | Rank-based Regularization Weight                 | 0.25     |</pre>"
      ],
      "text/plain": [
       "| ranking_regularization         | Rank-based Regularization Weight                 | 0.25     |"
      ]
     },
     "metadata": {},
     "output_type": "display_data"
    },
    {
     "data": {
      "text/html": [
       "<pre>| max_iterations                 | Maximum Number of Iterations                     | 25       |</pre>"
      ],
      "text/plain": [
       "| max_iterations                 | Maximum Number of Iterations                     | 25       |"
      ]
     },
     "metadata": {},
     "output_type": "display_data"
    },
    {
     "data": {
      "text/html": [
       "<pre>+--------------------------------+--------------------------------------------------+----------+</pre>"
      ],
      "text/plain": [
       "+--------------------------------+--------------------------------------------------+----------+"
      ]
     },
     "metadata": {},
     "output_type": "display_data"
    },
    {
     "data": {
      "text/html": [
       "<pre>  Optimizing model using SGD; tuning step size.</pre>"
      ],
      "text/plain": [
       "  Optimizing model using SGD; tuning step size."
      ]
     },
     "metadata": {},
     "output_type": "display_data"
    },
    {
     "data": {
      "text/html": [
       "<pre>  Using 10993 / 87949 points for tuning the step size.</pre>"
      ],
      "text/plain": [
       "  Using 10993 / 87949 points for tuning the step size."
      ]
     },
     "metadata": {},
     "output_type": "display_data"
    },
    {
     "data": {
      "text/html": [
       "<pre>+---------+-------------------+------------------------------------------+</pre>"
      ],
      "text/plain": [
       "+---------+-------------------+------------------------------------------+"
      ]
     },
     "metadata": {},
     "output_type": "display_data"
    },
    {
     "data": {
      "text/html": [
       "<pre>| Attempt | Initial Step Size | Estimated Objective Value                |</pre>"
      ],
      "text/plain": [
       "| Attempt | Initial Step Size | Estimated Objective Value                |"
      ]
     },
     "metadata": {},
     "output_type": "display_data"
    },
    {
     "data": {
      "text/html": [
       "<pre>+---------+-------------------+------------------------------------------+</pre>"
      ],
      "text/plain": [
       "+---------+-------------------+------------------------------------------+"
      ]
     },
     "metadata": {},
     "output_type": "display_data"
    },
    {
     "data": {
      "text/html": [
       "<pre>| 0       | 25                | Not Viable                               |</pre>"
      ],
      "text/plain": [
       "| 0       | 25                | Not Viable                               |"
      ]
     },
     "metadata": {},
     "output_type": "display_data"
    },
    {
     "data": {
      "text/html": [
       "<pre>| 1       | 6.25              | Not Viable                               |</pre>"
      ],
      "text/plain": [
       "| 1       | 6.25              | Not Viable                               |"
      ]
     },
     "metadata": {},
     "output_type": "display_data"
    },
    {
     "data": {
      "text/html": [
       "<pre>| 2       | 1.5625            | Not Viable                               |</pre>"
      ],
      "text/plain": [
       "| 2       | 1.5625            | Not Viable                               |"
      ]
     },
     "metadata": {},
     "output_type": "display_data"
    },
    {
     "data": {
      "text/html": [
       "<pre>| 3       | 0.390625          | Not Viable                               |</pre>"
      ],
      "text/plain": [
       "| 3       | 0.390625          | Not Viable                               |"
      ]
     },
     "metadata": {},
     "output_type": "display_data"
    },
    {
     "data": {
      "text/html": [
       "<pre>| 4       | 0.0976562         | 2.10993                                  |</pre>"
      ],
      "text/plain": [
       "| 4       | 0.0976562         | 2.10993                                  |"
      ]
     },
     "metadata": {},
     "output_type": "display_data"
    },
    {
     "data": {
      "text/html": [
       "<pre>| 5       | 0.0488281         | 1.55812                                  |</pre>"
      ],
      "text/plain": [
       "| 5       | 0.0488281         | 1.55812                                  |"
      ]
     },
     "metadata": {},
     "output_type": "display_data"
    },
    {
     "data": {
      "text/html": [
       "<pre>| 6       | 0.0244141         | 1.61818                                  |</pre>"
      ],
      "text/plain": [
       "| 6       | 0.0244141         | 1.61818                                  |"
      ]
     },
     "metadata": {},
     "output_type": "display_data"
    },
    {
     "data": {
      "text/html": [
       "<pre>| 7       | 0.012207          | 2.2519                                   |</pre>"
      ],
      "text/plain": [
       "| 7       | 0.012207          | 2.2519                                   |"
      ]
     },
     "metadata": {},
     "output_type": "display_data"
    },
    {
     "data": {
      "text/html": [
       "<pre>| 8       | 0.00610352        | 2.22114                                  |</pre>"
      ],
      "text/plain": [
       "| 8       | 0.00610352        | 2.22114                                  |"
      ]
     },
     "metadata": {},
     "output_type": "display_data"
    },
    {
     "data": {
      "text/html": [
       "<pre>+---------+-------------------+------------------------------------------+</pre>"
      ],
      "text/plain": [
       "+---------+-------------------+------------------------------------------+"
      ]
     },
     "metadata": {},
     "output_type": "display_data"
    },
    {
     "data": {
      "text/html": [
       "<pre>| Final   | 0.0488281         | 1.55812                                  |</pre>"
      ],
      "text/plain": [
       "| Final   | 0.0488281         | 1.55812                                  |"
      ]
     },
     "metadata": {},
     "output_type": "display_data"
    },
    {
     "data": {
      "text/html": [
       "<pre>+---------+-------------------+------------------------------------------+</pre>"
      ],
      "text/plain": [
       "+---------+-------------------+------------------------------------------+"
      ]
     },
     "metadata": {},
     "output_type": "display_data"
    },
    {
     "data": {
      "text/html": [
       "<pre>Starting Optimization.</pre>"
      ],
      "text/plain": [
       "Starting Optimization."
      ]
     },
     "metadata": {},
     "output_type": "display_data"
    },
    {
     "data": {
      "text/html": [
       "<pre>+---------+--------------+-------------------+-----------------------+-------------+</pre>"
      ],
      "text/plain": [
       "+---------+--------------+-------------------+-----------------------+-------------+"
      ]
     },
     "metadata": {},
     "output_type": "display_data"
    },
    {
     "data": {
      "text/html": [
       "<pre>| Iter.   | Elapsed Time | Approx. Objective | Approx. Training RMSE | Step Size   |</pre>"
      ],
      "text/plain": [
       "| Iter.   | Elapsed Time | Approx. Objective | Approx. Training RMSE | Step Size   |"
      ]
     },
     "metadata": {},
     "output_type": "display_data"
    },
    {
     "data": {
      "text/html": [
       "<pre>+---------+--------------+-------------------+-----------------------+-------------+</pre>"
      ],
      "text/plain": [
       "+---------+--------------+-------------------+-----------------------+-------------+"
      ]
     },
     "metadata": {},
     "output_type": "display_data"
    },
    {
     "data": {
      "text/html": [
       "<pre>| Initial | 103us        | 2.61375           | 1.15466               |             |</pre>"
      ],
      "text/plain": [
       "| Initial | 103us        | 2.61375           | 1.15466               |             |"
      ]
     },
     "metadata": {},
     "output_type": "display_data"
    },
    {
     "data": {
      "text/html": [
       "<pre>+---------+--------------+-------------------+-----------------------+-------------+</pre>"
      ],
      "text/plain": [
       "+---------+--------------+-------------------+-----------------------+-------------+"
      ]
     },
     "metadata": {},
     "output_type": "display_data"
    },
    {
     "data": {
      "text/html": [
       "<pre>| 1       | 76.158ms     | 1.02733           | 1.00739               | 0.0488281   |</pre>"
      ],
      "text/plain": [
       "| 1       | 76.158ms     | 1.02733           | 1.00739               | 0.0488281   |"
      ]
     },
     "metadata": {},
     "output_type": "display_data"
    },
    {
     "data": {
      "text/html": [
       "<pre>| 2       | 170.09ms     | 0.971808          | 0.98149               | 0.0290334   |</pre>"
      ],
      "text/plain": [
       "| 2       | 170.09ms     | 0.971808          | 0.98149               | 0.0290334   |"
      ]
     },
     "metadata": {},
     "output_type": "display_data"
    },
    {
     "data": {
      "text/html": [
       "<pre>| 3       | 284.665ms    | 0.938165          | 0.96463               | 0.0214205   |</pre>"
      ],
      "text/plain": [
       "| 3       | 284.665ms    | 0.938165          | 0.96463               | 0.0214205   |"
      ]
     },
     "metadata": {},
     "output_type": "display_data"
    },
    {
     "data": {
      "text/html": [
       "<pre>| 4       | 358.569ms    | 0.9321            | 0.961311              | 0.0172633   |</pre>"
      ],
      "text/plain": [
       "| 4       | 358.569ms    | 0.9321            | 0.961311              | 0.0172633   |"
      ]
     },
     "metadata": {},
     "output_type": "display_data"
    },
    {
     "data": {
      "text/html": [
       "<pre>| 5       | 464.289ms    | 0.914183          | 0.952746              | 0.014603    |</pre>"
      ],
      "text/plain": [
       "| 5       | 464.289ms    | 0.914183          | 0.952746              | 0.014603    |"
      ]
     },
     "metadata": {},
     "output_type": "display_data"
    },
    {
     "data": {
      "text/html": [
       "<pre>| 6       | 548.255ms    | 0.908625          | 0.949648              | 0.0127367   |</pre>"
      ],
      "text/plain": [
       "| 6       | 548.255ms    | 0.908625          | 0.949648              | 0.0127367   |"
      ]
     },
     "metadata": {},
     "output_type": "display_data"
    },
    {
     "data": {
      "text/html": [
       "<pre>| 11      | 962.795ms    | 0.889543          | 0.940265              | 0.00808399  |</pre>"
      ],
      "text/plain": [
       "| 11      | 962.795ms    | 0.889543          | 0.940265              | 0.00808399  |"
      ]
     },
     "metadata": {},
     "output_type": "display_data"
    },
    {
     "data": {
      "text/html": [
       "<pre>| 25      | 2.06s        | 0.87332           | 0.932564              | 0.00436732  |</pre>"
      ],
      "text/plain": [
       "| 25      | 2.06s        | 0.87332           | 0.932564              | 0.00436732  |"
      ]
     },
     "metadata": {},
     "output_type": "display_data"
    },
    {
     "data": {
      "text/html": [
       "<pre>+---------+--------------+-------------------+-----------------------+-------------+</pre>"
      ],
      "text/plain": [
       "+---------+--------------+-------------------+-----------------------+-------------+"
      ]
     },
     "metadata": {},
     "output_type": "display_data"
    },
    {
     "data": {
      "text/html": [
       "<pre>Optimization Complete: Maximum number of passes through the data reached.</pre>"
      ],
      "text/plain": [
       "Optimization Complete: Maximum number of passes through the data reached."
      ]
     },
     "metadata": {},
     "output_type": "display_data"
    },
    {
     "data": {
      "text/html": [
       "<pre>Computing final objective value and training RMSE.</pre>"
      ],
      "text/plain": [
       "Computing final objective value and training RMSE."
      ]
     },
     "metadata": {},
     "output_type": "display_data"
    },
    {
     "data": {
      "text/html": [
       "<pre>       Final objective value: 1.18973</pre>"
      ],
      "text/plain": [
       "       Final objective value: 1.18973"
      ]
     },
     "metadata": {},
     "output_type": "display_data"
    },
    {
     "data": {
      "text/html": [
       "<pre>       Final training RMSE: 0.940195</pre>"
      ],
      "text/plain": [
       "       Final training RMSE: 0.940195"
      ]
     },
     "metadata": {},
     "output_type": "display_data"
    },
    {
     "name": "stdout",
     "output_type": "stream",
     "text": [
      "\n",
      "Precision and recall summary statistics by cutoff\n",
      "+--------+-----------------+------------------+\n",
      "| cutoff |  mean_precision |   mean_recall    |\n",
      "+--------+-----------------+------------------+\n",
      "|   1    | 0.0526315789474 | 0.00246427925484 |\n",
      "|   2    | 0.0263157894737 | 0.00246427925484 |\n",
      "|   3    | 0.0175438596491 | 0.00246427925484 |\n",
      "|   4    | 0.0131578947368 | 0.00246427925484 |\n",
      "|   5    | 0.0157894736842 | 0.00258841033726 |\n",
      "|   6    | 0.0131578947368 | 0.00258841033726 |\n",
      "|   7    | 0.0119047619048 | 0.00258841033726 |\n",
      "|   8    | 0.0109649122807 | 0.00258841033726 |\n",
      "|   9    | 0.0102339181287 | 0.00258841033726 |\n",
      "|   10   | 0.0102339181287 | 0.00258841033726 |\n",
      "+--------+-----------------+------------------+\n",
      "[10 rows x 3 columns]\n",
      "\n",
      "('\\nOverall RMSE: ', 0.9277340739756781)\n",
      "\n",
      "Per User RMSE (best)\n",
      "+--------------+-------+----------------+\n",
      "| regionidcity | count |      rmse      |\n",
      "+--------------+-------+----------------+\n",
      "|   32927.0    |   2   | 0.499891249012 |\n",
      "+--------------+-------+----------------+\n",
      "[1 rows x 3 columns]\n",
      "\n",
      "\n",
      "Per User RMSE (worst)\n",
      "+--------------+-------+---------------+\n",
      "| regionidcity | count |      rmse     |\n",
      "+--------------+-------+---------------+\n",
      "|   16961.0    |   9   | 1.88347092469 |\n",
      "+--------------+-------+---------------+\n",
      "[1 rows x 3 columns]\n",
      "\n",
      "\n",
      "Per Item RMSE (best)\n",
      "+-----------------------+-------+-----------------+\n",
      "| propertylandusetypeid | count |       rmse      |\n",
      "+-----------------------+-------+-----------------+\n",
      "|         263.0         |   1   | 0.0676761028464 |\n",
      "+-----------------------+-------+-----------------+\n",
      "[1 rows x 3 columns]\n",
      "\n",
      "\n",
      "Per Item RMSE (worst)\n",
      "+-----------------------+-------+---------------+\n",
      "| propertylandusetypeid | count |      rmse     |\n",
      "+-----------------------+-------+---------------+\n",
      "|         260.0         |   1   | 4.07894210342 |\n",
      "+-----------------------+-------+---------------+\n",
      "[1 rows x 3 columns]\n",
      "\n"
     ]
    }
   ],
   "source": [
    "rec1 = gl.recommender.ranking_factorization_recommender.create(train, \n",
    "                                  user_id=\"regionidcity\", \n",
    "                                  item_id=\"propertylandusetypeid\", \n",
    "                                  target=\"bedroomcnt\")\n",
    "\n",
    "rmse_results = rec1.evaluate(test)"
   ]
  },
  {
   "cell_type": "code",
   "execution_count": 28,
   "metadata": {
    "collapsed": false
   },
   "outputs": [
    {
     "data": {
      "text/html": [
       "<div style=\"max-height:1000px;max-width:1500px;overflow:auto;\"><table frame=\"box\" rules=\"cols\">\n",
       "    <tr>\n",
       "        <th style=\"padding-left: 1em; padding-right: 1em; text-align: center\">cutoff</th>\n",
       "        <th style=\"padding-left: 1em; padding-right: 1em; text-align: center\">Avg of precision</th>\n",
       "        <th style=\"padding-left: 1em; padding-right: 1em; text-align: center\">Stdv of precision</th>\n",
       "        <th style=\"padding-left: 1em; padding-right: 1em; text-align: center\">Avg of recall</th>\n",
       "        <th style=\"padding-left: 1em; padding-right: 1em; text-align: center\">Stdv of recall</th>\n",
       "    </tr>\n",
       "    <tr>\n",
       "        <td style=\"padding-left: 1em; padding-right: 1em; text-align: center; vertical-align: top\">16</td>\n",
       "        <td style=\"padding-left: 1em; padding-right: 1em; text-align: center; vertical-align: top\">0.011568986569</td>\n",
       "        <td style=\"padding-left: 1em; padding-right: 1em; text-align: center; vertical-align: top\">0.0349936958244</td>\n",
       "        <td style=\"padding-left: 1em; padding-right: 1em; text-align: center; vertical-align: top\">0.00214602935191</td>\n",
       "        <td style=\"padding-left: 1em; padding-right: 1em; text-align: center; vertical-align: top\">0.00695879467954</td>\n",
       "    </tr>\n",
       "    <tr>\n",
       "        <td style=\"padding-left: 1em; padding-right: 1em; text-align: center; vertical-align: top\">10</td>\n",
       "        <td style=\"padding-left: 1em; padding-right: 1em; text-align: center; vertical-align: top\">0.0119963369963</td>\n",
       "        <td style=\"padding-left: 1em; padding-right: 1em; text-align: center; vertical-align: top\">0.0359560241782</td>\n",
       "        <td style=\"padding-left: 1em; padding-right: 1em; text-align: center; vertical-align: top\">0.00214602935191</td>\n",
       "        <td style=\"padding-left: 1em; padding-right: 1em; text-align: center; vertical-align: top\">0.00695879467954</td>\n",
       "    </tr>\n",
       "    <tr>\n",
       "        <td style=\"padding-left: 1em; padding-right: 1em; text-align: center; vertical-align: top\">36</td>\n",
       "        <td style=\"padding-left: 1em; padding-right: 1em; text-align: center; vertical-align: top\">0.011568986569</td>\n",
       "        <td style=\"padding-left: 1em; padding-right: 1em; text-align: center; vertical-align: top\">0.0349936958244</td>\n",
       "        <td style=\"padding-left: 1em; padding-right: 1em; text-align: center; vertical-align: top\">0.00214602935191</td>\n",
       "        <td style=\"padding-left: 1em; padding-right: 1em; text-align: center; vertical-align: top\">0.00695879467954</td>\n",
       "    </tr>\n",
       "    <tr>\n",
       "        <td style=\"padding-left: 1em; padding-right: 1em; text-align: center; vertical-align: top\">26</td>\n",
       "        <td style=\"padding-left: 1em; padding-right: 1em; text-align: center; vertical-align: top\">0.011568986569</td>\n",
       "        <td style=\"padding-left: 1em; padding-right: 1em; text-align: center; vertical-align: top\">0.0349936958244</td>\n",
       "        <td style=\"padding-left: 1em; padding-right: 1em; text-align: center; vertical-align: top\">0.00214602935191</td>\n",
       "        <td style=\"padding-left: 1em; padding-right: 1em; text-align: center; vertical-align: top\">0.00695879467954</td>\n",
       "    </tr>\n",
       "    <tr>\n",
       "        <td style=\"padding-left: 1em; padding-right: 1em; text-align: center; vertical-align: top\">41</td>\n",
       "        <td style=\"padding-left: 1em; padding-right: 1em; text-align: center; vertical-align: top\">0.011568986569</td>\n",
       "        <td style=\"padding-left: 1em; padding-right: 1em; text-align: center; vertical-align: top\">0.0349936958244</td>\n",
       "        <td style=\"padding-left: 1em; padding-right: 1em; text-align: center; vertical-align: top\">0.00214602935191</td>\n",
       "        <td style=\"padding-left: 1em; padding-right: 1em; text-align: center; vertical-align: top\">0.00695879467954</td>\n",
       "    </tr>\n",
       "    <tr>\n",
       "        <td style=\"padding-left: 1em; padding-right: 1em; text-align: center; vertical-align: top\">3</td>\n",
       "        <td style=\"padding-left: 1em; padding-right: 1em; text-align: center; vertical-align: top\">0.034188034188</td>\n",
       "        <td style=\"padding-left: 1em; padding-right: 1em; text-align: center; vertical-align: top\">0.101129568942</td>\n",
       "        <td style=\"padding-left: 1em; padding-right: 1em; text-align: center; vertical-align: top\">0.00214602935191</td>\n",
       "        <td style=\"padding-left: 1em; padding-right: 1em; text-align: center; vertical-align: top\">0.00695879467954</td>\n",
       "    </tr>\n",
       "    <tr>\n",
       "        <td style=\"padding-left: 1em; padding-right: 1em; text-align: center; vertical-align: top\">1</td>\n",
       "        <td style=\"padding-left: 1em; padding-right: 1em; text-align: center; vertical-align: top\">0.102564102564</td>\n",
       "        <td style=\"padding-left: 1em; padding-right: 1em; text-align: center; vertical-align: top\">0.303388706826</td>\n",
       "        <td style=\"padding-left: 1em; padding-right: 1em; text-align: center; vertical-align: top\">0.00214602935191</td>\n",
       "        <td style=\"padding-left: 1em; padding-right: 1em; text-align: center; vertical-align: top\">0.00695879467954</td>\n",
       "    </tr>\n",
       "    <tr>\n",
       "        <td style=\"padding-left: 1em; padding-right: 1em; text-align: center; vertical-align: top\">6</td>\n",
       "        <td style=\"padding-left: 1em; padding-right: 1em; text-align: center; vertical-align: top\">0.017094017094</td>\n",
       "        <td style=\"padding-left: 1em; padding-right: 1em; text-align: center; vertical-align: top\">0.0505647844709</td>\n",
       "        <td style=\"padding-left: 1em; padding-right: 1em; text-align: center; vertical-align: top\">0.00214602935191</td>\n",
       "        <td style=\"padding-left: 1em; padding-right: 1em; text-align: center; vertical-align: top\">0.00695879467954</td>\n",
       "    </tr>\n",
       "    <tr>\n",
       "        <td style=\"padding-left: 1em; padding-right: 1em; text-align: center; vertical-align: top\">11</td>\n",
       "        <td style=\"padding-left: 1em; padding-right: 1em; text-align: center; vertical-align: top\">0.0117632367632</td>\n",
       "        <td style=\"padding-left: 1em; padding-right: 1em; text-align: center; vertical-align: top\">0.0354100703656</td>\n",
       "        <td style=\"padding-left: 1em; padding-right: 1em; text-align: center; vertical-align: top\">0.00214602935191</td>\n",
       "        <td style=\"padding-left: 1em; padding-right: 1em; text-align: center; vertical-align: top\">0.00695879467954</td>\n",
       "    </tr>\n",
       "    <tr>\n",
       "        <td style=\"padding-left: 1em; padding-right: 1em; text-align: center; vertical-align: top\">2</td>\n",
       "        <td style=\"padding-left: 1em; padding-right: 1em; text-align: center; vertical-align: top\">0.0512820512821</td>\n",
       "        <td style=\"padding-left: 1em; padding-right: 1em; text-align: center; vertical-align: top\">0.151694353413</td>\n",
       "        <td style=\"padding-left: 1em; padding-right: 1em; text-align: center; vertical-align: top\">0.00214602935191</td>\n",
       "        <td style=\"padding-left: 1em; padding-right: 1em; text-align: center; vertical-align: top\">0.00695879467954</td>\n",
       "    </tr>\n",
       "</table>\n",
       "[18 rows x 5 columns]<br/>Note: Only the head of the SFrame is printed.<br/>You can use print_rows(num_rows=m, num_columns=n) to print more rows and columns.\n",
       "</div>"
      ],
      "text/plain": [
       "Columns:\n",
       "\tcutoff\tint\n",
       "\tAvg of precision\tfloat\n",
       "\tStdv of precision\tfloat\n",
       "\tAvg of recall\tfloat\n",
       "\tStdv of recall\tfloat\n",
       "\n",
       "Rows: 18\n",
       "\n",
       "Data:\n",
       "+--------+------------------+-------------------+------------------+\n",
       "| cutoff | Avg of precision | Stdv of precision |  Avg of recall   |\n",
       "+--------+------------------+-------------------+------------------+\n",
       "|   16   |  0.011568986569  |  0.0349936958244  | 0.00214602935191 |\n",
       "|   10   | 0.0119963369963  |  0.0359560241782  | 0.00214602935191 |\n",
       "|   36   |  0.011568986569  |  0.0349936958244  | 0.00214602935191 |\n",
       "|   26   |  0.011568986569  |  0.0349936958244  | 0.00214602935191 |\n",
       "|   41   |  0.011568986569  |  0.0349936958244  | 0.00214602935191 |\n",
       "|   3    |  0.034188034188  |   0.101129568942  | 0.00214602935191 |\n",
       "|   1    |  0.102564102564  |   0.303388706826  | 0.00214602935191 |\n",
       "|   6    |  0.017094017094  |  0.0505647844709  | 0.00214602935191 |\n",
       "|   11   | 0.0117632367632  |  0.0354100703656  | 0.00214602935191 |\n",
       "|   2    | 0.0512820512821  |   0.151694353413  | 0.00214602935191 |\n",
       "+--------+------------------+-------------------+------------------+\n",
       "+------------------+\n",
       "|  Stdv of recall  |\n",
       "+------------------+\n",
       "| 0.00695879467954 |\n",
       "| 0.00695879467954 |\n",
       "| 0.00695879467954 |\n",
       "| 0.00695879467954 |\n",
       "| 0.00695879467954 |\n",
       "| 0.00695879467954 |\n",
       "| 0.00695879467954 |\n",
       "| 0.00695879467954 |\n",
       "| 0.00695879467954 |\n",
       "| 0.00695879467954 |\n",
       "+------------------+\n",
       "[18 rows x 5 columns]\n",
       "Note: Only the head of the SFrame is printed.\n",
       "You can use print_rows(num_rows=m, num_columns=n) to print more rows and columns."
      ]
     },
     "execution_count": 28,
     "metadata": {},
     "output_type": "execute_result"
    }
   ],
   "source": [
    "rmse_results['precision_recall_by_user'].groupby('cutoff',[agg.AVG('precision'),agg.STD('precision'),agg.AVG('recall'),agg.STD('recall')])"
   ]
  },
  {
   "cell_type": "code",
   "execution_count": 80,
   "metadata": {
    "collapsed": false
   },
   "outputs": [
    {
     "data": {
      "text/html": [
       "<pre>Recsys training: model = ranking_factorization_recommender</pre>"
      ],
      "text/plain": [
       "Recsys training: model = ranking_factorization_recommender"
      ]
     },
     "metadata": {},
     "output_type": "display_data"
    },
    {
     "data": {
      "text/html": [
       "<pre>Preparing data set.</pre>"
      ],
      "text/plain": [
       "Preparing data set."
      ]
     },
     "metadata": {},
     "output_type": "display_data"
    },
    {
     "data": {
      "text/html": [
       "<pre>    Data has 87949 observations with 177 users and 14 items.</pre>"
      ],
      "text/plain": [
       "    Data has 87949 observations with 177 users and 14 items."
      ]
     },
     "metadata": {},
     "output_type": "display_data"
    },
    {
     "data": {
      "text/html": [
       "<pre>    Data prepared in: 0.091071s</pre>"
      ],
      "text/plain": [
       "    Data prepared in: 0.091071s"
      ]
     },
     "metadata": {},
     "output_type": "display_data"
    },
    {
     "data": {
      "text/html": [
       "<pre>Training ranking_factorization_recommender for recommendations.</pre>"
      ],
      "text/plain": [
       "Training ranking_factorization_recommender for recommendations."
      ]
     },
     "metadata": {},
     "output_type": "display_data"
    },
    {
     "data": {
      "text/html": [
       "<pre>+--------------------------------+--------------------------------------------------+----------+</pre>"
      ],
      "text/plain": [
       "+--------------------------------+--------------------------------------------------+----------+"
      ]
     },
     "metadata": {},
     "output_type": "display_data"
    },
    {
     "data": {
      "text/html": [
       "<pre>| Parameter                      | Description                                      | Value    |</pre>"
      ],
      "text/plain": [
       "| Parameter                      | Description                                      | Value    |"
      ]
     },
     "metadata": {},
     "output_type": "display_data"
    },
    {
     "data": {
      "text/html": [
       "<pre>+--------------------------------+--------------------------------------------------+----------+</pre>"
      ],
      "text/plain": [
       "+--------------------------------+--------------------------------------------------+----------+"
      ]
     },
     "metadata": {},
     "output_type": "display_data"
    },
    {
     "data": {
      "text/html": [
       "<pre>| num_factors                    | Factor Dimension                                 | 11       |</pre>"
      ],
      "text/plain": [
       "| num_factors                    | Factor Dimension                                 | 11       |"
      ]
     },
     "metadata": {},
     "output_type": "display_data"
    },
    {
     "data": {
      "text/html": [
       "<pre>| regularization                 | L2 Regularization on Factors                     | 0.01     |</pre>"
      ],
      "text/plain": [
       "| regularization                 | L2 Regularization on Factors                     | 0.01     |"
      ]
     },
     "metadata": {},
     "output_type": "display_data"
    },
    {
     "data": {
      "text/html": [
       "<pre>| solver                         | Solver used for training                         | sgd      |</pre>"
      ],
      "text/plain": [
       "| solver                         | Solver used for training                         | sgd      |"
      ]
     },
     "metadata": {},
     "output_type": "display_data"
    },
    {
     "data": {
      "text/html": [
       "<pre>| linear_regularization          | L2 Regularization on Linear Coefficients         | 0.001    |</pre>"
      ],
      "text/plain": [
       "| linear_regularization          | L2 Regularization on Linear Coefficients         | 0.001    |"
      ]
     },
     "metadata": {},
     "output_type": "display_data"
    },
    {
     "data": {
      "text/html": [
       "<pre>| ranking_regularization         | Rank-based Regularization Weight                 | 0.25     |</pre>"
      ],
      "text/plain": [
       "| ranking_regularization         | Rank-based Regularization Weight                 | 0.25     |"
      ]
     },
     "metadata": {},
     "output_type": "display_data"
    },
    {
     "data": {
      "text/html": [
       "<pre>| max_iterations                 | Maximum Number of Iterations                     | 25       |</pre>"
      ],
      "text/plain": [
       "| max_iterations                 | Maximum Number of Iterations                     | 25       |"
      ]
     },
     "metadata": {},
     "output_type": "display_data"
    },
    {
     "data": {
      "text/html": [
       "<pre>+--------------------------------+--------------------------------------------------+----------+</pre>"
      ],
      "text/plain": [
       "+--------------------------------+--------------------------------------------------+----------+"
      ]
     },
     "metadata": {},
     "output_type": "display_data"
    },
    {
     "data": {
      "text/html": [
       "<pre>  Optimizing model using SGD; tuning step size.</pre>"
      ],
      "text/plain": [
       "  Optimizing model using SGD; tuning step size."
      ]
     },
     "metadata": {},
     "output_type": "display_data"
    },
    {
     "data": {
      "text/html": [
       "<pre>  Using 10993 / 87949 points for tuning the step size.</pre>"
      ],
      "text/plain": [
       "  Using 10993 / 87949 points for tuning the step size."
      ]
     },
     "metadata": {},
     "output_type": "display_data"
    },
    {
     "data": {
      "text/html": [
       "<pre>+---------+-------------------+------------------------------------------+</pre>"
      ],
      "text/plain": [
       "+---------+-------------------+------------------------------------------+"
      ]
     },
     "metadata": {},
     "output_type": "display_data"
    },
    {
     "data": {
      "text/html": [
       "<pre>| Attempt | Initial Step Size | Estimated Objective Value                |</pre>"
      ],
      "text/plain": [
       "| Attempt | Initial Step Size | Estimated Objective Value                |"
      ]
     },
     "metadata": {},
     "output_type": "display_data"
    },
    {
     "data": {
      "text/html": [
       "<pre>+---------+-------------------+------------------------------------------+</pre>"
      ],
      "text/plain": [
       "+---------+-------------------+------------------------------------------+"
      ]
     },
     "metadata": {},
     "output_type": "display_data"
    },
    {
     "data": {
      "text/html": [
       "<pre>| 0       | 0.0837438         | Not Viable                               |</pre>"
      ],
      "text/plain": [
       "| 0       | 0.0837438         | Not Viable                               |"
      ]
     },
     "metadata": {},
     "output_type": "display_data"
    },
    {
     "data": {
      "text/html": [
       "<pre>| 1       | 0.020936          | 2.25184                                  |</pre>"
      ],
      "text/plain": [
       "| 1       | 0.020936          | 2.25184                                  |"
      ]
     },
     "metadata": {},
     "output_type": "display_data"
    },
    {
     "data": {
      "text/html": [
       "<pre>| 2       | 0.010468          | 2.26254                                  |</pre>"
      ],
      "text/plain": [
       "| 2       | 0.010468          | 2.26254                                  |"
      ]
     },
     "metadata": {},
     "output_type": "display_data"
    },
    {
     "data": {
      "text/html": [
       "<pre>| 3       | 0.00523399        | 2.30323                                  |</pre>"
      ],
      "text/plain": [
       "| 3       | 0.00523399        | 2.30323                                  |"
      ]
     },
     "metadata": {},
     "output_type": "display_data"
    },
    {
     "data": {
      "text/html": [
       "<pre>| 4       | 0.00261699        | 2.36264                                  |</pre>"
      ],
      "text/plain": [
       "| 4       | 0.00261699        | 2.36264                                  |"
      ]
     },
     "metadata": {},
     "output_type": "display_data"
    },
    {
     "data": {
      "text/html": [
       "<pre>+---------+-------------------+------------------------------------------+</pre>"
      ],
      "text/plain": [
       "+---------+-------------------+------------------------------------------+"
      ]
     },
     "metadata": {},
     "output_type": "display_data"
    },
    {
     "data": {
      "text/html": [
       "<pre>| Final   | 0.020936          | 2.25184                                  |</pre>"
      ],
      "text/plain": [
       "| Final   | 0.020936          | 2.25184                                  |"
      ]
     },
     "metadata": {},
     "output_type": "display_data"
    },
    {
     "data": {
      "text/html": [
       "<pre>+---------+-------------------+------------------------------------------+</pre>"
      ],
      "text/plain": [
       "+---------+-------------------+------------------------------------------+"
      ]
     },
     "metadata": {},
     "output_type": "display_data"
    },
    {
     "data": {
      "text/html": [
       "<pre>Starting Optimization.</pre>"
      ],
      "text/plain": [
       "Starting Optimization."
      ]
     },
     "metadata": {},
     "output_type": "display_data"
    },
    {
     "data": {
      "text/html": [
       "<pre>+---------+--------------+-------------------+-----------------------+-------------+</pre>"
      ],
      "text/plain": [
       "+---------+--------------+-------------------+-----------------------+-------------+"
      ]
     },
     "metadata": {},
     "output_type": "display_data"
    },
    {
     "data": {
      "text/html": [
       "<pre>| Iter.   | Elapsed Time | Approx. Objective | Approx. Training RMSE | Step Size   |</pre>"
      ],
      "text/plain": [
       "| Iter.   | Elapsed Time | Approx. Objective | Approx. Training RMSE | Step Size   |"
      ]
     },
     "metadata": {},
     "output_type": "display_data"
    },
    {
     "data": {
      "text/html": [
       "<pre>+---------+--------------+-------------------+-----------------------+-------------+</pre>"
      ],
      "text/plain": [
       "+---------+--------------+-------------------+-----------------------+-------------+"
      ]
     },
     "metadata": {},
     "output_type": "display_data"
    },
    {
     "data": {
      "text/html": [
       "<pre>| Initial | 79us         | 2.61375           | 1.15466               |             |</pre>"
      ],
      "text/plain": [
       "| Initial | 79us         | 2.61375           | 1.15466               |             |"
      ]
     },
     "metadata": {},
     "output_type": "display_data"
    },
    {
     "data": {
      "text/html": [
       "<pre>+---------+--------------+-------------------+-----------------------+-------------+</pre>"
      ],
      "text/plain": [
       "+---------+--------------+-------------------+-----------------------+-------------+"
      ]
     },
     "metadata": {},
     "output_type": "display_data"
    },
    {
     "data": {
      "text/html": [
       "<pre>| 1       | 129.043ms    | DIVERGED          | DIVERGED              | 0.020936    |</pre>"
      ],
      "text/plain": [
       "| 1       | 129.043ms    | DIVERGED          | DIVERGED              | 0.020936    |"
      ]
     },
     "metadata": {},
     "output_type": "display_data"
    },
    {
     "data": {
      "text/html": [
       "<pre>| RESET   | 160.616ms    | 2.61305           | 1.1545                |             |</pre>"
      ],
      "text/plain": [
       "| RESET   | 160.616ms    | 2.61305           | 1.1545                |             |"
      ]
     },
     "metadata": {},
     "output_type": "display_data"
    },
    {
     "data": {
      "text/html": [
       "<pre>| 1       | 286.818ms    | DIVERGED          | DIVERGED              | 0.010468    |</pre>"
      ],
      "text/plain": [
       "| 1       | 286.818ms    | DIVERGED          | DIVERGED              | 0.010468    |"
      ]
     },
     "metadata": {},
     "output_type": "display_data"
    },
    {
     "data": {
      "text/html": [
       "<pre>| RESET   | 323.005ms    | 2.61315           | 1.1545                |             |</pre>"
      ],
      "text/plain": [
       "| RESET   | 323.005ms    | 2.61315           | 1.1545                |             |"
      ]
     },
     "metadata": {},
     "output_type": "display_data"
    },
    {
     "data": {
      "text/html": [
       "<pre>| 1       | 459.72ms     | DIVERGED          | DIVERGED              | 0.00523399  |</pre>"
      ],
      "text/plain": [
       "| 1       | 459.72ms     | DIVERGED          | DIVERGED              | 0.00523399  |"
      ]
     },
     "metadata": {},
     "output_type": "display_data"
    },
    {
     "data": {
      "text/html": [
       "<pre>| RESET   | 494.924ms    | 2.61309           | 1.15444               |             |</pre>"
      ],
      "text/plain": [
       "| RESET   | 494.924ms    | 2.61309           | 1.15444               |             |"
      ]
     },
     "metadata": {},
     "output_type": "display_data"
    },
    {
     "data": {
      "text/html": [
       "<pre>| 1       | 564.902ms    | 1.22245           | 0.991362              | 0.00261699  |</pre>"
      ],
      "text/plain": [
       "| 1       | 564.902ms    | 1.22245           | 0.991362              | 0.00261699  |"
      ]
     },
     "metadata": {},
     "output_type": "display_data"
    },
    {
     "data": {
      "text/html": [
       "<pre>| 2       | 641.042ms    | 1.0918            | 0.976383              | 0.000792639 |</pre>"
      ],
      "text/plain": [
       "| 2       | 641.042ms    | 1.0918            | 0.976383              | 0.000792639 |"
      ]
     },
     "metadata": {},
     "output_type": "display_data"
    },
    {
     "data": {
      "text/html": [
       "<pre>| 3       | 708.276ms    | 1.05904           | 0.974947              | 0.00046705  |</pre>"
      ],
      "text/plain": [
       "| 3       | 708.276ms    | 1.05904           | 0.974947              | 0.00046705  |"
      ]
     },
     "metadata": {},
     "output_type": "display_data"
    },
    {
     "data": {
      "text/html": [
       "<pre>| 4       | 781.406ms    | 1.04916           | 0.975707              | 0.000331061 |</pre>"
      ],
      "text/plain": [
       "| 4       | 781.406ms    | 1.04916           | 0.975707              | 0.000331061 |"
      ]
     },
     "metadata": {},
     "output_type": "display_data"
    },
    {
     "data": {
      "text/html": [
       "<pre>| 5       | 866.912ms    | 1.04513           | 0.976427              | 0.000256405 |</pre>"
      ],
      "text/plain": [
       "| 5       | 866.912ms    | 1.04513           | 0.976427              | 0.000256405 |"
      ]
     },
     "metadata": {},
     "output_type": "display_data"
    },
    {
     "data": {
      "text/html": [
       "<pre>| 6       | 936.094ms    | 1.04349           | 0.976921              | 0.000209224 |</pre>"
      ],
      "text/plain": [
       "| 6       | 936.094ms    | 1.04349           | 0.976921              | 0.000209224 |"
      ]
     },
     "metadata": {},
     "output_type": "display_data"
    },
    {
     "data": {
      "text/html": [
       "<pre>| 11      | 1.31s        | 1.0362            | 0.977248              | 0.000108968 |</pre>"
      ],
      "text/plain": [
       "| 11      | 1.31s        | 1.0362            | 0.977248              | 0.000108968 |"
      ]
     },
     "metadata": {},
     "output_type": "display_data"
    },
    {
     "data": {
      "text/html": [
       "<pre>| 22      | 2.10s        | 1.03336           | 0.977626              | 5.11507e-05 |</pre>"
      ],
      "text/plain": [
       "| 22      | 2.10s        | 1.03336           | 0.977626              | 5.11507e-05 |"
      ]
     },
     "metadata": {},
     "output_type": "display_data"
    },
    {
     "data": {
      "text/html": [
       "<pre>+---------+--------------+-------------------+-----------------------+-------------+</pre>"
      ],
      "text/plain": [
       "+---------+--------------+-------------------+-----------------------+-------------+"
      ]
     },
     "metadata": {},
     "output_type": "display_data"
    },
    {
     "data": {
      "text/html": [
       "<pre>Optimization Complete: Maximum number of passes through the data reached.</pre>"
      ],
      "text/plain": [
       "Optimization Complete: Maximum number of passes through the data reached."
      ]
     },
     "metadata": {},
     "output_type": "display_data"
    },
    {
     "data": {
      "text/html": [
       "<pre>Computing final objective value and training RMSE.</pre>"
      ],
      "text/plain": [
       "Computing final objective value and training RMSE."
      ]
     },
     "metadata": {},
     "output_type": "display_data"
    },
    {
     "data": {
      "text/html": [
       "<pre>       Final objective value: 2.2782</pre>"
      ],
      "text/plain": [
       "       Final objective value: 2.2782"
      ]
     },
     "metadata": {},
     "output_type": "display_data"
    },
    {
     "data": {
      "text/html": [
       "<pre>       Final training RMSE: 0.978574</pre>"
      ],
      "text/plain": [
       "       Final training RMSE: 0.978574"
      ]
     },
     "metadata": {},
     "output_type": "display_data"
    },
    {
     "name": "stdout",
     "output_type": "stream",
     "text": [
      "\n",
      "Precision and recall summary statistics by cutoff\n",
      "+--------+-----------------+-------------------+\n",
      "| cutoff |  mean_precision |    mean_recall    |\n",
      "+--------+-----------------+-------------------+\n",
      "|   1    | 0.0263157894737 | 0.000271296798698 |\n",
      "|   2    | 0.0263157894737 |  0.00246427925484 |\n",
      "|   3    | 0.0175438596491 |  0.00246427925484 |\n",
      "|   4    | 0.0131578947368 |  0.00246427925484 |\n",
      "|   5    | 0.0157894736842 |  0.00258841033726 |\n",
      "|   6    | 0.0131578947368 |  0.00258841033726 |\n",
      "|   7    | 0.0119047619048 |  0.00258841033726 |\n",
      "|   8    | 0.0109649122807 |  0.00258841033726 |\n",
      "|   9    | 0.0102339181287 |  0.00258841033726 |\n",
      "|   10   | 0.0102339181287 |  0.00258841033726 |\n",
      "+--------+-----------------+-------------------+\n",
      "[10 rows x 3 columns]\n",
      "\n",
      "('\\nOverall RMSE: ', 1.0226494171695704)\n",
      "\n",
      "Per User RMSE (best)\n",
      "+--------------+-------+----------------+\n",
      "| regionidcity | count |      rmse      |\n",
      "+--------------+-------+----------------+\n",
      "|   32927.0    |   2   | 0.243313433115 |\n",
      "+--------------+-------+----------------+\n",
      "[1 rows x 3 columns]\n",
      "\n",
      "\n",
      "Per User RMSE (worst)\n",
      "+--------------+-------+---------------+\n",
      "| regionidcity | count |      rmse     |\n",
      "+--------------+-------+---------------+\n",
      "|   24797.0    |   1   | 3.26527209404 |\n",
      "+--------------+-------+---------------+\n",
      "[1 rows x 3 columns]\n",
      "\n",
      "\n",
      "Per Item RMSE (best)\n",
      "+-----------------------+-------+----------------+\n",
      "| propertylandusetypeid | count |      rmse      |\n",
      "+-----------------------+-------+----------------+\n",
      "|         265.0         |   31  | 0.583391373015 |\n",
      "+-----------------------+-------+----------------+\n",
      "[1 rows x 3 columns]\n",
      "\n",
      "\n",
      "Per Item RMSE (worst)\n",
      "+-----------------------+-------+---------------+\n",
      "| propertylandusetypeid | count |      rmse     |\n",
      "+-----------------------+-------+---------------+\n",
      "|         248.0         |   29  | 3.57592508428 |\n",
      "+-----------------------+-------+---------------+\n",
      "[1 rows x 3 columns]\n",
      "\n"
     ]
    }
   ],
   "source": [
    "rec1 = gl.recommender.ranking_factorization_recommender.create(train, \n",
    "                                  user_id=\"regionidcity\", \n",
    "                                  item_id=\"propertylandusetypeid\", \n",
    "                                  target=\"bedroomcnt\",\n",
    "                                  num_factors=11,                 # override the default value\n",
    "                                  regularization=1e-02,           # override the default value\n",
    "                                  linear_regularization = 1e-3)   # override the default value\n",
    "\n",
    "rmse_results = rec1.evaluate(test)"
   ]
  },
  {
   "cell_type": "code",
   "execution_count": 81,
   "metadata": {
    "collapsed": false
   },
   "outputs": [
    {
     "name": "stdout",
     "output_type": "stream",
     "text": [
      "PROGRESS: Evaluate model M0\n",
      "\n",
      "Precision and recall summary statistics by cutoff\n",
      "+--------+-----------------+-------------------+\n",
      "| cutoff |  mean_precision |    mean_recall    |\n",
      "+--------+-----------------+-------------------+\n",
      "|   1    | 0.0263157894737 | 0.000271296798698 |\n",
      "|   2    | 0.0263157894737 |  0.00246427925484 |\n",
      "|   3    | 0.0175438596491 |  0.00246427925484 |\n",
      "|   4    | 0.0197368421053 |  0.00258841033726 |\n",
      "|   5    | 0.0157894736842 |  0.00258841033726 |\n",
      "|   6    | 0.0131578947368 |  0.00258841033726 |\n",
      "|   7    | 0.0119047619048 |  0.00258841033726 |\n",
      "|   8    | 0.0109649122807 |  0.00258841033726 |\n",
      "|   9    | 0.0102339181287 |  0.00258841033726 |\n",
      "|   10   | 0.0102339181287 |  0.00258841033726 |\n",
      "+--------+-----------------+-------------------+\n",
      "[10 rows x 3 columns]\n",
      "\n",
      "('\\nOverall RMSE: ', 2.313234162829496)\n",
      "\n",
      "Per User RMSE (best)\n",
      "+--------------+-------+------+\n",
      "| regionidcity | count | rmse |\n",
      "+--------------+-------+------+\n",
      "|   24797.0    |   1   | 0.0  |\n",
      "+--------------+-------+------+\n",
      "[1 rows x 3 columns]\n",
      "\n",
      "\n",
      "Per User RMSE (worst)\n",
      "+--------------+-------+---------------+\n",
      "| regionidcity | count |      rmse     |\n",
      "+--------------+-------+---------------+\n",
      "|   42091.0    |   7   | 4.45613541728 |\n",
      "+--------------+-------+---------------+\n",
      "[1 rows x 3 columns]\n",
      "\n",
      "\n",
      "Per Item RMSE (best)\n",
      "+-----------------------+-------+------+\n",
      "| propertylandusetypeid | count | rmse |\n",
      "+-----------------------+-------+------+\n",
      "|          31.0         |   1   | 0.0  |\n",
      "+-----------------------+-------+------+\n",
      "[1 rows x 3 columns]\n",
      "\n",
      "\n",
      "Per Item RMSE (worst)\n",
      "+-----------------------+-------+---------------+\n",
      "| propertylandusetypeid | count |      rmse     |\n",
      "+-----------------------+-------+---------------+\n",
      "|         248.0         |   29  | 5.47582217562 |\n",
      "+-----------------------+-------+---------------+\n",
      "[1 rows x 3 columns]\n",
      "\n",
      "PROGRESS: Evaluate model M1\n",
      "\n",
      "Precision and recall summary statistics by cutoff\n",
      "+--------+-----------------+-------------------+\n",
      "| cutoff |  mean_precision |    mean_recall    |\n",
      "+--------+-----------------+-------------------+\n",
      "|   1    | 0.0263157894737 | 0.000271296798698 |\n",
      "|   2    | 0.0263157894737 |  0.00246427925484 |\n",
      "|   3    | 0.0175438596491 |  0.00246427925484 |\n",
      "|   4    | 0.0131578947368 |  0.00246427925484 |\n",
      "|   5    | 0.0157894736842 |  0.00258841033726 |\n",
      "|   6    | 0.0131578947368 |  0.00258841033726 |\n",
      "|   7    | 0.0119047619048 |  0.00258841033726 |\n",
      "|   8    | 0.0109649122807 |  0.00258841033726 |\n",
      "|   9    | 0.0102339181287 |  0.00258841033726 |\n",
      "|   10   | 0.0102339181287 |  0.00258841033726 |\n",
      "+--------+-----------------+-------------------+\n",
      "[10 rows x 3 columns]\n",
      "\n",
      "('\\nOverall RMSE: ', 1.0226494171695704)\n",
      "\n",
      "Per User RMSE (best)\n",
      "+--------------+-------+----------------+\n",
      "| regionidcity | count |      rmse      |\n",
      "+--------------+-------+----------------+\n",
      "|   32927.0    |   2   | 0.243313433115 |\n",
      "+--------------+-------+----------------+\n",
      "[1 rows x 3 columns]\n",
      "\n",
      "\n",
      "Per User RMSE (worst)\n",
      "+--------------+-------+---------------+\n",
      "| regionidcity | count |      rmse     |\n",
      "+--------------+-------+---------------+\n",
      "|   24797.0    |   1   | 3.26527209404 |\n",
      "+--------------+-------+---------------+\n",
      "[1 rows x 3 columns]\n",
      "\n",
      "\n",
      "Per Item RMSE (best)\n",
      "+-----------------------+-------+----------------+\n",
      "| propertylandusetypeid | count |      rmse      |\n",
      "+-----------------------+-------+----------------+\n",
      "|         265.0         |   31  | 0.583391373015 |\n",
      "+-----------------------+-------+----------------+\n",
      "[1 rows x 3 columns]\n",
      "\n",
      "\n",
      "Per Item RMSE (worst)\n",
      "+-----------------------+-------+---------------+\n",
      "| propertylandusetypeid | count |      rmse     |\n",
      "+-----------------------+-------+---------------+\n",
      "|         248.0         |   29  | 3.57592508428 |\n",
      "+-----------------------+-------+---------------+\n",
      "[1 rows x 3 columns]\n",
      "\n"
     ]
    }
   ],
   "source": [
    "comparison = gl.recommender.util.compare_models(test, [item_item, rec1])"
   ]
  },
  {
   "cell_type": "code",
   "execution_count": 82,
   "metadata": {
    "collapsed": false
   },
   "outputs": [
    {
     "name": "stdout",
     "output_type": "stream",
     "text": [
      "PROGRESS: Evaluate model M0\n",
      "\n",
      "Precision and recall summary statistics by cutoff\n",
      "+--------+-----------------+-------------------+\n",
      "| cutoff |  mean_precision |    mean_recall    |\n",
      "+--------+-----------------+-------------------+\n",
      "|   1    | 0.0263157894737 | 0.000271296798698 |\n",
      "|   2    | 0.0263157894737 |  0.00246427925484 |\n",
      "|   3    | 0.0175438596491 |  0.00246427925484 |\n",
      "|   4    | 0.0197368421053 |  0.00258841033726 |\n",
      "|   5    | 0.0157894736842 |  0.00258841033726 |\n",
      "|   6    | 0.0131578947368 |  0.00258841033726 |\n",
      "|   7    | 0.0119047619048 |  0.00258841033726 |\n",
      "|   8    | 0.0109649122807 |  0.00258841033726 |\n",
      "|   9    | 0.0102339181287 |  0.00258841033726 |\n",
      "|   10   | 0.0102339181287 |  0.00258841033726 |\n",
      "+--------+-----------------+-------------------+\n",
      "[10 rows x 3 columns]\n",
      "\n",
      "PROGRESS: Evaluate model M1\n",
      "\n",
      "Precision and recall summary statistics by cutoff\n",
      "+--------+-----------------+-------------------+\n",
      "| cutoff |  mean_precision |    mean_recall    |\n",
      "+--------+-----------------+-------------------+\n",
      "|   1    | 0.0263157894737 | 0.000271296798698 |\n",
      "|   2    | 0.0263157894737 |  0.00246427925484 |\n",
      "|   3    | 0.0175438596491 |  0.00246427925484 |\n",
      "|   4    | 0.0131578947368 |  0.00246427925484 |\n",
      "|   5    | 0.0157894736842 |  0.00258841033726 |\n",
      "|   6    | 0.0131578947368 |  0.00258841033726 |\n",
      "|   7    | 0.0119047619048 |  0.00258841033726 |\n",
      "|   8    | 0.0109649122807 |  0.00258841033726 |\n",
      "|   9    | 0.0102339181287 |  0.00258841033726 |\n",
      "|   10   | 0.0102339181287 |  0.00258841033726 |\n",
      "+--------+-----------------+-------------------+\n",
      "[10 rows x 3 columns]\n",
      "\n",
      "Model compare metric: precision_recall\n"
     ]
    }
   ],
   "source": [
    " comparisonstruct = gl.compare(test,[item_item, rec1])"
   ]
  },
  {
   "cell_type": "code",
   "execution_count": 83,
   "metadata": {
    "collapsed": false
   },
   "outputs": [
    {
     "data": {
      "application/javascript": [
       "$(\"head\").append($(\"<link/>\").attr({\n",
       "  rel:  \"stylesheet\",\n",
       "  type: \"text/css\",\n",
       "  href: \"//cdnjs.cloudflare.com/ajax/libs/font-awesome/4.1.0/css/font-awesome.min.css\"\n",
       "}));\n",
       "$(\"head\").append($(\"<link/>\").attr({\n",
       "  rel:  \"stylesheet\",\n",
       "  type: \"text/css\",\n",
       "  href: \"https://static.turi.com/products/graphlab-create/2.1/canvas/css/canvas.css\"\n",
       "}));\n",
       "\n",
       "            (function(){\n",
       "\n",
       "                var e = null;\n",
       "                if (typeof element == 'undefined') {\n",
       "                    var scripts = document.getElementsByTagName('script');\n",
       "                    var thisScriptTag = scripts[scripts.length-1];\n",
       "                    var parentDiv = thisScriptTag.parentNode;\n",
       "                    e = document.createElement('div');\n",
       "                    parentDiv.appendChild(e);\n",
       "                } else {\n",
       "                    e = element[0];\n",
       "                }\n",
       "\n",
       "                if (typeof requirejs !== 'undefined') {\n",
       "                    // disable load timeout; ipython_app.js is large and can take a while to load.\n",
       "                    requirejs.config({waitSeconds: 0});\n",
       "                }\n",
       "\n",
       "                require(['https://static.turi.com/products/graphlab-create/2.1/canvas/js/ipython_app.js'], function(IPythonApp){\n",
       "                    var app = new IPythonApp();\n",
       "                    app.attachView('model','Comparison', {\"comparison\": {\"dataset_label\": \"test\", \"evaluations\": {\"rec1\": {\"precision_recall\": [{\"cutoff\": 1, \"precision\": 0.026315789473684216, \"recall\": 0.0002712967986977753}, {\"cutoff\": 2, \"precision\": 0.026315789473684216, \"recall\": 0.002464279254838126}, {\"cutoff\": 3, \"precision\": 0.017543859649122813, \"recall\": 0.002464279254838126}, {\"cutoff\": 4, \"precision\": 0.013157894736842108, \"recall\": 0.002464279254838126}, {\"cutoff\": 5, \"precision\": 0.015789473684210527, \"recall\": 0.0025884103372611654}, {\"cutoff\": 6, \"precision\": 0.013157894736842108, \"recall\": 0.0025884103372611654}, {\"cutoff\": 7, \"precision\": 0.0119047619047619, \"recall\": 0.0025884103372611654}, {\"cutoff\": 8, \"precision\": 0.010964912280701756, \"recall\": 0.0025884103372611654}, {\"cutoff\": 9, \"precision\": 0.010233918128654972, \"recall\": 0.0025884103372611654}, {\"cutoff\": 10, \"precision\": 0.010233918128654972, \"recall\": 0.0025884103372611654}, {\"cutoff\": 11, \"precision\": 0.010233918128654972, \"recall\": 0.0025884103372611654}, {\"cutoff\": 16, \"precision\": 0.010233918128654972, \"recall\": 0.0025884103372611654}, {\"cutoff\": 21, \"precision\": 0.010233918128654972, \"recall\": 0.0025884103372611654}, {\"cutoff\": 26, \"precision\": 0.01023391812865497, \"recall\": 0.0025884103372611654}, {\"cutoff\": 31, \"precision\": 0.01023391812865497, \"recall\": 0.0025884103372611654}, {\"cutoff\": 36, \"precision\": 0.01023391812865497, \"recall\": 0.0025884103372611654}, {\"cutoff\": 41, \"precision\": 0.01023391812865497, \"recall\": 0.0025884103372611654}, {\"cutoff\": 46, \"precision\": 0.01023391812865497, \"recall\": 0.0025884103372611654}]}, \"item_item\": {\"precision_recall\": [{\"cutoff\": 1, \"precision\": 0.026315789473684216, \"recall\": 0.0002712967986977753}, {\"cutoff\": 2, \"precision\": 0.026315789473684216, \"recall\": 0.002464279254838126}, {\"cutoff\": 3, \"precision\": 0.017543859649122813, \"recall\": 0.002464279254838126}, {\"cutoff\": 4, \"precision\": 0.019736842105263164, \"recall\": 0.0025884103372611654}, {\"cutoff\": 5, \"precision\": 0.015789473684210527, \"recall\": 0.0025884103372611654}, {\"cutoff\": 6, \"precision\": 0.013157894736842108, \"recall\": 0.0025884103372611654}, {\"cutoff\": 7, \"precision\": 0.0119047619047619, \"recall\": 0.0025884103372611654}, {\"cutoff\": 8, \"precision\": 0.010964912280701756, \"recall\": 0.0025884103372611654}, {\"cutoff\": 9, \"precision\": 0.010233918128654972, \"recall\": 0.0025884103372611654}, {\"cutoff\": 10, \"precision\": 0.010233918128654972, \"recall\": 0.0025884103372611654}, {\"cutoff\": 11, \"precision\": 0.010233918128654972, \"recall\": 0.0025884103372611654}, {\"cutoff\": 16, \"precision\": 0.010233918128654972, \"recall\": 0.0025884103372611654}, {\"cutoff\": 21, \"precision\": 0.010233918128654972, \"recall\": 0.0025884103372611654}, {\"cutoff\": 26, \"precision\": 0.01023391812865497, \"recall\": 0.0025884103372611654}, {\"cutoff\": 31, \"precision\": 0.01023391812865497, \"recall\": 0.0025884103372611654}, {\"cutoff\": 36, \"precision\": 0.01023391812865497, \"recall\": 0.0025884103372611654}, {\"cutoff\": 41, \"precision\": 0.01023391812865497, \"recall\": 0.0025884103372611654}, {\"cutoff\": 46, \"precision\": 0.01023391812865497, \"recall\": 0.0025884103372611654}]}}}, \"selected_variable\": {\"comparison\": {\"dataset_label\": \"test\", \"evaluations\": {\"rec1\": {\"precision_recall\": [{\"cutoff\": 1, \"precision\": 0.026315789473684216, \"recall\": 0.0002712967986977753}, {\"cutoff\": 2, \"precision\": 0.026315789473684216, \"recall\": 0.002464279254838126}, {\"cutoff\": 3, \"precision\": 0.017543859649122813, \"recall\": 0.002464279254838126}, {\"cutoff\": 4, \"precision\": 0.013157894736842108, \"recall\": 0.002464279254838126}, {\"cutoff\": 5, \"precision\": 0.015789473684210527, \"recall\": 0.0025884103372611654}, {\"cutoff\": 6, \"precision\": 0.013157894736842108, \"recall\": 0.0025884103372611654}, {\"cutoff\": 7, \"precision\": 0.0119047619047619, \"recall\": 0.0025884103372611654}, {\"cutoff\": 8, \"precision\": 0.010964912280701756, \"recall\": 0.0025884103372611654}, {\"cutoff\": 9, \"precision\": 0.010233918128654972, \"recall\": 0.0025884103372611654}, {\"cutoff\": 10, \"precision\": 0.010233918128654972, \"recall\": 0.0025884103372611654}, {\"cutoff\": 11, \"precision\": 0.010233918128654972, \"recall\": 0.0025884103372611654}, {\"cutoff\": 16, \"precision\": 0.010233918128654972, \"recall\": 0.0025884103372611654}, {\"cutoff\": 21, \"precision\": 0.010233918128654972, \"recall\": 0.0025884103372611654}, {\"cutoff\": 26, \"precision\": 0.01023391812865497, \"recall\": 0.0025884103372611654}, {\"cutoff\": 31, \"precision\": 0.01023391812865497, \"recall\": 0.0025884103372611654}, {\"cutoff\": 36, \"precision\": 0.01023391812865497, \"recall\": 0.0025884103372611654}, {\"cutoff\": 41, \"precision\": 0.01023391812865497, \"recall\": 0.0025884103372611654}, {\"cutoff\": 46, \"precision\": 0.01023391812865497, \"recall\": 0.0025884103372611654}]}, \"item_item\": {\"precision_recall\": [{\"cutoff\": 1, \"precision\": 0.026315789473684216, \"recall\": 0.0002712967986977753}, {\"cutoff\": 2, \"precision\": 0.026315789473684216, \"recall\": 0.002464279254838126}, {\"cutoff\": 3, \"precision\": 0.017543859649122813, \"recall\": 0.002464279254838126}, {\"cutoff\": 4, \"precision\": 0.019736842105263164, \"recall\": 0.0025884103372611654}, {\"cutoff\": 5, \"precision\": 0.015789473684210527, \"recall\": 0.0025884103372611654}, {\"cutoff\": 6, \"precision\": 0.013157894736842108, \"recall\": 0.0025884103372611654}, {\"cutoff\": 7, \"precision\": 0.0119047619047619, \"recall\": 0.0025884103372611654}, {\"cutoff\": 8, \"precision\": 0.010964912280701756, \"recall\": 0.0025884103372611654}, {\"cutoff\": 9, \"precision\": 0.010233918128654972, \"recall\": 0.0025884103372611654}, {\"cutoff\": 10, \"precision\": 0.010233918128654972, \"recall\": 0.0025884103372611654}, {\"cutoff\": 11, \"precision\": 0.010233918128654972, \"recall\": 0.0025884103372611654}, {\"cutoff\": 16, \"precision\": 0.010233918128654972, \"recall\": 0.0025884103372611654}, {\"cutoff\": 21, \"precision\": 0.010233918128654972, \"recall\": 0.0025884103372611654}, {\"cutoff\": 26, \"precision\": 0.01023391812865497, \"recall\": 0.0025884103372611654}, {\"cutoff\": 31, \"precision\": 0.01023391812865497, \"recall\": 0.0025884103372611654}, {\"cutoff\": 36, \"precision\": 0.01023391812865497, \"recall\": 0.0025884103372611654}, {\"cutoff\": 41, \"precision\": 0.01023391812865497, \"recall\": 0.0025884103372611654}, {\"cutoff\": 46, \"precision\": 0.01023391812865497, \"recall\": 0.0025884103372611654}]}}}, \"name\": [\"item_item\"], \"view_file\": \"model\", \"view_component\": \"Comparison\", \"view_params\": {\"model_type\": \"recommender\", \"view\": \"Comparison\"}, \"view_components\": [\"Summary\", \"Evaluation\", \"Comparison\"], \"model_type\": \"recommender\", \"attributes\": {\"section_titles\": [\"Schema\", \"Statistics\", \"Training summary\", \"Model Parameters\", \"Other Settings\"], \"sections\": [[[\"User ID\", \"regionidcity\"], [\"Item ID\", \"propertylandusetypeid\"], [\"Target\", \"bedroomcnt\"], [\"Additional observation features\", 0], [\"User side features\", []], [\"Item side features\", []]], [[\"Number of observations\", 87949], [\"Number of users\", 177], [\"Number of items\", 14]], [[\"Training time\", 0.0242]], [[\"Model class\", \"ItemSimilarityRecommender\"], [\"threshold\", 0.001], [\"similarity_type\", \"cosine\"], [\"training_method\", \"auto\"]], [[\"degree_approximation_threshold\", 4096], [\"sparse_density_estimation_sample_size\", 4096], [\"max_data_passes\", 4096], [\"target_memory_usage\", 8589934592], [\"seed_item_set_size\", 50], [\"nearest_neighbors_interaction_proportion_threshold\", 0.05], [\"max_item_neighborhood_size\", 5]]]}, \"evaluations\": [[\"dataset\", {\"precision_recall_overall\": [{\"cutoff\": 1, \"precision\": 0.026315789473684216, \"recall\": 0.0002712967986977753}, {\"cutoff\": 2, \"precision\": 0.026315789473684216, \"recall\": 0.002464279254838126}, {\"cutoff\": 3, \"precision\": 0.017543859649122813, \"recall\": 0.002464279254838126}, {\"cutoff\": 4, \"precision\": 0.019736842105263164, \"recall\": 0.0025884103372611654}, {\"cutoff\": 5, \"precision\": 0.015789473684210527, \"recall\": 0.0025884103372611654}, {\"cutoff\": 6, \"precision\": 0.013157894736842108, \"recall\": 0.0025884103372611654}, {\"cutoff\": 7, \"precision\": 0.0119047619047619, \"recall\": 0.0025884103372611654}, {\"cutoff\": 8, \"precision\": 0.010964912280701756, \"recall\": 0.0025884103372611654}, {\"cutoff\": 9, \"precision\": 0.010233918128654972, \"recall\": 0.0025884103372611654}, {\"cutoff\": 10, \"precision\": 0.010233918128654972, \"recall\": 0.0025884103372611654}, {\"cutoff\": 11, \"precision\": 0.010233918128654972, \"recall\": 0.0025884103372611654}, {\"cutoff\": 16, \"precision\": 0.010233918128654972, \"recall\": 0.0025884103372611654}, {\"cutoff\": 21, \"precision\": 0.010233918128654972, \"recall\": 0.0025884103372611654}, {\"cutoff\": 26, \"precision\": 0.01023391812865497, \"recall\": 0.0025884103372611654}, {\"cutoff\": 31, \"precision\": 0.01023391812865497, \"recall\": 0.0025884103372611654}, {\"cutoff\": 36, \"precision\": 0.01023391812865497, \"recall\": 0.0025884103372611654}, {\"cutoff\": 41, \"precision\": 0.01023391812865497, \"recall\": 0.0025884103372611654}, {\"cutoff\": 46, \"precision\": 0.01023391812865497, \"recall\": 0.0025884103372611654}], \"precision_recall_by_user\": [{\"count\": 46, \"cutoff\": 1, \"precision\": 0.0, \"regionidcity\": \"10389.0\", \"recall\": 0.0}, {\"count\": 46, \"cutoff\": 2, \"precision\": 0.0, \"regionidcity\": \"10389.0\", \"recall\": 0.0}, {\"count\": 46, \"cutoff\": 3, \"precision\": 0.0, \"regionidcity\": \"10389.0\", \"recall\": 0.0}, {\"count\": 46, \"cutoff\": 4, \"precision\": 0.0, \"regionidcity\": \"10389.0\", \"recall\": 0.0}, {\"count\": 46, \"cutoff\": 5, \"precision\": 0.0, \"regionidcity\": \"10389.0\", \"recall\": 0.0}, {\"count\": 46, \"cutoff\": 6, \"precision\": 0.0, \"regionidcity\": \"10389.0\", \"recall\": 0.0}, {\"count\": 46, \"cutoff\": 7, \"precision\": 0.0, \"regionidcity\": \"10389.0\", \"recall\": 0.0}, {\"count\": 46, \"cutoff\": 8, \"precision\": 0.0, \"regionidcity\": \"10389.0\", \"recall\": 0.0}, {\"count\": 46, \"cutoff\": 9, \"precision\": 0.0, \"regionidcity\": \"10389.0\", \"recall\": 0.0}, {\"count\": 46, \"cutoff\": 10, \"precision\": 0.0, \"regionidcity\": \"10389.0\", \"recall\": 0.0}, {\"count\": 46, \"cutoff\": 11, \"precision\": 0.0, \"regionidcity\": \"10389.0\", \"recall\": 0.0}, {\"count\": 46, \"cutoff\": 16, \"precision\": 0.0, \"regionidcity\": \"10389.0\", \"recall\": 0.0}, {\"count\": 46, \"cutoff\": 21, \"precision\": 0.0, \"regionidcity\": \"10389.0\", \"recall\": 0.0}, {\"count\": 46, \"cutoff\": 26, \"precision\": 0.0, \"regionidcity\": \"10389.0\", \"recall\": 0.0}, {\"count\": 46, \"cutoff\": 31, \"precision\": 0.0, \"regionidcity\": \"10389.0\", \"recall\": 0.0}, {\"count\": 46, \"cutoff\": 36, \"precision\": 0.0, \"regionidcity\": \"10389.0\", \"recall\": 0.0}, {\"count\": 46, \"cutoff\": 41, \"precision\": 0.0, \"regionidcity\": \"10389.0\", \"recall\": 0.0}, {\"count\": 46, \"cutoff\": 46, \"precision\": 0.0, \"regionidcity\": \"10389.0\", \"recall\": 0.0}, {\"count\": 2, \"cutoff\": 1, \"precision\": 0.0, \"regionidcity\": \"10815.0\", \"recall\": 0.0}, {\"count\": 2, \"cutoff\": 2, \"precision\": 0.0, \"regionidcity\": \"10815.0\", \"recall\": 0.0}, {\"count\": 2, \"cutoff\": 3, \"precision\": 0.0, \"regionidcity\": \"10815.0\", \"recall\": 0.0}, {\"count\": 2, \"cutoff\": 4, \"precision\": 0.0, \"regionidcity\": \"10815.0\", \"recall\": 0.0}, {\"count\": 2, \"cutoff\": 5, \"precision\": 0.0, \"regionidcity\": \"10815.0\", \"recall\": 0.0}, {\"count\": 2, \"cutoff\": 6, \"precision\": 0.0, \"regionidcity\": \"10815.0\", \"recall\": 0.0}, {\"count\": 2, \"cutoff\": 7, \"precision\": 0.0, \"regionidcity\": \"10815.0\", \"recall\": 0.0}, {\"count\": 2, \"cutoff\": 8, \"precision\": 0.0, \"regionidcity\": \"10815.0\", \"recall\": 0.0}, {\"count\": 2, \"cutoff\": 9, \"precision\": 0.0, \"regionidcity\": \"10815.0\", \"recall\": 0.0}, {\"count\": 2, \"cutoff\": 10, \"precision\": 0.0, \"regionidcity\": \"10815.0\", \"recall\": 0.0}, {\"count\": 2, \"cutoff\": 11, \"precision\": 0.0, \"regionidcity\": \"10815.0\", \"recall\": 0.0}, {\"count\": 2, \"cutoff\": 16, \"precision\": 0.0, \"regionidcity\": \"10815.0\", \"recall\": 0.0}, {\"count\": 2, \"cutoff\": 21, \"precision\": 0.0, \"regionidcity\": \"10815.0\", \"recall\": 0.0}, {\"count\": 2, \"cutoff\": 26, \"precision\": 0.0, \"regionidcity\": \"10815.0\", \"recall\": 0.0}, {\"count\": 2, \"cutoff\": 31, \"precision\": 0.0, \"regionidcity\": \"10815.0\", \"recall\": 0.0}, {\"count\": 2, \"cutoff\": 36, \"precision\": 0.0, \"regionidcity\": \"10815.0\", \"recall\": 0.0}, {\"count\": 2, \"cutoff\": 41, \"precision\": 0.0, \"regionidcity\": \"10815.0\", \"recall\": 0.0}, {\"count\": 2, \"cutoff\": 46, \"precision\": 0.0, \"regionidcity\": \"10815.0\", \"recall\": 0.0}, {\"count\": 2, \"cutoff\": 1, \"precision\": 0.0, \"regionidcity\": \"118880.0\", \"recall\": 0.0}, {\"count\": 2, \"cutoff\": 2, \"precision\": 0.0, \"regionidcity\": \"118880.0\", \"recall\": 0.0}, {\"count\": 2, \"cutoff\": 3, \"precision\": 0.0, \"regionidcity\": \"118880.0\", \"recall\": 0.0}, {\"count\": 2, \"cutoff\": 4, \"precision\": 0.0, \"regionidcity\": \"118880.0\", \"recall\": 0.0}, {\"count\": 2, \"cutoff\": 5, \"precision\": 0.0, \"regionidcity\": \"118880.0\", \"recall\": 0.0}, {\"count\": 2, \"cutoff\": 6, \"precision\": 0.0, \"regionidcity\": \"118880.0\", \"recall\": 0.0}, {\"count\": 2, \"cutoff\": 7, \"precision\": 0.0, \"regionidcity\": \"118880.0\", \"recall\": 0.0}, {\"count\": 2, \"cutoff\": 8, \"precision\": 0.0, \"regionidcity\": \"118880.0\", \"recall\": 0.0}, {\"count\": 2, \"cutoff\": 9, \"precision\": 0.0, \"regionidcity\": \"118880.0\", \"recall\": 0.0}, {\"count\": 2, \"cutoff\": 10, \"precision\": 0.0, \"regionidcity\": \"118880.0\", \"recall\": 0.0}, {\"count\": 2, \"cutoff\": 11, \"precision\": 0.0, \"regionidcity\": \"118880.0\", \"recall\": 0.0}, {\"count\": 2, \"cutoff\": 16, \"precision\": 0.0, \"regionidcity\": \"118880.0\", \"recall\": 0.0}, {\"count\": 2, \"cutoff\": 21, \"precision\": 0.0, \"regionidcity\": \"118880.0\", \"recall\": 0.0}, {\"count\": 2, \"cutoff\": 26, \"precision\": 0.0, \"regionidcity\": \"118880.0\", \"recall\": 0.0}, {\"count\": 2, \"cutoff\": 31, \"precision\": 0.0, \"regionidcity\": \"118880.0\", \"recall\": 0.0}, {\"count\": 2, \"cutoff\": 36, \"precision\": 0.0, \"regionidcity\": \"118880.0\", \"recall\": 0.0}, {\"count\": 2, \"cutoff\": 41, \"precision\": 0.0, \"regionidcity\": \"118880.0\", \"recall\": 0.0}, {\"count\": 2, \"cutoff\": 46, \"precision\": 0.0, \"regionidcity\": \"118880.0\", \"recall\": 0.0}, {\"count\": 29, \"cutoff\": 1, \"precision\": 0.0, \"regionidcity\": \"118895.0\", \"recall\": 0.0}, {\"count\": 29, \"cutoff\": 2, \"precision\": 0.0, \"regionidcity\": \"118895.0\", \"recall\": 0.0}, {\"count\": 29, \"cutoff\": 3, \"precision\": 0.0, \"regionidcity\": \"118895.0\", \"recall\": 0.0}, {\"count\": 29, \"cutoff\": 4, \"precision\": 0.0, \"regionidcity\": \"118895.0\", \"recall\": 0.0}, {\"count\": 29, \"cutoff\": 5, \"precision\": 0.0, \"regionidcity\": \"118895.0\", \"recall\": 0.0}, {\"count\": 29, \"cutoff\": 6, \"precision\": 0.0, \"regionidcity\": \"118895.0\", \"recall\": 0.0}, {\"count\": 29, \"cutoff\": 7, \"precision\": 0.0, \"regionidcity\": \"118895.0\", \"recall\": 0.0}, {\"count\": 29, \"cutoff\": 8, \"precision\": 0.0, \"regionidcity\": \"118895.0\", \"recall\": 0.0}, {\"count\": 29, \"cutoff\": 9, \"precision\": 0.0, \"regionidcity\": \"118895.0\", \"recall\": 0.0}, {\"count\": 29, \"cutoff\": 10, \"precision\": 0.0, \"regionidcity\": \"118895.0\", \"recall\": 0.0}, {\"count\": 29, \"cutoff\": 11, \"precision\": 0.0, \"regionidcity\": \"118895.0\", \"recall\": 0.0}, {\"count\": 29, \"cutoff\": 16, \"precision\": 0.0, \"regionidcity\": \"118895.0\", \"recall\": 0.0}, {\"count\": 29, \"cutoff\": 21, \"precision\": 0.0, \"regionidcity\": \"118895.0\", \"recall\": 0.0}, {\"count\": 29, \"cutoff\": 26, \"precision\": 0.0, \"regionidcity\": \"118895.0\", \"recall\": 0.0}, {\"count\": 29, \"cutoff\": 31, \"precision\": 0.0, \"regionidcity\": \"118895.0\", \"recall\": 0.0}, {\"count\": 29, \"cutoff\": 36, \"precision\": 0.0, \"regionidcity\": \"118895.0\", \"recall\": 0.0}, {\"count\": 29, \"cutoff\": 41, \"precision\": 0.0, \"regionidcity\": \"118895.0\", \"recall\": 0.0}, {\"count\": 29, \"cutoff\": 46, \"precision\": 0.0, \"regionidcity\": \"118895.0\", \"recall\": 0.0}, {\"count\": 9, \"cutoff\": 1, \"precision\": 0.0, \"regionidcity\": \"16961.0\", \"recall\": 0.0}, {\"count\": 9, \"cutoff\": 2, \"precision\": 0.0, \"regionidcity\": \"16961.0\", \"recall\": 0.0}, {\"count\": 9, \"cutoff\": 3, \"precision\": 0.0, \"regionidcity\": \"16961.0\", \"recall\": 0.0}, {\"count\": 9, \"cutoff\": 4, \"precision\": 0.0, \"regionidcity\": \"16961.0\", \"recall\": 0.0}, {\"count\": 9, \"cutoff\": 5, \"precision\": 0.0, \"regionidcity\": \"16961.0\", \"recall\": 0.0}, {\"count\": 9, \"cutoff\": 6, \"precision\": 0.0, \"regionidcity\": \"16961.0\", \"recall\": 0.0}, {\"count\": 9, \"cutoff\": 7, \"precision\": 0.0, \"regionidcity\": \"16961.0\", \"recall\": 0.0}, {\"count\": 9, \"cutoff\": 8, \"precision\": 0.0, \"regionidcity\": \"16961.0\", \"recall\": 0.0}, {\"count\": 9, \"cutoff\": 9, \"precision\": 0.0, \"regionidcity\": \"16961.0\", \"recall\": 0.0}, {\"count\": 9, \"cutoff\": 10, \"precision\": 0.0, \"regionidcity\": \"16961.0\", \"recall\": 0.0}, {\"count\": 9, \"cutoff\": 11, \"precision\": 0.0, \"regionidcity\": \"16961.0\", \"recall\": 0.0}, {\"count\": 9, \"cutoff\": 16, \"precision\": 0.0, \"regionidcity\": \"16961.0\", \"recall\": 0.0}, {\"count\": 9, \"cutoff\": 21, \"precision\": 0.0, \"regionidcity\": \"16961.0\", \"recall\": 0.0}, {\"count\": 9, \"cutoff\": 26, \"precision\": 0.0, \"regionidcity\": \"16961.0\", \"recall\": 0.0}, {\"count\": 9, \"cutoff\": 31, \"precision\": 0.0, \"regionidcity\": \"16961.0\", \"recall\": 0.0}, {\"count\": 9, \"cutoff\": 36, \"precision\": 0.0, \"regionidcity\": \"16961.0\", \"recall\": 0.0}, {\"count\": 9, \"cutoff\": 41, \"precision\": 0.0, \"regionidcity\": \"16961.0\", \"recall\": 0.0}, {\"count\": 9, \"cutoff\": 46, \"precision\": 0.0, \"regionidcity\": \"16961.0\", \"recall\": 0.0}, {\"count\": 72, \"cutoff\": 1, \"precision\": 0.0, \"regionidcity\": \"17686.0\", \"recall\": 0.0}, {\"count\": 72, \"cutoff\": 2, \"precision\": 0.0, \"regionidcity\": \"17686.0\", \"recall\": 0.0}, {\"count\": 72, \"cutoff\": 3, \"precision\": 0.0, \"regionidcity\": \"17686.0\", \"recall\": 0.0}, {\"count\": 72, \"cutoff\": 4, \"precision\": 0.0, \"regionidcity\": \"17686.0\", \"recall\": 0.0}, {\"count\": 72, \"cutoff\": 5, \"precision\": 0.0, \"regionidcity\": \"17686.0\", \"recall\": 0.0}, {\"count\": 72, \"cutoff\": 6, \"precision\": 0.0, \"regionidcity\": \"17686.0\", \"recall\": 0.0}, {\"count\": 72, \"cutoff\": 7, \"precision\": 0.0, \"regionidcity\": \"17686.0\", \"recall\": 0.0}, {\"count\": 72, \"cutoff\": 8, \"precision\": 0.0, \"regionidcity\": \"17686.0\", \"recall\": 0.0}, {\"count\": 72, \"cutoff\": 9, \"precision\": 0.0, \"regionidcity\": \"17686.0\", \"recall\": 0.0}, {\"count\": 72, \"cutoff\": 10, \"precision\": 0.0, \"regionidcity\": \"17686.0\", \"recall\": 0.0}, {\"count\": 72, \"cutoff\": 11, \"precision\": 0.0, \"regionidcity\": \"17686.0\", \"recall\": 0.0}, {\"count\": 72, \"cutoff\": 16, \"precision\": 0.0, \"regionidcity\": \"17686.0\", \"recall\": 0.0}, {\"count\": 72, \"cutoff\": 21, \"precision\": 0.0, \"regionidcity\": \"17686.0\", \"recall\": 0.0}, {\"count\": 72, \"cutoff\": 26, \"precision\": 0.0, \"regionidcity\": \"17686.0\", \"recall\": 0.0}, {\"count\": 72, \"cutoff\": 31, \"precision\": 0.0, \"regionidcity\": \"17686.0\", \"recall\": 0.0}, {\"count\": 72, \"cutoff\": 36, \"precision\": 0.0, \"regionidcity\": \"17686.0\", \"recall\": 0.0}, {\"count\": 72, \"cutoff\": 41, \"precision\": 0.0, \"regionidcity\": \"17686.0\", \"recall\": 0.0}, {\"count\": 72, \"cutoff\": 46, \"precision\": 0.0, \"regionidcity\": \"17686.0\", \"recall\": 0.0}, {\"count\": 16, \"cutoff\": 1, \"precision\": 0.0, \"regionidcity\": \"18098.0\", \"recall\": 0.0}, {\"count\": 16, \"cutoff\": 2, \"precision\": 0.0, \"regionidcity\": \"18098.0\", \"recall\": 0.0}, {\"count\": 16, \"cutoff\": 3, \"precision\": 0.0, \"regionidcity\": \"18098.0\", \"recall\": 0.0}, {\"count\": 16, \"cutoff\": 4, \"precision\": 0.0, \"regionidcity\": \"18098.0\", \"recall\": 0.0}, {\"count\": 16, \"cutoff\": 5, \"precision\": 0.0, \"regionidcity\": \"18098.0\", \"recall\": 0.0}, {\"count\": 16, \"cutoff\": 6, \"precision\": 0.0, \"regionidcity\": \"18098.0\", \"recall\": 0.0}, {\"count\": 16, \"cutoff\": 7, \"precision\": 0.0, \"regionidcity\": \"18098.0\", \"recall\": 0.0}, {\"count\": 16, \"cutoff\": 8, \"precision\": 0.0, \"regionidcity\": \"18098.0\", \"recall\": 0.0}, {\"count\": 16, \"cutoff\": 9, \"precision\": 0.0, \"regionidcity\": \"18098.0\", \"recall\": 0.0}, {\"count\": 16, \"cutoff\": 10, \"precision\": 0.0, \"regionidcity\": \"18098.0\", \"recall\": 0.0}, {\"count\": 16, \"cutoff\": 11, \"precision\": 0.0, \"regionidcity\": \"18098.0\", \"recall\": 0.0}, {\"count\": 16, \"cutoff\": 16, \"precision\": 0.0, \"regionidcity\": \"18098.0\", \"recall\": 0.0}, {\"count\": 16, \"cutoff\": 21, \"precision\": 0.0, \"regionidcity\": \"18098.0\", \"recall\": 0.0}, {\"count\": 16, \"cutoff\": 26, \"precision\": 0.0, \"regionidcity\": \"18098.0\", \"recall\": 0.0}, {\"count\": 16, \"cutoff\": 31, \"precision\": 0.0, \"regionidcity\": \"18098.0\", \"recall\": 0.0}, {\"count\": 16, \"cutoff\": 36, \"precision\": 0.0, \"regionidcity\": \"18098.0\", \"recall\": 0.0}, {\"count\": 16, \"cutoff\": 41, \"precision\": 0.0, \"regionidcity\": \"18098.0\", \"recall\": 0.0}, {\"count\": 16, \"cutoff\": 46, \"precision\": 0.0, \"regionidcity\": \"18098.0\", \"recall\": 0.0}, {\"count\": 102, \"cutoff\": 1, \"precision\": 0.0, \"regionidcity\": \"24245.0\", \"recall\": 0.0}, {\"count\": 102, \"cutoff\": 2, \"precision\": 0.0, \"regionidcity\": \"24245.0\", \"recall\": 0.0}, {\"count\": 102, \"cutoff\": 3, \"precision\": 0.0, \"regionidcity\": \"24245.0\", \"recall\": 0.0}, {\"count\": 102, \"cutoff\": 4, \"precision\": 0.0, \"regionidcity\": \"24245.0\", \"recall\": 0.0}, {\"count\": 102, \"cutoff\": 5, \"precision\": 0.0, \"regionidcity\": \"24245.0\", \"recall\": 0.0}, {\"count\": 102, \"cutoff\": 6, \"precision\": 0.0, \"regionidcity\": \"24245.0\", \"recall\": 0.0}, {\"count\": 102, \"cutoff\": 7, \"precision\": 0.0, \"regionidcity\": \"24245.0\", \"recall\": 0.0}, {\"count\": 102, \"cutoff\": 8, \"precision\": 0.0, \"regionidcity\": \"24245.0\", \"recall\": 0.0}, {\"count\": 102, \"cutoff\": 9, \"precision\": 0.0, \"regionidcity\": \"24245.0\", \"recall\": 0.0}, {\"count\": 102, \"cutoff\": 10, \"precision\": 0.0, \"regionidcity\": \"24245.0\", \"recall\": 0.0}, {\"count\": 102, \"cutoff\": 11, \"precision\": 0.0, \"regionidcity\": \"24245.0\", \"recall\": 0.0}, {\"count\": 102, \"cutoff\": 16, \"precision\": 0.0, \"regionidcity\": \"24245.0\", \"recall\": 0.0}, {\"count\": 102, \"cutoff\": 21, \"precision\": 0.0, \"regionidcity\": \"24245.0\", \"recall\": 0.0}, {\"count\": 102, \"cutoff\": 26, \"precision\": 0.0, \"regionidcity\": \"24245.0\", \"recall\": 0.0}, {\"count\": 102, \"cutoff\": 31, \"precision\": 0.0, \"regionidcity\": \"24245.0\", \"recall\": 0.0}, {\"count\": 102, \"cutoff\": 36, \"precision\": 0.0, \"regionidcity\": \"24245.0\", \"recall\": 0.0}, {\"count\": 102, \"cutoff\": 41, \"precision\": 0.0, \"regionidcity\": \"24245.0\", \"recall\": 0.0}, {\"count\": 102, \"cutoff\": 46, \"precision\": 0.0, \"regionidcity\": \"24245.0\", \"recall\": 0.0}, {\"count\": 107, \"cutoff\": 1, \"precision\": 0.0, \"regionidcity\": \"24384.0\", \"recall\": 0.0}, {\"count\": 107, \"cutoff\": 2, \"precision\": 0.0, \"regionidcity\": \"24384.0\", \"recall\": 0.0}, {\"count\": 107, \"cutoff\": 3, \"precision\": 0.0, \"regionidcity\": \"24384.0\", \"recall\": 0.0}, {\"count\": 107, \"cutoff\": 4, \"precision\": 0.0, \"regionidcity\": \"24384.0\", \"recall\": 0.0}, {\"count\": 107, \"cutoff\": 5, \"precision\": 0.0, \"regionidcity\": \"24384.0\", \"recall\": 0.0}, {\"count\": 107, \"cutoff\": 6, \"precision\": 0.0, \"regionidcity\": \"24384.0\", \"recall\": 0.0}, {\"count\": 107, \"cutoff\": 7, \"precision\": 0.0, \"regionidcity\": \"24384.0\", \"recall\": 0.0}, {\"count\": 107, \"cutoff\": 8, \"precision\": 0.0, \"regionidcity\": \"24384.0\", \"recall\": 0.0}, {\"count\": 107, \"cutoff\": 9, \"precision\": 0.0, \"regionidcity\": \"24384.0\", \"recall\": 0.0}, {\"count\": 107, \"cutoff\": 10, \"precision\": 0.0, \"regionidcity\": \"24384.0\", \"recall\": 0.0}, {\"count\": 107, \"cutoff\": 11, \"precision\": 0.0, \"regionidcity\": \"24384.0\", \"recall\": 0.0}, {\"count\": 107, \"cutoff\": 16, \"precision\": 0.0, \"regionidcity\": \"24384.0\", \"recall\": 0.0}, {\"count\": 107, \"cutoff\": 21, \"precision\": 0.0, \"regionidcity\": \"24384.0\", \"recall\": 0.0}, {\"count\": 107, \"cutoff\": 26, \"precision\": 0.0, \"regionidcity\": \"24384.0\", \"recall\": 0.0}, {\"count\": 107, \"cutoff\": 31, \"precision\": 0.0, \"regionidcity\": \"24384.0\", \"recall\": 0.0}, {\"count\": 107, \"cutoff\": 36, \"precision\": 0.0, \"regionidcity\": \"24384.0\", \"recall\": 0.0}, {\"count\": 107, \"cutoff\": 41, \"precision\": 0.0, \"regionidcity\": \"24384.0\", \"recall\": 0.0}, {\"count\": 107, \"cutoff\": 46, \"precision\": 0.0, \"regionidcity\": \"24384.0\", \"recall\": 0.0}, {\"count\": 1, \"cutoff\": 1, \"precision\": 0.0, \"regionidcity\": \"24797.0\", \"recall\": 0.0}, {\"count\": 1, \"cutoff\": 2, \"precision\": 0.0, \"regionidcity\": \"24797.0\", \"recall\": 0.0}, {\"count\": 1, \"cutoff\": 3, \"precision\": 0.0, \"regionidcity\": \"24797.0\", \"recall\": 0.0}, {\"count\": 1, \"cutoff\": 4, \"precision\": 0.0, \"regionidcity\": \"24797.0\", \"recall\": 0.0}, {\"count\": 1, \"cutoff\": 5, \"precision\": 0.0, \"regionidcity\": \"24797.0\", \"recall\": 0.0}, {\"count\": 1, \"cutoff\": 6, \"precision\": 0.0, \"regionidcity\": \"24797.0\", \"recall\": 0.0}, {\"count\": 1, \"cutoff\": 7, \"precision\": 0.0, \"regionidcity\": \"24797.0\", \"recall\": 0.0}, {\"count\": 1, \"cutoff\": 8, \"precision\": 0.0, \"regionidcity\": \"24797.0\", \"recall\": 0.0}, {\"count\": 1, \"cutoff\": 9, \"precision\": 0.0, \"regionidcity\": \"24797.0\", \"recall\": 0.0}, {\"count\": 1, \"cutoff\": 10, \"precision\": 0.0, \"regionidcity\": \"24797.0\", \"recall\": 0.0}, {\"count\": 1, \"cutoff\": 11, \"precision\": 0.0, \"regionidcity\": \"24797.0\", \"recall\": 0.0}, {\"count\": 1, \"cutoff\": 16, \"precision\": 0.0, \"regionidcity\": \"24797.0\", \"recall\": 0.0}, {\"count\": 1, \"cutoff\": 21, \"precision\": 0.0, \"regionidcity\": \"24797.0\", \"recall\": 0.0}, {\"count\": 1, \"cutoff\": 26, \"precision\": 0.0, \"regionidcity\": \"24797.0\", \"recall\": 0.0}, {\"count\": 1, \"cutoff\": 31, \"precision\": 0.0, \"regionidcity\": \"24797.0\", \"recall\": 0.0}, {\"count\": 1, \"cutoff\": 36, \"precision\": 0.0, \"regionidcity\": \"24797.0\", \"recall\": 0.0}, {\"count\": 1, \"cutoff\": 41, \"precision\": 0.0, \"regionidcity\": \"24797.0\", \"recall\": 0.0}, {\"count\": 1, \"cutoff\": 46, \"precision\": 0.0, \"regionidcity\": \"24797.0\", \"recall\": 0.0}, {\"count\": 170, \"cutoff\": 1, \"precision\": 0.0, \"regionidcity\": \"24812.0\", \"recall\": 0.0}, {\"count\": 170, \"cutoff\": 2, \"precision\": 0.0, \"regionidcity\": \"24812.0\", \"recall\": 0.0}, {\"count\": 170, \"cutoff\": 3, \"precision\": 0.0, \"regionidcity\": \"24812.0\", \"recall\": 0.0}, {\"count\": 170, \"cutoff\": 4, \"precision\": 0.0, \"regionidcity\": \"24812.0\", \"recall\": 0.0}, {\"count\": 170, \"cutoff\": 5, \"precision\": 0.0, \"regionidcity\": \"24812.0\", \"recall\": 0.0}, {\"count\": 170, \"cutoff\": 6, \"precision\": 0.0, \"regionidcity\": \"24812.0\", \"recall\": 0.0}, {\"count\": 170, \"cutoff\": 7, \"precision\": 0.0, \"regionidcity\": \"24812.0\", \"recall\": 0.0}, {\"count\": 170, \"cutoff\": 8, \"precision\": 0.0, \"regionidcity\": \"24812.0\", \"recall\": 0.0}, {\"count\": 170, \"cutoff\": 9, \"precision\": 0.0, \"regionidcity\": \"24812.0\", \"recall\": 0.0}, {\"count\": 170, \"cutoff\": 10, \"precision\": 0.0, \"regionidcity\": \"24812.0\", \"recall\": 0.0}, {\"count\": 170, \"cutoff\": 11, \"precision\": 0.0, \"regionidcity\": \"24812.0\", \"recall\": 0.0}, {\"count\": 170, \"cutoff\": 16, \"precision\": 0.0, \"regionidcity\": \"24812.0\", \"recall\": 0.0}, {\"count\": 170, \"cutoff\": 21, \"precision\": 0.0, \"regionidcity\": \"24812.0\", \"recall\": 0.0}, {\"count\": 170, \"cutoff\": 26, \"precision\": 0.0, \"regionidcity\": \"24812.0\", \"recall\": 0.0}, {\"count\": 170, \"cutoff\": 31, \"precision\": 0.0, \"regionidcity\": \"24812.0\", \"recall\": 0.0}, {\"count\": 170, \"cutoff\": 36, \"precision\": 0.0, \"regionidcity\": \"24812.0\", \"recall\": 0.0}, {\"count\": 170, \"cutoff\": 41, \"precision\": 0.0, \"regionidcity\": \"24812.0\", \"recall\": 0.0}, {\"count\": 170, \"cutoff\": 46, \"precision\": 0.0, \"regionidcity\": \"24812.0\", \"recall\": 0.0}, {\"count\": 3, \"cutoff\": 1, \"precision\": 0.0, \"regionidcity\": \"25621.0\", \"recall\": 0.0}, {\"count\": 3, \"cutoff\": 2, \"precision\": 0.0, \"regionidcity\": \"25621.0\", \"recall\": 0.0}, {\"count\": 3, \"cutoff\": 3, \"precision\": 0.0, \"regionidcity\": \"25621.0\", \"recall\": 0.0}, {\"count\": 3, \"cutoff\": 4, \"precision\": 0.0, \"regionidcity\": \"25621.0\", \"recall\": 0.0}, {\"count\": 3, \"cutoff\": 5, \"precision\": 0.0, \"regionidcity\": \"25621.0\", \"recall\": 0.0}, {\"count\": 3, \"cutoff\": 6, \"precision\": 0.0, \"regionidcity\": \"25621.0\", \"recall\": 0.0}, {\"count\": 3, \"cutoff\": 7, \"precision\": 0.0, \"regionidcity\": \"25621.0\", \"recall\": 0.0}, {\"count\": 3, \"cutoff\": 8, \"precision\": 0.0, \"regionidcity\": \"25621.0\", \"recall\": 0.0}, {\"count\": 3, \"cutoff\": 9, \"precision\": 0.0, \"regionidcity\": \"25621.0\", \"recall\": 0.0}, {\"count\": 3, \"cutoff\": 10, \"precision\": 0.0, \"regionidcity\": \"25621.0\", \"recall\": 0.0}, {\"count\": 3, \"cutoff\": 11, \"precision\": 0.0, \"regionidcity\": \"25621.0\", \"recall\": 0.0}, {\"count\": 3, \"cutoff\": 16, \"precision\": 0.0, \"regionidcity\": \"25621.0\", \"recall\": 0.0}, {\"count\": 3, \"cutoff\": 21, \"precision\": 0.0, \"regionidcity\": \"25621.0\", \"recall\": 0.0}, {\"count\": 3, \"cutoff\": 26, \"precision\": 0.0, \"regionidcity\": \"25621.0\", \"recall\": 0.0}, {\"count\": 3, \"cutoff\": 31, \"precision\": 0.0, \"regionidcity\": \"25621.0\", \"recall\": 0.0}, {\"count\": 3, \"cutoff\": 36, \"precision\": 0.0, \"regionidcity\": \"25621.0\", \"recall\": 0.0}, {\"count\": 3, \"cutoff\": 41, \"precision\": 0.0, \"regionidcity\": \"25621.0\", \"recall\": 0.0}, {\"count\": 3, \"cutoff\": 46, \"precision\": 0.0, \"regionidcity\": \"25621.0\", \"recall\": 0.0}, {\"count\": 57, \"cutoff\": 1, \"precision\": 0.0, \"regionidcity\": \"25953.0\", \"recall\": 0.0}, {\"count\": 57, \"cutoff\": 2, \"precision\": 0.0, \"regionidcity\": \"25953.0\", \"recall\": 0.0}, {\"count\": 57, \"cutoff\": 3, \"precision\": 0.0, \"regionidcity\": \"25953.0\", \"recall\": 0.0}, {\"count\": 57, \"cutoff\": 4, \"precision\": 0.0, \"regionidcity\": \"25953.0\", \"recall\": 0.0}, {\"count\": 57, \"cutoff\": 5, \"precision\": 0.0, \"regionidcity\": \"25953.0\", \"recall\": 0.0}, {\"count\": 57, \"cutoff\": 6, \"precision\": 0.0, \"regionidcity\": \"25953.0\", \"recall\": 0.0}, {\"count\": 57, \"cutoff\": 7, \"precision\": 0.0, \"regionidcity\": \"25953.0\", \"recall\": 0.0}, {\"count\": 57, \"cutoff\": 8, \"precision\": 0.0, \"regionidcity\": \"25953.0\", \"recall\": 0.0}, {\"count\": 57, \"cutoff\": 9, \"precision\": 0.0, \"regionidcity\": \"25953.0\", \"recall\": 0.0}, {\"count\": 57, \"cutoff\": 10, \"precision\": 0.0, \"regionidcity\": \"25953.0\", \"recall\": 0.0}, {\"count\": 57, \"cutoff\": 11, \"precision\": 0.0, \"regionidcity\": \"25953.0\", \"recall\": 0.0}, {\"count\": 57, \"cutoff\": 16, \"precision\": 0.0, \"regionidcity\": \"25953.0\", \"recall\": 0.0}, {\"count\": 57, \"cutoff\": 21, \"precision\": 0.0, \"regionidcity\": \"25953.0\", \"recall\": 0.0}, {\"count\": 57, \"cutoff\": 26, \"precision\": 0.0, \"regionidcity\": \"25953.0\", \"recall\": 0.0}, {\"count\": 57, \"cutoff\": 31, \"precision\": 0.0, \"regionidcity\": \"25953.0\", \"recall\": 0.0}, {\"count\": 57, \"cutoff\": 36, \"precision\": 0.0, \"regionidcity\": \"25953.0\", \"recall\": 0.0}, {\"count\": 57, \"cutoff\": 41, \"precision\": 0.0, \"regionidcity\": \"25953.0\", \"recall\": 0.0}, {\"count\": 57, \"cutoff\": 46, \"precision\": 0.0, \"regionidcity\": \"25953.0\", \"recall\": 0.0}, {\"count\": 85, \"cutoff\": 1, \"precision\": 0.0, \"regionidcity\": \"25974.0\", \"recall\": 0.0}, {\"count\": 85, \"cutoff\": 2, \"precision\": 0.0, \"regionidcity\": \"25974.0\", \"recall\": 0.0}, {\"count\": 85, \"cutoff\": 3, \"precision\": 0.0, \"regionidcity\": \"25974.0\", \"recall\": 0.0}, {\"count\": 85, \"cutoff\": 4, \"precision\": 0.0, \"regionidcity\": \"25974.0\", \"recall\": 0.0}, {\"count\": 85, \"cutoff\": 5, \"precision\": 0.0, \"regionidcity\": \"25974.0\", \"recall\": 0.0}, {\"count\": 85, \"cutoff\": 6, \"precision\": 0.0, \"regionidcity\": \"25974.0\", \"recall\": 0.0}, {\"count\": 85, \"cutoff\": 7, \"precision\": 0.0, \"regionidcity\": \"25974.0\", \"recall\": 0.0}, {\"count\": 85, \"cutoff\": 8, \"precision\": 0.0, \"regionidcity\": \"25974.0\", \"recall\": 0.0}, {\"count\": 85, \"cutoff\": 9, \"precision\": 0.0, \"regionidcity\": \"25974.0\", \"recall\": 0.0}, {\"count\": 85, \"cutoff\": 10, \"precision\": 0.0, \"regionidcity\": \"25974.0\", \"recall\": 0.0}, {\"count\": 85, \"cutoff\": 11, \"precision\": 0.0, \"regionidcity\": \"25974.0\", \"recall\": 0.0}, {\"count\": 85, \"cutoff\": 16, \"precision\": 0.0, \"regionidcity\": \"25974.0\", \"recall\": 0.0}, {\"count\": 85, \"cutoff\": 21, \"precision\": 0.0, \"regionidcity\": \"25974.0\", \"recall\": 0.0}, {\"count\": 85, \"cutoff\": 26, \"precision\": 0.0, \"regionidcity\": \"25974.0\", \"recall\": 0.0}, {\"count\": 85, \"cutoff\": 31, \"precision\": 0.0, \"regionidcity\": \"25974.0\", \"recall\": 0.0}, {\"count\": 85, \"cutoff\": 36, \"precision\": 0.0, \"regionidcity\": \"25974.0\", \"recall\": 0.0}, {\"count\": 85, \"cutoff\": 41, \"precision\": 0.0, \"regionidcity\": \"25974.0\", \"recall\": 0.0}, {\"count\": 85, \"cutoff\": 46, \"precision\": 0.0, \"regionidcity\": \"25974.0\", \"recall\": 0.0}, {\"count\": 12, \"cutoff\": 1, \"precision\": 0.0, \"regionidcity\": \"30267.0\", \"recall\": 0.0}, {\"count\": 12, \"cutoff\": 2, \"precision\": 0.5, \"regionidcity\": \"30267.0\", \"recall\": 0.08333333333333333}, {\"count\": 12, \"cutoff\": 3, \"precision\": 0.3333333333333333, \"regionidcity\": \"30267.0\", \"recall\": 0.08333333333333333}, {\"count\": 12, \"cutoff\": 4, \"precision\": 0.25, \"regionidcity\": \"30267.0\", \"recall\": 0.08333333333333333}, {\"count\": 12, \"cutoff\": 5, \"precision\": 0.2, \"regionidcity\": \"30267.0\", \"recall\": 0.08333333333333333}, {\"count\": 12, \"cutoff\": 6, \"precision\": 0.16666666666666666, \"regionidcity\": \"30267.0\", \"recall\": 0.08333333333333333}, {\"count\": 12, \"cutoff\": 7, \"precision\": 0.14285714285714285, \"regionidcity\": \"30267.0\", \"recall\": 0.08333333333333333}, {\"count\": 12, \"cutoff\": 8, \"precision\": 0.125, \"regionidcity\": \"30267.0\", \"recall\": 0.08333333333333333}, {\"count\": 12, \"cutoff\": 9, \"precision\": 0.1111111111111111, \"regionidcity\": \"30267.0\", \"recall\": 0.08333333333333333}, {\"count\": 12, \"cutoff\": 10, \"precision\": 0.1111111111111111, \"regionidcity\": \"30267.0\", \"recall\": 0.08333333333333333}, {\"count\": 12, \"cutoff\": 11, \"precision\": 0.1111111111111111, \"regionidcity\": \"30267.0\", \"recall\": 0.08333333333333333}, {\"count\": 12, \"cutoff\": 16, \"precision\": 0.1111111111111111, \"regionidcity\": \"30267.0\", \"recall\": 0.08333333333333333}, {\"count\": 12, \"cutoff\": 21, \"precision\": 0.1111111111111111, \"regionidcity\": \"30267.0\", \"recall\": 0.08333333333333333}, {\"count\": 12, \"cutoff\": 26, \"precision\": 0.1111111111111111, \"regionidcity\": \"30267.0\", \"recall\": 0.08333333333333333}, {\"count\": 12, \"cutoff\": 31, \"precision\": 0.1111111111111111, \"regionidcity\": \"30267.0\", \"recall\": 0.08333333333333333}, {\"count\": 12, \"cutoff\": 36, \"precision\": 0.1111111111111111, \"regionidcity\": \"30267.0\", \"recall\": 0.08333333333333333}, {\"count\": 12, \"cutoff\": 41, \"precision\": 0.1111111111111111, \"regionidcity\": \"30267.0\", \"recall\": 0.08333333333333333}, {\"count\": 12, \"cutoff\": 46, \"precision\": 0.1111111111111111, \"regionidcity\": \"30267.0\", \"recall\": 0.08333333333333333}, {\"count\": 14, \"cutoff\": 1, \"precision\": 0.0, \"regionidcity\": \"30399.0\", \"recall\": 0.0}, {\"count\": 14, \"cutoff\": 2, \"precision\": 0.0, \"regionidcity\": \"30399.0\", \"recall\": 0.0}, {\"count\": 14, \"cutoff\": 3, \"precision\": 0.0, \"regionidcity\": \"30399.0\", \"recall\": 0.0}, {\"count\": 14, \"cutoff\": 4, \"precision\": 0.0, \"regionidcity\": \"30399.0\", \"recall\": 0.0}, {\"count\": 14, \"cutoff\": 5, \"precision\": 0.0, \"regionidcity\": \"30399.0\", \"recall\": 0.0}, {\"count\": 14, \"cutoff\": 6, \"precision\": 0.0, \"regionidcity\": \"30399.0\", \"recall\": 0.0}, {\"count\": 14, \"cutoff\": 7, \"precision\": 0.0, \"regionidcity\": \"30399.0\", \"recall\": 0.0}, {\"count\": 14, \"cutoff\": 8, \"precision\": 0.0, \"regionidcity\": \"30399.0\", \"recall\": 0.0}, {\"count\": 14, \"cutoff\": 9, \"precision\": 0.0, \"regionidcity\": \"30399.0\", \"recall\": 0.0}, {\"count\": 14, \"cutoff\": 10, \"precision\": 0.0, \"regionidcity\": \"30399.0\", \"recall\": 0.0}, {\"count\": 14, \"cutoff\": 11, \"precision\": 0.0, \"regionidcity\": \"30399.0\", \"recall\": 0.0}, {\"count\": 14, \"cutoff\": 16, \"precision\": 0.0, \"regionidcity\": \"30399.0\", \"recall\": 0.0}, {\"count\": 14, \"cutoff\": 21, \"precision\": 0.0, \"regionidcity\": \"30399.0\", \"recall\": 0.0}, {\"count\": 14, \"cutoff\": 26, \"precision\": 0.0, \"regionidcity\": \"30399.0\", \"recall\": 0.0}, {\"count\": 14, \"cutoff\": 31, \"precision\": 0.0, \"regionidcity\": \"30399.0\", \"recall\": 0.0}, {\"count\": 14, \"cutoff\": 36, \"precision\": 0.0, \"regionidcity\": \"30399.0\", \"recall\": 0.0}, {\"count\": 14, \"cutoff\": 41, \"precision\": 0.0, \"regionidcity\": \"30399.0\", \"recall\": 0.0}, {\"count\": 14, \"cutoff\": 46, \"precision\": 0.0, \"regionidcity\": \"30399.0\", \"recall\": 0.0}, {\"count\": 3, \"cutoff\": 1, \"precision\": 0.0, \"regionidcity\": \"31134.0\", \"recall\": 0.0}, {\"count\": 3, \"cutoff\": 2, \"precision\": 0.0, \"regionidcity\": \"31134.0\", \"recall\": 0.0}, {\"count\": 3, \"cutoff\": 3, \"precision\": 0.0, \"regionidcity\": \"31134.0\", \"recall\": 0.0}, {\"count\": 3, \"cutoff\": 4, \"precision\": 0.0, \"regionidcity\": \"31134.0\", \"recall\": 0.0}, {\"count\": 3, \"cutoff\": 5, \"precision\": 0.0, \"regionidcity\": \"31134.0\", \"recall\": 0.0}, {\"count\": 3, \"cutoff\": 6, \"precision\": 0.0, \"regionidcity\": \"31134.0\", \"recall\": 0.0}, {\"count\": 3, \"cutoff\": 7, \"precision\": 0.0, \"regionidcity\": \"31134.0\", \"recall\": 0.0}, {\"count\": 3, \"cutoff\": 8, \"precision\": 0.0, \"regionidcity\": \"31134.0\", \"recall\": 0.0}, {\"count\": 3, \"cutoff\": 9, \"precision\": 0.0, \"regionidcity\": \"31134.0\", \"recall\": 0.0}, {\"count\": 3, \"cutoff\": 10, \"precision\": 0.0, \"regionidcity\": \"31134.0\", \"recall\": 0.0}, {\"count\": 3, \"cutoff\": 11, \"precision\": 0.0, \"regionidcity\": \"31134.0\", \"recall\": 0.0}, {\"count\": 3, \"cutoff\": 16, \"precision\": 0.0, \"regionidcity\": \"31134.0\", \"recall\": 0.0}, {\"count\": 3, \"cutoff\": 21, \"precision\": 0.0, \"regionidcity\": \"31134.0\", \"recall\": 0.0}, {\"count\": 3, \"cutoff\": 26, \"precision\": 0.0, \"regionidcity\": \"31134.0\", \"recall\": 0.0}, {\"count\": 3, \"cutoff\": 31, \"precision\": 0.0, \"regionidcity\": \"31134.0\", \"recall\": 0.0}, {\"count\": 3, \"cutoff\": 36, \"precision\": 0.0, \"regionidcity\": \"31134.0\", \"recall\": 0.0}, {\"count\": 3, \"cutoff\": 41, \"precision\": 0.0, \"regionidcity\": \"31134.0\", \"recall\": 0.0}, {\"count\": 3, \"cutoff\": 46, \"precision\": 0.0, \"regionidcity\": \"31134.0\", \"recall\": 0.0}, {\"count\": 2, \"cutoff\": 1, \"precision\": 0.0, \"regionidcity\": \"32927.0\", \"recall\": 0.0}, {\"count\": 2, \"cutoff\": 2, \"precision\": 0.0, \"regionidcity\": \"32927.0\", \"recall\": 0.0}, {\"count\": 2, \"cutoff\": 3, \"precision\": 0.0, \"regionidcity\": \"32927.0\", \"recall\": 0.0}, {\"count\": 2, \"cutoff\": 4, \"precision\": 0.0, \"regionidcity\": \"32927.0\", \"recall\": 0.0}, {\"count\": 2, \"cutoff\": 5, \"precision\": 0.0, \"regionidcity\": \"32927.0\", \"recall\": 0.0}, {\"count\": 2, \"cutoff\": 6, \"precision\": 0.0, \"regionidcity\": \"32927.0\", \"recall\": 0.0}, {\"count\": 2, \"cutoff\": 7, \"precision\": 0.0, \"regionidcity\": \"32927.0\", \"recall\": 0.0}, {\"count\": 2, \"cutoff\": 8, \"precision\": 0.0, \"regionidcity\": \"32927.0\", \"recall\": 0.0}, {\"count\": 2, \"cutoff\": 9, \"precision\": 0.0, \"regionidcity\": \"32927.0\", \"recall\": 0.0}, {\"count\": 2, \"cutoff\": 10, \"precision\": 0.0, \"regionidcity\": \"32927.0\", \"recall\": 0.0}, {\"count\": 2, \"cutoff\": 11, \"precision\": 0.0, \"regionidcity\": \"32927.0\", \"recall\": 0.0}, {\"count\": 2, \"cutoff\": 16, \"precision\": 0.0, \"regionidcity\": \"32927.0\", \"recall\": 0.0}, {\"count\": 2, \"cutoff\": 21, \"precision\": 0.0, \"regionidcity\": \"32927.0\", \"recall\": 0.0}, {\"count\": 2, \"cutoff\": 26, \"precision\": 0.0, \"regionidcity\": \"32927.0\", \"recall\": 0.0}, {\"count\": 2, \"cutoff\": 31, \"precision\": 0.0, \"regionidcity\": \"32927.0\", \"recall\": 0.0}, {\"count\": 2, \"cutoff\": 36, \"precision\": 0.0, \"regionidcity\": \"32927.0\", \"recall\": 0.0}, {\"count\": 2, \"cutoff\": 41, \"precision\": 0.0, \"regionidcity\": \"32927.0\", \"recall\": 0.0}, {\"count\": 2, \"cutoff\": 46, \"precision\": 0.0, \"regionidcity\": \"32927.0\", \"recall\": 0.0}, {\"count\": 2, \"cutoff\": 1, \"precision\": 0.0, \"regionidcity\": \"33312.0\", \"recall\": 0.0}, {\"count\": 2, \"cutoff\": 2, \"precision\": 0.0, \"regionidcity\": \"33312.0\", \"recall\": 0.0}, {\"count\": 2, \"cutoff\": 3, \"precision\": 0.0, \"regionidcity\": \"33312.0\", \"recall\": 0.0}, {\"count\": 2, \"cutoff\": 4, \"precision\": 0.0, \"regionidcity\": \"33312.0\", \"recall\": 0.0}, {\"count\": 2, \"cutoff\": 5, \"precision\": 0.0, \"regionidcity\": \"33312.0\", \"recall\": 0.0}, {\"count\": 2, \"cutoff\": 6, \"precision\": 0.0, \"regionidcity\": \"33312.0\", \"recall\": 0.0}, {\"count\": 2, \"cutoff\": 7, \"precision\": 0.0, \"regionidcity\": \"33312.0\", \"recall\": 0.0}, {\"count\": 2, \"cutoff\": 8, \"precision\": 0.0, \"regionidcity\": \"33312.0\", \"recall\": 0.0}, {\"count\": 2, \"cutoff\": 9, \"precision\": 0.0, \"regionidcity\": \"33312.0\", \"recall\": 0.0}, {\"count\": 2, \"cutoff\": 10, \"precision\": 0.0, \"regionidcity\": \"33312.0\", \"recall\": 0.0}, {\"count\": 2, \"cutoff\": 11, \"precision\": 0.0, \"regionidcity\": \"33312.0\", \"recall\": 0.0}, {\"count\": 2, \"cutoff\": 16, \"precision\": 0.0, \"regionidcity\": \"33312.0\", \"recall\": 0.0}, {\"count\": 2, \"cutoff\": 21, \"precision\": 0.0, \"regionidcity\": \"33312.0\", \"recall\": 0.0}, {\"count\": 2, \"cutoff\": 26, \"precision\": 0.0, \"regionidcity\": \"33312.0\", \"recall\": 0.0}, {\"count\": 2, \"cutoff\": 31, \"precision\": 0.0, \"regionidcity\": \"33312.0\", \"recall\": 0.0}, {\"count\": 2, \"cutoff\": 36, \"precision\": 0.0, \"regionidcity\": \"33312.0\", \"recall\": 0.0}, {\"count\": 2, \"cutoff\": 41, \"precision\": 0.0, \"regionidcity\": \"33312.0\", \"recall\": 0.0}, {\"count\": 2, \"cutoff\": 46, \"precision\": 0.0, \"regionidcity\": \"33312.0\", \"recall\": 0.0}, {\"count\": 212, \"cutoff\": 1, \"precision\": 0.0, \"regionidcity\": \"34543.0\", \"recall\": 0.0}, {\"count\": 212, \"cutoff\": 2, \"precision\": 0.0, \"regionidcity\": \"34543.0\", \"recall\": 0.0}, {\"count\": 212, \"cutoff\": 3, \"precision\": 0.0, \"regionidcity\": \"34543.0\", \"recall\": 0.0}, {\"count\": 212, \"cutoff\": 4, \"precision\": 0.25, \"regionidcity\": \"34543.0\", \"recall\": 0.0047169811320754715}, {\"count\": 212, \"cutoff\": 5, \"precision\": 0.2, \"regionidcity\": \"34543.0\", \"recall\": 0.0047169811320754715}, {\"count\": 212, \"cutoff\": 6, \"precision\": 0.16666666666666666, \"regionidcity\": \"34543.0\", \"recall\": 0.0047169811320754715}, {\"count\": 212, \"cutoff\": 7, \"precision\": 0.16666666666666666, \"regionidcity\": \"34543.0\", \"recall\": 0.0047169811320754715}, {\"count\": 212, \"cutoff\": 8, \"precision\": 0.16666666666666666, \"regionidcity\": \"34543.0\", \"recall\": 0.0047169811320754715}, {\"count\": 212, \"cutoff\": 9, \"precision\": 0.16666666666666666, \"regionidcity\": \"34543.0\", \"recall\": 0.0047169811320754715}, {\"count\": 212, \"cutoff\": 10, \"precision\": 0.16666666666666666, \"regionidcity\": \"34543.0\", \"recall\": 0.0047169811320754715}, {\"count\": 212, \"cutoff\": 11, \"precision\": 0.16666666666666666, \"regionidcity\": \"34543.0\", \"recall\": 0.0047169811320754715}, {\"count\": 212, \"cutoff\": 16, \"precision\": 0.16666666666666666, \"regionidcity\": \"34543.0\", \"recall\": 0.0047169811320754715}, {\"count\": 212, \"cutoff\": 21, \"precision\": 0.16666666666666666, \"regionidcity\": \"34543.0\", \"recall\": 0.0047169811320754715}, {\"count\": 212, \"cutoff\": 26, \"precision\": 0.16666666666666666, \"regionidcity\": \"34543.0\", \"recall\": 0.0047169811320754715}, {\"count\": 212, \"cutoff\": 31, \"precision\": 0.16666666666666666, \"regionidcity\": \"34543.0\", \"recall\": 0.0047169811320754715}, {\"count\": 212, \"cutoff\": 36, \"precision\": 0.16666666666666666, \"regionidcity\": \"34543.0\", \"recall\": 0.0047169811320754715}, {\"count\": 212, \"cutoff\": 41, \"precision\": 0.16666666666666666, \"regionidcity\": \"34543.0\", \"recall\": 0.0047169811320754715}, {\"count\": 212, \"cutoff\": 46, \"precision\": 0.16666666666666666, \"regionidcity\": \"34543.0\", \"recall\": 0.0047169811320754715}, {\"count\": 9, \"cutoff\": 1, \"precision\": 0.0, \"regionidcity\": \"3491.0\", \"recall\": 0.0}, {\"count\": 9, \"cutoff\": 2, \"precision\": 0.0, \"regionidcity\": \"3491.0\", \"recall\": 0.0}, {\"count\": 9, \"cutoff\": 3, \"precision\": 0.0, \"regionidcity\": \"3491.0\", \"recall\": 0.0}, {\"count\": 9, \"cutoff\": 4, \"precision\": 0.0, \"regionidcity\": \"3491.0\", \"recall\": 0.0}, {\"count\": 9, \"cutoff\": 5, \"precision\": 0.0, \"regionidcity\": \"3491.0\", \"recall\": 0.0}, {\"count\": 9, \"cutoff\": 6, \"precision\": 0.0, \"regionidcity\": \"3491.0\", \"recall\": 0.0}, {\"count\": 9, \"cutoff\": 7, \"precision\": 0.0, \"regionidcity\": \"3491.0\", \"recall\": 0.0}, {\"count\": 9, \"cutoff\": 8, \"precision\": 0.0, \"regionidcity\": \"3491.0\", \"recall\": 0.0}, {\"count\": 9, \"cutoff\": 9, \"precision\": 0.0, \"regionidcity\": \"3491.0\", \"recall\": 0.0}, {\"count\": 9, \"cutoff\": 10, \"precision\": 0.0, \"regionidcity\": \"3491.0\", \"recall\": 0.0}, {\"count\": 9, \"cutoff\": 11, \"precision\": 0.0, \"regionidcity\": \"3491.0\", \"recall\": 0.0}, {\"count\": 9, \"cutoff\": 16, \"precision\": 0.0, \"regionidcity\": \"3491.0\", \"recall\": 0.0}, {\"count\": 9, \"cutoff\": 21, \"precision\": 0.0, \"regionidcity\": \"3491.0\", \"recall\": 0.0}, {\"count\": 9, \"cutoff\": 26, \"precision\": 0.0, \"regionidcity\": \"3491.0\", \"recall\": 0.0}, {\"count\": 9, \"cutoff\": 31, \"precision\": 0.0, \"regionidcity\": \"3491.0\", \"recall\": 0.0}, {\"count\": 9, \"cutoff\": 36, \"precision\": 0.0, \"regionidcity\": \"3491.0\", \"recall\": 0.0}, {\"count\": 9, \"cutoff\": 41, \"precision\": 0.0, \"regionidcity\": \"3491.0\", \"recall\": 0.0}, {\"count\": 9, \"cutoff\": 46, \"precision\": 0.0, \"regionidcity\": \"3491.0\", \"recall\": 0.0}, {\"count\": 148, \"cutoff\": 1, \"precision\": 0.0, \"regionidcity\": \"37086.0\", \"recall\": 0.0}, {\"count\": 148, \"cutoff\": 2, \"precision\": 0.0, \"regionidcity\": \"37086.0\", \"recall\": 0.0}, {\"count\": 148, \"cutoff\": 3, \"precision\": 0.0, \"regionidcity\": \"37086.0\", \"recall\": 0.0}, {\"count\": 148, \"cutoff\": 4, \"precision\": 0.0, \"regionidcity\": \"37086.0\", \"recall\": 0.0}, {\"count\": 148, \"cutoff\": 5, \"precision\": 0.0, \"regionidcity\": \"37086.0\", \"recall\": 0.0}, {\"count\": 148, \"cutoff\": 6, \"precision\": 0.0, \"regionidcity\": \"37086.0\", \"recall\": 0.0}, {\"count\": 148, \"cutoff\": 7, \"precision\": 0.0, \"regionidcity\": \"37086.0\", \"recall\": 0.0}, {\"count\": 148, \"cutoff\": 8, \"precision\": 0.0, \"regionidcity\": \"37086.0\", \"recall\": 0.0}, {\"count\": 148, \"cutoff\": 9, \"precision\": 0.0, \"regionidcity\": \"37086.0\", \"recall\": 0.0}, {\"count\": 148, \"cutoff\": 10, \"precision\": 0.0, \"regionidcity\": \"37086.0\", \"recall\": 0.0}, {\"count\": 148, \"cutoff\": 11, \"precision\": 0.0, \"regionidcity\": \"37086.0\", \"recall\": 0.0}, {\"count\": 148, \"cutoff\": 16, \"precision\": 0.0, \"regionidcity\": \"37086.0\", \"recall\": 0.0}, {\"count\": 148, \"cutoff\": 21, \"precision\": 0.0, \"regionidcity\": \"37086.0\", \"recall\": 0.0}, {\"count\": 148, \"cutoff\": 26, \"precision\": 0.0, \"regionidcity\": \"37086.0\", \"recall\": 0.0}, {\"count\": 148, \"cutoff\": 31, \"precision\": 0.0, \"regionidcity\": \"37086.0\", \"recall\": 0.0}, {\"count\": 148, \"cutoff\": 36, \"precision\": 0.0, \"regionidcity\": \"37086.0\", \"recall\": 0.0}, {\"count\": 148, \"cutoff\": 41, \"precision\": 0.0, \"regionidcity\": \"37086.0\", \"recall\": 0.0}, {\"count\": 148, \"cutoff\": 46, \"precision\": 0.0, \"regionidcity\": \"37086.0\", \"recall\": 0.0}, {\"count\": 30, \"cutoff\": 1, \"precision\": 0.0, \"regionidcity\": \"396556.0\", \"recall\": 0.0}, {\"count\": 30, \"cutoff\": 2, \"precision\": 0.0, \"regionidcity\": \"396556.0\", \"recall\": 0.0}, {\"count\": 30, \"cutoff\": 3, \"precision\": 0.0, \"regionidcity\": \"396556.0\", \"recall\": 0.0}, {\"count\": 30, \"cutoff\": 4, \"precision\": 0.0, \"regionidcity\": \"396556.0\", \"recall\": 0.0}, {\"count\": 30, \"cutoff\": 5, \"precision\": 0.0, \"regionidcity\": \"396556.0\", \"recall\": 0.0}, {\"count\": 30, \"cutoff\": 6, \"precision\": 0.0, \"regionidcity\": \"396556.0\", \"recall\": 0.0}, {\"count\": 30, \"cutoff\": 7, \"precision\": 0.0, \"regionidcity\": \"396556.0\", \"recall\": 0.0}, {\"count\": 30, \"cutoff\": 8, \"precision\": 0.0, \"regionidcity\": \"396556.0\", \"recall\": 0.0}, {\"count\": 30, \"cutoff\": 9, \"precision\": 0.0, \"regionidcity\": \"396556.0\", \"recall\": 0.0}, {\"count\": 30, \"cutoff\": 10, \"precision\": 0.0, \"regionidcity\": \"396556.0\", \"recall\": 0.0}, {\"count\": 30, \"cutoff\": 11, \"precision\": 0.0, \"regionidcity\": \"396556.0\", \"recall\": 0.0}, {\"count\": 30, \"cutoff\": 16, \"precision\": 0.0, \"regionidcity\": \"396556.0\", \"recall\": 0.0}, {\"count\": 30, \"cutoff\": 21, \"precision\": 0.0, \"regionidcity\": \"396556.0\", \"recall\": 0.0}, {\"count\": 30, \"cutoff\": 26, \"precision\": 0.0, \"regionidcity\": \"396556.0\", \"recall\": 0.0}, {\"count\": 30, \"cutoff\": 31, \"precision\": 0.0, \"regionidcity\": \"396556.0\", \"recall\": 0.0}, {\"count\": 30, \"cutoff\": 36, \"precision\": 0.0, \"regionidcity\": \"396556.0\", \"recall\": 0.0}, {\"count\": 30, \"cutoff\": 41, \"precision\": 0.0, \"regionidcity\": \"396556.0\", \"recall\": 0.0}, {\"count\": 30, \"cutoff\": 46, \"precision\": 0.0, \"regionidcity\": \"396556.0\", \"recall\": 0.0}, {\"count\": 34, \"cutoff\": 1, \"precision\": 0.0, \"regionidcity\": \"40009.0\", \"recall\": 0.0}, {\"count\": 34, \"cutoff\": 2, \"precision\": 0.0, \"regionidcity\": \"40009.0\", \"recall\": 0.0}, {\"count\": 34, \"cutoff\": 3, \"precision\": 0.0, \"regionidcity\": \"40009.0\", \"recall\": 0.0}, {\"count\": 34, \"cutoff\": 4, \"precision\": 0.0, \"regionidcity\": \"40009.0\", \"recall\": 0.0}, {\"count\": 34, \"cutoff\": 5, \"precision\": 0.0, \"regionidcity\": \"40009.0\", \"recall\": 0.0}, {\"count\": 34, \"cutoff\": 6, \"precision\": 0.0, \"regionidcity\": \"40009.0\", \"recall\": 0.0}, {\"count\": 34, \"cutoff\": 7, \"precision\": 0.0, \"regionidcity\": \"40009.0\", \"recall\": 0.0}, {\"count\": 34, \"cutoff\": 8, \"precision\": 0.0, \"regionidcity\": \"40009.0\", \"recall\": 0.0}, {\"count\": 34, \"cutoff\": 9, \"precision\": 0.0, \"regionidcity\": \"40009.0\", \"recall\": 0.0}, {\"count\": 34, \"cutoff\": 10, \"precision\": 0.0, \"regionidcity\": \"40009.0\", \"recall\": 0.0}, {\"count\": 34, \"cutoff\": 11, \"precision\": 0.0, \"regionidcity\": \"40009.0\", \"recall\": 0.0}, {\"count\": 34, \"cutoff\": 16, \"precision\": 0.0, \"regionidcity\": \"40009.0\", \"recall\": 0.0}, {\"count\": 34, \"cutoff\": 21, \"precision\": 0.0, \"regionidcity\": \"40009.0\", \"recall\": 0.0}, {\"count\": 34, \"cutoff\": 26, \"precision\": 0.0, \"regionidcity\": \"40009.0\", \"recall\": 0.0}, {\"count\": 34, \"cutoff\": 31, \"precision\": 0.0, \"regionidcity\": \"40009.0\", \"recall\": 0.0}, {\"count\": 34, \"cutoff\": 36, \"precision\": 0.0, \"regionidcity\": \"40009.0\", \"recall\": 0.0}, {\"count\": 34, \"cutoff\": 41, \"precision\": 0.0, \"regionidcity\": \"40009.0\", \"recall\": 0.0}, {\"count\": 34, \"cutoff\": 46, \"precision\": 0.0, \"regionidcity\": \"40009.0\", \"recall\": 0.0}, {\"count\": 7, \"cutoff\": 1, \"precision\": 0.0, \"regionidcity\": \"42091.0\", \"recall\": 0.0}, {\"count\": 7, \"cutoff\": 2, \"precision\": 0.0, \"regionidcity\": \"42091.0\", \"recall\": 0.0}, {\"count\": 7, \"cutoff\": 3, \"precision\": 0.0, \"regionidcity\": \"42091.0\", \"recall\": 0.0}, {\"count\": 7, \"cutoff\": 4, \"precision\": 0.0, \"regionidcity\": \"42091.0\", \"recall\": 0.0}, {\"count\": 7, \"cutoff\": 5, \"precision\": 0.0, \"regionidcity\": \"42091.0\", \"recall\": 0.0}, {\"count\": 7, \"cutoff\": 6, \"precision\": 0.0, \"regionidcity\": \"42091.0\", \"recall\": 0.0}, {\"count\": 7, \"cutoff\": 7, \"precision\": 0.0, \"regionidcity\": \"42091.0\", \"recall\": 0.0}, {\"count\": 7, \"cutoff\": 8, \"precision\": 0.0, \"regionidcity\": \"42091.0\", \"recall\": 0.0}, {\"count\": 7, \"cutoff\": 9, \"precision\": 0.0, \"regionidcity\": \"42091.0\", \"recall\": 0.0}, {\"count\": 7, \"cutoff\": 10, \"precision\": 0.0, \"regionidcity\": \"42091.0\", \"recall\": 0.0}, {\"count\": 7, \"cutoff\": 11, \"precision\": 0.0, \"regionidcity\": \"42091.0\", \"recall\": 0.0}, {\"count\": 7, \"cutoff\": 16, \"precision\": 0.0, \"regionidcity\": \"42091.0\", \"recall\": 0.0}, {\"count\": 7, \"cutoff\": 21, \"precision\": 0.0, \"regionidcity\": \"42091.0\", \"recall\": 0.0}, {\"count\": 7, \"cutoff\": 26, \"precision\": 0.0, \"regionidcity\": \"42091.0\", \"recall\": 0.0}, {\"count\": 7, \"cutoff\": 31, \"precision\": 0.0, \"regionidcity\": \"42091.0\", \"recall\": 0.0}, {\"count\": 7, \"cutoff\": 36, \"precision\": 0.0, \"regionidcity\": \"42091.0\", \"recall\": 0.0}, {\"count\": 7, \"cutoff\": 41, \"precision\": 0.0, \"regionidcity\": \"42091.0\", \"recall\": 0.0}, {\"count\": 7, \"cutoff\": 46, \"precision\": 0.0, \"regionidcity\": \"42091.0\", \"recall\": 0.0}, {\"count\": 68, \"cutoff\": 1, \"precision\": 0.0, \"regionidcity\": \"42150.0\", \"recall\": 0.0}, {\"count\": 68, \"cutoff\": 2, \"precision\": 0.0, \"regionidcity\": \"42150.0\", \"recall\": 0.0}, {\"count\": 68, \"cutoff\": 3, \"precision\": 0.0, \"regionidcity\": \"42150.0\", \"recall\": 0.0}, {\"count\": 68, \"cutoff\": 4, \"precision\": 0.0, \"regionidcity\": \"42150.0\", \"recall\": 0.0}, {\"count\": 68, \"cutoff\": 5, \"precision\": 0.0, \"regionidcity\": \"42150.0\", \"recall\": 0.0}, {\"count\": 68, \"cutoff\": 6, \"precision\": 0.0, \"regionidcity\": \"42150.0\", \"recall\": 0.0}, {\"count\": 68, \"cutoff\": 7, \"precision\": 0.0, \"regionidcity\": \"42150.0\", \"recall\": 0.0}, {\"count\": 68, \"cutoff\": 8, \"precision\": 0.0, \"regionidcity\": \"42150.0\", \"recall\": 0.0}, {\"count\": 68, \"cutoff\": 9, \"precision\": 0.0, \"regionidcity\": \"42150.0\", \"recall\": 0.0}, {\"count\": 68, \"cutoff\": 10, \"precision\": 0.0, \"regionidcity\": \"42150.0\", \"recall\": 0.0}, {\"count\": 68, \"cutoff\": 11, \"precision\": 0.0, \"regionidcity\": \"42150.0\", \"recall\": 0.0}, {\"count\": 68, \"cutoff\": 16, \"precision\": 0.0, \"regionidcity\": \"42150.0\", \"recall\": 0.0}, {\"count\": 68, \"cutoff\": 21, \"precision\": 0.0, \"regionidcity\": \"42150.0\", \"recall\": 0.0}, {\"count\": 68, \"cutoff\": 26, \"precision\": 0.0, \"regionidcity\": \"42150.0\", \"recall\": 0.0}, {\"count\": 68, \"cutoff\": 31, \"precision\": 0.0, \"regionidcity\": \"42150.0\", \"recall\": 0.0}, {\"count\": 68, \"cutoff\": 36, \"precision\": 0.0, \"regionidcity\": \"42150.0\", \"recall\": 0.0}, {\"count\": 68, \"cutoff\": 41, \"precision\": 0.0, \"regionidcity\": \"42150.0\", \"recall\": 0.0}, {\"count\": 68, \"cutoff\": 46, \"precision\": 0.0, \"regionidcity\": \"42150.0\", \"recall\": 0.0}, {\"count\": 97, \"cutoff\": 1, \"precision\": 1.0, \"regionidcity\": \"4406.0\", \"recall\": 0.010309278350515464}, {\"count\": 97, \"cutoff\": 2, \"precision\": 0.5, \"regionidcity\": \"4406.0\", \"recall\": 0.010309278350515464}, {\"count\": 97, \"cutoff\": 3, \"precision\": 0.3333333333333333, \"regionidcity\": \"4406.0\", \"recall\": 0.010309278350515464}, {\"count\": 97, \"cutoff\": 4, \"precision\": 0.25, \"regionidcity\": \"4406.0\", \"recall\": 0.010309278350515464}, {\"count\": 97, \"cutoff\": 5, \"precision\": 0.2, \"regionidcity\": \"4406.0\", \"recall\": 0.010309278350515464}, {\"count\": 97, \"cutoff\": 6, \"precision\": 0.16666666666666666, \"regionidcity\": \"4406.0\", \"recall\": 0.010309278350515464}, {\"count\": 97, \"cutoff\": 7, \"precision\": 0.14285714285714285, \"regionidcity\": \"4406.0\", \"recall\": 0.010309278350515464}, {\"count\": 97, \"cutoff\": 8, \"precision\": 0.125, \"regionidcity\": \"4406.0\", \"recall\": 0.010309278350515464}, {\"count\": 97, \"cutoff\": 9, \"precision\": 0.1111111111111111, \"regionidcity\": \"4406.0\", \"recall\": 0.010309278350515464}, {\"count\": 97, \"cutoff\": 10, \"precision\": 0.1111111111111111, \"regionidcity\": \"4406.0\", \"recall\": 0.010309278350515464}, {\"count\": 97, \"cutoff\": 11, \"precision\": 0.1111111111111111, \"regionidcity\": \"4406.0\", \"recall\": 0.010309278350515464}, {\"count\": 97, \"cutoff\": 16, \"precision\": 0.1111111111111111, \"regionidcity\": \"4406.0\", \"recall\": 0.010309278350515464}, {\"count\": 97, \"cutoff\": 21, \"precision\": 0.1111111111111111, \"regionidcity\": \"4406.0\", \"recall\": 0.010309278350515464}, {\"count\": 97, \"cutoff\": 26, \"precision\": 0.1111111111111111, \"regionidcity\": \"4406.0\", \"recall\": 0.010309278350515464}, {\"count\": 97, \"cutoff\": 31, \"precision\": 0.1111111111111111, \"regionidcity\": \"4406.0\", \"recall\": 0.010309278350515464}, {\"count\": 97, \"cutoff\": 36, \"precision\": 0.1111111111111111, \"regionidcity\": \"4406.0\", \"recall\": 0.010309278350515464}, {\"count\": 97, \"cutoff\": 41, \"precision\": 0.1111111111111111, \"regionidcity\": \"4406.0\", \"recall\": 0.010309278350515464}, {\"count\": 97, \"cutoff\": 46, \"precision\": 0.1111111111111111, \"regionidcity\": \"4406.0\", \"recall\": 0.010309278350515464}, {\"count\": 53, \"cutoff\": 1, \"precision\": 0.0, \"regionidcity\": \"44116.0\", \"recall\": 0.0}, {\"count\": 53, \"cutoff\": 2, \"precision\": 0.0, \"regionidcity\": \"44116.0\", \"recall\": 0.0}, {\"count\": 53, \"cutoff\": 3, \"precision\": 0.0, \"regionidcity\": \"44116.0\", \"recall\": 0.0}, {\"count\": 53, \"cutoff\": 4, \"precision\": 0.0, \"regionidcity\": \"44116.0\", \"recall\": 0.0}, {\"count\": 53, \"cutoff\": 5, \"precision\": 0.0, \"regionidcity\": \"44116.0\", \"recall\": 0.0}, {\"count\": 53, \"cutoff\": 6, \"precision\": 0.0, \"regionidcity\": \"44116.0\", \"recall\": 0.0}, {\"count\": 53, \"cutoff\": 7, \"precision\": 0.0, \"regionidcity\": \"44116.0\", \"recall\": 0.0}, {\"count\": 53, \"cutoff\": 8, \"precision\": 0.0, \"regionidcity\": \"44116.0\", \"recall\": 0.0}, {\"count\": 53, \"cutoff\": 9, \"precision\": 0.0, \"regionidcity\": \"44116.0\", \"recall\": 0.0}, {\"count\": 53, \"cutoff\": 10, \"precision\": 0.0, \"regionidcity\": \"44116.0\", \"recall\": 0.0}, {\"count\": 53, \"cutoff\": 11, \"precision\": 0.0, \"regionidcity\": \"44116.0\", \"recall\": 0.0}, {\"count\": 53, \"cutoff\": 16, \"precision\": 0.0, \"regionidcity\": \"44116.0\", \"recall\": 0.0}, {\"count\": 53, \"cutoff\": 21, \"precision\": 0.0, \"regionidcity\": \"44116.0\", \"recall\": 0.0}, {\"count\": 53, \"cutoff\": 26, \"precision\": 0.0, \"regionidcity\": \"44116.0\", \"recall\": 0.0}, {\"count\": 53, \"cutoff\": 31, \"precision\": 0.0, \"regionidcity\": \"44116.0\", \"recall\": 0.0}, {\"count\": 53, \"cutoff\": 36, \"precision\": 0.0, \"regionidcity\": \"44116.0\", \"recall\": 0.0}, {\"count\": 53, \"cutoff\": 41, \"precision\": 0.0, \"regionidcity\": \"44116.0\", \"recall\": 0.0}, {\"count\": 53, \"cutoff\": 46, \"precision\": 0.0, \"regionidcity\": \"44116.0\", \"recall\": 0.0}, {\"count\": 49, \"cutoff\": 1, \"precision\": 0.0, \"regionidcity\": \"45398.0\", \"recall\": 0.0}, {\"count\": 49, \"cutoff\": 2, \"precision\": 0.0, \"regionidcity\": \"45398.0\", \"recall\": 0.0}, {\"count\": 49, \"cutoff\": 3, \"precision\": 0.0, \"regionidcity\": \"45398.0\", \"recall\": 0.0}, {\"count\": 49, \"cutoff\": 4, \"precision\": 0.0, \"regionidcity\": \"45398.0\", \"recall\": 0.0}, {\"count\": 49, \"cutoff\": 5, \"precision\": 0.0, \"regionidcity\": \"45398.0\", \"recall\": 0.0}, {\"count\": 49, \"cutoff\": 6, \"precision\": 0.0, \"regionidcity\": \"45398.0\", \"recall\": 0.0}, {\"count\": 49, \"cutoff\": 7, \"precision\": 0.0, \"regionidcity\": \"45398.0\", \"recall\": 0.0}, {\"count\": 49, \"cutoff\": 8, \"precision\": 0.0, \"regionidcity\": \"45398.0\", \"recall\": 0.0}, {\"count\": 49, \"cutoff\": 9, \"precision\": 0.0, \"regionidcity\": \"45398.0\", \"recall\": 0.0}, {\"count\": 49, \"cutoff\": 10, \"precision\": 0.0, \"regionidcity\": \"45398.0\", \"recall\": 0.0}, {\"count\": 49, \"cutoff\": 11, \"precision\": 0.0, \"regionidcity\": \"45398.0\", \"recall\": 0.0}, {\"count\": 49, \"cutoff\": 16, \"precision\": 0.0, \"regionidcity\": \"45398.0\", \"recall\": 0.0}, {\"count\": 49, \"cutoff\": 21, \"precision\": 0.0, \"regionidcity\": \"45398.0\", \"recall\": 0.0}, {\"count\": 49, \"cutoff\": 26, \"precision\": 0.0, \"regionidcity\": \"45398.0\", \"recall\": 0.0}, {\"count\": 49, \"cutoff\": 31, \"precision\": 0.0, \"regionidcity\": \"45398.0\", \"recall\": 0.0}, {\"count\": 49, \"cutoff\": 36, \"precision\": 0.0, \"regionidcity\": \"45398.0\", \"recall\": 0.0}, {\"count\": 49, \"cutoff\": 41, \"precision\": 0.0, \"regionidcity\": \"45398.0\", \"recall\": 0.0}, {\"count\": 49, \"cutoff\": 46, \"precision\": 0.0, \"regionidcity\": \"45398.0\", \"recall\": 0.0}, {\"count\": 210, \"cutoff\": 1, \"precision\": 0.0, \"regionidcity\": \"45457.0\", \"recall\": 0.0}, {\"count\": 210, \"cutoff\": 2, \"precision\": 0.0, \"regionidcity\": \"45457.0\", \"recall\": 0.0}, {\"count\": 210, \"cutoff\": 3, \"precision\": 0.0, \"regionidcity\": \"45457.0\", \"recall\": 0.0}, {\"count\": 210, \"cutoff\": 4, \"precision\": 0.0, \"regionidcity\": \"45457.0\", \"recall\": 0.0}, {\"count\": 210, \"cutoff\": 5, \"precision\": 0.0, \"regionidcity\": \"45457.0\", \"recall\": 0.0}, {\"count\": 210, \"cutoff\": 6, \"precision\": 0.0, \"regionidcity\": \"45457.0\", \"recall\": 0.0}, {\"count\": 210, \"cutoff\": 7, \"precision\": 0.0, \"regionidcity\": \"45457.0\", \"recall\": 0.0}, {\"count\": 210, \"cutoff\": 8, \"precision\": 0.0, \"regionidcity\": \"45457.0\", \"recall\": 0.0}, {\"count\": 210, \"cutoff\": 9, \"precision\": 0.0, \"regionidcity\": \"45457.0\", \"recall\": 0.0}, {\"count\": 210, \"cutoff\": 10, \"precision\": 0.0, \"regionidcity\": \"45457.0\", \"recall\": 0.0}, {\"count\": 210, \"cutoff\": 11, \"precision\": 0.0, \"regionidcity\": \"45457.0\", \"recall\": 0.0}, {\"count\": 210, \"cutoff\": 16, \"precision\": 0.0, \"regionidcity\": \"45457.0\", \"recall\": 0.0}, {\"count\": 210, \"cutoff\": 21, \"precision\": 0.0, \"regionidcity\": \"45457.0\", \"recall\": 0.0}, {\"count\": 210, \"cutoff\": 26, \"precision\": 0.0, \"regionidcity\": \"45457.0\", \"recall\": 0.0}, {\"count\": 210, \"cutoff\": 31, \"precision\": 0.0, \"regionidcity\": \"45457.0\", \"recall\": 0.0}, {\"count\": 210, \"cutoff\": 36, \"precision\": 0.0, \"regionidcity\": \"45457.0\", \"recall\": 0.0}, {\"count\": 210, \"cutoff\": 41, \"precision\": 0.0, \"regionidcity\": \"45457.0\", \"recall\": 0.0}, {\"count\": 210, \"cutoff\": 46, \"precision\": 0.0, \"regionidcity\": \"45457.0\", \"recall\": 0.0}, {\"count\": 66, \"cutoff\": 1, \"precision\": 0.0, \"regionidcity\": \"45888.0\", \"recall\": 0.0}, {\"count\": 66, \"cutoff\": 2, \"precision\": 0.0, \"regionidcity\": \"45888.0\", \"recall\": 0.0}, {\"count\": 66, \"cutoff\": 3, \"precision\": 0.0, \"regionidcity\": \"45888.0\", \"recall\": 0.0}, {\"count\": 66, \"cutoff\": 4, \"precision\": 0.0, \"regionidcity\": \"45888.0\", \"recall\": 0.0}, {\"count\": 66, \"cutoff\": 5, \"precision\": 0.0, \"regionidcity\": \"45888.0\", \"recall\": 0.0}, {\"count\": 66, \"cutoff\": 6, \"precision\": 0.0, \"regionidcity\": \"45888.0\", \"recall\": 0.0}, {\"count\": 66, \"cutoff\": 7, \"precision\": 0.0, \"regionidcity\": \"45888.0\", \"recall\": 0.0}, {\"count\": 66, \"cutoff\": 8, \"precision\": 0.0, \"regionidcity\": \"45888.0\", \"recall\": 0.0}, {\"count\": 66, \"cutoff\": 9, \"precision\": 0.0, \"regionidcity\": \"45888.0\", \"recall\": 0.0}, {\"count\": 66, \"cutoff\": 10, \"precision\": 0.0, \"regionidcity\": \"45888.0\", \"recall\": 0.0}, {\"count\": 66, \"cutoff\": 11, \"precision\": 0.0, \"regionidcity\": \"45888.0\", \"recall\": 0.0}, {\"count\": 66, \"cutoff\": 16, \"precision\": 0.0, \"regionidcity\": \"45888.0\", \"recall\": 0.0}, {\"count\": 66, \"cutoff\": 21, \"precision\": 0.0, \"regionidcity\": \"45888.0\", \"recall\": 0.0}, {\"count\": 66, \"cutoff\": 26, \"precision\": 0.0, \"regionidcity\": \"45888.0\", \"recall\": 0.0}, {\"count\": 66, \"cutoff\": 31, \"precision\": 0.0, \"regionidcity\": \"45888.0\", \"recall\": 0.0}, {\"count\": 66, \"cutoff\": 36, \"precision\": 0.0, \"regionidcity\": \"45888.0\", \"recall\": 0.0}, {\"count\": 66, \"cutoff\": 41, \"precision\": 0.0, \"regionidcity\": \"45888.0\", \"recall\": 0.0}, {\"count\": 66, \"cutoff\": 46, \"precision\": 0.0, \"regionidcity\": \"45888.0\", \"recall\": 0.0}, {\"count\": 230, \"cutoff\": 1, \"precision\": 0.0, \"regionidcity\": \"47568.0\", \"recall\": 0.0}, {\"count\": 230, \"cutoff\": 2, \"precision\": 0.0, \"regionidcity\": \"47568.0\", \"recall\": 0.0}, {\"count\": 230, \"cutoff\": 3, \"precision\": 0.0, \"regionidcity\": \"47568.0\", \"recall\": 0.0}, {\"count\": 230, \"cutoff\": 4, \"precision\": 0.0, \"regionidcity\": \"47568.0\", \"recall\": 0.0}, {\"count\": 230, \"cutoff\": 5, \"precision\": 0.0, \"regionidcity\": \"47568.0\", \"recall\": 0.0}, {\"count\": 230, \"cutoff\": 6, \"precision\": 0.0, \"regionidcity\": \"47568.0\", \"recall\": 0.0}, {\"count\": 230, \"cutoff\": 7, \"precision\": 0.0, \"regionidcity\": \"47568.0\", \"recall\": 0.0}, {\"count\": 230, \"cutoff\": 8, \"precision\": 0.0, \"regionidcity\": \"47568.0\", \"recall\": 0.0}, {\"count\": 230, \"cutoff\": 9, \"precision\": 0.0, \"regionidcity\": \"47568.0\", \"recall\": 0.0}, {\"count\": 230, \"cutoff\": 10, \"precision\": 0.0, \"regionidcity\": \"47568.0\", \"recall\": 0.0}, {\"count\": 230, \"cutoff\": 11, \"precision\": 0.0, \"regionidcity\": \"47568.0\", \"recall\": 0.0}, {\"count\": 230, \"cutoff\": 16, \"precision\": 0.0, \"regionidcity\": \"47568.0\", \"recall\": 0.0}, {\"count\": 230, \"cutoff\": 21, \"precision\": 0.0, \"regionidcity\": \"47568.0\", \"recall\": 0.0}, {\"count\": 230, \"cutoff\": 26, \"precision\": 0.0, \"regionidcity\": \"47568.0\", \"recall\": 0.0}, {\"count\": 230, \"cutoff\": 31, \"precision\": 0.0, \"regionidcity\": \"47568.0\", \"recall\": 0.0}, {\"count\": 230, \"cutoff\": 36, \"precision\": 0.0, \"regionidcity\": \"47568.0\", \"recall\": 0.0}, {\"count\": 230, \"cutoff\": 41, \"precision\": 0.0, \"regionidcity\": \"47568.0\", \"recall\": 0.0}, {\"count\": 230, \"cutoff\": 46, \"precision\": 0.0, \"regionidcity\": \"47568.0\", \"recall\": 0.0}, {\"count\": 186, \"cutoff\": 1, \"precision\": 0.0, \"regionidcity\": \"51239.0\", \"recall\": 0.0}, {\"count\": 186, \"cutoff\": 2, \"precision\": 0.0, \"regionidcity\": \"51239.0\", \"recall\": 0.0}, {\"count\": 186, \"cutoff\": 3, \"precision\": 0.0, \"regionidcity\": \"51239.0\", \"recall\": 0.0}, {\"count\": 186, \"cutoff\": 4, \"precision\": 0.0, \"regionidcity\": \"51239.0\", \"recall\": 0.0}, {\"count\": 186, \"cutoff\": 5, \"precision\": 0.0, \"regionidcity\": \"51239.0\", \"recall\": 0.0}, {\"count\": 186, \"cutoff\": 6, \"precision\": 0.0, \"regionidcity\": \"51239.0\", \"recall\": 0.0}, {\"count\": 186, \"cutoff\": 7, \"precision\": 0.0, \"regionidcity\": \"51239.0\", \"recall\": 0.0}, {\"count\": 186, \"cutoff\": 8, \"precision\": 0.0, \"regionidcity\": \"51239.0\", \"recall\": 0.0}, {\"count\": 186, \"cutoff\": 9, \"precision\": 0.0, \"regionidcity\": \"51239.0\", \"recall\": 0.0}, {\"count\": 186, \"cutoff\": 10, \"precision\": 0.0, \"regionidcity\": \"51239.0\", \"recall\": 0.0}, {\"count\": 186, \"cutoff\": 11, \"precision\": 0.0, \"regionidcity\": \"51239.0\", \"recall\": 0.0}, {\"count\": 186, \"cutoff\": 16, \"precision\": 0.0, \"regionidcity\": \"51239.0\", \"recall\": 0.0}, {\"count\": 186, \"cutoff\": 21, \"precision\": 0.0, \"regionidcity\": \"51239.0\", \"recall\": 0.0}, {\"count\": 186, \"cutoff\": 26, \"precision\": 0.0, \"regionidcity\": \"51239.0\", \"recall\": 0.0}, {\"count\": 186, \"cutoff\": 31, \"precision\": 0.0, \"regionidcity\": \"51239.0\", \"recall\": 0.0}, {\"count\": 186, \"cutoff\": 36, \"precision\": 0.0, \"regionidcity\": \"51239.0\", \"recall\": 0.0}, {\"count\": 186, \"cutoff\": 41, \"precision\": 0.0, \"regionidcity\": \"51239.0\", \"recall\": 0.0}, {\"count\": 186, \"cutoff\": 46, \"precision\": 0.0, \"regionidcity\": \"51239.0\", \"recall\": 0.0}, {\"count\": 26, \"cutoff\": 1, \"precision\": 0.0, \"regionidcity\": \"53027.0\", \"recall\": 0.0}, {\"count\": 26, \"cutoff\": 2, \"precision\": 0.0, \"regionidcity\": \"53027.0\", \"recall\": 0.0}, {\"count\": 26, \"cutoff\": 3, \"precision\": 0.0, \"regionidcity\": \"53027.0\", \"recall\": 0.0}, {\"count\": 26, \"cutoff\": 4, \"precision\": 0.0, \"regionidcity\": \"53027.0\", \"recall\": 0.0}, {\"count\": 26, \"cutoff\": 5, \"precision\": 0.0, \"regionidcity\": \"53027.0\", \"recall\": 0.0}, {\"count\": 26, \"cutoff\": 6, \"precision\": 0.0, \"regionidcity\": \"53027.0\", \"recall\": 0.0}, {\"count\": 26, \"cutoff\": 7, \"precision\": 0.0, \"regionidcity\": \"53027.0\", \"recall\": 0.0}, {\"count\": 26, \"cutoff\": 8, \"precision\": 0.0, \"regionidcity\": \"53027.0\", \"recall\": 0.0}, {\"count\": 26, \"cutoff\": 9, \"precision\": 0.0, \"regionidcity\": \"53027.0\", \"recall\": 0.0}, {\"count\": 26, \"cutoff\": 10, \"precision\": 0.0, \"regionidcity\": \"53027.0\", \"recall\": 0.0}, {\"count\": 26, \"cutoff\": 11, \"precision\": 0.0, \"regionidcity\": \"53027.0\", \"recall\": 0.0}, {\"count\": 26, \"cutoff\": 16, \"precision\": 0.0, \"regionidcity\": \"53027.0\", \"recall\": 0.0}, {\"count\": 26, \"cutoff\": 21, \"precision\": 0.0, \"regionidcity\": \"53027.0\", \"recall\": 0.0}, {\"count\": 26, \"cutoff\": 26, \"precision\": 0.0, \"regionidcity\": \"53027.0\", \"recall\": 0.0}, {\"count\": 26, \"cutoff\": 31, \"precision\": 0.0, \"regionidcity\": \"53027.0\", \"recall\": 0.0}, {\"count\": 26, \"cutoff\": 36, \"precision\": 0.0, \"regionidcity\": \"53027.0\", \"recall\": 0.0}, {\"count\": 26, \"cutoff\": 41, \"precision\": 0.0, \"regionidcity\": \"53027.0\", \"recall\": 0.0}, {\"count\": 26, \"cutoff\": 46, \"precision\": 0.0, \"regionidcity\": \"53027.0\", \"recall\": 0.0}, {\"count\": 83, \"cutoff\": 1, \"precision\": 0.0, \"regionidcity\": \"5465.0\", \"recall\": 0.0}, {\"count\": 83, \"cutoff\": 2, \"precision\": 0.0, \"regionidcity\": \"5465.0\", \"recall\": 0.0}, {\"count\": 83, \"cutoff\": 3, \"precision\": 0.0, \"regionidcity\": \"5465.0\", \"recall\": 0.0}, {\"count\": 83, \"cutoff\": 4, \"precision\": 0.0, \"regionidcity\": \"5465.0\", \"recall\": 0.0}, {\"count\": 83, \"cutoff\": 5, \"precision\": 0.0, \"regionidcity\": \"5465.0\", \"recall\": 0.0}, {\"count\": 83, \"cutoff\": 6, \"precision\": 0.0, \"regionidcity\": \"5465.0\", \"recall\": 0.0}, {\"count\": 83, \"cutoff\": 7, \"precision\": 0.0, \"regionidcity\": \"5465.0\", \"recall\": 0.0}, {\"count\": 83, \"cutoff\": 8, \"precision\": 0.0, \"regionidcity\": \"5465.0\", \"recall\": 0.0}, {\"count\": 83, \"cutoff\": 9, \"precision\": 0.0, \"regionidcity\": \"5465.0\", \"recall\": 0.0}, {\"count\": 83, \"cutoff\": 10, \"precision\": 0.0, \"regionidcity\": \"5465.0\", \"recall\": 0.0}, {\"count\": 83, \"cutoff\": 11, \"precision\": 0.0, \"regionidcity\": \"5465.0\", \"recall\": 0.0}, {\"count\": 83, \"cutoff\": 16, \"precision\": 0.0, \"regionidcity\": \"5465.0\", \"recall\": 0.0}, {\"count\": 83, \"cutoff\": 21, \"precision\": 0.0, \"regionidcity\": \"5465.0\", \"recall\": 0.0}, {\"count\": 83, \"cutoff\": 26, \"precision\": 0.0, \"regionidcity\": \"5465.0\", \"recall\": 0.0}, {\"count\": 83, \"cutoff\": 31, \"precision\": 0.0, \"regionidcity\": \"5465.0\", \"recall\": 0.0}, {\"count\": 83, \"cutoff\": 36, \"precision\": 0.0, \"regionidcity\": \"5465.0\", \"recall\": 0.0}, {\"count\": 83, \"cutoff\": 41, \"precision\": 0.0, \"regionidcity\": \"5465.0\", \"recall\": 0.0}, {\"count\": 83, \"cutoff\": 46, \"precision\": 0.0, \"regionidcity\": \"5465.0\", \"recall\": 0.0}, {\"count\": 10, \"cutoff\": 1, \"precision\": 0.0, \"regionidcity\": \"54970.0\", \"recall\": 0.0}, {\"count\": 10, \"cutoff\": 2, \"precision\": 0.0, \"regionidcity\": \"54970.0\", \"recall\": 0.0}, {\"count\": 10, \"cutoff\": 3, \"precision\": 0.0, \"regionidcity\": \"54970.0\", \"recall\": 0.0}, {\"count\": 10, \"cutoff\": 4, \"precision\": 0.0, \"regionidcity\": \"54970.0\", \"recall\": 0.0}, {\"count\": 10, \"cutoff\": 5, \"precision\": 0.0, \"regionidcity\": \"54970.0\", \"recall\": 0.0}, {\"count\": 10, \"cutoff\": 6, \"precision\": 0.0, \"regionidcity\": \"54970.0\", \"recall\": 0.0}, {\"count\": 10, \"cutoff\": 7, \"precision\": 0.0, \"regionidcity\": \"54970.0\", \"recall\": 0.0}, {\"count\": 10, \"cutoff\": 8, \"precision\": 0.0, \"regionidcity\": \"54970.0\", \"recall\": 0.0}, {\"count\": 10, \"cutoff\": 9, \"precision\": 0.0, \"regionidcity\": \"54970.0\", \"recall\": 0.0}, {\"count\": 10, \"cutoff\": 10, \"precision\": 0.0, \"regionidcity\": \"54970.0\", \"recall\": 0.0}, {\"count\": 10, \"cutoff\": 11, \"precision\": 0.0, \"regionidcity\": \"54970.0\", \"recall\": 0.0}, {\"count\": 10, \"cutoff\": 16, \"precision\": 0.0, \"regionidcity\": \"54970.0\", \"recall\": 0.0}, {\"count\": 10, \"cutoff\": 21, \"precision\": 0.0, \"regionidcity\": \"54970.0\", \"recall\": 0.0}, {\"count\": 10, \"cutoff\": 26, \"precision\": 0.0, \"regionidcity\": \"54970.0\", \"recall\": 0.0}, {\"count\": 10, \"cutoff\": 31, \"precision\": 0.0, \"regionidcity\": \"54970.0\", \"recall\": 0.0}, {\"count\": 10, \"cutoff\": 36, \"precision\": 0.0, \"regionidcity\": \"54970.0\", \"recall\": 0.0}, {\"count\": 10, \"cutoff\": 41, \"precision\": 0.0, \"regionidcity\": \"54970.0\", \"recall\": 0.0}, {\"count\": 10, \"cutoff\": 46, \"precision\": 0.0, \"regionidcity\": \"54970.0\", \"recall\": 0.0}, {\"count\": 12, \"cutoff\": 1, \"precision\": 0.0, \"regionidcity\": \"56780.0\", \"recall\": 0.0}, {\"count\": 12, \"cutoff\": 2, \"precision\": 0.0, \"regionidcity\": \"56780.0\", \"recall\": 0.0}, {\"count\": 12, \"cutoff\": 3, \"precision\": 0.0, \"regionidcity\": \"56780.0\", \"recall\": 0.0}, {\"count\": 12, \"cutoff\": 4, \"precision\": 0.0, \"regionidcity\": \"56780.0\", \"recall\": 0.0}, {\"count\": 12, \"cutoff\": 5, \"precision\": 0.0, \"regionidcity\": \"56780.0\", \"recall\": 0.0}, {\"count\": 12, \"cutoff\": 6, \"precision\": 0.0, \"regionidcity\": \"56780.0\", \"recall\": 0.0}, {\"count\": 12, \"cutoff\": 7, \"precision\": 0.0, \"regionidcity\": \"56780.0\", \"recall\": 0.0}, {\"count\": 12, \"cutoff\": 8, \"precision\": 0.0, \"regionidcity\": \"56780.0\", \"recall\": 0.0}, {\"count\": 12, \"cutoff\": 9, \"precision\": 0.0, \"regionidcity\": \"56780.0\", \"recall\": 0.0}, {\"count\": 12, \"cutoff\": 10, \"precision\": 0.0, \"regionidcity\": \"56780.0\", \"recall\": 0.0}, {\"count\": 12, \"cutoff\": 11, \"precision\": 0.0, \"regionidcity\": \"56780.0\", \"recall\": 0.0}, {\"count\": 12, \"cutoff\": 16, \"precision\": 0.0, \"regionidcity\": \"56780.0\", \"recall\": 0.0}, {\"count\": 12, \"cutoff\": 21, \"precision\": 0.0, \"regionidcity\": \"56780.0\", \"recall\": 0.0}, {\"count\": 12, \"cutoff\": 26, \"precision\": 0.0, \"regionidcity\": \"56780.0\", \"recall\": 0.0}, {\"count\": 12, \"cutoff\": 31, \"precision\": 0.0, \"regionidcity\": \"56780.0\", \"recall\": 0.0}, {\"count\": 12, \"cutoff\": 36, \"precision\": 0.0, \"regionidcity\": \"56780.0\", \"recall\": 0.0}, {\"count\": 12, \"cutoff\": 41, \"precision\": 0.0, \"regionidcity\": \"56780.0\", \"recall\": 0.0}, {\"count\": 12, \"cutoff\": 46, \"precision\": 0.0, \"regionidcity\": \"56780.0\", \"recall\": 0.0}, {\"count\": 62, \"cutoff\": 1, \"precision\": 0.0, \"regionidcity\": \"9840.0\", \"recall\": 0.0}, {\"count\": 62, \"cutoff\": 2, \"precision\": 0.0, \"regionidcity\": \"9840.0\", \"recall\": 0.0}, {\"count\": 62, \"cutoff\": 3, \"precision\": 0.0, \"regionidcity\": \"9840.0\", \"recall\": 0.0}, {\"count\": 62, \"cutoff\": 4, \"precision\": 0.0, \"regionidcity\": \"9840.0\", \"recall\": 0.0}, {\"count\": 62, \"cutoff\": 5, \"precision\": 0.0, \"regionidcity\": \"9840.0\", \"recall\": 0.0}, {\"count\": 62, \"cutoff\": 6, \"precision\": 0.0, \"regionidcity\": \"9840.0\", \"recall\": 0.0}, {\"count\": 62, \"cutoff\": 7, \"precision\": 0.0, \"regionidcity\": \"9840.0\", \"recall\": 0.0}, {\"count\": 62, \"cutoff\": 8, \"precision\": 0.0, \"regionidcity\": \"9840.0\", \"recall\": 0.0}, {\"count\": 62, \"cutoff\": 9, \"precision\": 0.0, \"regionidcity\": \"9840.0\", \"recall\": 0.0}, {\"count\": 62, \"cutoff\": 10, \"precision\": 0.0, \"regionidcity\": \"9840.0\", \"recall\": 0.0}, {\"count\": 62, \"cutoff\": 11, \"precision\": 0.0, \"regionidcity\": \"9840.0\", \"recall\": 0.0}, {\"count\": 62, \"cutoff\": 16, \"precision\": 0.0, \"regionidcity\": \"9840.0\", \"recall\": 0.0}, {\"count\": 62, \"cutoff\": 21, \"precision\": 0.0, \"regionidcity\": \"9840.0\", \"recall\": 0.0}, {\"count\": 62, \"cutoff\": 26, \"precision\": 0.0, \"regionidcity\": \"9840.0\", \"recall\": 0.0}, {\"count\": 62, \"cutoff\": 31, \"precision\": 0.0, \"regionidcity\": \"9840.0\", \"recall\": 0.0}, {\"count\": 62, \"cutoff\": 36, \"precision\": 0.0, \"regionidcity\": \"9840.0\", \"recall\": 0.0}, {\"count\": 62, \"cutoff\": 41, \"precision\": 0.0, \"regionidcity\": \"9840.0\", \"recall\": 0.0}, {\"count\": 62, \"cutoff\": 46, \"precision\": 0.0, \"regionidcity\": \"9840.0\", \"recall\": 0.0}]}]], \"type\": \"Model\"}, \"ipython\": true, \"view_params\": {\"model_type\": \"recommender\", \"view\": \"Comparison\"}, \"model_type\": \"recommender\", \"attributes\": {\"section_titles\": [\"Schema\", \"Statistics\", \"Training summary\", \"Model Parameters\", \"Other Settings\"], \"sections\": [[[\"User ID\", \"regionidcity\"], [\"Item ID\", \"propertylandusetypeid\"], [\"Target\", \"bedroomcnt\"], [\"Additional observation features\", 0], [\"User side features\", []], [\"Item side features\", []]], [[\"Number of observations\", 87949], [\"Number of users\", 177], [\"Number of items\", 14]], [[\"Training time\", 0.0242]], [[\"Model class\", \"ItemSimilarityRecommender\"], [\"threshold\", 0.001], [\"similarity_type\", \"cosine\"], [\"training_method\", \"auto\"]], [[\"degree_approximation_threshold\", 4096], [\"sparse_density_estimation_sample_size\", 4096], [\"max_data_passes\", 4096], [\"target_memory_usage\", 8589934592], [\"seed_item_set_size\", 50], [\"nearest_neighbors_interaction_proportion_threshold\", 0.05], [\"max_item_neighborhood_size\", 5]]]}, \"evaluations\": [[\"dataset\", {\"precision_recall_overall\": [{\"cutoff\": 1, \"precision\": 0.026315789473684216, \"recall\": 0.0002712967986977753}, {\"cutoff\": 2, \"precision\": 0.026315789473684216, \"recall\": 0.002464279254838126}, {\"cutoff\": 3, \"precision\": 0.017543859649122813, \"recall\": 0.002464279254838126}, {\"cutoff\": 4, \"precision\": 0.019736842105263164, \"recall\": 0.0025884103372611654}, {\"cutoff\": 5, \"precision\": 0.015789473684210527, \"recall\": 0.0025884103372611654}, {\"cutoff\": 6, \"precision\": 0.013157894736842108, \"recall\": 0.0025884103372611654}, {\"cutoff\": 7, \"precision\": 0.0119047619047619, \"recall\": 0.0025884103372611654}, {\"cutoff\": 8, \"precision\": 0.010964912280701756, \"recall\": 0.0025884103372611654}, {\"cutoff\": 9, \"precision\": 0.010233918128654972, \"recall\": 0.0025884103372611654}, {\"cutoff\": 10, \"precision\": 0.010233918128654972, \"recall\": 0.0025884103372611654}, {\"cutoff\": 11, \"precision\": 0.010233918128654972, \"recall\": 0.0025884103372611654}, {\"cutoff\": 16, \"precision\": 0.010233918128654972, \"recall\": 0.0025884103372611654}, {\"cutoff\": 21, \"precision\": 0.010233918128654972, \"recall\": 0.0025884103372611654}, {\"cutoff\": 26, \"precision\": 0.01023391812865497, \"recall\": 0.0025884103372611654}, {\"cutoff\": 31, \"precision\": 0.01023391812865497, \"recall\": 0.0025884103372611654}, {\"cutoff\": 36, \"precision\": 0.01023391812865497, \"recall\": 0.0025884103372611654}, {\"cutoff\": 41, \"precision\": 0.01023391812865497, \"recall\": 0.0025884103372611654}, {\"cutoff\": 46, \"precision\": 0.01023391812865497, \"recall\": 0.0025884103372611654}], \"precision_recall_by_user\": [{\"count\": 46, \"cutoff\": 1, \"precision\": 0.0, \"regionidcity\": \"10389.0\", \"recall\": 0.0}, {\"count\": 46, \"cutoff\": 2, \"precision\": 0.0, \"regionidcity\": \"10389.0\", \"recall\": 0.0}, {\"count\": 46, \"cutoff\": 3, \"precision\": 0.0, \"regionidcity\": \"10389.0\", \"recall\": 0.0}, {\"count\": 46, \"cutoff\": 4, \"precision\": 0.0, \"regionidcity\": \"10389.0\", \"recall\": 0.0}, {\"count\": 46, \"cutoff\": 5, \"precision\": 0.0, \"regionidcity\": \"10389.0\", \"recall\": 0.0}, {\"count\": 46, \"cutoff\": 6, \"precision\": 0.0, \"regionidcity\": \"10389.0\", \"recall\": 0.0}, {\"count\": 46, \"cutoff\": 7, \"precision\": 0.0, \"regionidcity\": \"10389.0\", \"recall\": 0.0}, {\"count\": 46, \"cutoff\": 8, \"precision\": 0.0, \"regionidcity\": \"10389.0\", \"recall\": 0.0}, {\"count\": 46, \"cutoff\": 9, \"precision\": 0.0, \"regionidcity\": \"10389.0\", \"recall\": 0.0}, {\"count\": 46, \"cutoff\": 10, \"precision\": 0.0, \"regionidcity\": \"10389.0\", \"recall\": 0.0}, {\"count\": 46, \"cutoff\": 11, \"precision\": 0.0, \"regionidcity\": \"10389.0\", \"recall\": 0.0}, {\"count\": 46, \"cutoff\": 16, \"precision\": 0.0, \"regionidcity\": \"10389.0\", \"recall\": 0.0}, {\"count\": 46, \"cutoff\": 21, \"precision\": 0.0, \"regionidcity\": \"10389.0\", \"recall\": 0.0}, {\"count\": 46, \"cutoff\": 26, \"precision\": 0.0, \"regionidcity\": \"10389.0\", \"recall\": 0.0}, {\"count\": 46, \"cutoff\": 31, \"precision\": 0.0, \"regionidcity\": \"10389.0\", \"recall\": 0.0}, {\"count\": 46, \"cutoff\": 36, \"precision\": 0.0, \"regionidcity\": \"10389.0\", \"recall\": 0.0}, {\"count\": 46, \"cutoff\": 41, \"precision\": 0.0, \"regionidcity\": \"10389.0\", \"recall\": 0.0}, {\"count\": 46, \"cutoff\": 46, \"precision\": 0.0, \"regionidcity\": \"10389.0\", \"recall\": 0.0}, {\"count\": 2, \"cutoff\": 1, \"precision\": 0.0, \"regionidcity\": \"10815.0\", \"recall\": 0.0}, {\"count\": 2, \"cutoff\": 2, \"precision\": 0.0, \"regionidcity\": \"10815.0\", \"recall\": 0.0}, {\"count\": 2, \"cutoff\": 3, \"precision\": 0.0, \"regionidcity\": \"10815.0\", \"recall\": 0.0}, {\"count\": 2, \"cutoff\": 4, \"precision\": 0.0, \"regionidcity\": \"10815.0\", \"recall\": 0.0}, {\"count\": 2, \"cutoff\": 5, \"precision\": 0.0, \"regionidcity\": \"10815.0\", \"recall\": 0.0}, {\"count\": 2, \"cutoff\": 6, \"precision\": 0.0, \"regionidcity\": \"10815.0\", \"recall\": 0.0}, {\"count\": 2, \"cutoff\": 7, \"precision\": 0.0, \"regionidcity\": \"10815.0\", \"recall\": 0.0}, {\"count\": 2, \"cutoff\": 8, \"precision\": 0.0, \"regionidcity\": \"10815.0\", \"recall\": 0.0}, {\"count\": 2, \"cutoff\": 9, \"precision\": 0.0, \"regionidcity\": \"10815.0\", \"recall\": 0.0}, {\"count\": 2, \"cutoff\": 10, \"precision\": 0.0, \"regionidcity\": \"10815.0\", \"recall\": 0.0}, {\"count\": 2, \"cutoff\": 11, \"precision\": 0.0, \"regionidcity\": \"10815.0\", \"recall\": 0.0}, {\"count\": 2, \"cutoff\": 16, \"precision\": 0.0, \"regionidcity\": \"10815.0\", \"recall\": 0.0}, {\"count\": 2, \"cutoff\": 21, \"precision\": 0.0, \"regionidcity\": \"10815.0\", \"recall\": 0.0}, {\"count\": 2, \"cutoff\": 26, \"precision\": 0.0, \"regionidcity\": \"10815.0\", \"recall\": 0.0}, {\"count\": 2, \"cutoff\": 31, \"precision\": 0.0, \"regionidcity\": \"10815.0\", \"recall\": 0.0}, {\"count\": 2, \"cutoff\": 36, \"precision\": 0.0, \"regionidcity\": \"10815.0\", \"recall\": 0.0}, {\"count\": 2, \"cutoff\": 41, \"precision\": 0.0, \"regionidcity\": \"10815.0\", \"recall\": 0.0}, {\"count\": 2, \"cutoff\": 46, \"precision\": 0.0, \"regionidcity\": \"10815.0\", \"recall\": 0.0}, {\"count\": 2, \"cutoff\": 1, \"precision\": 0.0, \"regionidcity\": \"118880.0\", \"recall\": 0.0}, {\"count\": 2, \"cutoff\": 2, \"precision\": 0.0, \"regionidcity\": \"118880.0\", \"recall\": 0.0}, {\"count\": 2, \"cutoff\": 3, \"precision\": 0.0, \"regionidcity\": \"118880.0\", \"recall\": 0.0}, {\"count\": 2, \"cutoff\": 4, \"precision\": 0.0, \"regionidcity\": \"118880.0\", \"recall\": 0.0}, {\"count\": 2, \"cutoff\": 5, \"precision\": 0.0, \"regionidcity\": \"118880.0\", \"recall\": 0.0}, {\"count\": 2, \"cutoff\": 6, \"precision\": 0.0, \"regionidcity\": \"118880.0\", \"recall\": 0.0}, {\"count\": 2, \"cutoff\": 7, \"precision\": 0.0, \"regionidcity\": \"118880.0\", \"recall\": 0.0}, {\"count\": 2, \"cutoff\": 8, \"precision\": 0.0, \"regionidcity\": \"118880.0\", \"recall\": 0.0}, {\"count\": 2, \"cutoff\": 9, \"precision\": 0.0, \"regionidcity\": \"118880.0\", \"recall\": 0.0}, {\"count\": 2, \"cutoff\": 10, \"precision\": 0.0, \"regionidcity\": \"118880.0\", \"recall\": 0.0}, {\"count\": 2, \"cutoff\": 11, \"precision\": 0.0, \"regionidcity\": \"118880.0\", \"recall\": 0.0}, {\"count\": 2, \"cutoff\": 16, \"precision\": 0.0, \"regionidcity\": \"118880.0\", \"recall\": 0.0}, {\"count\": 2, \"cutoff\": 21, \"precision\": 0.0, \"regionidcity\": \"118880.0\", \"recall\": 0.0}, {\"count\": 2, \"cutoff\": 26, \"precision\": 0.0, \"regionidcity\": \"118880.0\", \"recall\": 0.0}, {\"count\": 2, \"cutoff\": 31, \"precision\": 0.0, \"regionidcity\": \"118880.0\", \"recall\": 0.0}, {\"count\": 2, \"cutoff\": 36, \"precision\": 0.0, \"regionidcity\": \"118880.0\", \"recall\": 0.0}, {\"count\": 2, \"cutoff\": 41, \"precision\": 0.0, \"regionidcity\": \"118880.0\", \"recall\": 0.0}, {\"count\": 2, \"cutoff\": 46, \"precision\": 0.0, \"regionidcity\": \"118880.0\", \"recall\": 0.0}, {\"count\": 29, \"cutoff\": 1, \"precision\": 0.0, \"regionidcity\": \"118895.0\", \"recall\": 0.0}, {\"count\": 29, \"cutoff\": 2, \"precision\": 0.0, \"regionidcity\": \"118895.0\", \"recall\": 0.0}, {\"count\": 29, \"cutoff\": 3, \"precision\": 0.0, \"regionidcity\": \"118895.0\", \"recall\": 0.0}, {\"count\": 29, \"cutoff\": 4, \"precision\": 0.0, \"regionidcity\": \"118895.0\", \"recall\": 0.0}, {\"count\": 29, \"cutoff\": 5, \"precision\": 0.0, \"regionidcity\": \"118895.0\", \"recall\": 0.0}, {\"count\": 29, \"cutoff\": 6, \"precision\": 0.0, \"regionidcity\": \"118895.0\", \"recall\": 0.0}, {\"count\": 29, \"cutoff\": 7, \"precision\": 0.0, \"regionidcity\": \"118895.0\", \"recall\": 0.0}, {\"count\": 29, \"cutoff\": 8, \"precision\": 0.0, \"regionidcity\": \"118895.0\", \"recall\": 0.0}, {\"count\": 29, \"cutoff\": 9, \"precision\": 0.0, \"regionidcity\": \"118895.0\", \"recall\": 0.0}, {\"count\": 29, \"cutoff\": 10, \"precision\": 0.0, \"regionidcity\": \"118895.0\", \"recall\": 0.0}, {\"count\": 29, \"cutoff\": 11, \"precision\": 0.0, \"regionidcity\": \"118895.0\", \"recall\": 0.0}, {\"count\": 29, \"cutoff\": 16, \"precision\": 0.0, \"regionidcity\": \"118895.0\", \"recall\": 0.0}, {\"count\": 29, \"cutoff\": 21, \"precision\": 0.0, \"regionidcity\": \"118895.0\", \"recall\": 0.0}, {\"count\": 29, \"cutoff\": 26, \"precision\": 0.0, \"regionidcity\": \"118895.0\", \"recall\": 0.0}, {\"count\": 29, \"cutoff\": 31, \"precision\": 0.0, \"regionidcity\": \"118895.0\", \"recall\": 0.0}, {\"count\": 29, \"cutoff\": 36, \"precision\": 0.0, \"regionidcity\": \"118895.0\", \"recall\": 0.0}, {\"count\": 29, \"cutoff\": 41, \"precision\": 0.0, \"regionidcity\": \"118895.0\", \"recall\": 0.0}, {\"count\": 29, \"cutoff\": 46, \"precision\": 0.0, \"regionidcity\": \"118895.0\", \"recall\": 0.0}, {\"count\": 9, \"cutoff\": 1, \"precision\": 0.0, \"regionidcity\": \"16961.0\", \"recall\": 0.0}, {\"count\": 9, \"cutoff\": 2, \"precision\": 0.0, \"regionidcity\": \"16961.0\", \"recall\": 0.0}, {\"count\": 9, \"cutoff\": 3, \"precision\": 0.0, \"regionidcity\": \"16961.0\", \"recall\": 0.0}, {\"count\": 9, \"cutoff\": 4, \"precision\": 0.0, \"regionidcity\": \"16961.0\", \"recall\": 0.0}, {\"count\": 9, \"cutoff\": 5, \"precision\": 0.0, \"regionidcity\": \"16961.0\", \"recall\": 0.0}, {\"count\": 9, \"cutoff\": 6, \"precision\": 0.0, \"regionidcity\": \"16961.0\", \"recall\": 0.0}, {\"count\": 9, \"cutoff\": 7, \"precision\": 0.0, \"regionidcity\": \"16961.0\", \"recall\": 0.0}, {\"count\": 9, \"cutoff\": 8, \"precision\": 0.0, \"regionidcity\": \"16961.0\", \"recall\": 0.0}, {\"count\": 9, \"cutoff\": 9, \"precision\": 0.0, \"regionidcity\": \"16961.0\", \"recall\": 0.0}, {\"count\": 9, \"cutoff\": 10, \"precision\": 0.0, \"regionidcity\": \"16961.0\", \"recall\": 0.0}, {\"count\": 9, \"cutoff\": 11, \"precision\": 0.0, \"regionidcity\": \"16961.0\", \"recall\": 0.0}, {\"count\": 9, \"cutoff\": 16, \"precision\": 0.0, \"regionidcity\": \"16961.0\", \"recall\": 0.0}, {\"count\": 9, \"cutoff\": 21, \"precision\": 0.0, \"regionidcity\": \"16961.0\", \"recall\": 0.0}, {\"count\": 9, \"cutoff\": 26, \"precision\": 0.0, \"regionidcity\": \"16961.0\", \"recall\": 0.0}, {\"count\": 9, \"cutoff\": 31, \"precision\": 0.0, \"regionidcity\": \"16961.0\", \"recall\": 0.0}, {\"count\": 9, \"cutoff\": 36, \"precision\": 0.0, \"regionidcity\": \"16961.0\", \"recall\": 0.0}, {\"count\": 9, \"cutoff\": 41, \"precision\": 0.0, \"regionidcity\": \"16961.0\", \"recall\": 0.0}, {\"count\": 9, \"cutoff\": 46, \"precision\": 0.0, \"regionidcity\": \"16961.0\", \"recall\": 0.0}, {\"count\": 72, \"cutoff\": 1, \"precision\": 0.0, \"regionidcity\": \"17686.0\", \"recall\": 0.0}, {\"count\": 72, \"cutoff\": 2, \"precision\": 0.0, \"regionidcity\": \"17686.0\", \"recall\": 0.0}, {\"count\": 72, \"cutoff\": 3, \"precision\": 0.0, \"regionidcity\": \"17686.0\", \"recall\": 0.0}, {\"count\": 72, \"cutoff\": 4, \"precision\": 0.0, \"regionidcity\": \"17686.0\", \"recall\": 0.0}, {\"count\": 72, \"cutoff\": 5, \"precision\": 0.0, \"regionidcity\": \"17686.0\", \"recall\": 0.0}, {\"count\": 72, \"cutoff\": 6, \"precision\": 0.0, \"regionidcity\": \"17686.0\", \"recall\": 0.0}, {\"count\": 72, \"cutoff\": 7, \"precision\": 0.0, \"regionidcity\": \"17686.0\", \"recall\": 0.0}, {\"count\": 72, \"cutoff\": 8, \"precision\": 0.0, \"regionidcity\": \"17686.0\", \"recall\": 0.0}, {\"count\": 72, \"cutoff\": 9, \"precision\": 0.0, \"regionidcity\": \"17686.0\", \"recall\": 0.0}, {\"count\": 72, \"cutoff\": 10, \"precision\": 0.0, \"regionidcity\": \"17686.0\", \"recall\": 0.0}, {\"count\": 72, \"cutoff\": 11, \"precision\": 0.0, \"regionidcity\": \"17686.0\", \"recall\": 0.0}, {\"count\": 72, \"cutoff\": 16, \"precision\": 0.0, \"regionidcity\": \"17686.0\", \"recall\": 0.0}, {\"count\": 72, \"cutoff\": 21, \"precision\": 0.0, \"regionidcity\": \"17686.0\", \"recall\": 0.0}, {\"count\": 72, \"cutoff\": 26, \"precision\": 0.0, \"regionidcity\": \"17686.0\", \"recall\": 0.0}, {\"count\": 72, \"cutoff\": 31, \"precision\": 0.0, \"regionidcity\": \"17686.0\", \"recall\": 0.0}, {\"count\": 72, \"cutoff\": 36, \"precision\": 0.0, \"regionidcity\": \"17686.0\", \"recall\": 0.0}, {\"count\": 72, \"cutoff\": 41, \"precision\": 0.0, \"regionidcity\": \"17686.0\", \"recall\": 0.0}, {\"count\": 72, \"cutoff\": 46, \"precision\": 0.0, \"regionidcity\": \"17686.0\", \"recall\": 0.0}, {\"count\": 16, \"cutoff\": 1, \"precision\": 0.0, \"regionidcity\": \"18098.0\", \"recall\": 0.0}, {\"count\": 16, \"cutoff\": 2, \"precision\": 0.0, \"regionidcity\": \"18098.0\", \"recall\": 0.0}, {\"count\": 16, \"cutoff\": 3, \"precision\": 0.0, \"regionidcity\": \"18098.0\", \"recall\": 0.0}, {\"count\": 16, \"cutoff\": 4, \"precision\": 0.0, \"regionidcity\": \"18098.0\", \"recall\": 0.0}, {\"count\": 16, \"cutoff\": 5, \"precision\": 0.0, \"regionidcity\": \"18098.0\", \"recall\": 0.0}, {\"count\": 16, \"cutoff\": 6, \"precision\": 0.0, \"regionidcity\": \"18098.0\", \"recall\": 0.0}, {\"count\": 16, \"cutoff\": 7, \"precision\": 0.0, \"regionidcity\": \"18098.0\", \"recall\": 0.0}, {\"count\": 16, \"cutoff\": 8, \"precision\": 0.0, \"regionidcity\": \"18098.0\", \"recall\": 0.0}, {\"count\": 16, \"cutoff\": 9, \"precision\": 0.0, \"regionidcity\": \"18098.0\", \"recall\": 0.0}, {\"count\": 16, \"cutoff\": 10, \"precision\": 0.0, \"regionidcity\": \"18098.0\", \"recall\": 0.0}, {\"count\": 16, \"cutoff\": 11, \"precision\": 0.0, \"regionidcity\": \"18098.0\", \"recall\": 0.0}, {\"count\": 16, \"cutoff\": 16, \"precision\": 0.0, \"regionidcity\": \"18098.0\", \"recall\": 0.0}, {\"count\": 16, \"cutoff\": 21, \"precision\": 0.0, \"regionidcity\": \"18098.0\", \"recall\": 0.0}, {\"count\": 16, \"cutoff\": 26, \"precision\": 0.0, \"regionidcity\": \"18098.0\", \"recall\": 0.0}, {\"count\": 16, \"cutoff\": 31, \"precision\": 0.0, \"regionidcity\": \"18098.0\", \"recall\": 0.0}, {\"count\": 16, \"cutoff\": 36, \"precision\": 0.0, \"regionidcity\": \"18098.0\", \"recall\": 0.0}, {\"count\": 16, \"cutoff\": 41, \"precision\": 0.0, \"regionidcity\": \"18098.0\", \"recall\": 0.0}, {\"count\": 16, \"cutoff\": 46, \"precision\": 0.0, \"regionidcity\": \"18098.0\", \"recall\": 0.0}, {\"count\": 102, \"cutoff\": 1, \"precision\": 0.0, \"regionidcity\": \"24245.0\", \"recall\": 0.0}, {\"count\": 102, \"cutoff\": 2, \"precision\": 0.0, \"regionidcity\": \"24245.0\", \"recall\": 0.0}, {\"count\": 102, \"cutoff\": 3, \"precision\": 0.0, \"regionidcity\": \"24245.0\", \"recall\": 0.0}, {\"count\": 102, \"cutoff\": 4, \"precision\": 0.0, \"regionidcity\": \"24245.0\", \"recall\": 0.0}, {\"count\": 102, \"cutoff\": 5, \"precision\": 0.0, \"regionidcity\": \"24245.0\", \"recall\": 0.0}, {\"count\": 102, \"cutoff\": 6, \"precision\": 0.0, \"regionidcity\": \"24245.0\", \"recall\": 0.0}, {\"count\": 102, \"cutoff\": 7, \"precision\": 0.0, \"regionidcity\": \"24245.0\", \"recall\": 0.0}, {\"count\": 102, \"cutoff\": 8, \"precision\": 0.0, \"regionidcity\": \"24245.0\", \"recall\": 0.0}, {\"count\": 102, \"cutoff\": 9, \"precision\": 0.0, \"regionidcity\": \"24245.0\", \"recall\": 0.0}, {\"count\": 102, \"cutoff\": 10, \"precision\": 0.0, \"regionidcity\": \"24245.0\", \"recall\": 0.0}, {\"count\": 102, \"cutoff\": 11, \"precision\": 0.0, \"regionidcity\": \"24245.0\", \"recall\": 0.0}, {\"count\": 102, \"cutoff\": 16, \"precision\": 0.0, \"regionidcity\": \"24245.0\", \"recall\": 0.0}, {\"count\": 102, \"cutoff\": 21, \"precision\": 0.0, \"regionidcity\": \"24245.0\", \"recall\": 0.0}, {\"count\": 102, \"cutoff\": 26, \"precision\": 0.0, \"regionidcity\": \"24245.0\", \"recall\": 0.0}, {\"count\": 102, \"cutoff\": 31, \"precision\": 0.0, \"regionidcity\": \"24245.0\", \"recall\": 0.0}, {\"count\": 102, \"cutoff\": 36, \"precision\": 0.0, \"regionidcity\": \"24245.0\", \"recall\": 0.0}, {\"count\": 102, \"cutoff\": 41, \"precision\": 0.0, \"regionidcity\": \"24245.0\", \"recall\": 0.0}, {\"count\": 102, \"cutoff\": 46, \"precision\": 0.0, \"regionidcity\": \"24245.0\", \"recall\": 0.0}, {\"count\": 107, \"cutoff\": 1, \"precision\": 0.0, \"regionidcity\": \"24384.0\", \"recall\": 0.0}, {\"count\": 107, \"cutoff\": 2, \"precision\": 0.0, \"regionidcity\": \"24384.0\", \"recall\": 0.0}, {\"count\": 107, \"cutoff\": 3, \"precision\": 0.0, \"regionidcity\": \"24384.0\", \"recall\": 0.0}, {\"count\": 107, \"cutoff\": 4, \"precision\": 0.0, \"regionidcity\": \"24384.0\", \"recall\": 0.0}, {\"count\": 107, \"cutoff\": 5, \"precision\": 0.0, \"regionidcity\": \"24384.0\", \"recall\": 0.0}, {\"count\": 107, \"cutoff\": 6, \"precision\": 0.0, \"regionidcity\": \"24384.0\", \"recall\": 0.0}, {\"count\": 107, \"cutoff\": 7, \"precision\": 0.0, \"regionidcity\": \"24384.0\", \"recall\": 0.0}, {\"count\": 107, \"cutoff\": 8, \"precision\": 0.0, \"regionidcity\": \"24384.0\", \"recall\": 0.0}, {\"count\": 107, \"cutoff\": 9, \"precision\": 0.0, \"regionidcity\": \"24384.0\", \"recall\": 0.0}, {\"count\": 107, \"cutoff\": 10, \"precision\": 0.0, \"regionidcity\": \"24384.0\", \"recall\": 0.0}, {\"count\": 107, \"cutoff\": 11, \"precision\": 0.0, \"regionidcity\": \"24384.0\", \"recall\": 0.0}, {\"count\": 107, \"cutoff\": 16, \"precision\": 0.0, \"regionidcity\": \"24384.0\", \"recall\": 0.0}, {\"count\": 107, \"cutoff\": 21, \"precision\": 0.0, \"regionidcity\": \"24384.0\", \"recall\": 0.0}, {\"count\": 107, \"cutoff\": 26, \"precision\": 0.0, \"regionidcity\": \"24384.0\", \"recall\": 0.0}, {\"count\": 107, \"cutoff\": 31, \"precision\": 0.0, \"regionidcity\": \"24384.0\", \"recall\": 0.0}, {\"count\": 107, \"cutoff\": 36, \"precision\": 0.0, \"regionidcity\": \"24384.0\", \"recall\": 0.0}, {\"count\": 107, \"cutoff\": 41, \"precision\": 0.0, \"regionidcity\": \"24384.0\", \"recall\": 0.0}, {\"count\": 107, \"cutoff\": 46, \"precision\": 0.0, \"regionidcity\": \"24384.0\", \"recall\": 0.0}, {\"count\": 1, \"cutoff\": 1, \"precision\": 0.0, \"regionidcity\": \"24797.0\", \"recall\": 0.0}, {\"count\": 1, \"cutoff\": 2, \"precision\": 0.0, \"regionidcity\": \"24797.0\", \"recall\": 0.0}, {\"count\": 1, \"cutoff\": 3, \"precision\": 0.0, \"regionidcity\": \"24797.0\", \"recall\": 0.0}, {\"count\": 1, \"cutoff\": 4, \"precision\": 0.0, \"regionidcity\": \"24797.0\", \"recall\": 0.0}, {\"count\": 1, \"cutoff\": 5, \"precision\": 0.0, \"regionidcity\": \"24797.0\", \"recall\": 0.0}, {\"count\": 1, \"cutoff\": 6, \"precision\": 0.0, \"regionidcity\": \"24797.0\", \"recall\": 0.0}, {\"count\": 1, \"cutoff\": 7, \"precision\": 0.0, \"regionidcity\": \"24797.0\", \"recall\": 0.0}, {\"count\": 1, \"cutoff\": 8, \"precision\": 0.0, \"regionidcity\": \"24797.0\", \"recall\": 0.0}, {\"count\": 1, \"cutoff\": 9, \"precision\": 0.0, \"regionidcity\": \"24797.0\", \"recall\": 0.0}, {\"count\": 1, \"cutoff\": 10, \"precision\": 0.0, \"regionidcity\": \"24797.0\", \"recall\": 0.0}, {\"count\": 1, \"cutoff\": 11, \"precision\": 0.0, \"regionidcity\": \"24797.0\", \"recall\": 0.0}, {\"count\": 1, \"cutoff\": 16, \"precision\": 0.0, \"regionidcity\": \"24797.0\", \"recall\": 0.0}, {\"count\": 1, \"cutoff\": 21, \"precision\": 0.0, \"regionidcity\": \"24797.0\", \"recall\": 0.0}, {\"count\": 1, \"cutoff\": 26, \"precision\": 0.0, \"regionidcity\": \"24797.0\", \"recall\": 0.0}, {\"count\": 1, \"cutoff\": 31, \"precision\": 0.0, \"regionidcity\": \"24797.0\", \"recall\": 0.0}, {\"count\": 1, \"cutoff\": 36, \"precision\": 0.0, \"regionidcity\": \"24797.0\", \"recall\": 0.0}, {\"count\": 1, \"cutoff\": 41, \"precision\": 0.0, \"regionidcity\": \"24797.0\", \"recall\": 0.0}, {\"count\": 1, \"cutoff\": 46, \"precision\": 0.0, \"regionidcity\": \"24797.0\", \"recall\": 0.0}, {\"count\": 170, \"cutoff\": 1, \"precision\": 0.0, \"regionidcity\": \"24812.0\", \"recall\": 0.0}, {\"count\": 170, \"cutoff\": 2, \"precision\": 0.0, \"regionidcity\": \"24812.0\", \"recall\": 0.0}, {\"count\": 170, \"cutoff\": 3, \"precision\": 0.0, \"regionidcity\": \"24812.0\", \"recall\": 0.0}, {\"count\": 170, \"cutoff\": 4, \"precision\": 0.0, \"regionidcity\": \"24812.0\", \"recall\": 0.0}, {\"count\": 170, \"cutoff\": 5, \"precision\": 0.0, \"regionidcity\": \"24812.0\", \"recall\": 0.0}, {\"count\": 170, \"cutoff\": 6, \"precision\": 0.0, \"regionidcity\": \"24812.0\", \"recall\": 0.0}, {\"count\": 170, \"cutoff\": 7, \"precision\": 0.0, \"regionidcity\": \"24812.0\", \"recall\": 0.0}, {\"count\": 170, \"cutoff\": 8, \"precision\": 0.0, \"regionidcity\": \"24812.0\", \"recall\": 0.0}, {\"count\": 170, \"cutoff\": 9, \"precision\": 0.0, \"regionidcity\": \"24812.0\", \"recall\": 0.0}, {\"count\": 170, \"cutoff\": 10, \"precision\": 0.0, \"regionidcity\": \"24812.0\", \"recall\": 0.0}, {\"count\": 170, \"cutoff\": 11, \"precision\": 0.0, \"regionidcity\": \"24812.0\", \"recall\": 0.0}, {\"count\": 170, \"cutoff\": 16, \"precision\": 0.0, \"regionidcity\": \"24812.0\", \"recall\": 0.0}, {\"count\": 170, \"cutoff\": 21, \"precision\": 0.0, \"regionidcity\": \"24812.0\", \"recall\": 0.0}, {\"count\": 170, \"cutoff\": 26, \"precision\": 0.0, \"regionidcity\": \"24812.0\", \"recall\": 0.0}, {\"count\": 170, \"cutoff\": 31, \"precision\": 0.0, \"regionidcity\": \"24812.0\", \"recall\": 0.0}, {\"count\": 170, \"cutoff\": 36, \"precision\": 0.0, \"regionidcity\": \"24812.0\", \"recall\": 0.0}, {\"count\": 170, \"cutoff\": 41, \"precision\": 0.0, \"regionidcity\": \"24812.0\", \"recall\": 0.0}, {\"count\": 170, \"cutoff\": 46, \"precision\": 0.0, \"regionidcity\": \"24812.0\", \"recall\": 0.0}, {\"count\": 3, \"cutoff\": 1, \"precision\": 0.0, \"regionidcity\": \"25621.0\", \"recall\": 0.0}, {\"count\": 3, \"cutoff\": 2, \"precision\": 0.0, \"regionidcity\": \"25621.0\", \"recall\": 0.0}, {\"count\": 3, \"cutoff\": 3, \"precision\": 0.0, \"regionidcity\": \"25621.0\", \"recall\": 0.0}, {\"count\": 3, \"cutoff\": 4, \"precision\": 0.0, \"regionidcity\": \"25621.0\", \"recall\": 0.0}, {\"count\": 3, \"cutoff\": 5, \"precision\": 0.0, \"regionidcity\": \"25621.0\", \"recall\": 0.0}, {\"count\": 3, \"cutoff\": 6, \"precision\": 0.0, \"regionidcity\": \"25621.0\", \"recall\": 0.0}, {\"count\": 3, \"cutoff\": 7, \"precision\": 0.0, \"regionidcity\": \"25621.0\", \"recall\": 0.0}, {\"count\": 3, \"cutoff\": 8, \"precision\": 0.0, \"regionidcity\": \"25621.0\", \"recall\": 0.0}, {\"count\": 3, \"cutoff\": 9, \"precision\": 0.0, \"regionidcity\": \"25621.0\", \"recall\": 0.0}, {\"count\": 3, \"cutoff\": 10, \"precision\": 0.0, \"regionidcity\": \"25621.0\", \"recall\": 0.0}, {\"count\": 3, \"cutoff\": 11, \"precision\": 0.0, \"regionidcity\": \"25621.0\", \"recall\": 0.0}, {\"count\": 3, \"cutoff\": 16, \"precision\": 0.0, \"regionidcity\": \"25621.0\", \"recall\": 0.0}, {\"count\": 3, \"cutoff\": 21, \"precision\": 0.0, \"regionidcity\": \"25621.0\", \"recall\": 0.0}, {\"count\": 3, \"cutoff\": 26, \"precision\": 0.0, \"regionidcity\": \"25621.0\", \"recall\": 0.0}, {\"count\": 3, \"cutoff\": 31, \"precision\": 0.0, \"regionidcity\": \"25621.0\", \"recall\": 0.0}, {\"count\": 3, \"cutoff\": 36, \"precision\": 0.0, \"regionidcity\": \"25621.0\", \"recall\": 0.0}, {\"count\": 3, \"cutoff\": 41, \"precision\": 0.0, \"regionidcity\": \"25621.0\", \"recall\": 0.0}, {\"count\": 3, \"cutoff\": 46, \"precision\": 0.0, \"regionidcity\": \"25621.0\", \"recall\": 0.0}, {\"count\": 57, \"cutoff\": 1, \"precision\": 0.0, \"regionidcity\": \"25953.0\", \"recall\": 0.0}, {\"count\": 57, \"cutoff\": 2, \"precision\": 0.0, \"regionidcity\": \"25953.0\", \"recall\": 0.0}, {\"count\": 57, \"cutoff\": 3, \"precision\": 0.0, \"regionidcity\": \"25953.0\", \"recall\": 0.0}, {\"count\": 57, \"cutoff\": 4, \"precision\": 0.0, \"regionidcity\": \"25953.0\", \"recall\": 0.0}, {\"count\": 57, \"cutoff\": 5, \"precision\": 0.0, \"regionidcity\": \"25953.0\", \"recall\": 0.0}, {\"count\": 57, \"cutoff\": 6, \"precision\": 0.0, \"regionidcity\": \"25953.0\", \"recall\": 0.0}, {\"count\": 57, \"cutoff\": 7, \"precision\": 0.0, \"regionidcity\": \"25953.0\", \"recall\": 0.0}, {\"count\": 57, \"cutoff\": 8, \"precision\": 0.0, \"regionidcity\": \"25953.0\", \"recall\": 0.0}, {\"count\": 57, \"cutoff\": 9, \"precision\": 0.0, \"regionidcity\": \"25953.0\", \"recall\": 0.0}, {\"count\": 57, \"cutoff\": 10, \"precision\": 0.0, \"regionidcity\": \"25953.0\", \"recall\": 0.0}, {\"count\": 57, \"cutoff\": 11, \"precision\": 0.0, \"regionidcity\": \"25953.0\", \"recall\": 0.0}, {\"count\": 57, \"cutoff\": 16, \"precision\": 0.0, \"regionidcity\": \"25953.0\", \"recall\": 0.0}, {\"count\": 57, \"cutoff\": 21, \"precision\": 0.0, \"regionidcity\": \"25953.0\", \"recall\": 0.0}, {\"count\": 57, \"cutoff\": 26, \"precision\": 0.0, \"regionidcity\": \"25953.0\", \"recall\": 0.0}, {\"count\": 57, \"cutoff\": 31, \"precision\": 0.0, \"regionidcity\": \"25953.0\", \"recall\": 0.0}, {\"count\": 57, \"cutoff\": 36, \"precision\": 0.0, \"regionidcity\": \"25953.0\", \"recall\": 0.0}, {\"count\": 57, \"cutoff\": 41, \"precision\": 0.0, \"regionidcity\": \"25953.0\", \"recall\": 0.0}, {\"count\": 57, \"cutoff\": 46, \"precision\": 0.0, \"regionidcity\": \"25953.0\", \"recall\": 0.0}, {\"count\": 85, \"cutoff\": 1, \"precision\": 0.0, \"regionidcity\": \"25974.0\", \"recall\": 0.0}, {\"count\": 85, \"cutoff\": 2, \"precision\": 0.0, \"regionidcity\": \"25974.0\", \"recall\": 0.0}, {\"count\": 85, \"cutoff\": 3, \"precision\": 0.0, \"regionidcity\": \"25974.0\", \"recall\": 0.0}, {\"count\": 85, \"cutoff\": 4, \"precision\": 0.0, \"regionidcity\": \"25974.0\", \"recall\": 0.0}, {\"count\": 85, \"cutoff\": 5, \"precision\": 0.0, \"regionidcity\": \"25974.0\", \"recall\": 0.0}, {\"count\": 85, \"cutoff\": 6, \"precision\": 0.0, \"regionidcity\": \"25974.0\", \"recall\": 0.0}, {\"count\": 85, \"cutoff\": 7, \"precision\": 0.0, \"regionidcity\": \"25974.0\", \"recall\": 0.0}, {\"count\": 85, \"cutoff\": 8, \"precision\": 0.0, \"regionidcity\": \"25974.0\", \"recall\": 0.0}, {\"count\": 85, \"cutoff\": 9, \"precision\": 0.0, \"regionidcity\": \"25974.0\", \"recall\": 0.0}, {\"count\": 85, \"cutoff\": 10, \"precision\": 0.0, \"regionidcity\": \"25974.0\", \"recall\": 0.0}, {\"count\": 85, \"cutoff\": 11, \"precision\": 0.0, \"regionidcity\": \"25974.0\", \"recall\": 0.0}, {\"count\": 85, \"cutoff\": 16, \"precision\": 0.0, \"regionidcity\": \"25974.0\", \"recall\": 0.0}, {\"count\": 85, \"cutoff\": 21, \"precision\": 0.0, \"regionidcity\": \"25974.0\", \"recall\": 0.0}, {\"count\": 85, \"cutoff\": 26, \"precision\": 0.0, \"regionidcity\": \"25974.0\", \"recall\": 0.0}, {\"count\": 85, \"cutoff\": 31, \"precision\": 0.0, \"regionidcity\": \"25974.0\", \"recall\": 0.0}, {\"count\": 85, \"cutoff\": 36, \"precision\": 0.0, \"regionidcity\": \"25974.0\", \"recall\": 0.0}, {\"count\": 85, \"cutoff\": 41, \"precision\": 0.0, \"regionidcity\": \"25974.0\", \"recall\": 0.0}, {\"count\": 85, \"cutoff\": 46, \"precision\": 0.0, \"regionidcity\": \"25974.0\", \"recall\": 0.0}, {\"count\": 12, \"cutoff\": 1, \"precision\": 0.0, \"regionidcity\": \"30267.0\", \"recall\": 0.0}, {\"count\": 12, \"cutoff\": 2, \"precision\": 0.5, \"regionidcity\": \"30267.0\", \"recall\": 0.08333333333333333}, {\"count\": 12, \"cutoff\": 3, \"precision\": 0.3333333333333333, \"regionidcity\": \"30267.0\", \"recall\": 0.08333333333333333}, {\"count\": 12, \"cutoff\": 4, \"precision\": 0.25, \"regionidcity\": \"30267.0\", \"recall\": 0.08333333333333333}, {\"count\": 12, \"cutoff\": 5, \"precision\": 0.2, \"regionidcity\": \"30267.0\", \"recall\": 0.08333333333333333}, {\"count\": 12, \"cutoff\": 6, \"precision\": 0.16666666666666666, \"regionidcity\": \"30267.0\", \"recall\": 0.08333333333333333}, {\"count\": 12, \"cutoff\": 7, \"precision\": 0.14285714285714285, \"regionidcity\": \"30267.0\", \"recall\": 0.08333333333333333}, {\"count\": 12, \"cutoff\": 8, \"precision\": 0.125, \"regionidcity\": \"30267.0\", \"recall\": 0.08333333333333333}, {\"count\": 12, \"cutoff\": 9, \"precision\": 0.1111111111111111, \"regionidcity\": \"30267.0\", \"recall\": 0.08333333333333333}, {\"count\": 12, \"cutoff\": 10, \"precision\": 0.1111111111111111, \"regionidcity\": \"30267.0\", \"recall\": 0.08333333333333333}, {\"count\": 12, \"cutoff\": 11, \"precision\": 0.1111111111111111, \"regionidcity\": \"30267.0\", \"recall\": 0.08333333333333333}, {\"count\": 12, \"cutoff\": 16, \"precision\": 0.1111111111111111, \"regionidcity\": \"30267.0\", \"recall\": 0.08333333333333333}, {\"count\": 12, \"cutoff\": 21, \"precision\": 0.1111111111111111, \"regionidcity\": \"30267.0\", \"recall\": 0.08333333333333333}, {\"count\": 12, \"cutoff\": 26, \"precision\": 0.1111111111111111, \"regionidcity\": \"30267.0\", \"recall\": 0.08333333333333333}, {\"count\": 12, \"cutoff\": 31, \"precision\": 0.1111111111111111, \"regionidcity\": \"30267.0\", \"recall\": 0.08333333333333333}, {\"count\": 12, \"cutoff\": 36, \"precision\": 0.1111111111111111, \"regionidcity\": \"30267.0\", \"recall\": 0.08333333333333333}, {\"count\": 12, \"cutoff\": 41, \"precision\": 0.1111111111111111, \"regionidcity\": \"30267.0\", \"recall\": 0.08333333333333333}, {\"count\": 12, \"cutoff\": 46, \"precision\": 0.1111111111111111, \"regionidcity\": \"30267.0\", \"recall\": 0.08333333333333333}, {\"count\": 14, \"cutoff\": 1, \"precision\": 0.0, \"regionidcity\": \"30399.0\", \"recall\": 0.0}, {\"count\": 14, \"cutoff\": 2, \"precision\": 0.0, \"regionidcity\": \"30399.0\", \"recall\": 0.0}, {\"count\": 14, \"cutoff\": 3, \"precision\": 0.0, \"regionidcity\": \"30399.0\", \"recall\": 0.0}, {\"count\": 14, \"cutoff\": 4, \"precision\": 0.0, \"regionidcity\": \"30399.0\", \"recall\": 0.0}, {\"count\": 14, \"cutoff\": 5, \"precision\": 0.0, \"regionidcity\": \"30399.0\", \"recall\": 0.0}, {\"count\": 14, \"cutoff\": 6, \"precision\": 0.0, \"regionidcity\": \"30399.0\", \"recall\": 0.0}, {\"count\": 14, \"cutoff\": 7, \"precision\": 0.0, \"regionidcity\": \"30399.0\", \"recall\": 0.0}, {\"count\": 14, \"cutoff\": 8, \"precision\": 0.0, \"regionidcity\": \"30399.0\", \"recall\": 0.0}, {\"count\": 14, \"cutoff\": 9, \"precision\": 0.0, \"regionidcity\": \"30399.0\", \"recall\": 0.0}, {\"count\": 14, \"cutoff\": 10, \"precision\": 0.0, \"regionidcity\": \"30399.0\", \"recall\": 0.0}, {\"count\": 14, \"cutoff\": 11, \"precision\": 0.0, \"regionidcity\": \"30399.0\", \"recall\": 0.0}, {\"count\": 14, \"cutoff\": 16, \"precision\": 0.0, \"regionidcity\": \"30399.0\", \"recall\": 0.0}, {\"count\": 14, \"cutoff\": 21, \"precision\": 0.0, \"regionidcity\": \"30399.0\", \"recall\": 0.0}, {\"count\": 14, \"cutoff\": 26, \"precision\": 0.0, \"regionidcity\": \"30399.0\", \"recall\": 0.0}, {\"count\": 14, \"cutoff\": 31, \"precision\": 0.0, \"regionidcity\": \"30399.0\", \"recall\": 0.0}, {\"count\": 14, \"cutoff\": 36, \"precision\": 0.0, \"regionidcity\": \"30399.0\", \"recall\": 0.0}, {\"count\": 14, \"cutoff\": 41, \"precision\": 0.0, \"regionidcity\": \"30399.0\", \"recall\": 0.0}, {\"count\": 14, \"cutoff\": 46, \"precision\": 0.0, \"regionidcity\": \"30399.0\", \"recall\": 0.0}, {\"count\": 3, \"cutoff\": 1, \"precision\": 0.0, \"regionidcity\": \"31134.0\", \"recall\": 0.0}, {\"count\": 3, \"cutoff\": 2, \"precision\": 0.0, \"regionidcity\": \"31134.0\", \"recall\": 0.0}, {\"count\": 3, \"cutoff\": 3, \"precision\": 0.0, \"regionidcity\": \"31134.0\", \"recall\": 0.0}, {\"count\": 3, \"cutoff\": 4, \"precision\": 0.0, \"regionidcity\": \"31134.0\", \"recall\": 0.0}, {\"count\": 3, \"cutoff\": 5, \"precision\": 0.0, \"regionidcity\": \"31134.0\", \"recall\": 0.0}, {\"count\": 3, \"cutoff\": 6, \"precision\": 0.0, \"regionidcity\": \"31134.0\", \"recall\": 0.0}, {\"count\": 3, \"cutoff\": 7, \"precision\": 0.0, \"regionidcity\": \"31134.0\", \"recall\": 0.0}, {\"count\": 3, \"cutoff\": 8, \"precision\": 0.0, \"regionidcity\": \"31134.0\", \"recall\": 0.0}, {\"count\": 3, \"cutoff\": 9, \"precision\": 0.0, \"regionidcity\": \"31134.0\", \"recall\": 0.0}, {\"count\": 3, \"cutoff\": 10, \"precision\": 0.0, \"regionidcity\": \"31134.0\", \"recall\": 0.0}, {\"count\": 3, \"cutoff\": 11, \"precision\": 0.0, \"regionidcity\": \"31134.0\", \"recall\": 0.0}, {\"count\": 3, \"cutoff\": 16, \"precision\": 0.0, \"regionidcity\": \"31134.0\", \"recall\": 0.0}, {\"count\": 3, \"cutoff\": 21, \"precision\": 0.0, \"regionidcity\": \"31134.0\", \"recall\": 0.0}, {\"count\": 3, \"cutoff\": 26, \"precision\": 0.0, \"regionidcity\": \"31134.0\", \"recall\": 0.0}, {\"count\": 3, \"cutoff\": 31, \"precision\": 0.0, \"regionidcity\": \"31134.0\", \"recall\": 0.0}, {\"count\": 3, \"cutoff\": 36, \"precision\": 0.0, \"regionidcity\": \"31134.0\", \"recall\": 0.0}, {\"count\": 3, \"cutoff\": 41, \"precision\": 0.0, \"regionidcity\": \"31134.0\", \"recall\": 0.0}, {\"count\": 3, \"cutoff\": 46, \"precision\": 0.0, \"regionidcity\": \"31134.0\", \"recall\": 0.0}, {\"count\": 2, \"cutoff\": 1, \"precision\": 0.0, \"regionidcity\": \"32927.0\", \"recall\": 0.0}, {\"count\": 2, \"cutoff\": 2, \"precision\": 0.0, \"regionidcity\": \"32927.0\", \"recall\": 0.0}, {\"count\": 2, \"cutoff\": 3, \"precision\": 0.0, \"regionidcity\": \"32927.0\", \"recall\": 0.0}, {\"count\": 2, \"cutoff\": 4, \"precision\": 0.0, \"regionidcity\": \"32927.0\", \"recall\": 0.0}, {\"count\": 2, \"cutoff\": 5, \"precision\": 0.0, \"regionidcity\": \"32927.0\", \"recall\": 0.0}, {\"count\": 2, \"cutoff\": 6, \"precision\": 0.0, \"regionidcity\": \"32927.0\", \"recall\": 0.0}, {\"count\": 2, \"cutoff\": 7, \"precision\": 0.0, \"regionidcity\": \"32927.0\", \"recall\": 0.0}, {\"count\": 2, \"cutoff\": 8, \"precision\": 0.0, \"regionidcity\": \"32927.0\", \"recall\": 0.0}, {\"count\": 2, \"cutoff\": 9, \"precision\": 0.0, \"regionidcity\": \"32927.0\", \"recall\": 0.0}, {\"count\": 2, \"cutoff\": 10, \"precision\": 0.0, \"regionidcity\": \"32927.0\", \"recall\": 0.0}, {\"count\": 2, \"cutoff\": 11, \"precision\": 0.0, \"regionidcity\": \"32927.0\", \"recall\": 0.0}, {\"count\": 2, \"cutoff\": 16, \"precision\": 0.0, \"regionidcity\": \"32927.0\", \"recall\": 0.0}, {\"count\": 2, \"cutoff\": 21, \"precision\": 0.0, \"regionidcity\": \"32927.0\", \"recall\": 0.0}, {\"count\": 2, \"cutoff\": 26, \"precision\": 0.0, \"regionidcity\": \"32927.0\", \"recall\": 0.0}, {\"count\": 2, \"cutoff\": 31, \"precision\": 0.0, \"regionidcity\": \"32927.0\", \"recall\": 0.0}, {\"count\": 2, \"cutoff\": 36, \"precision\": 0.0, \"regionidcity\": \"32927.0\", \"recall\": 0.0}, {\"count\": 2, \"cutoff\": 41, \"precision\": 0.0, \"regionidcity\": \"32927.0\", \"recall\": 0.0}, {\"count\": 2, \"cutoff\": 46, \"precision\": 0.0, \"regionidcity\": \"32927.0\", \"recall\": 0.0}, {\"count\": 2, \"cutoff\": 1, \"precision\": 0.0, \"regionidcity\": \"33312.0\", \"recall\": 0.0}, {\"count\": 2, \"cutoff\": 2, \"precision\": 0.0, \"regionidcity\": \"33312.0\", \"recall\": 0.0}, {\"count\": 2, \"cutoff\": 3, \"precision\": 0.0, \"regionidcity\": \"33312.0\", \"recall\": 0.0}, {\"count\": 2, \"cutoff\": 4, \"precision\": 0.0, \"regionidcity\": \"33312.0\", \"recall\": 0.0}, {\"count\": 2, \"cutoff\": 5, \"precision\": 0.0, \"regionidcity\": \"33312.0\", \"recall\": 0.0}, {\"count\": 2, \"cutoff\": 6, \"precision\": 0.0, \"regionidcity\": \"33312.0\", \"recall\": 0.0}, {\"count\": 2, \"cutoff\": 7, \"precision\": 0.0, \"regionidcity\": \"33312.0\", \"recall\": 0.0}, {\"count\": 2, \"cutoff\": 8, \"precision\": 0.0, \"regionidcity\": \"33312.0\", \"recall\": 0.0}, {\"count\": 2, \"cutoff\": 9, \"precision\": 0.0, \"regionidcity\": \"33312.0\", \"recall\": 0.0}, {\"count\": 2, \"cutoff\": 10, \"precision\": 0.0, \"regionidcity\": \"33312.0\", \"recall\": 0.0}, {\"count\": 2, \"cutoff\": 11, \"precision\": 0.0, \"regionidcity\": \"33312.0\", \"recall\": 0.0}, {\"count\": 2, \"cutoff\": 16, \"precision\": 0.0, \"regionidcity\": \"33312.0\", \"recall\": 0.0}, {\"count\": 2, \"cutoff\": 21, \"precision\": 0.0, \"regionidcity\": \"33312.0\", \"recall\": 0.0}, {\"count\": 2, \"cutoff\": 26, \"precision\": 0.0, \"regionidcity\": \"33312.0\", \"recall\": 0.0}, {\"count\": 2, \"cutoff\": 31, \"precision\": 0.0, \"regionidcity\": \"33312.0\", \"recall\": 0.0}, {\"count\": 2, \"cutoff\": 36, \"precision\": 0.0, \"regionidcity\": \"33312.0\", \"recall\": 0.0}, {\"count\": 2, \"cutoff\": 41, \"precision\": 0.0, \"regionidcity\": \"33312.0\", \"recall\": 0.0}, {\"count\": 2, \"cutoff\": 46, \"precision\": 0.0, \"regionidcity\": \"33312.0\", \"recall\": 0.0}, {\"count\": 212, \"cutoff\": 1, \"precision\": 0.0, \"regionidcity\": \"34543.0\", \"recall\": 0.0}, {\"count\": 212, \"cutoff\": 2, \"precision\": 0.0, \"regionidcity\": \"34543.0\", \"recall\": 0.0}, {\"count\": 212, \"cutoff\": 3, \"precision\": 0.0, \"regionidcity\": \"34543.0\", \"recall\": 0.0}, {\"count\": 212, \"cutoff\": 4, \"precision\": 0.25, \"regionidcity\": \"34543.0\", \"recall\": 0.0047169811320754715}, {\"count\": 212, \"cutoff\": 5, \"precision\": 0.2, \"regionidcity\": \"34543.0\", \"recall\": 0.0047169811320754715}, {\"count\": 212, \"cutoff\": 6, \"precision\": 0.16666666666666666, \"regionidcity\": \"34543.0\", \"recall\": 0.0047169811320754715}, {\"count\": 212, \"cutoff\": 7, \"precision\": 0.16666666666666666, \"regionidcity\": \"34543.0\", \"recall\": 0.0047169811320754715}, {\"count\": 212, \"cutoff\": 8, \"precision\": 0.16666666666666666, \"regionidcity\": \"34543.0\", \"recall\": 0.0047169811320754715}, {\"count\": 212, \"cutoff\": 9, \"precision\": 0.16666666666666666, \"regionidcity\": \"34543.0\", \"recall\": 0.0047169811320754715}, {\"count\": 212, \"cutoff\": 10, \"precision\": 0.16666666666666666, \"regionidcity\": \"34543.0\", \"recall\": 0.0047169811320754715}, {\"count\": 212, \"cutoff\": 11, \"precision\": 0.16666666666666666, \"regionidcity\": \"34543.0\", \"recall\": 0.0047169811320754715}, {\"count\": 212, \"cutoff\": 16, \"precision\": 0.16666666666666666, \"regionidcity\": \"34543.0\", \"recall\": 0.0047169811320754715}, {\"count\": 212, \"cutoff\": 21, \"precision\": 0.16666666666666666, \"regionidcity\": \"34543.0\", \"recall\": 0.0047169811320754715}, {\"count\": 212, \"cutoff\": 26, \"precision\": 0.16666666666666666, \"regionidcity\": \"34543.0\", \"recall\": 0.0047169811320754715}, {\"count\": 212, \"cutoff\": 31, \"precision\": 0.16666666666666666, \"regionidcity\": \"34543.0\", \"recall\": 0.0047169811320754715}, {\"count\": 212, \"cutoff\": 36, \"precision\": 0.16666666666666666, \"regionidcity\": \"34543.0\", \"recall\": 0.0047169811320754715}, {\"count\": 212, \"cutoff\": 41, \"precision\": 0.16666666666666666, \"regionidcity\": \"34543.0\", \"recall\": 0.0047169811320754715}, {\"count\": 212, \"cutoff\": 46, \"precision\": 0.16666666666666666, \"regionidcity\": \"34543.0\", \"recall\": 0.0047169811320754715}, {\"count\": 9, \"cutoff\": 1, \"precision\": 0.0, \"regionidcity\": \"3491.0\", \"recall\": 0.0}, {\"count\": 9, \"cutoff\": 2, \"precision\": 0.0, \"regionidcity\": \"3491.0\", \"recall\": 0.0}, {\"count\": 9, \"cutoff\": 3, \"precision\": 0.0, \"regionidcity\": \"3491.0\", \"recall\": 0.0}, {\"count\": 9, \"cutoff\": 4, \"precision\": 0.0, \"regionidcity\": \"3491.0\", \"recall\": 0.0}, {\"count\": 9, \"cutoff\": 5, \"precision\": 0.0, \"regionidcity\": \"3491.0\", \"recall\": 0.0}, {\"count\": 9, \"cutoff\": 6, \"precision\": 0.0, \"regionidcity\": \"3491.0\", \"recall\": 0.0}, {\"count\": 9, \"cutoff\": 7, \"precision\": 0.0, \"regionidcity\": \"3491.0\", \"recall\": 0.0}, {\"count\": 9, \"cutoff\": 8, \"precision\": 0.0, \"regionidcity\": \"3491.0\", \"recall\": 0.0}, {\"count\": 9, \"cutoff\": 9, \"precision\": 0.0, \"regionidcity\": \"3491.0\", \"recall\": 0.0}, {\"count\": 9, \"cutoff\": 10, \"precision\": 0.0, \"regionidcity\": \"3491.0\", \"recall\": 0.0}, {\"count\": 9, \"cutoff\": 11, \"precision\": 0.0, \"regionidcity\": \"3491.0\", \"recall\": 0.0}, {\"count\": 9, \"cutoff\": 16, \"precision\": 0.0, \"regionidcity\": \"3491.0\", \"recall\": 0.0}, {\"count\": 9, \"cutoff\": 21, \"precision\": 0.0, \"regionidcity\": \"3491.0\", \"recall\": 0.0}, {\"count\": 9, \"cutoff\": 26, \"precision\": 0.0, \"regionidcity\": \"3491.0\", \"recall\": 0.0}, {\"count\": 9, \"cutoff\": 31, \"precision\": 0.0, \"regionidcity\": \"3491.0\", \"recall\": 0.0}, {\"count\": 9, \"cutoff\": 36, \"precision\": 0.0, \"regionidcity\": \"3491.0\", \"recall\": 0.0}, {\"count\": 9, \"cutoff\": 41, \"precision\": 0.0, \"regionidcity\": \"3491.0\", \"recall\": 0.0}, {\"count\": 9, \"cutoff\": 46, \"precision\": 0.0, \"regionidcity\": \"3491.0\", \"recall\": 0.0}, {\"count\": 148, \"cutoff\": 1, \"precision\": 0.0, \"regionidcity\": \"37086.0\", \"recall\": 0.0}, {\"count\": 148, \"cutoff\": 2, \"precision\": 0.0, \"regionidcity\": \"37086.0\", \"recall\": 0.0}, {\"count\": 148, \"cutoff\": 3, \"precision\": 0.0, \"regionidcity\": \"37086.0\", \"recall\": 0.0}, {\"count\": 148, \"cutoff\": 4, \"precision\": 0.0, \"regionidcity\": \"37086.0\", \"recall\": 0.0}, {\"count\": 148, \"cutoff\": 5, \"precision\": 0.0, \"regionidcity\": \"37086.0\", \"recall\": 0.0}, {\"count\": 148, \"cutoff\": 6, \"precision\": 0.0, \"regionidcity\": \"37086.0\", \"recall\": 0.0}, {\"count\": 148, \"cutoff\": 7, \"precision\": 0.0, \"regionidcity\": \"37086.0\", \"recall\": 0.0}, {\"count\": 148, \"cutoff\": 8, \"precision\": 0.0, \"regionidcity\": \"37086.0\", \"recall\": 0.0}, {\"count\": 148, \"cutoff\": 9, \"precision\": 0.0, \"regionidcity\": \"37086.0\", \"recall\": 0.0}, {\"count\": 148, \"cutoff\": 10, \"precision\": 0.0, \"regionidcity\": \"37086.0\", \"recall\": 0.0}, {\"count\": 148, \"cutoff\": 11, \"precision\": 0.0, \"regionidcity\": \"37086.0\", \"recall\": 0.0}, {\"count\": 148, \"cutoff\": 16, \"precision\": 0.0, \"regionidcity\": \"37086.0\", \"recall\": 0.0}, {\"count\": 148, \"cutoff\": 21, \"precision\": 0.0, \"regionidcity\": \"37086.0\", \"recall\": 0.0}, {\"count\": 148, \"cutoff\": 26, \"precision\": 0.0, \"regionidcity\": \"37086.0\", \"recall\": 0.0}, {\"count\": 148, \"cutoff\": 31, \"precision\": 0.0, \"regionidcity\": \"37086.0\", \"recall\": 0.0}, {\"count\": 148, \"cutoff\": 36, \"precision\": 0.0, \"regionidcity\": \"37086.0\", \"recall\": 0.0}, {\"count\": 148, \"cutoff\": 41, \"precision\": 0.0, \"regionidcity\": \"37086.0\", \"recall\": 0.0}, {\"count\": 148, \"cutoff\": 46, \"precision\": 0.0, \"regionidcity\": \"37086.0\", \"recall\": 0.0}, {\"count\": 30, \"cutoff\": 1, \"precision\": 0.0, \"regionidcity\": \"396556.0\", \"recall\": 0.0}, {\"count\": 30, \"cutoff\": 2, \"precision\": 0.0, \"regionidcity\": \"396556.0\", \"recall\": 0.0}, {\"count\": 30, \"cutoff\": 3, \"precision\": 0.0, \"regionidcity\": \"396556.0\", \"recall\": 0.0}, {\"count\": 30, \"cutoff\": 4, \"precision\": 0.0, \"regionidcity\": \"396556.0\", \"recall\": 0.0}, {\"count\": 30, \"cutoff\": 5, \"precision\": 0.0, \"regionidcity\": \"396556.0\", \"recall\": 0.0}, {\"count\": 30, \"cutoff\": 6, \"precision\": 0.0, \"regionidcity\": \"396556.0\", \"recall\": 0.0}, {\"count\": 30, \"cutoff\": 7, \"precision\": 0.0, \"regionidcity\": \"396556.0\", \"recall\": 0.0}, {\"count\": 30, \"cutoff\": 8, \"precision\": 0.0, \"regionidcity\": \"396556.0\", \"recall\": 0.0}, {\"count\": 30, \"cutoff\": 9, \"precision\": 0.0, \"regionidcity\": \"396556.0\", \"recall\": 0.0}, {\"count\": 30, \"cutoff\": 10, \"precision\": 0.0, \"regionidcity\": \"396556.0\", \"recall\": 0.0}, {\"count\": 30, \"cutoff\": 11, \"precision\": 0.0, \"regionidcity\": \"396556.0\", \"recall\": 0.0}, {\"count\": 30, \"cutoff\": 16, \"precision\": 0.0, \"regionidcity\": \"396556.0\", \"recall\": 0.0}, {\"count\": 30, \"cutoff\": 21, \"precision\": 0.0, \"regionidcity\": \"396556.0\", \"recall\": 0.0}, {\"count\": 30, \"cutoff\": 26, \"precision\": 0.0, \"regionidcity\": \"396556.0\", \"recall\": 0.0}, {\"count\": 30, \"cutoff\": 31, \"precision\": 0.0, \"regionidcity\": \"396556.0\", \"recall\": 0.0}, {\"count\": 30, \"cutoff\": 36, \"precision\": 0.0, \"regionidcity\": \"396556.0\", \"recall\": 0.0}, {\"count\": 30, \"cutoff\": 41, \"precision\": 0.0, \"regionidcity\": \"396556.0\", \"recall\": 0.0}, {\"count\": 30, \"cutoff\": 46, \"precision\": 0.0, \"regionidcity\": \"396556.0\", \"recall\": 0.0}, {\"count\": 34, \"cutoff\": 1, \"precision\": 0.0, \"regionidcity\": \"40009.0\", \"recall\": 0.0}, {\"count\": 34, \"cutoff\": 2, \"precision\": 0.0, \"regionidcity\": \"40009.0\", \"recall\": 0.0}, {\"count\": 34, \"cutoff\": 3, \"precision\": 0.0, \"regionidcity\": \"40009.0\", \"recall\": 0.0}, {\"count\": 34, \"cutoff\": 4, \"precision\": 0.0, \"regionidcity\": \"40009.0\", \"recall\": 0.0}, {\"count\": 34, \"cutoff\": 5, \"precision\": 0.0, \"regionidcity\": \"40009.0\", \"recall\": 0.0}, {\"count\": 34, \"cutoff\": 6, \"precision\": 0.0, \"regionidcity\": \"40009.0\", \"recall\": 0.0}, {\"count\": 34, \"cutoff\": 7, \"precision\": 0.0, \"regionidcity\": \"40009.0\", \"recall\": 0.0}, {\"count\": 34, \"cutoff\": 8, \"precision\": 0.0, \"regionidcity\": \"40009.0\", \"recall\": 0.0}, {\"count\": 34, \"cutoff\": 9, \"precision\": 0.0, \"regionidcity\": \"40009.0\", \"recall\": 0.0}, {\"count\": 34, \"cutoff\": 10, \"precision\": 0.0, \"regionidcity\": \"40009.0\", \"recall\": 0.0}, {\"count\": 34, \"cutoff\": 11, \"precision\": 0.0, \"regionidcity\": \"40009.0\", \"recall\": 0.0}, {\"count\": 34, \"cutoff\": 16, \"precision\": 0.0, \"regionidcity\": \"40009.0\", \"recall\": 0.0}, {\"count\": 34, \"cutoff\": 21, \"precision\": 0.0, \"regionidcity\": \"40009.0\", \"recall\": 0.0}, {\"count\": 34, \"cutoff\": 26, \"precision\": 0.0, \"regionidcity\": \"40009.0\", \"recall\": 0.0}, {\"count\": 34, \"cutoff\": 31, \"precision\": 0.0, \"regionidcity\": \"40009.0\", \"recall\": 0.0}, {\"count\": 34, \"cutoff\": 36, \"precision\": 0.0, \"regionidcity\": \"40009.0\", \"recall\": 0.0}, {\"count\": 34, \"cutoff\": 41, \"precision\": 0.0, \"regionidcity\": \"40009.0\", \"recall\": 0.0}, {\"count\": 34, \"cutoff\": 46, \"precision\": 0.0, \"regionidcity\": \"40009.0\", \"recall\": 0.0}, {\"count\": 7, \"cutoff\": 1, \"precision\": 0.0, \"regionidcity\": \"42091.0\", \"recall\": 0.0}, {\"count\": 7, \"cutoff\": 2, \"precision\": 0.0, \"regionidcity\": \"42091.0\", \"recall\": 0.0}, {\"count\": 7, \"cutoff\": 3, \"precision\": 0.0, \"regionidcity\": \"42091.0\", \"recall\": 0.0}, {\"count\": 7, \"cutoff\": 4, \"precision\": 0.0, \"regionidcity\": \"42091.0\", \"recall\": 0.0}, {\"count\": 7, \"cutoff\": 5, \"precision\": 0.0, \"regionidcity\": \"42091.0\", \"recall\": 0.0}, {\"count\": 7, \"cutoff\": 6, \"precision\": 0.0, \"regionidcity\": \"42091.0\", \"recall\": 0.0}, {\"count\": 7, \"cutoff\": 7, \"precision\": 0.0, \"regionidcity\": \"42091.0\", \"recall\": 0.0}, {\"count\": 7, \"cutoff\": 8, \"precision\": 0.0, \"regionidcity\": \"42091.0\", \"recall\": 0.0}, {\"count\": 7, \"cutoff\": 9, \"precision\": 0.0, \"regionidcity\": \"42091.0\", \"recall\": 0.0}, {\"count\": 7, \"cutoff\": 10, \"precision\": 0.0, \"regionidcity\": \"42091.0\", \"recall\": 0.0}, {\"count\": 7, \"cutoff\": 11, \"precision\": 0.0, \"regionidcity\": \"42091.0\", \"recall\": 0.0}, {\"count\": 7, \"cutoff\": 16, \"precision\": 0.0, \"regionidcity\": \"42091.0\", \"recall\": 0.0}, {\"count\": 7, \"cutoff\": 21, \"precision\": 0.0, \"regionidcity\": \"42091.0\", \"recall\": 0.0}, {\"count\": 7, \"cutoff\": 26, \"precision\": 0.0, \"regionidcity\": \"42091.0\", \"recall\": 0.0}, {\"count\": 7, \"cutoff\": 31, \"precision\": 0.0, \"regionidcity\": \"42091.0\", \"recall\": 0.0}, {\"count\": 7, \"cutoff\": 36, \"precision\": 0.0, \"regionidcity\": \"42091.0\", \"recall\": 0.0}, {\"count\": 7, \"cutoff\": 41, \"precision\": 0.0, \"regionidcity\": \"42091.0\", \"recall\": 0.0}, {\"count\": 7, \"cutoff\": 46, \"precision\": 0.0, \"regionidcity\": \"42091.0\", \"recall\": 0.0}, {\"count\": 68, \"cutoff\": 1, \"precision\": 0.0, \"regionidcity\": \"42150.0\", \"recall\": 0.0}, {\"count\": 68, \"cutoff\": 2, \"precision\": 0.0, \"regionidcity\": \"42150.0\", \"recall\": 0.0}, {\"count\": 68, \"cutoff\": 3, \"precision\": 0.0, \"regionidcity\": \"42150.0\", \"recall\": 0.0}, {\"count\": 68, \"cutoff\": 4, \"precision\": 0.0, \"regionidcity\": \"42150.0\", \"recall\": 0.0}, {\"count\": 68, \"cutoff\": 5, \"precision\": 0.0, \"regionidcity\": \"42150.0\", \"recall\": 0.0}, {\"count\": 68, \"cutoff\": 6, \"precision\": 0.0, \"regionidcity\": \"42150.0\", \"recall\": 0.0}, {\"count\": 68, \"cutoff\": 7, \"precision\": 0.0, \"regionidcity\": \"42150.0\", \"recall\": 0.0}, {\"count\": 68, \"cutoff\": 8, \"precision\": 0.0, \"regionidcity\": \"42150.0\", \"recall\": 0.0}, {\"count\": 68, \"cutoff\": 9, \"precision\": 0.0, \"regionidcity\": \"42150.0\", \"recall\": 0.0}, {\"count\": 68, \"cutoff\": 10, \"precision\": 0.0, \"regionidcity\": \"42150.0\", \"recall\": 0.0}, {\"count\": 68, \"cutoff\": 11, \"precision\": 0.0, \"regionidcity\": \"42150.0\", \"recall\": 0.0}, {\"count\": 68, \"cutoff\": 16, \"precision\": 0.0, \"regionidcity\": \"42150.0\", \"recall\": 0.0}, {\"count\": 68, \"cutoff\": 21, \"precision\": 0.0, \"regionidcity\": \"42150.0\", \"recall\": 0.0}, {\"count\": 68, \"cutoff\": 26, \"precision\": 0.0, \"regionidcity\": \"42150.0\", \"recall\": 0.0}, {\"count\": 68, \"cutoff\": 31, \"precision\": 0.0, \"regionidcity\": \"42150.0\", \"recall\": 0.0}, {\"count\": 68, \"cutoff\": 36, \"precision\": 0.0, \"regionidcity\": \"42150.0\", \"recall\": 0.0}, {\"count\": 68, \"cutoff\": 41, \"precision\": 0.0, \"regionidcity\": \"42150.0\", \"recall\": 0.0}, {\"count\": 68, \"cutoff\": 46, \"precision\": 0.0, \"regionidcity\": \"42150.0\", \"recall\": 0.0}, {\"count\": 97, \"cutoff\": 1, \"precision\": 1.0, \"regionidcity\": \"4406.0\", \"recall\": 0.010309278350515464}, {\"count\": 97, \"cutoff\": 2, \"precision\": 0.5, \"regionidcity\": \"4406.0\", \"recall\": 0.010309278350515464}, {\"count\": 97, \"cutoff\": 3, \"precision\": 0.3333333333333333, \"regionidcity\": \"4406.0\", \"recall\": 0.010309278350515464}, {\"count\": 97, \"cutoff\": 4, \"precision\": 0.25, \"regionidcity\": \"4406.0\", \"recall\": 0.010309278350515464}, {\"count\": 97, \"cutoff\": 5, \"precision\": 0.2, \"regionidcity\": \"4406.0\", \"recall\": 0.010309278350515464}, {\"count\": 97, \"cutoff\": 6, \"precision\": 0.16666666666666666, \"regionidcity\": \"4406.0\", \"recall\": 0.010309278350515464}, {\"count\": 97, \"cutoff\": 7, \"precision\": 0.14285714285714285, \"regionidcity\": \"4406.0\", \"recall\": 0.010309278350515464}, {\"count\": 97, \"cutoff\": 8, \"precision\": 0.125, \"regionidcity\": \"4406.0\", \"recall\": 0.010309278350515464}, {\"count\": 97, \"cutoff\": 9, \"precision\": 0.1111111111111111, \"regionidcity\": \"4406.0\", \"recall\": 0.010309278350515464}, {\"count\": 97, \"cutoff\": 10, \"precision\": 0.1111111111111111, \"regionidcity\": \"4406.0\", \"recall\": 0.010309278350515464}, {\"count\": 97, \"cutoff\": 11, \"precision\": 0.1111111111111111, \"regionidcity\": \"4406.0\", \"recall\": 0.010309278350515464}, {\"count\": 97, \"cutoff\": 16, \"precision\": 0.1111111111111111, \"regionidcity\": \"4406.0\", \"recall\": 0.010309278350515464}, {\"count\": 97, \"cutoff\": 21, \"precision\": 0.1111111111111111, \"regionidcity\": \"4406.0\", \"recall\": 0.010309278350515464}, {\"count\": 97, \"cutoff\": 26, \"precision\": 0.1111111111111111, \"regionidcity\": \"4406.0\", \"recall\": 0.010309278350515464}, {\"count\": 97, \"cutoff\": 31, \"precision\": 0.1111111111111111, \"regionidcity\": \"4406.0\", \"recall\": 0.010309278350515464}, {\"count\": 97, \"cutoff\": 36, \"precision\": 0.1111111111111111, \"regionidcity\": \"4406.0\", \"recall\": 0.010309278350515464}, {\"count\": 97, \"cutoff\": 41, \"precision\": 0.1111111111111111, \"regionidcity\": \"4406.0\", \"recall\": 0.010309278350515464}, {\"count\": 97, \"cutoff\": 46, \"precision\": 0.1111111111111111, \"regionidcity\": \"4406.0\", \"recall\": 0.010309278350515464}, {\"count\": 53, \"cutoff\": 1, \"precision\": 0.0, \"regionidcity\": \"44116.0\", \"recall\": 0.0}, {\"count\": 53, \"cutoff\": 2, \"precision\": 0.0, \"regionidcity\": \"44116.0\", \"recall\": 0.0}, {\"count\": 53, \"cutoff\": 3, \"precision\": 0.0, \"regionidcity\": \"44116.0\", \"recall\": 0.0}, {\"count\": 53, \"cutoff\": 4, \"precision\": 0.0, \"regionidcity\": \"44116.0\", \"recall\": 0.0}, {\"count\": 53, \"cutoff\": 5, \"precision\": 0.0, \"regionidcity\": \"44116.0\", \"recall\": 0.0}, {\"count\": 53, \"cutoff\": 6, \"precision\": 0.0, \"regionidcity\": \"44116.0\", \"recall\": 0.0}, {\"count\": 53, \"cutoff\": 7, \"precision\": 0.0, \"regionidcity\": \"44116.0\", \"recall\": 0.0}, {\"count\": 53, \"cutoff\": 8, \"precision\": 0.0, \"regionidcity\": \"44116.0\", \"recall\": 0.0}, {\"count\": 53, \"cutoff\": 9, \"precision\": 0.0, \"regionidcity\": \"44116.0\", \"recall\": 0.0}, {\"count\": 53, \"cutoff\": 10, \"precision\": 0.0, \"regionidcity\": \"44116.0\", \"recall\": 0.0}, {\"count\": 53, \"cutoff\": 11, \"precision\": 0.0, \"regionidcity\": \"44116.0\", \"recall\": 0.0}, {\"count\": 53, \"cutoff\": 16, \"precision\": 0.0, \"regionidcity\": \"44116.0\", \"recall\": 0.0}, {\"count\": 53, \"cutoff\": 21, \"precision\": 0.0, \"regionidcity\": \"44116.0\", \"recall\": 0.0}, {\"count\": 53, \"cutoff\": 26, \"precision\": 0.0, \"regionidcity\": \"44116.0\", \"recall\": 0.0}, {\"count\": 53, \"cutoff\": 31, \"precision\": 0.0, \"regionidcity\": \"44116.0\", \"recall\": 0.0}, {\"count\": 53, \"cutoff\": 36, \"precision\": 0.0, \"regionidcity\": \"44116.0\", \"recall\": 0.0}, {\"count\": 53, \"cutoff\": 41, \"precision\": 0.0, \"regionidcity\": \"44116.0\", \"recall\": 0.0}, {\"count\": 53, \"cutoff\": 46, \"precision\": 0.0, \"regionidcity\": \"44116.0\", \"recall\": 0.0}, {\"count\": 49, \"cutoff\": 1, \"precision\": 0.0, \"regionidcity\": \"45398.0\", \"recall\": 0.0}, {\"count\": 49, \"cutoff\": 2, \"precision\": 0.0, \"regionidcity\": \"45398.0\", \"recall\": 0.0}, {\"count\": 49, \"cutoff\": 3, \"precision\": 0.0, \"regionidcity\": \"45398.0\", \"recall\": 0.0}, {\"count\": 49, \"cutoff\": 4, \"precision\": 0.0, \"regionidcity\": \"45398.0\", \"recall\": 0.0}, {\"count\": 49, \"cutoff\": 5, \"precision\": 0.0, \"regionidcity\": \"45398.0\", \"recall\": 0.0}, {\"count\": 49, \"cutoff\": 6, \"precision\": 0.0, \"regionidcity\": \"45398.0\", \"recall\": 0.0}, {\"count\": 49, \"cutoff\": 7, \"precision\": 0.0, \"regionidcity\": \"45398.0\", \"recall\": 0.0}, {\"count\": 49, \"cutoff\": 8, \"precision\": 0.0, \"regionidcity\": \"45398.0\", \"recall\": 0.0}, {\"count\": 49, \"cutoff\": 9, \"precision\": 0.0, \"regionidcity\": \"45398.0\", \"recall\": 0.0}, {\"count\": 49, \"cutoff\": 10, \"precision\": 0.0, \"regionidcity\": \"45398.0\", \"recall\": 0.0}, {\"count\": 49, \"cutoff\": 11, \"precision\": 0.0, \"regionidcity\": \"45398.0\", \"recall\": 0.0}, {\"count\": 49, \"cutoff\": 16, \"precision\": 0.0, \"regionidcity\": \"45398.0\", \"recall\": 0.0}, {\"count\": 49, \"cutoff\": 21, \"precision\": 0.0, \"regionidcity\": \"45398.0\", \"recall\": 0.0}, {\"count\": 49, \"cutoff\": 26, \"precision\": 0.0, \"regionidcity\": \"45398.0\", \"recall\": 0.0}, {\"count\": 49, \"cutoff\": 31, \"precision\": 0.0, \"regionidcity\": \"45398.0\", \"recall\": 0.0}, {\"count\": 49, \"cutoff\": 36, \"precision\": 0.0, \"regionidcity\": \"45398.0\", \"recall\": 0.0}, {\"count\": 49, \"cutoff\": 41, \"precision\": 0.0, \"regionidcity\": \"45398.0\", \"recall\": 0.0}, {\"count\": 49, \"cutoff\": 46, \"precision\": 0.0, \"regionidcity\": \"45398.0\", \"recall\": 0.0}, {\"count\": 210, \"cutoff\": 1, \"precision\": 0.0, \"regionidcity\": \"45457.0\", \"recall\": 0.0}, {\"count\": 210, \"cutoff\": 2, \"precision\": 0.0, \"regionidcity\": \"45457.0\", \"recall\": 0.0}, {\"count\": 210, \"cutoff\": 3, \"precision\": 0.0, \"regionidcity\": \"45457.0\", \"recall\": 0.0}, {\"count\": 210, \"cutoff\": 4, \"precision\": 0.0, \"regionidcity\": \"45457.0\", \"recall\": 0.0}, {\"count\": 210, \"cutoff\": 5, \"precision\": 0.0, \"regionidcity\": \"45457.0\", \"recall\": 0.0}, {\"count\": 210, \"cutoff\": 6, \"precision\": 0.0, \"regionidcity\": \"45457.0\", \"recall\": 0.0}, {\"count\": 210, \"cutoff\": 7, \"precision\": 0.0, \"regionidcity\": \"45457.0\", \"recall\": 0.0}, {\"count\": 210, \"cutoff\": 8, \"precision\": 0.0, \"regionidcity\": \"45457.0\", \"recall\": 0.0}, {\"count\": 210, \"cutoff\": 9, \"precision\": 0.0, \"regionidcity\": \"45457.0\", \"recall\": 0.0}, {\"count\": 210, \"cutoff\": 10, \"precision\": 0.0, \"regionidcity\": \"45457.0\", \"recall\": 0.0}, {\"count\": 210, \"cutoff\": 11, \"precision\": 0.0, \"regionidcity\": \"45457.0\", \"recall\": 0.0}, {\"count\": 210, \"cutoff\": 16, \"precision\": 0.0, \"regionidcity\": \"45457.0\", \"recall\": 0.0}, {\"count\": 210, \"cutoff\": 21, \"precision\": 0.0, \"regionidcity\": \"45457.0\", \"recall\": 0.0}, {\"count\": 210, \"cutoff\": 26, \"precision\": 0.0, \"regionidcity\": \"45457.0\", \"recall\": 0.0}, {\"count\": 210, \"cutoff\": 31, \"precision\": 0.0, \"regionidcity\": \"45457.0\", \"recall\": 0.0}, {\"count\": 210, \"cutoff\": 36, \"precision\": 0.0, \"regionidcity\": \"45457.0\", \"recall\": 0.0}, {\"count\": 210, \"cutoff\": 41, \"precision\": 0.0, \"regionidcity\": \"45457.0\", \"recall\": 0.0}, {\"count\": 210, \"cutoff\": 46, \"precision\": 0.0, \"regionidcity\": \"45457.0\", \"recall\": 0.0}, {\"count\": 66, \"cutoff\": 1, \"precision\": 0.0, \"regionidcity\": \"45888.0\", \"recall\": 0.0}, {\"count\": 66, \"cutoff\": 2, \"precision\": 0.0, \"regionidcity\": \"45888.0\", \"recall\": 0.0}, {\"count\": 66, \"cutoff\": 3, \"precision\": 0.0, \"regionidcity\": \"45888.0\", \"recall\": 0.0}, {\"count\": 66, \"cutoff\": 4, \"precision\": 0.0, \"regionidcity\": \"45888.0\", \"recall\": 0.0}, {\"count\": 66, \"cutoff\": 5, \"precision\": 0.0, \"regionidcity\": \"45888.0\", \"recall\": 0.0}, {\"count\": 66, \"cutoff\": 6, \"precision\": 0.0, \"regionidcity\": \"45888.0\", \"recall\": 0.0}, {\"count\": 66, \"cutoff\": 7, \"precision\": 0.0, \"regionidcity\": \"45888.0\", \"recall\": 0.0}, {\"count\": 66, \"cutoff\": 8, \"precision\": 0.0, \"regionidcity\": \"45888.0\", \"recall\": 0.0}, {\"count\": 66, \"cutoff\": 9, \"precision\": 0.0, \"regionidcity\": \"45888.0\", \"recall\": 0.0}, {\"count\": 66, \"cutoff\": 10, \"precision\": 0.0, \"regionidcity\": \"45888.0\", \"recall\": 0.0}, {\"count\": 66, \"cutoff\": 11, \"precision\": 0.0, \"regionidcity\": \"45888.0\", \"recall\": 0.0}, {\"count\": 66, \"cutoff\": 16, \"precision\": 0.0, \"regionidcity\": \"45888.0\", \"recall\": 0.0}, {\"count\": 66, \"cutoff\": 21, \"precision\": 0.0, \"regionidcity\": \"45888.0\", \"recall\": 0.0}, {\"count\": 66, \"cutoff\": 26, \"precision\": 0.0, \"regionidcity\": \"45888.0\", \"recall\": 0.0}, {\"count\": 66, \"cutoff\": 31, \"precision\": 0.0, \"regionidcity\": \"45888.0\", \"recall\": 0.0}, {\"count\": 66, \"cutoff\": 36, \"precision\": 0.0, \"regionidcity\": \"45888.0\", \"recall\": 0.0}, {\"count\": 66, \"cutoff\": 41, \"precision\": 0.0, \"regionidcity\": \"45888.0\", \"recall\": 0.0}, {\"count\": 66, \"cutoff\": 46, \"precision\": 0.0, \"regionidcity\": \"45888.0\", \"recall\": 0.0}, {\"count\": 230, \"cutoff\": 1, \"precision\": 0.0, \"regionidcity\": \"47568.0\", \"recall\": 0.0}, {\"count\": 230, \"cutoff\": 2, \"precision\": 0.0, \"regionidcity\": \"47568.0\", \"recall\": 0.0}, {\"count\": 230, \"cutoff\": 3, \"precision\": 0.0, \"regionidcity\": \"47568.0\", \"recall\": 0.0}, {\"count\": 230, \"cutoff\": 4, \"precision\": 0.0, \"regionidcity\": \"47568.0\", \"recall\": 0.0}, {\"count\": 230, \"cutoff\": 5, \"precision\": 0.0, \"regionidcity\": \"47568.0\", \"recall\": 0.0}, {\"count\": 230, \"cutoff\": 6, \"precision\": 0.0, \"regionidcity\": \"47568.0\", \"recall\": 0.0}, {\"count\": 230, \"cutoff\": 7, \"precision\": 0.0, \"regionidcity\": \"47568.0\", \"recall\": 0.0}, {\"count\": 230, \"cutoff\": 8, \"precision\": 0.0, \"regionidcity\": \"47568.0\", \"recall\": 0.0}, {\"count\": 230, \"cutoff\": 9, \"precision\": 0.0, \"regionidcity\": \"47568.0\", \"recall\": 0.0}, {\"count\": 230, \"cutoff\": 10, \"precision\": 0.0, \"regionidcity\": \"47568.0\", \"recall\": 0.0}, {\"count\": 230, \"cutoff\": 11, \"precision\": 0.0, \"regionidcity\": \"47568.0\", \"recall\": 0.0}, {\"count\": 230, \"cutoff\": 16, \"precision\": 0.0, \"regionidcity\": \"47568.0\", \"recall\": 0.0}, {\"count\": 230, \"cutoff\": 21, \"precision\": 0.0, \"regionidcity\": \"47568.0\", \"recall\": 0.0}, {\"count\": 230, \"cutoff\": 26, \"precision\": 0.0, \"regionidcity\": \"47568.0\", \"recall\": 0.0}, {\"count\": 230, \"cutoff\": 31, \"precision\": 0.0, \"regionidcity\": \"47568.0\", \"recall\": 0.0}, {\"count\": 230, \"cutoff\": 36, \"precision\": 0.0, \"regionidcity\": \"47568.0\", \"recall\": 0.0}, {\"count\": 230, \"cutoff\": 41, \"precision\": 0.0, \"regionidcity\": \"47568.0\", \"recall\": 0.0}, {\"count\": 230, \"cutoff\": 46, \"precision\": 0.0, \"regionidcity\": \"47568.0\", \"recall\": 0.0}, {\"count\": 186, \"cutoff\": 1, \"precision\": 0.0, \"regionidcity\": \"51239.0\", \"recall\": 0.0}, {\"count\": 186, \"cutoff\": 2, \"precision\": 0.0, \"regionidcity\": \"51239.0\", \"recall\": 0.0}, {\"count\": 186, \"cutoff\": 3, \"precision\": 0.0, \"regionidcity\": \"51239.0\", \"recall\": 0.0}, {\"count\": 186, \"cutoff\": 4, \"precision\": 0.0, \"regionidcity\": \"51239.0\", \"recall\": 0.0}, {\"count\": 186, \"cutoff\": 5, \"precision\": 0.0, \"regionidcity\": \"51239.0\", \"recall\": 0.0}, {\"count\": 186, \"cutoff\": 6, \"precision\": 0.0, \"regionidcity\": \"51239.0\", \"recall\": 0.0}, {\"count\": 186, \"cutoff\": 7, \"precision\": 0.0, \"regionidcity\": \"51239.0\", \"recall\": 0.0}, {\"count\": 186, \"cutoff\": 8, \"precision\": 0.0, \"regionidcity\": \"51239.0\", \"recall\": 0.0}, {\"count\": 186, \"cutoff\": 9, \"precision\": 0.0, \"regionidcity\": \"51239.0\", \"recall\": 0.0}, {\"count\": 186, \"cutoff\": 10, \"precision\": 0.0, \"regionidcity\": \"51239.0\", \"recall\": 0.0}, {\"count\": 186, \"cutoff\": 11, \"precision\": 0.0, \"regionidcity\": \"51239.0\", \"recall\": 0.0}, {\"count\": 186, \"cutoff\": 16, \"precision\": 0.0, \"regionidcity\": \"51239.0\", \"recall\": 0.0}, {\"count\": 186, \"cutoff\": 21, \"precision\": 0.0, \"regionidcity\": \"51239.0\", \"recall\": 0.0}, {\"count\": 186, \"cutoff\": 26, \"precision\": 0.0, \"regionidcity\": \"51239.0\", \"recall\": 0.0}, {\"count\": 186, \"cutoff\": 31, \"precision\": 0.0, \"regionidcity\": \"51239.0\", \"recall\": 0.0}, {\"count\": 186, \"cutoff\": 36, \"precision\": 0.0, \"regionidcity\": \"51239.0\", \"recall\": 0.0}, {\"count\": 186, \"cutoff\": 41, \"precision\": 0.0, \"regionidcity\": \"51239.0\", \"recall\": 0.0}, {\"count\": 186, \"cutoff\": 46, \"precision\": 0.0, \"regionidcity\": \"51239.0\", \"recall\": 0.0}, {\"count\": 26, \"cutoff\": 1, \"precision\": 0.0, \"regionidcity\": \"53027.0\", \"recall\": 0.0}, {\"count\": 26, \"cutoff\": 2, \"precision\": 0.0, \"regionidcity\": \"53027.0\", \"recall\": 0.0}, {\"count\": 26, \"cutoff\": 3, \"precision\": 0.0, \"regionidcity\": \"53027.0\", \"recall\": 0.0}, {\"count\": 26, \"cutoff\": 4, \"precision\": 0.0, \"regionidcity\": \"53027.0\", \"recall\": 0.0}, {\"count\": 26, \"cutoff\": 5, \"precision\": 0.0, \"regionidcity\": \"53027.0\", \"recall\": 0.0}, {\"count\": 26, \"cutoff\": 6, \"precision\": 0.0, \"regionidcity\": \"53027.0\", \"recall\": 0.0}, {\"count\": 26, \"cutoff\": 7, \"precision\": 0.0, \"regionidcity\": \"53027.0\", \"recall\": 0.0}, {\"count\": 26, \"cutoff\": 8, \"precision\": 0.0, \"regionidcity\": \"53027.0\", \"recall\": 0.0}, {\"count\": 26, \"cutoff\": 9, \"precision\": 0.0, \"regionidcity\": \"53027.0\", \"recall\": 0.0}, {\"count\": 26, \"cutoff\": 10, \"precision\": 0.0, \"regionidcity\": \"53027.0\", \"recall\": 0.0}, {\"count\": 26, \"cutoff\": 11, \"precision\": 0.0, \"regionidcity\": \"53027.0\", \"recall\": 0.0}, {\"count\": 26, \"cutoff\": 16, \"precision\": 0.0, \"regionidcity\": \"53027.0\", \"recall\": 0.0}, {\"count\": 26, \"cutoff\": 21, \"precision\": 0.0, \"regionidcity\": \"53027.0\", \"recall\": 0.0}, {\"count\": 26, \"cutoff\": 26, \"precision\": 0.0, \"regionidcity\": \"53027.0\", \"recall\": 0.0}, {\"count\": 26, \"cutoff\": 31, \"precision\": 0.0, \"regionidcity\": \"53027.0\", \"recall\": 0.0}, {\"count\": 26, \"cutoff\": 36, \"precision\": 0.0, \"regionidcity\": \"53027.0\", \"recall\": 0.0}, {\"count\": 26, \"cutoff\": 41, \"precision\": 0.0, \"regionidcity\": \"53027.0\", \"recall\": 0.0}, {\"count\": 26, \"cutoff\": 46, \"precision\": 0.0, \"regionidcity\": \"53027.0\", \"recall\": 0.0}, {\"count\": 83, \"cutoff\": 1, \"precision\": 0.0, \"regionidcity\": \"5465.0\", \"recall\": 0.0}, {\"count\": 83, \"cutoff\": 2, \"precision\": 0.0, \"regionidcity\": \"5465.0\", \"recall\": 0.0}, {\"count\": 83, \"cutoff\": 3, \"precision\": 0.0, \"regionidcity\": \"5465.0\", \"recall\": 0.0}, {\"count\": 83, \"cutoff\": 4, \"precision\": 0.0, \"regionidcity\": \"5465.0\", \"recall\": 0.0}, {\"count\": 83, \"cutoff\": 5, \"precision\": 0.0, \"regionidcity\": \"5465.0\", \"recall\": 0.0}, {\"count\": 83, \"cutoff\": 6, \"precision\": 0.0, \"regionidcity\": \"5465.0\", \"recall\": 0.0}, {\"count\": 83, \"cutoff\": 7, \"precision\": 0.0, \"regionidcity\": \"5465.0\", \"recall\": 0.0}, {\"count\": 83, \"cutoff\": 8, \"precision\": 0.0, \"regionidcity\": \"5465.0\", \"recall\": 0.0}, {\"count\": 83, \"cutoff\": 9, \"precision\": 0.0, \"regionidcity\": \"5465.0\", \"recall\": 0.0}, {\"count\": 83, \"cutoff\": 10, \"precision\": 0.0, \"regionidcity\": \"5465.0\", \"recall\": 0.0}, {\"count\": 83, \"cutoff\": 11, \"precision\": 0.0, \"regionidcity\": \"5465.0\", \"recall\": 0.0}, {\"count\": 83, \"cutoff\": 16, \"precision\": 0.0, \"regionidcity\": \"5465.0\", \"recall\": 0.0}, {\"count\": 83, \"cutoff\": 21, \"precision\": 0.0, \"regionidcity\": \"5465.0\", \"recall\": 0.0}, {\"count\": 83, \"cutoff\": 26, \"precision\": 0.0, \"regionidcity\": \"5465.0\", \"recall\": 0.0}, {\"count\": 83, \"cutoff\": 31, \"precision\": 0.0, \"regionidcity\": \"5465.0\", \"recall\": 0.0}, {\"count\": 83, \"cutoff\": 36, \"precision\": 0.0, \"regionidcity\": \"5465.0\", \"recall\": 0.0}, {\"count\": 83, \"cutoff\": 41, \"precision\": 0.0, \"regionidcity\": \"5465.0\", \"recall\": 0.0}, {\"count\": 83, \"cutoff\": 46, \"precision\": 0.0, \"regionidcity\": \"5465.0\", \"recall\": 0.0}, {\"count\": 10, \"cutoff\": 1, \"precision\": 0.0, \"regionidcity\": \"54970.0\", \"recall\": 0.0}, {\"count\": 10, \"cutoff\": 2, \"precision\": 0.0, \"regionidcity\": \"54970.0\", \"recall\": 0.0}, {\"count\": 10, \"cutoff\": 3, \"precision\": 0.0, \"regionidcity\": \"54970.0\", \"recall\": 0.0}, {\"count\": 10, \"cutoff\": 4, \"precision\": 0.0, \"regionidcity\": \"54970.0\", \"recall\": 0.0}, {\"count\": 10, \"cutoff\": 5, \"precision\": 0.0, \"regionidcity\": \"54970.0\", \"recall\": 0.0}, {\"count\": 10, \"cutoff\": 6, \"precision\": 0.0, \"regionidcity\": \"54970.0\", \"recall\": 0.0}, {\"count\": 10, \"cutoff\": 7, \"precision\": 0.0, \"regionidcity\": \"54970.0\", \"recall\": 0.0}, {\"count\": 10, \"cutoff\": 8, \"precision\": 0.0, \"regionidcity\": \"54970.0\", \"recall\": 0.0}, {\"count\": 10, \"cutoff\": 9, \"precision\": 0.0, \"regionidcity\": \"54970.0\", \"recall\": 0.0}, {\"count\": 10, \"cutoff\": 10, \"precision\": 0.0, \"regionidcity\": \"54970.0\", \"recall\": 0.0}, {\"count\": 10, \"cutoff\": 11, \"precision\": 0.0, \"regionidcity\": \"54970.0\", \"recall\": 0.0}, {\"count\": 10, \"cutoff\": 16, \"precision\": 0.0, \"regionidcity\": \"54970.0\", \"recall\": 0.0}, {\"count\": 10, \"cutoff\": 21, \"precision\": 0.0, \"regionidcity\": \"54970.0\", \"recall\": 0.0}, {\"count\": 10, \"cutoff\": 26, \"precision\": 0.0, \"regionidcity\": \"54970.0\", \"recall\": 0.0}, {\"count\": 10, \"cutoff\": 31, \"precision\": 0.0, \"regionidcity\": \"54970.0\", \"recall\": 0.0}, {\"count\": 10, \"cutoff\": 36, \"precision\": 0.0, \"regionidcity\": \"54970.0\", \"recall\": 0.0}, {\"count\": 10, \"cutoff\": 41, \"precision\": 0.0, \"regionidcity\": \"54970.0\", \"recall\": 0.0}, {\"count\": 10, \"cutoff\": 46, \"precision\": 0.0, \"regionidcity\": \"54970.0\", \"recall\": 0.0}, {\"count\": 12, \"cutoff\": 1, \"precision\": 0.0, \"regionidcity\": \"56780.0\", \"recall\": 0.0}, {\"count\": 12, \"cutoff\": 2, \"precision\": 0.0, \"regionidcity\": \"56780.0\", \"recall\": 0.0}, {\"count\": 12, \"cutoff\": 3, \"precision\": 0.0, \"regionidcity\": \"56780.0\", \"recall\": 0.0}, {\"count\": 12, \"cutoff\": 4, \"precision\": 0.0, \"regionidcity\": \"56780.0\", \"recall\": 0.0}, {\"count\": 12, \"cutoff\": 5, \"precision\": 0.0, \"regionidcity\": \"56780.0\", \"recall\": 0.0}, {\"count\": 12, \"cutoff\": 6, \"precision\": 0.0, \"regionidcity\": \"56780.0\", \"recall\": 0.0}, {\"count\": 12, \"cutoff\": 7, \"precision\": 0.0, \"regionidcity\": \"56780.0\", \"recall\": 0.0}, {\"count\": 12, \"cutoff\": 8, \"precision\": 0.0, \"regionidcity\": \"56780.0\", \"recall\": 0.0}, {\"count\": 12, \"cutoff\": 9, \"precision\": 0.0, \"regionidcity\": \"56780.0\", \"recall\": 0.0}, {\"count\": 12, \"cutoff\": 10, \"precision\": 0.0, \"regionidcity\": \"56780.0\", \"recall\": 0.0}, {\"count\": 12, \"cutoff\": 11, \"precision\": 0.0, \"regionidcity\": \"56780.0\", \"recall\": 0.0}, {\"count\": 12, \"cutoff\": 16, \"precision\": 0.0, \"regionidcity\": \"56780.0\", \"recall\": 0.0}, {\"count\": 12, \"cutoff\": 21, \"precision\": 0.0, \"regionidcity\": \"56780.0\", \"recall\": 0.0}, {\"count\": 12, \"cutoff\": 26, \"precision\": 0.0, \"regionidcity\": \"56780.0\", \"recall\": 0.0}, {\"count\": 12, \"cutoff\": 31, \"precision\": 0.0, \"regionidcity\": \"56780.0\", \"recall\": 0.0}, {\"count\": 12, \"cutoff\": 36, \"precision\": 0.0, \"regionidcity\": \"56780.0\", \"recall\": 0.0}, {\"count\": 12, \"cutoff\": 41, \"precision\": 0.0, \"regionidcity\": \"56780.0\", \"recall\": 0.0}, {\"count\": 12, \"cutoff\": 46, \"precision\": 0.0, \"regionidcity\": \"56780.0\", \"recall\": 0.0}, {\"count\": 62, \"cutoff\": 1, \"precision\": 0.0, \"regionidcity\": \"9840.0\", \"recall\": 0.0}, {\"count\": 62, \"cutoff\": 2, \"precision\": 0.0, \"regionidcity\": \"9840.0\", \"recall\": 0.0}, {\"count\": 62, \"cutoff\": 3, \"precision\": 0.0, \"regionidcity\": \"9840.0\", \"recall\": 0.0}, {\"count\": 62, \"cutoff\": 4, \"precision\": 0.0, \"regionidcity\": \"9840.0\", \"recall\": 0.0}, {\"count\": 62, \"cutoff\": 5, \"precision\": 0.0, \"regionidcity\": \"9840.0\", \"recall\": 0.0}, {\"count\": 62, \"cutoff\": 6, \"precision\": 0.0, \"regionidcity\": \"9840.0\", \"recall\": 0.0}, {\"count\": 62, \"cutoff\": 7, \"precision\": 0.0, \"regionidcity\": \"9840.0\", \"recall\": 0.0}, {\"count\": 62, \"cutoff\": 8, \"precision\": 0.0, \"regionidcity\": \"9840.0\", \"recall\": 0.0}, {\"count\": 62, \"cutoff\": 9, \"precision\": 0.0, \"regionidcity\": \"9840.0\", \"recall\": 0.0}, {\"count\": 62, \"cutoff\": 10, \"precision\": 0.0, \"regionidcity\": \"9840.0\", \"recall\": 0.0}, {\"count\": 62, \"cutoff\": 11, \"precision\": 0.0, \"regionidcity\": \"9840.0\", \"recall\": 0.0}, {\"count\": 62, \"cutoff\": 16, \"precision\": 0.0, \"regionidcity\": \"9840.0\", \"recall\": 0.0}, {\"count\": 62, \"cutoff\": 21, \"precision\": 0.0, \"regionidcity\": \"9840.0\", \"recall\": 0.0}, {\"count\": 62, \"cutoff\": 26, \"precision\": 0.0, \"regionidcity\": \"9840.0\", \"recall\": 0.0}, {\"count\": 62, \"cutoff\": 31, \"precision\": 0.0, \"regionidcity\": \"9840.0\", \"recall\": 0.0}, {\"count\": 62, \"cutoff\": 36, \"precision\": 0.0, \"regionidcity\": \"9840.0\", \"recall\": 0.0}, {\"count\": 62, \"cutoff\": 41, \"precision\": 0.0, \"regionidcity\": \"9840.0\", \"recall\": 0.0}, {\"count\": 62, \"cutoff\": 46, \"precision\": 0.0, \"regionidcity\": \"9840.0\", \"recall\": 0.0}]}]]}, e);\n",
       "                });\n",
       "            })();\n",
       "        "
      ]
     },
     "metadata": {},
     "output_type": "display_data"
    }
   ],
   "source": [
    "gl.show_comparison(comparisonstruct,[item_item, rec1])"
   ]
  },
  {
   "cell_type": "code",
   "execution_count": 84,
   "metadata": {
    "collapsed": false
   },
   "outputs": [
    {
     "name": "stderr",
     "output_type": "stream",
     "text": [
      "[INFO] graphlab.deploy.job: Validating job.\n",
      "[INFO] graphlab.deploy.map_job: Validation complete. Job: 'Model-Parameter-Search-Aug-13-2017-19-20-0600000' ready for execution\n",
      "[INFO] graphlab.deploy.map_job: Job: 'Model-Parameter-Search-Aug-13-2017-19-20-0600000' scheduled.\n",
      "[INFO] graphlab.deploy.job: Validating job.\n",
      "[INFO] graphlab.deploy.map_job: A job with name 'Model-Parameter-Search-Aug-13-2017-19-20-0600000' already exists. Renaming the job to 'Model-Parameter-Search-Aug-13-2017-19-20-0600000-0ed8c'.\n",
      "[INFO] graphlab.deploy.map_job: Validation complete. Job: 'Model-Parameter-Search-Aug-13-2017-19-20-0600000-0ed8c' ready for execution\n",
      "[INFO] graphlab.deploy.map_job: Job: 'Model-Parameter-Search-Aug-13-2017-19-20-0600000-0ed8c' scheduled.\n"
     ]
    }
   ],
   "source": [
    "params = {'user_id': 'regionidcity', \n",
    "          'item_id': 'propertylandusetypeid', \n",
    "          'target': 'bedroomcnt',\n",
    "          'num_factors': [8, 12, 16, 24, 32], \n",
    "          'regularization':[0.001] ,\n",
    "          'linear_regularization': [0.001]}\n",
    "\n",
    "job = gl.model_parameter_search.create( (train,test),\n",
    "        gl.recommender.ranking_factorization_recommender.create,\n",
    "        params,\n",
    "        max_models=5,\n",
    "        environment=None)"
   ]
  },
  {
   "cell_type": "code",
   "execution_count": 93,
   "metadata": {
    "collapsed": false
   },
   "outputs": [
    {
     "data": {
      "text/plain": [
       "{'Canceled': 0, 'Completed': 5, 'Failed': 0, 'Pending': 0, 'Running': 0}"
      ]
     },
     "execution_count": 93,
     "metadata": {},
     "output_type": "execute_result"
    }
   ],
   "source": [
    "job.get_status()"
   ]
  },
  {
   "cell_type": "code",
   "execution_count": 94,
   "metadata": {
    "collapsed": false
   },
   "outputs": [
    {
     "data": {
      "text/html": [
       "<div style=\"max-height:1000px;max-width:1500px;overflow:auto;\"><table frame=\"box\" rules=\"cols\">\n",
       "    <tr>\n",
       "        <th style=\"padding-left: 1em; padding-right: 1em; text-align: center\">model_id</th>\n",
       "        <th style=\"padding-left: 1em; padding-right: 1em; text-align: center\">item_id</th>\n",
       "        <th style=\"padding-left: 1em; padding-right: 1em; text-align: center\">linear_regularization</th>\n",
       "        <th style=\"padding-left: 1em; padding-right: 1em; text-align: center\">max_iterations</th>\n",
       "        <th style=\"padding-left: 1em; padding-right: 1em; text-align: center\">num_factors</th>\n",
       "        <th style=\"padding-left: 1em; padding-right: 1em; text-align: center\">num_sampled_negative_exam<br>ples ...</th>\n",
       "    </tr>\n",
       "    <tr>\n",
       "        <td style=\"padding-left: 1em; padding-right: 1em; text-align: center; vertical-align: top\">1</td>\n",
       "        <td style=\"padding-left: 1em; padding-right: 1em; text-align: center; vertical-align: top\">propertylandusetypeid</td>\n",
       "        <td style=\"padding-left: 1em; padding-right: 1em; text-align: center; vertical-align: top\">0.001</td>\n",
       "        <td style=\"padding-left: 1em; padding-right: 1em; text-align: center; vertical-align: top\">25</td>\n",
       "        <td style=\"padding-left: 1em; padding-right: 1em; text-align: center; vertical-align: top\">24</td>\n",
       "        <td style=\"padding-left: 1em; padding-right: 1em; text-align: center; vertical-align: top\">4</td>\n",
       "    </tr>\n",
       "    <tr>\n",
       "        <td style=\"padding-left: 1em; padding-right: 1em; text-align: center; vertical-align: top\">0</td>\n",
       "        <td style=\"padding-left: 1em; padding-right: 1em; text-align: center; vertical-align: top\">propertylandusetypeid</td>\n",
       "        <td style=\"padding-left: 1em; padding-right: 1em; text-align: center; vertical-align: top\">0.001</td>\n",
       "        <td style=\"padding-left: 1em; padding-right: 1em; text-align: center; vertical-align: top\">25</td>\n",
       "        <td style=\"padding-left: 1em; padding-right: 1em; text-align: center; vertical-align: top\">32</td>\n",
       "        <td style=\"padding-left: 1em; padding-right: 1em; text-align: center; vertical-align: top\">4</td>\n",
       "    </tr>\n",
       "    <tr>\n",
       "        <td style=\"padding-left: 1em; padding-right: 1em; text-align: center; vertical-align: top\">3</td>\n",
       "        <td style=\"padding-left: 1em; padding-right: 1em; text-align: center; vertical-align: top\">propertylandusetypeid</td>\n",
       "        <td style=\"padding-left: 1em; padding-right: 1em; text-align: center; vertical-align: top\">0.001</td>\n",
       "        <td style=\"padding-left: 1em; padding-right: 1em; text-align: center; vertical-align: top\">25</td>\n",
       "        <td style=\"padding-left: 1em; padding-right: 1em; text-align: center; vertical-align: top\">12</td>\n",
       "        <td style=\"padding-left: 1em; padding-right: 1em; text-align: center; vertical-align: top\">8</td>\n",
       "    </tr>\n",
       "    <tr>\n",
       "        <td style=\"padding-left: 1em; padding-right: 1em; text-align: center; vertical-align: top\">2</td>\n",
       "        <td style=\"padding-left: 1em; padding-right: 1em; text-align: center; vertical-align: top\">propertylandusetypeid</td>\n",
       "        <td style=\"padding-left: 1em; padding-right: 1em; text-align: center; vertical-align: top\">0.001</td>\n",
       "        <td style=\"padding-left: 1em; padding-right: 1em; text-align: center; vertical-align: top\">25</td>\n",
       "        <td style=\"padding-left: 1em; padding-right: 1em; text-align: center; vertical-align: top\">24</td>\n",
       "        <td style=\"padding-left: 1em; padding-right: 1em; text-align: center; vertical-align: top\">4</td>\n",
       "    </tr>\n",
       "    <tr>\n",
       "        <td style=\"padding-left: 1em; padding-right: 1em; text-align: center; vertical-align: top\">4</td>\n",
       "        <td style=\"padding-left: 1em; padding-right: 1em; text-align: center; vertical-align: top\">propertylandusetypeid</td>\n",
       "        <td style=\"padding-left: 1em; padding-right: 1em; text-align: center; vertical-align: top\">0.001</td>\n",
       "        <td style=\"padding-left: 1em; padding-right: 1em; text-align: center; vertical-align: top\">25</td>\n",
       "        <td style=\"padding-left: 1em; padding-right: 1em; text-align: center; vertical-align: top\">24</td>\n",
       "        <td style=\"padding-left: 1em; padding-right: 1em; text-align: center; vertical-align: top\">4</td>\n",
       "    </tr>\n",
       "</table>\n",
       "<table frame=\"box\" rules=\"cols\">\n",
       "    <tr>\n",
       "        <th style=\"padding-left: 1em; padding-right: 1em; text-align: center\">ranking_regularization</th>\n",
       "        <th style=\"padding-left: 1em; padding-right: 1em; text-align: center\">regularization</th>\n",
       "        <th style=\"padding-left: 1em; padding-right: 1em; text-align: center\">target</th>\n",
       "        <th style=\"padding-left: 1em; padding-right: 1em; text-align: center\">user_id</th>\n",
       "        <th style=\"padding-left: 1em; padding-right: 1em; text-align: center\">training_precision@5</th>\n",
       "        <th style=\"padding-left: 1em; padding-right: 1em; text-align: center\">training_recall@5</th>\n",
       "    </tr>\n",
       "    <tr>\n",
       "        <td style=\"padding-left: 1em; padding-right: 1em; text-align: center; vertical-align: top\">0.5</td>\n",
       "        <td style=\"padding-left: 1em; padding-right: 1em; text-align: center; vertical-align: top\">0.001</td>\n",
       "        <td style=\"padding-left: 1em; padding-right: 1em; text-align: center; vertical-align: top\">bedroomcnt</td>\n",
       "        <td style=\"padding-left: 1em; padding-right: 1em; text-align: center; vertical-align: top\">regionidcity</td>\n",
       "        <td style=\"padding-left: 1em; padding-right: 1em; text-align: center; vertical-align: top\">0.620338983051</td>\n",
       "        <td style=\"padding-left: 1em; padding-right: 1em; text-align: center; vertical-align: top\">0.0556578351524</td>\n",
       "    </tr>\n",
       "    <tr>\n",
       "        <td style=\"padding-left: 1em; padding-right: 1em; text-align: center; vertical-align: top\">0.25</td>\n",
       "        <td style=\"padding-left: 1em; padding-right: 1em; text-align: center; vertical-align: top\">0.001</td>\n",
       "        <td style=\"padding-left: 1em; padding-right: 1em; text-align: center; vertical-align: top\">bedroomcnt</td>\n",
       "        <td style=\"padding-left: 1em; padding-right: 1em; text-align: center; vertical-align: top\">regionidcity</td>\n",
       "        <td style=\"padding-left: 1em; padding-right: 1em; text-align: center; vertical-align: top\">0.611299435028</td>\n",
       "        <td style=\"padding-left: 1em; padding-right: 1em; text-align: center; vertical-align: top\">0.0554805855759</td>\n",
       "    </tr>\n",
       "    <tr>\n",
       "        <td style=\"padding-left: 1em; padding-right: 1em; text-align: center; vertical-align: top\">0.1</td>\n",
       "        <td style=\"padding-left: 1em; padding-right: 1em; text-align: center; vertical-align: top\">0.001</td>\n",
       "        <td style=\"padding-left: 1em; padding-right: 1em; text-align: center; vertical-align: top\">bedroomcnt</td>\n",
       "        <td style=\"padding-left: 1em; padding-right: 1em; text-align: center; vertical-align: top\">regionidcity</td>\n",
       "        <td style=\"padding-left: 1em; padding-right: 1em; text-align: center; vertical-align: top\">0.587570621469</td>\n",
       "        <td style=\"padding-left: 1em; padding-right: 1em; text-align: center; vertical-align: top\">0.0550779878993</td>\n",
       "    </tr>\n",
       "    <tr>\n",
       "        <td style=\"padding-left: 1em; padding-right: 1em; text-align: center; vertical-align: top\">0.25</td>\n",
       "        <td style=\"padding-left: 1em; padding-right: 1em; text-align: center; vertical-align: top\">0.001</td>\n",
       "        <td style=\"padding-left: 1em; padding-right: 1em; text-align: center; vertical-align: top\">bedroomcnt</td>\n",
       "        <td style=\"padding-left: 1em; padding-right: 1em; text-align: center; vertical-align: top\">regionidcity</td>\n",
       "        <td style=\"padding-left: 1em; padding-right: 1em; text-align: center; vertical-align: top\">0.609039548023</td>\n",
       "        <td style=\"padding-left: 1em; padding-right: 1em; text-align: center; vertical-align: top\">0.0553596936112</td>\n",
       "    </tr>\n",
       "    <tr>\n",
       "        <td style=\"padding-left: 1em; padding-right: 1em; text-align: center; vertical-align: top\">0.25</td>\n",
       "        <td style=\"padding-left: 1em; padding-right: 1em; text-align: center; vertical-align: top\">0.001</td>\n",
       "        <td style=\"padding-left: 1em; padding-right: 1em; text-align: center; vertical-align: top\">bedroomcnt</td>\n",
       "        <td style=\"padding-left: 1em; padding-right: 1em; text-align: center; vertical-align: top\">regionidcity</td>\n",
       "        <td style=\"padding-left: 1em; padding-right: 1em; text-align: center; vertical-align: top\">0.609039548023</td>\n",
       "        <td style=\"padding-left: 1em; padding-right: 1em; text-align: center; vertical-align: top\">0.0553596936112</td>\n",
       "    </tr>\n",
       "</table>\n",
       "<table frame=\"box\" rules=\"cols\">\n",
       "    <tr>\n",
       "        <th style=\"padding-left: 1em; padding-right: 1em; text-align: center\">training_rmse</th>\n",
       "        <th style=\"padding-left: 1em; padding-right: 1em; text-align: center\">validation_precision@5</th>\n",
       "        <th style=\"padding-left: 1em; padding-right: 1em; text-align: center\">validation_recall@5</th>\n",
       "        <th style=\"padding-left: 1em; padding-right: 1em; text-align: center\">validation_rmse</th>\n",
       "    </tr>\n",
       "    <tr>\n",
       "        <td style=\"padding-left: 1em; padding-right: 1em; text-align: center; vertical-align: top\">0.93242275197</td>\n",
       "        <td style=\"padding-left: 1em; padding-right: 1em; text-align: center; vertical-align: top\">0.0157894736842</td>\n",
       "        <td style=\"padding-left: 1em; padding-right: 1em; text-align: center; vertical-align: top\">0.00258841033726</td>\n",
       "        <td style=\"padding-left: 1em; padding-right: 1em; text-align: center; vertical-align: top\">0.924315252499</td>\n",
       "    </tr>\n",
       "    <tr>\n",
       "        <td style=\"padding-left: 1em; padding-right: 1em; text-align: center; vertical-align: top\">0.931792722517</td>\n",
       "        <td style=\"padding-left: 1em; padding-right: 1em; text-align: center; vertical-align: top\">0.0105263157895</td>\n",
       "        <td style=\"padding-left: 1em; padding-right: 1em; text-align: center; vertical-align: top\">0.00246427925484</td>\n",
       "        <td style=\"padding-left: 1em; padding-right: 1em; text-align: center; vertical-align: top\">0.923787751301</td>\n",
       "    </tr>\n",
       "    <tr>\n",
       "        <td style=\"padding-left: 1em; padding-right: 1em; text-align: center; vertical-align: top\">0.931503263488</td>\n",
       "        <td style=\"padding-left: 1em; padding-right: 1em; text-align: center; vertical-align: top\">0.0157894736842</td>\n",
       "        <td style=\"padding-left: 1em; padding-right: 1em; text-align: center; vertical-align: top\">0.00258841033726</td>\n",
       "        <td style=\"padding-left: 1em; padding-right: 1em; text-align: center; vertical-align: top\">0.922643561894</td>\n",
       "    </tr>\n",
       "    <tr>\n",
       "        <td style=\"padding-left: 1em; padding-right: 1em; text-align: center; vertical-align: top\">0.931770602667</td>\n",
       "        <td style=\"padding-left: 1em; padding-right: 1em; text-align: center; vertical-align: top\">0.0105263157895</td>\n",
       "        <td style=\"padding-left: 1em; padding-right: 1em; text-align: center; vertical-align: top\">0.00246427925484</td>\n",
       "        <td style=\"padding-left: 1em; padding-right: 1em; text-align: center; vertical-align: top\">0.923738205874</td>\n",
       "    </tr>\n",
       "    <tr>\n",
       "        <td style=\"padding-left: 1em; padding-right: 1em; text-align: center; vertical-align: top\">0.932168272879</td>\n",
       "        <td style=\"padding-left: 1em; padding-right: 1em; text-align: center; vertical-align: top\">0.0105263157895</td>\n",
       "        <td style=\"padding-left: 1em; padding-right: 1em; text-align: center; vertical-align: top\">0.00246427925484</td>\n",
       "        <td style=\"padding-left: 1em; padding-right: 1em; text-align: center; vertical-align: top\">0.924023556392</td>\n",
       "    </tr>\n",
       "</table>\n",
       "[5 rows x 16 columns]<br/>\n",
       "</div>"
      ],
      "text/plain": [
       "Columns:\n",
       "\tmodel_id\tint\n",
       "\titem_id\tstr\n",
       "\tlinear_regularization\tfloat\n",
       "\tmax_iterations\tint\n",
       "\tnum_factors\tint\n",
       "\tnum_sampled_negative_examples\tint\n",
       "\tranking_regularization\tfloat\n",
       "\tregularization\tfloat\n",
       "\ttarget\tstr\n",
       "\tuser_id\tstr\n",
       "\ttraining_precision@5\tfloat\n",
       "\ttraining_recall@5\tfloat\n",
       "\ttraining_rmse\tfloat\n",
       "\tvalidation_precision@5\tfloat\n",
       "\tvalidation_recall@5\tfloat\n",
       "\tvalidation_rmse\tfloat\n",
       "\n",
       "Rows: 5\n",
       "\n",
       "Data:\n",
       "+----------+-----------------------+-----------------------+----------------+-------------+\n",
       "| model_id |        item_id        | linear_regularization | max_iterations | num_factors |\n",
       "+----------+-----------------------+-----------------------+----------------+-------------+\n",
       "|    1     | propertylandusetypeid |         0.001         |       25       |      24     |\n",
       "|    0     | propertylandusetypeid |         0.001         |       25       |      32     |\n",
       "|    3     | propertylandusetypeid |         0.001         |       25       |      12     |\n",
       "|    2     | propertylandusetypeid |         0.001         |       25       |      24     |\n",
       "|    4     | propertylandusetypeid |         0.001         |       25       |      24     |\n",
       "+----------+-----------------------+-----------------------+----------------+-------------+\n",
       "+-------------------------------+------------------------+----------------+\n",
       "| num_sampled_negative_examples | ranking_regularization | regularization |\n",
       "+-------------------------------+------------------------+----------------+\n",
       "|               4               |          0.5           |     0.001      |\n",
       "|               4               |          0.25          |     0.001      |\n",
       "|               8               |          0.1           |     0.001      |\n",
       "|               4               |          0.25          |     0.001      |\n",
       "|               4               |          0.25          |     0.001      |\n",
       "+-------------------------------+------------------------+----------------+\n",
       "+------------+--------------+----------------------+-------------------+\n",
       "|   target   |   user_id    | training_precision@5 | training_recall@5 |\n",
       "+------------+--------------+----------------------+-------------------+\n",
       "| bedroomcnt | regionidcity |    0.620338983051    |  0.0556578351524  |\n",
       "| bedroomcnt | regionidcity |    0.611299435028    |  0.0554805855759  |\n",
       "| bedroomcnt | regionidcity |    0.587570621469    |  0.0550779878993  |\n",
       "| bedroomcnt | regionidcity |    0.609039548023    |  0.0553596936112  |\n",
       "| bedroomcnt | regionidcity |    0.609039548023    |  0.0553596936112  |\n",
       "+------------+--------------+----------------------+-------------------+\n",
       "+----------------+------------------------+---------------------+-----------------+\n",
       "| training_rmse  | validation_precision@5 | validation_recall@5 | validation_rmse |\n",
       "+----------------+------------------------+---------------------+-----------------+\n",
       "| 0.93242275197  |    0.0157894736842     |   0.00258841033726  |  0.924315252499 |\n",
       "| 0.931792722517 |    0.0105263157895     |   0.00246427925484  |  0.923787751301 |\n",
       "| 0.931503263488 |    0.0157894736842     |   0.00258841033726  |  0.922643561894 |\n",
       "| 0.931770602667 |    0.0105263157895     |   0.00246427925484  |  0.923738205874 |\n",
       "| 0.932168272879 |    0.0105263157895     |   0.00246427925484  |  0.924023556392 |\n",
       "+----------------+------------------------+---------------------+-----------------+\n",
       "[5 rows x 16 columns]"
      ]
     },
     "execution_count": 94,
     "metadata": {},
     "output_type": "execute_result"
    }
   ],
   "source": [
    "job_result = job.get_results()\n",
    "\n",
    "job_result.head()"
   ]
  },
  {
   "cell_type": "code",
   "execution_count": 95,
   "metadata": {
    "collapsed": false
   },
   "outputs": [
    {
     "data": {
      "text/plain": [
       "{'item_id': 'propertylandusetypeid',\n",
       " 'linear_regularization': 0.001,\n",
       " 'max_iterations': 25,\n",
       " 'num_factors': 12,\n",
       " 'num_sampled_negative_examples': 8,\n",
       " 'ranking_regularization': 0.1,\n",
       " 'regularization': 0.001,\n",
       " 'target': 'bedroomcnt',\n",
       " 'user_id': 'regionidcity'}"
      ]
     },
     "execution_count": 95,
     "metadata": {},
     "output_type": "execute_result"
    }
   ],
   "source": [
    "bst_prms = job.get_best_params()\n",
    "bst_prms"
   ]
  },
  {
   "cell_type": "code",
   "execution_count": 96,
   "metadata": {
    "collapsed": false
   },
   "outputs": [
    {
     "data": {
      "text/plain": [
       "[Class                            : RankingFactorizationRecommender\n",
       " \n",
       " Schema\n",
       " ------\n",
       " User ID                          : regionidcity\n",
       " Item ID                          : propertylandusetypeid\n",
       " Target                           : bedroomcnt\n",
       " Additional observation features  : 0\n",
       " User side features               : []\n",
       " Item side features               : []\n",
       " \n",
       " Statistics\n",
       " ----------\n",
       " Number of observations           : 87949\n",
       " Number of users                  : 177\n",
       " Number of items                  : 14\n",
       " \n",
       " Training summary\n",
       " ----------------\n",
       " Training time                    : 4.4606\n",
       " \n",
       " Model Parameters\n",
       " ----------------\n",
       " Model class                      : RankingFactorizationRecommender\n",
       " num_factors                      : 32\n",
       " binary_target                    : 0\n",
       " side_data_factorization          : 1\n",
       " solver                           : auto\n",
       " nmf                              : 0\n",
       " max_iterations                   : 25\n",
       " \n",
       " Regularization Settings\n",
       " -----------------------\n",
       " regularization                   : 0.001\n",
       " regularization_type              : normal\n",
       " linear_regularization            : 0.001\n",
       " ranking_regularization           : 0.25\n",
       " unobserved_rating_value          : -1.79769313486e+308\n",
       " num_sampled_negative_examples    : 4\n",
       " ials_confidence_scaling_type     : auto\n",
       " ials_confidence_scaling_factor   : 1\n",
       " \n",
       " Optimization Settings\n",
       " ---------------------\n",
       " init_random_sigma                : 0.01\n",
       " sgd_convergence_interval         : 4\n",
       " sgd_convergence_threshold        : 0.0\n",
       " sgd_max_trial_iterations         : 5\n",
       " sgd_sampling_block_size          : 131072\n",
       " sgd_step_adjustment_interval     : 4\n",
       " sgd_step_size                    : 0.0\n",
       " sgd_trial_sample_minimum_size    : 10000\n",
       " sgd_trial_sample_proportion      : 0.125\n",
       " step_size_decrease_rate          : 0.75\n",
       " additional_iterations_if_unhealthy : 5\n",
       " adagrad_momentum_weighting       : 0.9\n",
       " num_tempering_iterations         : 4\n",
       " tempering_regularization_start_value : 0.0\n",
       " track_exact_loss                 : 0,\n",
       " Class                            : RankingFactorizationRecommender\n",
       " \n",
       " Schema\n",
       " ------\n",
       " User ID                          : regionidcity\n",
       " Item ID                          : propertylandusetypeid\n",
       " Target                           : bedroomcnt\n",
       " Additional observation features  : 0\n",
       " User side features               : []\n",
       " Item side features               : []\n",
       " \n",
       " Statistics\n",
       " ----------\n",
       " Number of observations           : 87949\n",
       " Number of users                  : 177\n",
       " Number of items                  : 14\n",
       " \n",
       " Training summary\n",
       " ----------------\n",
       " Training time                    : 3.5512\n",
       " \n",
       " Model Parameters\n",
       " ----------------\n",
       " Model class                      : RankingFactorizationRecommender\n",
       " num_factors                      : 24\n",
       " binary_target                    : 0\n",
       " side_data_factorization          : 1\n",
       " solver                           : auto\n",
       " nmf                              : 0\n",
       " max_iterations                   : 25\n",
       " \n",
       " Regularization Settings\n",
       " -----------------------\n",
       " regularization                   : 0.001\n",
       " regularization_type              : normal\n",
       " linear_regularization            : 0.001\n",
       " ranking_regularization           : 0.5\n",
       " unobserved_rating_value          : -1.79769313486e+308\n",
       " num_sampled_negative_examples    : 4\n",
       " ials_confidence_scaling_type     : auto\n",
       " ials_confidence_scaling_factor   : 1\n",
       " \n",
       " Optimization Settings\n",
       " ---------------------\n",
       " init_random_sigma                : 0.01\n",
       " sgd_convergence_interval         : 4\n",
       " sgd_convergence_threshold        : 0.0\n",
       " sgd_max_trial_iterations         : 5\n",
       " sgd_sampling_block_size          : 131072\n",
       " sgd_step_adjustment_interval     : 4\n",
       " sgd_step_size                    : 0.0\n",
       " sgd_trial_sample_minimum_size    : 10000\n",
       " sgd_trial_sample_proportion      : 0.125\n",
       " step_size_decrease_rate          : 0.75\n",
       " additional_iterations_if_unhealthy : 5\n",
       " adagrad_momentum_weighting       : 0.9\n",
       " num_tempering_iterations         : 4\n",
       " tempering_regularization_start_value : 0.0\n",
       " track_exact_loss                 : 0,\n",
       " Class                            : RankingFactorizationRecommender\n",
       " \n",
       " Schema\n",
       " ------\n",
       " User ID                          : regionidcity\n",
       " Item ID                          : propertylandusetypeid\n",
       " Target                           : bedroomcnt\n",
       " Additional observation features  : 0\n",
       " User side features               : []\n",
       " Item side features               : []\n",
       " \n",
       " Statistics\n",
       " ----------\n",
       " Number of observations           : 87949\n",
       " Number of users                  : 177\n",
       " Number of items                  : 14\n",
       " \n",
       " Training summary\n",
       " ----------------\n",
       " Training time                    : 3.5814\n",
       " \n",
       " Model Parameters\n",
       " ----------------\n",
       " Model class                      : RankingFactorizationRecommender\n",
       " num_factors                      : 24\n",
       " binary_target                    : 0\n",
       " side_data_factorization          : 1\n",
       " solver                           : auto\n",
       " nmf                              : 0\n",
       " max_iterations                   : 25\n",
       " \n",
       " Regularization Settings\n",
       " -----------------------\n",
       " regularization                   : 0.001\n",
       " regularization_type              : normal\n",
       " linear_regularization            : 0.001\n",
       " ranking_regularization           : 0.25\n",
       " unobserved_rating_value          : -1.79769313486e+308\n",
       " num_sampled_negative_examples    : 4\n",
       " ials_confidence_scaling_type     : auto\n",
       " ials_confidence_scaling_factor   : 1\n",
       " \n",
       " Optimization Settings\n",
       " ---------------------\n",
       " init_random_sigma                : 0.01\n",
       " sgd_convergence_interval         : 4\n",
       " sgd_convergence_threshold        : 0.0\n",
       " sgd_max_trial_iterations         : 5\n",
       " sgd_sampling_block_size          : 131072\n",
       " sgd_step_adjustment_interval     : 4\n",
       " sgd_step_size                    : 0.0\n",
       " sgd_trial_sample_minimum_size    : 10000\n",
       " sgd_trial_sample_proportion      : 0.125\n",
       " step_size_decrease_rate          : 0.75\n",
       " additional_iterations_if_unhealthy : 5\n",
       " adagrad_momentum_weighting       : 0.9\n",
       " num_tempering_iterations         : 4\n",
       " tempering_regularization_start_value : 0.0\n",
       " track_exact_loss                 : 0,\n",
       " Class                            : RankingFactorizationRecommender\n",
       " \n",
       " Schema\n",
       " ------\n",
       " User ID                          : regionidcity\n",
       " Item ID                          : propertylandusetypeid\n",
       " Target                           : bedroomcnt\n",
       " Additional observation features  : 0\n",
       " User side features               : []\n",
       " Item side features               : []\n",
       " \n",
       " Statistics\n",
       " ----------\n",
       " Number of observations           : 87949\n",
       " Number of users                  : 177\n",
       " Number of items                  : 14\n",
       " \n",
       " Training summary\n",
       " ----------------\n",
       " Training time                    : 3.5496\n",
       " \n",
       " Model Parameters\n",
       " ----------------\n",
       " Model class                      : RankingFactorizationRecommender\n",
       " num_factors                      : 12\n",
       " binary_target                    : 0\n",
       " side_data_factorization          : 1\n",
       " solver                           : auto\n",
       " nmf                              : 0\n",
       " max_iterations                   : 25\n",
       " \n",
       " Regularization Settings\n",
       " -----------------------\n",
       " regularization                   : 0.001\n",
       " regularization_type              : normal\n",
       " linear_regularization            : 0.001\n",
       " ranking_regularization           : 0.1\n",
       " unobserved_rating_value          : -1.79769313486e+308\n",
       " num_sampled_negative_examples    : 8\n",
       " ials_confidence_scaling_type     : auto\n",
       " ials_confidence_scaling_factor   : 1\n",
       " \n",
       " Optimization Settings\n",
       " ---------------------\n",
       " init_random_sigma                : 0.01\n",
       " sgd_convergence_interval         : 4\n",
       " sgd_convergence_threshold        : 0.0\n",
       " sgd_max_trial_iterations         : 5\n",
       " sgd_sampling_block_size          : 131072\n",
       " sgd_step_adjustment_interval     : 4\n",
       " sgd_step_size                    : 0.0\n",
       " sgd_trial_sample_minimum_size    : 10000\n",
       " sgd_trial_sample_proportion      : 0.125\n",
       " step_size_decrease_rate          : 0.75\n",
       " additional_iterations_if_unhealthy : 5\n",
       " adagrad_momentum_weighting       : 0.9\n",
       " num_tempering_iterations         : 4\n",
       " tempering_regularization_start_value : 0.0\n",
       " track_exact_loss                 : 0,\n",
       " Class                            : RankingFactorizationRecommender\n",
       " \n",
       " Schema\n",
       " ------\n",
       " User ID                          : regionidcity\n",
       " Item ID                          : propertylandusetypeid\n",
       " Target                           : bedroomcnt\n",
       " Additional observation features  : 0\n",
       " User side features               : []\n",
       " Item side features               : []\n",
       " \n",
       " Statistics\n",
       " ----------\n",
       " Number of observations           : 87949\n",
       " Number of users                  : 177\n",
       " Number of items                  : 14\n",
       " \n",
       " Training summary\n",
       " ----------------\n",
       " Training time                    : 3.8622\n",
       " \n",
       " Model Parameters\n",
       " ----------------\n",
       " Model class                      : RankingFactorizationRecommender\n",
       " num_factors                      : 24\n",
       " binary_target                    : 0\n",
       " side_data_factorization          : 1\n",
       " solver                           : auto\n",
       " nmf                              : 0\n",
       " max_iterations                   : 25\n",
       " \n",
       " Regularization Settings\n",
       " -----------------------\n",
       " regularization                   : 0.001\n",
       " regularization_type              : normal\n",
       " linear_regularization            : 0.001\n",
       " ranking_regularization           : 0.25\n",
       " unobserved_rating_value          : -1.79769313486e+308\n",
       " num_sampled_negative_examples    : 4\n",
       " ials_confidence_scaling_type     : auto\n",
       " ials_confidence_scaling_factor   : 1\n",
       " \n",
       " Optimization Settings\n",
       " ---------------------\n",
       " init_random_sigma                : 0.01\n",
       " sgd_convergence_interval         : 4\n",
       " sgd_convergence_threshold        : 0.0\n",
       " sgd_max_trial_iterations         : 5\n",
       " sgd_sampling_block_size          : 131072\n",
       " sgd_step_adjustment_interval     : 4\n",
       " sgd_step_size                    : 0.0\n",
       " sgd_trial_sample_minimum_size    : 10000\n",
       " sgd_trial_sample_proportion      : 0.125\n",
       " step_size_decrease_rate          : 0.75\n",
       " additional_iterations_if_unhealthy : 5\n",
       " adagrad_momentum_weighting       : 0.9\n",
       " num_tempering_iterations         : 4\n",
       " tempering_regularization_start_value : 0.0\n",
       " track_exact_loss                 : 0]"
      ]
     },
     "execution_count": 96,
     "metadata": {},
     "output_type": "execute_result"
    }
   ],
   "source": [
    "models = job.get_models()\n",
    "models"
   ]
  },
  {
   "cell_type": "code",
   "execution_count": 39,
   "metadata": {
    "collapsed": false
   },
   "outputs": [
    {
     "name": "stdout",
     "output_type": "stream",
     "text": [
      "PROGRESS: Evaluate model M0\n",
      "\n",
      "Precision and recall summary statistics by cutoff\n",
      "+--------+-----------------+------------------+\n",
      "| cutoff |  mean_precision |   mean_recall    |\n",
      "+--------+-----------------+------------------+\n",
      "|   1    | 0.0512820512821 | 0.00132275132275 |\n",
      "|   2    |  0.025641025641 | 0.00132275132275 |\n",
      "|   3    |  0.017094017094 | 0.00132275132275 |\n",
      "|   4    | 0.0192307692308 | 0.0018255165314  |\n",
      "|   5    | 0.0205128205128 | 0.00214602935191 |\n",
      "|   6    |  0.017094017094 | 0.00214602935191 |\n",
      "|   7    |  0.014652014652 | 0.00214602935191 |\n",
      "|   8    | 0.0132783882784 | 0.00214602935191 |\n",
      "|   9    | 0.0125661375661 | 0.00214602935191 |\n",
      "|   10   | 0.0119963369963 | 0.00214602935191 |\n",
      "+--------+-----------------+------------------+\n",
      "[10 rows x 3 columns]\n",
      "\n",
      "PROGRESS: Evaluate model M1\n",
      "\n",
      "Precision and recall summary statistics by cutoff\n",
      "+--------+-----------------+------------------+\n",
      "| cutoff |  mean_precision |   mean_recall    |\n",
      "+--------+-----------------+------------------+\n",
      "|   1    | 0.0512820512821 | 0.00132275132275 |\n",
      "|   2    |  0.025641025641 | 0.00132275132275 |\n",
      "|   3    |  0.025641025641 | 0.0018255165314  |\n",
      "|   4    |  0.025641025641 | 0.00214602935191 |\n",
      "|   5    | 0.0205128205128 | 0.00214602935191 |\n",
      "|   6    |  0.017094017094 | 0.00214602935191 |\n",
      "|   7    |  0.014652014652 | 0.00214602935191 |\n",
      "|   8    | 0.0132783882784 | 0.00214602935191 |\n",
      "|   9    | 0.0125661375661 | 0.00214602935191 |\n",
      "|   10   | 0.0119963369963 | 0.00214602935191 |\n",
      "+--------+-----------------+------------------+\n",
      "[10 rows x 3 columns]\n",
      "\n",
      "PROGRESS: Evaluate model M2\n",
      "\n",
      "Precision and recall summary statistics by cutoff\n",
      "+--------+-----------------+------------------+\n",
      "| cutoff |  mean_precision |   mean_recall    |\n",
      "+--------+-----------------+------------------+\n",
      "|   1    | 0.0512820512821 | 0.00132275132275 |\n",
      "|   2    | 0.0384615384615 | 0.0018255165314  |\n",
      "|   3    |  0.025641025641 | 0.0018255165314  |\n",
      "|   4    | 0.0192307692308 | 0.0018255165314  |\n",
      "|   5    | 0.0153846153846 | 0.0018255165314  |\n",
      "|   6    | 0.0128205128205 | 0.0018255165314  |\n",
      "|   7    |  0.010989010989 | 0.0018255165314  |\n",
      "|   8    | 0.0132783882784 | 0.00214602935191 |\n",
      "|   9    | 0.0125661375661 | 0.00214602935191 |\n",
      "|   10   | 0.0119963369963 | 0.00214602935191 |\n",
      "+--------+-----------------+------------------+\n",
      "[10 rows x 3 columns]\n",
      "\n",
      "PROGRESS: Evaluate model M3\n",
      "\n",
      "Precision and recall summary statistics by cutoff\n",
      "+--------+------------------+------------------+\n",
      "| cutoff |  mean_precision  |   mean_recall    |\n",
      "+--------+------------------+------------------+\n",
      "|   1    | 0.0512820512821  | 0.00132275132275 |\n",
      "|   2    |  0.025641025641  | 0.00132275132275 |\n",
      "|   3    |  0.017094017094  | 0.00132275132275 |\n",
      "|   4    | 0.0128205128205  | 0.00132275132275 |\n",
      "|   5    | 0.0102564102564  | 0.00132275132275 |\n",
      "|   6    | 0.00854700854701 | 0.00132275132275 |\n",
      "|   7    |  0.010989010989  | 0.0018255165314  |\n",
      "|   8    | 0.0132783882784  | 0.00214602935191 |\n",
      "|   9    | 0.0125661375661  | 0.00214602935191 |\n",
      "|   10   | 0.0119963369963  | 0.00214602935191 |\n",
      "+--------+------------------+------------------+\n",
      "[10 rows x 3 columns]\n",
      "\n",
      "PROGRESS: Evaluate model M4\n",
      "\n",
      "Precision and recall summary statistics by cutoff\n",
      "+--------+-----------------+------------------+\n",
      "| cutoff |  mean_precision |   mean_recall    |\n",
      "+--------+-----------------+------------------+\n",
      "|   1    | 0.0512820512821 | 0.00132275132275 |\n",
      "|   2    |  0.025641025641 | 0.00132275132275 |\n",
      "|   3    |  0.017094017094 | 0.00132275132275 |\n",
      "|   4    | 0.0128205128205 | 0.00132275132275 |\n",
      "|   5    | 0.0102564102564 | 0.00132275132275 |\n",
      "|   6    | 0.0128205128205 | 0.0018255165314  |\n",
      "|   7    |  0.010989010989 | 0.0018255165314  |\n",
      "|   8    | 0.0132783882784 | 0.00214602935191 |\n",
      "|   9    | 0.0125661375661 | 0.00214602935191 |\n",
      "|   10   | 0.0119963369963 | 0.00214602935191 |\n",
      "+--------+-----------------+------------------+\n",
      "[10 rows x 3 columns]\n",
      "\n",
      "Model compare metric: precision_recall\n"
     ]
    },
    {
     "data": {
      "application/javascript": [
       "$(\"head\").append($(\"<link/>\").attr({\n",
       "  rel:  \"stylesheet\",\n",
       "  type: \"text/css\",\n",
       "  href: \"//cdnjs.cloudflare.com/ajax/libs/font-awesome/4.1.0/css/font-awesome.min.css\"\n",
       "}));\n",
       "$(\"head\").append($(\"<link/>\").attr({\n",
       "  rel:  \"stylesheet\",\n",
       "  type: \"text/css\",\n",
       "  href: \"https://static.turi.com/products/graphlab-create/2.1/canvas/css/canvas.css\"\n",
       "}));\n",
       "\n",
       "            (function(){\n",
       "\n",
       "                var e = null;\n",
       "                if (typeof element == 'undefined') {\n",
       "                    var scripts = document.getElementsByTagName('script');\n",
       "                    var thisScriptTag = scripts[scripts.length-1];\n",
       "                    var parentDiv = thisScriptTag.parentNode;\n",
       "                    e = document.createElement('div');\n",
       "                    parentDiv.appendChild(e);\n",
       "                } else {\n",
       "                    e = element[0];\n",
       "                }\n",
       "\n",
       "                if (typeof requirejs !== 'undefined') {\n",
       "                    // disable load timeout; ipython_app.js is large and can take a while to load.\n",
       "                    requirejs.config({waitSeconds: 0});\n",
       "                }\n",
       "\n",
       "                require(['https://static.turi.com/products/graphlab-create/2.1/canvas/js/ipython_app.js'], function(IPythonApp){\n",
       "                    var app = new IPythonApp();\n",
       "                    app.attachView('model','Comparison', {\"comparison\": {\"dataset_label\": \"test\", \"evaluations\": {\"Model_1\": {\"precision_recall\": [{\"cutoff\": 1, \"precision\": 0.051282051282051294, \"recall\": 0.0013227513227513227}, {\"cutoff\": 2, \"precision\": 0.025641025641025647, \"recall\": 0.0013227513227513227}, {\"cutoff\": 3, \"precision\": 0.025641025641025647, \"recall\": 0.0018255165313988842}, {\"cutoff\": 4, \"precision\": 0.025641025641025647, \"recall\": 0.0021460293519117053}, {\"cutoff\": 5, \"precision\": 0.020512820512820516, \"recall\": 0.002146029351911705}, {\"cutoff\": 6, \"precision\": 0.017094017094017092, \"recall\": 0.002146029351911705}, {\"cutoff\": 7, \"precision\": 0.014652014652014652, \"recall\": 0.002146029351911705}, {\"cutoff\": 8, \"precision\": 0.01327838827838828, \"recall\": 0.002146029351911705}, {\"cutoff\": 9, \"precision\": 0.012566137566137565, \"recall\": 0.002146029351911705}, {\"cutoff\": 10, \"precision\": 0.011996336996336997, \"recall\": 0.002146029351911705}, {\"cutoff\": 11, \"precision\": 0.011763236763236765, \"recall\": 0.002146029351911705}, {\"cutoff\": 16, \"precision\": 0.01156898656898657, \"recall\": 0.002146029351911705}, {\"cutoff\": 21, \"precision\": 0.01156898656898657, \"recall\": 0.002146029351911705}, {\"cutoff\": 26, \"precision\": 0.01156898656898657, \"recall\": 0.002146029351911705}, {\"cutoff\": 31, \"precision\": 0.01156898656898657, \"recall\": 0.002146029351911705}, {\"cutoff\": 36, \"precision\": 0.01156898656898657, \"recall\": 0.002146029351911705}, {\"cutoff\": 41, \"precision\": 0.01156898656898657, \"recall\": 0.002146029351911705}, {\"cutoff\": 46, \"precision\": 0.01156898656898657, \"recall\": 0.002146029351911705}]}, \"Model_0\": {\"precision_recall\": [{\"cutoff\": 1, \"precision\": 0.05128205128205128, \"recall\": 0.001322751322751323}, {\"cutoff\": 2, \"precision\": 0.02564102564102564, \"recall\": 0.001322751322751323}, {\"cutoff\": 3, \"precision\": 0.017094017094017096, \"recall\": 0.0013227513227513227}, {\"cutoff\": 4, \"precision\": 0.019230769230769232, \"recall\": 0.0018255165313988842}, {\"cutoff\": 5, \"precision\": 0.020512820512820516, \"recall\": 0.0021460293519117053}, {\"cutoff\": 6, \"precision\": 0.017094017094017092, \"recall\": 0.0021460293519117053}, {\"cutoff\": 7, \"precision\": 0.014652014652014652, \"recall\": 0.0021460293519117053}, {\"cutoff\": 8, \"precision\": 0.013278388278388283, \"recall\": 0.0021460293519117053}, {\"cutoff\": 9, \"precision\": 0.012566137566137565, \"recall\": 0.0021460293519117053}, {\"cutoff\": 10, \"precision\": 0.011996336996336997, \"recall\": 0.0021460293519117053}, {\"cutoff\": 11, \"precision\": 0.011763236763236767, \"recall\": 0.0021460293519117053}, {\"cutoff\": 16, \"precision\": 0.01156898656898657, \"recall\": 0.0021460293519117053}, {\"cutoff\": 21, \"precision\": 0.01156898656898657, \"recall\": 0.0021460293519117053}, {\"cutoff\": 26, \"precision\": 0.01156898656898657, \"recall\": 0.0021460293519117053}, {\"cutoff\": 31, \"precision\": 0.01156898656898657, \"recall\": 0.0021460293519117053}, {\"cutoff\": 36, \"precision\": 0.01156898656898657, \"recall\": 0.0021460293519117053}, {\"cutoff\": 41, \"precision\": 0.01156898656898657, \"recall\": 0.0021460293519117053}, {\"cutoff\": 46, \"precision\": 0.01156898656898657, \"recall\": 0.0021460293519117053}]}, \"Model_3\": {\"precision_recall\": [{\"cutoff\": 1, \"precision\": 0.05128205128205128, \"recall\": 0.0013227513227513225}, {\"cutoff\": 2, \"precision\": 0.02564102564102564, \"recall\": 0.0013227513227513225}, {\"cutoff\": 3, \"precision\": 0.017094017094017096, \"recall\": 0.0013227513227513225}, {\"cutoff\": 4, \"precision\": 0.01282051282051282, \"recall\": 0.0013227513227513225}, {\"cutoff\": 5, \"precision\": 0.010256410256410256, \"recall\": 0.0013227513227513225}, {\"cutoff\": 6, \"precision\": 0.008547008547008548, \"recall\": 0.0013227513227513225}, {\"cutoff\": 7, \"precision\": 0.010989010989010988, \"recall\": 0.0018255165313988838}, {\"cutoff\": 8, \"precision\": 0.01327838827838828, \"recall\": 0.002146029351911705}, {\"cutoff\": 9, \"precision\": 0.012566137566137565, \"recall\": 0.002146029351911705}, {\"cutoff\": 10, \"precision\": 0.011996336996336997, \"recall\": 0.002146029351911705}, {\"cutoff\": 11, \"precision\": 0.011763236763236765, \"recall\": 0.002146029351911705}, {\"cutoff\": 16, \"precision\": 0.01156898656898657, \"recall\": 0.002146029351911705}, {\"cutoff\": 21, \"precision\": 0.01156898656898657, \"recall\": 0.002146029351911705}, {\"cutoff\": 26, \"precision\": 0.01156898656898657, \"recall\": 0.002146029351911705}, {\"cutoff\": 31, \"precision\": 0.01156898656898657, \"recall\": 0.002146029351911705}, {\"cutoff\": 36, \"precision\": 0.01156898656898657, \"recall\": 0.002146029351911705}, {\"cutoff\": 41, \"precision\": 0.01156898656898657, \"recall\": 0.002146029351911705}, {\"cutoff\": 46, \"precision\": 0.01156898656898657, \"recall\": 0.002146029351911705}]}, \"Model_2\": {\"precision_recall\": [{\"cutoff\": 1, \"precision\": 0.05128205128205128, \"recall\": 0.0013227513227513225}, {\"cutoff\": 2, \"precision\": 0.03846153846153846, \"recall\": 0.0018255165313988838}, {\"cutoff\": 3, \"precision\": 0.025641025641025647, \"recall\": 0.0018255165313988842}, {\"cutoff\": 4, \"precision\": 0.01923076923076923, \"recall\": 0.0018255165313988842}, {\"cutoff\": 5, \"precision\": 0.015384615384615389, \"recall\": 0.0018255165313988846}, {\"cutoff\": 6, \"precision\": 0.012820512820512824, \"recall\": 0.0018255165313988846}, {\"cutoff\": 7, \"precision\": 0.01098901098901099, \"recall\": 0.0018255165313988846}, {\"cutoff\": 8, \"precision\": 0.01327838827838828, \"recall\": 0.002146029351911705}, {\"cutoff\": 9, \"precision\": 0.012566137566137565, \"recall\": 0.002146029351911705}, {\"cutoff\": 10, \"precision\": 0.011996336996336997, \"recall\": 0.002146029351911705}, {\"cutoff\": 11, \"precision\": 0.011763236763236765, \"recall\": 0.002146029351911705}, {\"cutoff\": 16, \"precision\": 0.01156898656898657, \"recall\": 0.002146029351911705}, {\"cutoff\": 21, \"precision\": 0.01156898656898657, \"recall\": 0.002146029351911705}, {\"cutoff\": 26, \"precision\": 0.01156898656898657, \"recall\": 0.002146029351911705}, {\"cutoff\": 31, \"precision\": 0.01156898656898657, \"recall\": 0.002146029351911705}, {\"cutoff\": 36, \"precision\": 0.011568986568986571, \"recall\": 0.002146029351911705}, {\"cutoff\": 41, \"precision\": 0.011568986568986571, \"recall\": 0.002146029351911705}, {\"cutoff\": 46, \"precision\": 0.011568986568986571, \"recall\": 0.002146029351911705}]}, \"Model_4\": {\"precision_recall\": [{\"cutoff\": 1, \"precision\": 0.05128205128205128, \"recall\": 0.0013227513227513225}, {\"cutoff\": 2, \"precision\": 0.02564102564102564, \"recall\": 0.0013227513227513225}, {\"cutoff\": 3, \"precision\": 0.0170940170940171, \"recall\": 0.0013227513227513225}, {\"cutoff\": 4, \"precision\": 0.01282051282051282, \"recall\": 0.0013227513227513225}, {\"cutoff\": 5, \"precision\": 0.010256410256410256, \"recall\": 0.0013227513227513225}, {\"cutoff\": 6, \"precision\": 0.01282051282051282, \"recall\": 0.0018255165313988838}, {\"cutoff\": 7, \"precision\": 0.010989010989010988, \"recall\": 0.0018255165313988838}, {\"cutoff\": 8, \"precision\": 0.01327838827838828, \"recall\": 0.002146029351911705}, {\"cutoff\": 9, \"precision\": 0.012566137566137565, \"recall\": 0.002146029351911705}, {\"cutoff\": 10, \"precision\": 0.011996336996336997, \"recall\": 0.002146029351911705}, {\"cutoff\": 11, \"precision\": 0.011763236763236765, \"recall\": 0.002146029351911705}, {\"cutoff\": 16, \"precision\": 0.01156898656898657, \"recall\": 0.002146029351911705}, {\"cutoff\": 21, \"precision\": 0.01156898656898657, \"recall\": 0.002146029351911705}, {\"cutoff\": 26, \"precision\": 0.01156898656898657, \"recall\": 0.002146029351911705}, {\"cutoff\": 31, \"precision\": 0.01156898656898657, \"recall\": 0.002146029351911705}, {\"cutoff\": 36, \"precision\": 0.01156898656898657, \"recall\": 0.002146029351911705}, {\"cutoff\": 41, \"precision\": 0.01156898656898657, \"recall\": 0.002146029351911705}, {\"cutoff\": 46, \"precision\": 0.01156898656898657, \"recall\": 0.002146029351911705}]}}}, \"selected_variable\": {\"comparison\": {\"dataset_label\": \"test\", \"evaluations\": {\"Model_1\": {\"precision_recall\": [{\"cutoff\": 1, \"precision\": 0.051282051282051294, \"recall\": 0.0013227513227513227}, {\"cutoff\": 2, \"precision\": 0.025641025641025647, \"recall\": 0.0013227513227513227}, {\"cutoff\": 3, \"precision\": 0.025641025641025647, \"recall\": 0.0018255165313988842}, {\"cutoff\": 4, \"precision\": 0.025641025641025647, \"recall\": 0.0021460293519117053}, {\"cutoff\": 5, \"precision\": 0.020512820512820516, \"recall\": 0.002146029351911705}, {\"cutoff\": 6, \"precision\": 0.017094017094017092, \"recall\": 0.002146029351911705}, {\"cutoff\": 7, \"precision\": 0.014652014652014652, \"recall\": 0.002146029351911705}, {\"cutoff\": 8, \"precision\": 0.01327838827838828, \"recall\": 0.002146029351911705}, {\"cutoff\": 9, \"precision\": 0.012566137566137565, \"recall\": 0.002146029351911705}, {\"cutoff\": 10, \"precision\": 0.011996336996336997, \"recall\": 0.002146029351911705}, {\"cutoff\": 11, \"precision\": 0.011763236763236765, \"recall\": 0.002146029351911705}, {\"cutoff\": 16, \"precision\": 0.01156898656898657, \"recall\": 0.002146029351911705}, {\"cutoff\": 21, \"precision\": 0.01156898656898657, \"recall\": 0.002146029351911705}, {\"cutoff\": 26, \"precision\": 0.01156898656898657, \"recall\": 0.002146029351911705}, {\"cutoff\": 31, \"precision\": 0.01156898656898657, \"recall\": 0.002146029351911705}, {\"cutoff\": 36, \"precision\": 0.01156898656898657, \"recall\": 0.002146029351911705}, {\"cutoff\": 41, \"precision\": 0.01156898656898657, \"recall\": 0.002146029351911705}, {\"cutoff\": 46, \"precision\": 0.01156898656898657, \"recall\": 0.002146029351911705}]}, \"Model_0\": {\"precision_recall\": [{\"cutoff\": 1, \"precision\": 0.05128205128205128, \"recall\": 0.001322751322751323}, {\"cutoff\": 2, \"precision\": 0.02564102564102564, \"recall\": 0.001322751322751323}, {\"cutoff\": 3, \"precision\": 0.017094017094017096, \"recall\": 0.0013227513227513227}, {\"cutoff\": 4, \"precision\": 0.019230769230769232, \"recall\": 0.0018255165313988842}, {\"cutoff\": 5, \"precision\": 0.020512820512820516, \"recall\": 0.0021460293519117053}, {\"cutoff\": 6, \"precision\": 0.017094017094017092, \"recall\": 0.0021460293519117053}, {\"cutoff\": 7, \"precision\": 0.014652014652014652, \"recall\": 0.0021460293519117053}, {\"cutoff\": 8, \"precision\": 0.013278388278388283, \"recall\": 0.0021460293519117053}, {\"cutoff\": 9, \"precision\": 0.012566137566137565, \"recall\": 0.0021460293519117053}, {\"cutoff\": 10, \"precision\": 0.011996336996336997, \"recall\": 0.0021460293519117053}, {\"cutoff\": 11, \"precision\": 0.011763236763236767, \"recall\": 0.0021460293519117053}, {\"cutoff\": 16, \"precision\": 0.01156898656898657, \"recall\": 0.0021460293519117053}, {\"cutoff\": 21, \"precision\": 0.01156898656898657, \"recall\": 0.0021460293519117053}, {\"cutoff\": 26, \"precision\": 0.01156898656898657, \"recall\": 0.0021460293519117053}, {\"cutoff\": 31, \"precision\": 0.01156898656898657, \"recall\": 0.0021460293519117053}, {\"cutoff\": 36, \"precision\": 0.01156898656898657, \"recall\": 0.0021460293519117053}, {\"cutoff\": 41, \"precision\": 0.01156898656898657, \"recall\": 0.0021460293519117053}, {\"cutoff\": 46, \"precision\": 0.01156898656898657, \"recall\": 0.0021460293519117053}]}, \"Model_3\": {\"precision_recall\": [{\"cutoff\": 1, \"precision\": 0.05128205128205128, \"recall\": 0.0013227513227513225}, {\"cutoff\": 2, \"precision\": 0.02564102564102564, \"recall\": 0.0013227513227513225}, {\"cutoff\": 3, \"precision\": 0.017094017094017096, \"recall\": 0.0013227513227513225}, {\"cutoff\": 4, \"precision\": 0.01282051282051282, \"recall\": 0.0013227513227513225}, {\"cutoff\": 5, \"precision\": 0.010256410256410256, \"recall\": 0.0013227513227513225}, {\"cutoff\": 6, \"precision\": 0.008547008547008548, \"recall\": 0.0013227513227513225}, {\"cutoff\": 7, \"precision\": 0.010989010989010988, \"recall\": 0.0018255165313988838}, {\"cutoff\": 8, \"precision\": 0.01327838827838828, \"recall\": 0.002146029351911705}, {\"cutoff\": 9, \"precision\": 0.012566137566137565, \"recall\": 0.002146029351911705}, {\"cutoff\": 10, \"precision\": 0.011996336996336997, \"recall\": 0.002146029351911705}, {\"cutoff\": 11, \"precision\": 0.011763236763236765, \"recall\": 0.002146029351911705}, {\"cutoff\": 16, \"precision\": 0.01156898656898657, \"recall\": 0.002146029351911705}, {\"cutoff\": 21, \"precision\": 0.01156898656898657, \"recall\": 0.002146029351911705}, {\"cutoff\": 26, \"precision\": 0.01156898656898657, \"recall\": 0.002146029351911705}, {\"cutoff\": 31, \"precision\": 0.01156898656898657, \"recall\": 0.002146029351911705}, {\"cutoff\": 36, \"precision\": 0.01156898656898657, \"recall\": 0.002146029351911705}, {\"cutoff\": 41, \"precision\": 0.01156898656898657, \"recall\": 0.002146029351911705}, {\"cutoff\": 46, \"precision\": 0.01156898656898657, \"recall\": 0.002146029351911705}]}, \"Model_2\": {\"precision_recall\": [{\"cutoff\": 1, \"precision\": 0.05128205128205128, \"recall\": 0.0013227513227513225}, {\"cutoff\": 2, \"precision\": 0.03846153846153846, \"recall\": 0.0018255165313988838}, {\"cutoff\": 3, \"precision\": 0.025641025641025647, \"recall\": 0.0018255165313988842}, {\"cutoff\": 4, \"precision\": 0.01923076923076923, \"recall\": 0.0018255165313988842}, {\"cutoff\": 5, \"precision\": 0.015384615384615389, \"recall\": 0.0018255165313988846}, {\"cutoff\": 6, \"precision\": 0.012820512820512824, \"recall\": 0.0018255165313988846}, {\"cutoff\": 7, \"precision\": 0.01098901098901099, \"recall\": 0.0018255165313988846}, {\"cutoff\": 8, \"precision\": 0.01327838827838828, \"recall\": 0.002146029351911705}, {\"cutoff\": 9, \"precision\": 0.012566137566137565, \"recall\": 0.002146029351911705}, {\"cutoff\": 10, \"precision\": 0.011996336996336997, \"recall\": 0.002146029351911705}, {\"cutoff\": 11, \"precision\": 0.011763236763236765, \"recall\": 0.002146029351911705}, {\"cutoff\": 16, \"precision\": 0.01156898656898657, \"recall\": 0.002146029351911705}, {\"cutoff\": 21, \"precision\": 0.01156898656898657, \"recall\": 0.002146029351911705}, {\"cutoff\": 26, \"precision\": 0.01156898656898657, \"recall\": 0.002146029351911705}, {\"cutoff\": 31, \"precision\": 0.01156898656898657, \"recall\": 0.002146029351911705}, {\"cutoff\": 36, \"precision\": 0.011568986568986571, \"recall\": 0.002146029351911705}, {\"cutoff\": 41, \"precision\": 0.011568986568986571, \"recall\": 0.002146029351911705}, {\"cutoff\": 46, \"precision\": 0.011568986568986571, \"recall\": 0.002146029351911705}]}, \"Model_4\": {\"precision_recall\": [{\"cutoff\": 1, \"precision\": 0.05128205128205128, \"recall\": 0.0013227513227513225}, {\"cutoff\": 2, \"precision\": 0.02564102564102564, \"recall\": 0.0013227513227513225}, {\"cutoff\": 3, \"precision\": 0.0170940170940171, \"recall\": 0.0013227513227513225}, {\"cutoff\": 4, \"precision\": 0.01282051282051282, \"recall\": 0.0013227513227513225}, {\"cutoff\": 5, \"precision\": 0.010256410256410256, \"recall\": 0.0013227513227513225}, {\"cutoff\": 6, \"precision\": 0.01282051282051282, \"recall\": 0.0018255165313988838}, {\"cutoff\": 7, \"precision\": 0.010989010989010988, \"recall\": 0.0018255165313988838}, {\"cutoff\": 8, \"precision\": 0.01327838827838828, \"recall\": 0.002146029351911705}, {\"cutoff\": 9, \"precision\": 0.012566137566137565, \"recall\": 0.002146029351911705}, {\"cutoff\": 10, \"precision\": 0.011996336996336997, \"recall\": 0.002146029351911705}, {\"cutoff\": 11, \"precision\": 0.011763236763236765, \"recall\": 0.002146029351911705}, {\"cutoff\": 16, \"precision\": 0.01156898656898657, \"recall\": 0.002146029351911705}, {\"cutoff\": 21, \"precision\": 0.01156898656898657, \"recall\": 0.002146029351911705}, {\"cutoff\": 26, \"precision\": 0.01156898656898657, \"recall\": 0.002146029351911705}, {\"cutoff\": 31, \"precision\": 0.01156898656898657, \"recall\": 0.002146029351911705}, {\"cutoff\": 36, \"precision\": 0.01156898656898657, \"recall\": 0.002146029351911705}, {\"cutoff\": 41, \"precision\": 0.01156898656898657, \"recall\": 0.002146029351911705}, {\"cutoff\": 46, \"precision\": 0.01156898656898657, \"recall\": 0.002146029351911705}]}}}, \"name\": [\"<RankingFactorizationRecommender>\"], \"view_file\": \"model\", \"view_component\": \"Comparison\", \"view_params\": {\"model_type\": \"recommender\", \"view\": \"Comparison\"}, \"view_components\": [\"Summary\", \"Evaluation\", \"Comparison\"], \"model_type\": \"recommender\", \"attributes\": {\"section_titles\": [\"Schema\", \"Statistics\", \"Training summary\", \"Model Parameters\", \"Regularization Settings\", \"Optimization Settings\"], \"sections\": [[[\"User ID\", \"regionidzip\"], [\"Item ID\", \"propertylandusetypeid\"], [\"Target\", \"bedroomcnt\"], [\"Additional observation features\", 0], [\"User side features\", []], [\"Item side features\", []]], [[\"Number of observations\", 88044], [\"Number of users\", 388], [\"Number of items\", 14]], [[\"Training time\", 3.9783]], [[\"Model class\", \"RankingFactorizationRecommender\"], [\"num_factors\", 8], [\"binary_target\", 0], [\"side_data_factorization\", 1], [\"solver\", \"auto\"], [\"nmf\", 0], [\"max_iterations\", 25]], [[\"regularization\", 0.001], [\"regularization_type\", \"normal\"], [\"linear_regularization\", 0.001], [\"ranking_regularization\", 0.5], [\"unobserved_rating_value\", -1.7976931348623157e+308], [\"num_sampled_negative_examples\", 4], [\"ials_confidence_scaling_type\", \"auto\"], [\"ials_confidence_scaling_factor\", 1]], [[\"init_random_sigma\", 0.01], [\"sgd_convergence_interval\", 4], [\"sgd_convergence_threshold\", 0.0], [\"sgd_max_trial_iterations\", 5], [\"sgd_sampling_block_size\", 131072], [\"sgd_step_adjustment_interval\", 4], [\"sgd_step_size\", 0.0], [\"sgd_trial_sample_minimum_size\", 10000], [\"sgd_trial_sample_proportion\", 0.125], [\"step_size_decrease_rate\", 0.75], [\"additional_iterations_if_unhealthy\", 5], [\"adagrad_momentum_weighting\", 0.9], [\"num_tempering_iterations\", 4], [\"tempering_regularization_start_value\", 0.0], [\"track_exact_loss\", 0]]]}, \"evaluations\": [[\"dataset\", {\"precision_recall_overall\": [{\"cutoff\": 1, \"precision\": 0.05128205128205128, \"recall\": 0.001322751322751323}, {\"cutoff\": 2, \"precision\": 0.02564102564102564, \"recall\": 0.001322751322751323}, {\"cutoff\": 3, \"precision\": 0.017094017094017096, \"recall\": 0.0013227513227513227}, {\"cutoff\": 4, \"precision\": 0.019230769230769232, \"recall\": 0.0018255165313988842}, {\"cutoff\": 5, \"precision\": 0.020512820512820516, \"recall\": 0.0021460293519117053}, {\"cutoff\": 6, \"precision\": 0.017094017094017092, \"recall\": 0.0021460293519117053}, {\"cutoff\": 7, \"precision\": 0.014652014652014652, \"recall\": 0.0021460293519117053}, {\"cutoff\": 8, \"precision\": 0.013278388278388283, \"recall\": 0.0021460293519117053}, {\"cutoff\": 9, \"precision\": 0.012566137566137565, \"recall\": 0.0021460293519117053}, {\"cutoff\": 10, \"precision\": 0.011996336996336997, \"recall\": 0.0021460293519117053}, {\"cutoff\": 11, \"precision\": 0.011763236763236767, \"recall\": 0.0021460293519117053}, {\"cutoff\": 16, \"precision\": 0.01156898656898657, \"recall\": 0.0021460293519117053}, {\"cutoff\": 21, \"precision\": 0.01156898656898657, \"recall\": 0.0021460293519117053}, {\"cutoff\": 26, \"precision\": 0.01156898656898657, \"recall\": 0.0021460293519117053}, {\"cutoff\": 31, \"precision\": 0.01156898656898657, \"recall\": 0.0021460293519117053}, {\"cutoff\": 36, \"precision\": 0.01156898656898657, \"recall\": 0.0021460293519117053}, {\"cutoff\": 41, \"precision\": 0.01156898656898657, \"recall\": 0.0021460293519117053}, {\"cutoff\": 46, \"precision\": 0.01156898656898657, \"recall\": 0.0021460293519117053}], \"precision_recall_by_user\": [{\"count\": 20, \"cutoff\": 1, \"regionidzip\": \"95989.0\", \"precision\": 0.0, \"recall\": 0.0}, {\"count\": 20, \"cutoff\": 2, \"regionidzip\": \"95989.0\", \"precision\": 0.0, \"recall\": 0.0}, {\"count\": 20, \"cutoff\": 3, \"regionidzip\": \"95989.0\", \"precision\": 0.0, \"recall\": 0.0}, {\"count\": 20, \"cutoff\": 4, \"regionidzip\": \"95989.0\", \"precision\": 0.0, \"recall\": 0.0}, {\"count\": 20, \"cutoff\": 5, \"regionidzip\": \"95989.0\", \"precision\": 0.0, \"recall\": 0.0}, {\"count\": 20, \"cutoff\": 6, \"regionidzip\": \"95989.0\", \"precision\": 0.0, \"recall\": 0.0}, {\"count\": 20, \"cutoff\": 7, \"regionidzip\": \"95989.0\", \"precision\": 0.0, \"recall\": 0.0}, {\"count\": 20, \"cutoff\": 8, \"regionidzip\": \"95989.0\", \"precision\": 0.0, \"recall\": 0.0}, {\"count\": 20, \"cutoff\": 9, \"regionidzip\": \"95989.0\", \"precision\": 0.0, \"recall\": 0.0}, {\"count\": 20, \"cutoff\": 10, \"regionidzip\": \"95989.0\", \"precision\": 0.0, \"recall\": 0.0}, {\"count\": 20, \"cutoff\": 11, \"regionidzip\": \"95989.0\", \"precision\": 0.0, \"recall\": 0.0}, {\"count\": 20, \"cutoff\": 16, \"regionidzip\": \"95989.0\", \"precision\": 0.0, \"recall\": 0.0}, {\"count\": 20, \"cutoff\": 21, \"regionidzip\": \"95989.0\", \"precision\": 0.0, \"recall\": 0.0}, {\"count\": 20, \"cutoff\": 26, \"regionidzip\": \"95989.0\", \"precision\": 0.0, \"recall\": 0.0}, {\"count\": 20, \"cutoff\": 31, \"regionidzip\": \"95989.0\", \"precision\": 0.0, \"recall\": 0.0}, {\"count\": 20, \"cutoff\": 36, \"regionidzip\": \"95989.0\", \"precision\": 0.0, \"recall\": 0.0}, {\"count\": 20, \"cutoff\": 41, \"regionidzip\": \"95989.0\", \"precision\": 0.0, \"recall\": 0.0}, {\"count\": 20, \"cutoff\": 46, \"regionidzip\": \"95989.0\", \"precision\": 0.0, \"recall\": 0.0}, {\"count\": 7, \"cutoff\": 1, \"regionidzip\": \"95998.0\", \"precision\": 0.0, \"recall\": 0.0}, {\"count\": 7, \"cutoff\": 2, \"regionidzip\": \"95998.0\", \"precision\": 0.0, \"recall\": 0.0}, {\"count\": 7, \"cutoff\": 3, \"regionidzip\": \"95998.0\", \"precision\": 0.0, \"recall\": 0.0}, {\"count\": 7, \"cutoff\": 4, \"regionidzip\": \"95998.0\", \"precision\": 0.0, \"recall\": 0.0}, {\"count\": 7, \"cutoff\": 5, \"regionidzip\": \"95998.0\", \"precision\": 0.0, \"recall\": 0.0}, {\"count\": 7, \"cutoff\": 6, \"regionidzip\": \"95998.0\", \"precision\": 0.0, \"recall\": 0.0}, {\"count\": 7, \"cutoff\": 7, \"regionidzip\": \"95998.0\", \"precision\": 0.0, \"recall\": 0.0}, {\"count\": 7, \"cutoff\": 8, \"regionidzip\": \"95998.0\", \"precision\": 0.0, \"recall\": 0.0}, {\"count\": 7, \"cutoff\": 9, \"regionidzip\": \"95998.0\", \"precision\": 0.0, \"recall\": 0.0}, {\"count\": 7, \"cutoff\": 10, \"regionidzip\": \"95998.0\", \"precision\": 0.0, \"recall\": 0.0}, {\"count\": 7, \"cutoff\": 11, \"regionidzip\": \"95998.0\", \"precision\": 0.0, \"recall\": 0.0}, {\"count\": 7, \"cutoff\": 16, \"regionidzip\": \"95998.0\", \"precision\": 0.0, \"recall\": 0.0}, {\"count\": 7, \"cutoff\": 21, \"regionidzip\": \"95998.0\", \"precision\": 0.0, \"recall\": 0.0}, {\"count\": 7, \"cutoff\": 26, \"regionidzip\": \"95998.0\", \"precision\": 0.0, \"recall\": 0.0}, {\"count\": 7, \"cutoff\": 31, \"regionidzip\": \"95998.0\", \"precision\": 0.0, \"recall\": 0.0}, {\"count\": 7, \"cutoff\": 36, \"regionidzip\": \"95998.0\", \"precision\": 0.0, \"recall\": 0.0}, {\"count\": 7, \"cutoff\": 41, \"regionidzip\": \"95998.0\", \"precision\": 0.0, \"recall\": 0.0}, {\"count\": 7, \"cutoff\": 46, \"regionidzip\": \"95998.0\", \"precision\": 0.0, \"recall\": 0.0}, {\"count\": 43, \"cutoff\": 1, \"regionidzip\": \"96007.0\", \"precision\": 0.0, \"recall\": 0.0}, {\"count\": 43, \"cutoff\": 2, \"regionidzip\": \"96007.0\", \"precision\": 0.0, \"recall\": 0.0}, {\"count\": 43, \"cutoff\": 3, \"regionidzip\": \"96007.0\", \"precision\": 0.0, \"recall\": 0.0}, {\"count\": 43, \"cutoff\": 4, \"regionidzip\": \"96007.0\", \"precision\": 0.0, \"recall\": 0.0}, {\"count\": 43, \"cutoff\": 5, \"regionidzip\": \"96007.0\", \"precision\": 0.0, \"recall\": 0.0}, {\"count\": 43, \"cutoff\": 6, \"regionidzip\": \"96007.0\", \"precision\": 0.0, \"recall\": 0.0}, {\"count\": 43, \"cutoff\": 7, \"regionidzip\": \"96007.0\", \"precision\": 0.0, \"recall\": 0.0}, {\"count\": 43, \"cutoff\": 8, \"regionidzip\": \"96007.0\", \"precision\": 0.0, \"recall\": 0.0}, {\"count\": 43, \"cutoff\": 9, \"regionidzip\": \"96007.0\", \"precision\": 0.0, \"recall\": 0.0}, {\"count\": 43, \"cutoff\": 10, \"regionidzip\": \"96007.0\", \"precision\": 0.0, \"recall\": 0.0}, {\"count\": 43, \"cutoff\": 11, \"regionidzip\": \"96007.0\", \"precision\": 0.0, \"recall\": 0.0}, {\"count\": 43, \"cutoff\": 16, \"regionidzip\": \"96007.0\", \"precision\": 0.0, \"recall\": 0.0}, {\"count\": 43, \"cutoff\": 21, \"regionidzip\": \"96007.0\", \"precision\": 0.0, \"recall\": 0.0}, {\"count\": 43, \"cutoff\": 26, \"regionidzip\": \"96007.0\", \"precision\": 0.0, \"recall\": 0.0}, {\"count\": 43, \"cutoff\": 31, \"regionidzip\": \"96007.0\", \"precision\": 0.0, \"recall\": 0.0}, {\"count\": 43, \"cutoff\": 36, \"regionidzip\": \"96007.0\", \"precision\": 0.0, \"recall\": 0.0}, {\"count\": 43, \"cutoff\": 41, \"regionidzip\": \"96007.0\", \"precision\": 0.0, \"recall\": 0.0}, {\"count\": 43, \"cutoff\": 46, \"regionidzip\": \"96007.0\", \"precision\": 0.0, \"recall\": 0.0}, {\"count\": 38, \"cutoff\": 1, \"regionidzip\": \"96015.0\", \"precision\": 0.0, \"recall\": 0.0}, {\"count\": 38, \"cutoff\": 2, \"regionidzip\": \"96015.0\", \"precision\": 0.0, \"recall\": 0.0}, {\"count\": 38, \"cutoff\": 3, \"regionidzip\": \"96015.0\", \"precision\": 0.0, \"recall\": 0.0}, {\"count\": 38, \"cutoff\": 4, \"regionidzip\": \"96015.0\", \"precision\": 0.0, \"recall\": 0.0}, {\"count\": 38, \"cutoff\": 5, \"regionidzip\": \"96015.0\", \"precision\": 0.0, \"recall\": 0.0}, {\"count\": 38, \"cutoff\": 6, \"regionidzip\": \"96015.0\", \"precision\": 0.0, \"recall\": 0.0}, {\"count\": 38, \"cutoff\": 7, \"regionidzip\": \"96015.0\", \"precision\": 0.0, \"recall\": 0.0}, {\"count\": 38, \"cutoff\": 8, \"regionidzip\": \"96015.0\", \"precision\": 0.0, \"recall\": 0.0}, {\"count\": 38, \"cutoff\": 9, \"regionidzip\": \"96015.0\", \"precision\": 0.0, \"recall\": 0.0}, {\"count\": 38, \"cutoff\": 10, \"regionidzip\": \"96015.0\", \"precision\": 0.0, \"recall\": 0.0}, {\"count\": 38, \"cutoff\": 11, \"regionidzip\": \"96015.0\", \"precision\": 0.0, \"recall\": 0.0}, {\"count\": 38, \"cutoff\": 16, \"regionidzip\": \"96015.0\", \"precision\": 0.0, \"recall\": 0.0}, {\"count\": 38, \"cutoff\": 21, \"regionidzip\": \"96015.0\", \"precision\": 0.0, \"recall\": 0.0}, {\"count\": 38, \"cutoff\": 26, \"regionidzip\": \"96015.0\", \"precision\": 0.0, \"recall\": 0.0}, {\"count\": 38, \"cutoff\": 31, \"regionidzip\": \"96015.0\", \"precision\": 0.0, \"recall\": 0.0}, {\"count\": 38, \"cutoff\": 36, \"regionidzip\": \"96015.0\", \"precision\": 0.0, \"recall\": 0.0}, {\"count\": 38, \"cutoff\": 41, \"regionidzip\": \"96015.0\", \"precision\": 0.0, \"recall\": 0.0}, {\"count\": 38, \"cutoff\": 46, \"regionidzip\": \"96015.0\", \"precision\": 0.0, \"recall\": 0.0}, {\"count\": 79, \"cutoff\": 1, \"regionidzip\": \"96030.0\", \"precision\": 0.0, \"recall\": 0.0}, {\"count\": 79, \"cutoff\": 2, \"regionidzip\": \"96030.0\", \"precision\": 0.0, \"recall\": 0.0}, {\"count\": 79, \"cutoff\": 3, \"regionidzip\": \"96030.0\", \"precision\": 0.0, \"recall\": 0.0}, {\"count\": 79, \"cutoff\": 4, \"regionidzip\": \"96030.0\", \"precision\": 0.0, \"recall\": 0.0}, {\"count\": 79, \"cutoff\": 5, \"regionidzip\": \"96030.0\", \"precision\": 0.0, \"recall\": 0.0}, {\"count\": 79, \"cutoff\": 6, \"regionidzip\": \"96030.0\", \"precision\": 0.0, \"recall\": 0.0}, {\"count\": 79, \"cutoff\": 7, \"regionidzip\": \"96030.0\", \"precision\": 0.0, \"recall\": 0.0}, {\"count\": 79, \"cutoff\": 8, \"regionidzip\": \"96030.0\", \"precision\": 0.0, \"recall\": 0.0}, {\"count\": 79, \"cutoff\": 9, \"regionidzip\": \"96030.0\", \"precision\": 0.0, \"recall\": 0.0}, {\"count\": 79, \"cutoff\": 10, \"regionidzip\": \"96030.0\", \"precision\": 0.0, \"recall\": 0.0}, {\"count\": 79, \"cutoff\": 11, \"regionidzip\": \"96030.0\", \"precision\": 0.0, \"recall\": 0.0}, {\"count\": 79, \"cutoff\": 16, \"regionidzip\": \"96030.0\", \"precision\": 0.0, \"recall\": 0.0}, {\"count\": 79, \"cutoff\": 21, \"regionidzip\": \"96030.0\", \"precision\": 0.0, \"recall\": 0.0}, {\"count\": 79, \"cutoff\": 26, \"regionidzip\": \"96030.0\", \"precision\": 0.0, \"recall\": 0.0}, {\"count\": 79, \"cutoff\": 31, \"regionidzip\": \"96030.0\", \"precision\": 0.0, \"recall\": 0.0}, {\"count\": 79, \"cutoff\": 36, \"regionidzip\": \"96030.0\", \"precision\": 0.0, \"recall\": 0.0}, {\"count\": 79, \"cutoff\": 41, \"regionidzip\": \"96030.0\", \"precision\": 0.0, \"recall\": 0.0}, {\"count\": 79, \"cutoff\": 46, \"regionidzip\": \"96030.0\", \"precision\": 0.0, \"recall\": 0.0}, {\"count\": 29, \"cutoff\": 1, \"regionidzip\": \"96104.0\", \"precision\": 0.0, \"recall\": 0.0}, {\"count\": 29, \"cutoff\": 2, \"regionidzip\": \"96104.0\", \"precision\": 0.0, \"recall\": 0.0}, {\"count\": 29, \"cutoff\": 3, \"regionidzip\": \"96104.0\", \"precision\": 0.0, \"recall\": 0.0}, {\"count\": 29, \"cutoff\": 4, \"regionidzip\": \"96104.0\", \"precision\": 0.0, \"recall\": 0.0}, {\"count\": 29, \"cutoff\": 5, \"regionidzip\": \"96104.0\", \"precision\": 0.0, \"recall\": 0.0}, {\"count\": 29, \"cutoff\": 6, \"regionidzip\": \"96104.0\", \"precision\": 0.0, \"recall\": 0.0}, {\"count\": 29, \"cutoff\": 7, \"regionidzip\": \"96104.0\", \"precision\": 0.0, \"recall\": 0.0}, {\"count\": 29, \"cutoff\": 8, \"regionidzip\": \"96104.0\", \"precision\": 0.0, \"recall\": 0.0}, {\"count\": 29, \"cutoff\": 9, \"regionidzip\": \"96104.0\", \"precision\": 0.0, \"recall\": 0.0}, {\"count\": 29, \"cutoff\": 10, \"regionidzip\": \"96104.0\", \"precision\": 0.0, \"recall\": 0.0}, {\"count\": 29, \"cutoff\": 11, \"regionidzip\": \"96104.0\", \"precision\": 0.0, \"recall\": 0.0}, {\"count\": 29, \"cutoff\": 16, \"regionidzip\": \"96104.0\", \"precision\": 0.0, \"recall\": 0.0}, {\"count\": 29, \"cutoff\": 21, \"regionidzip\": \"96104.0\", \"precision\": 0.0, \"recall\": 0.0}, {\"count\": 29, \"cutoff\": 26, \"regionidzip\": \"96104.0\", \"precision\": 0.0, \"recall\": 0.0}, {\"count\": 29, \"cutoff\": 31, \"regionidzip\": \"96104.0\", \"precision\": 0.0, \"recall\": 0.0}, {\"count\": 29, \"cutoff\": 36, \"regionidzip\": \"96104.0\", \"precision\": 0.0, \"recall\": 0.0}, {\"count\": 29, \"cutoff\": 41, \"regionidzip\": \"96104.0\", \"precision\": 0.0, \"recall\": 0.0}, {\"count\": 29, \"cutoff\": 46, \"regionidzip\": \"96104.0\", \"precision\": 0.0, \"recall\": 0.0}, {\"count\": 21, \"cutoff\": 1, \"regionidzip\": \"96110.0\", \"precision\": 0.0, \"recall\": 0.0}, {\"count\": 21, \"cutoff\": 2, \"regionidzip\": \"96110.0\", \"precision\": 0.0, \"recall\": 0.0}, {\"count\": 21, \"cutoff\": 3, \"regionidzip\": \"96110.0\", \"precision\": 0.0, \"recall\": 0.0}, {\"count\": 21, \"cutoff\": 4, \"regionidzip\": \"96110.0\", \"precision\": 0.0, \"recall\": 0.0}, {\"count\": 21, \"cutoff\": 5, \"regionidzip\": \"96110.0\", \"precision\": 0.0, \"recall\": 0.0}, {\"count\": 21, \"cutoff\": 6, \"regionidzip\": \"96110.0\", \"precision\": 0.0, \"recall\": 0.0}, {\"count\": 21, \"cutoff\": 7, \"regionidzip\": \"96110.0\", \"precision\": 0.0, \"recall\": 0.0}, {\"count\": 21, \"cutoff\": 8, \"regionidzip\": \"96110.0\", \"precision\": 0.0, \"recall\": 0.0}, {\"count\": 21, \"cutoff\": 9, \"regionidzip\": \"96110.0\", \"precision\": 0.0, \"recall\": 0.0}, {\"count\": 21, \"cutoff\": 10, \"regionidzip\": \"96110.0\", \"precision\": 0.0, \"recall\": 0.0}, {\"count\": 21, \"cutoff\": 11, \"regionidzip\": \"96110.0\", \"precision\": 0.0, \"recall\": 0.0}, {\"count\": 21, \"cutoff\": 16, \"regionidzip\": \"96110.0\", \"precision\": 0.0, \"recall\": 0.0}, {\"count\": 21, \"cutoff\": 21, \"regionidzip\": \"96110.0\", \"precision\": 0.0, \"recall\": 0.0}, {\"count\": 21, \"cutoff\": 26, \"regionidzip\": \"96110.0\", \"precision\": 0.0, \"recall\": 0.0}, {\"count\": 21, \"cutoff\": 31, \"regionidzip\": \"96110.0\", \"precision\": 0.0, \"recall\": 0.0}, {\"count\": 21, \"cutoff\": 36, \"regionidzip\": \"96110.0\", \"precision\": 0.0, \"recall\": 0.0}, {\"count\": 21, \"cutoff\": 41, \"regionidzip\": \"96110.0\", \"precision\": 0.0, \"recall\": 0.0}, {\"count\": 21, \"cutoff\": 46, \"regionidzip\": \"96110.0\", \"precision\": 0.0, \"recall\": 0.0}, {\"count\": 63, \"cutoff\": 1, \"regionidzip\": \"96123.0\", \"precision\": 0.0, \"recall\": 0.0}, {\"count\": 63, \"cutoff\": 2, \"regionidzip\": \"96123.0\", \"precision\": 0.0, \"recall\": 0.0}, {\"count\": 63, \"cutoff\": 3, \"regionidzip\": \"96123.0\", \"precision\": 0.0, \"recall\": 0.0}, {\"count\": 63, \"cutoff\": 4, \"regionidzip\": \"96123.0\", \"precision\": 0.0, \"recall\": 0.0}, {\"count\": 63, \"cutoff\": 5, \"regionidzip\": \"96123.0\", \"precision\": 0.0, \"recall\": 0.0}, {\"count\": 63, \"cutoff\": 6, \"regionidzip\": \"96123.0\", \"precision\": 0.0, \"recall\": 0.0}, {\"count\": 63, \"cutoff\": 7, \"regionidzip\": \"96123.0\", \"precision\": 0.0, \"recall\": 0.0}, {\"count\": 63, \"cutoff\": 8, \"regionidzip\": \"96123.0\", \"precision\": 0.0, \"recall\": 0.0}, {\"count\": 63, \"cutoff\": 9, \"regionidzip\": \"96123.0\", \"precision\": 0.0, \"recall\": 0.0}, {\"count\": 63, \"cutoff\": 10, \"regionidzip\": \"96123.0\", \"precision\": 0.0, \"recall\": 0.0}, {\"count\": 63, \"cutoff\": 11, \"regionidzip\": \"96123.0\", \"precision\": 0.0, \"recall\": 0.0}, {\"count\": 63, \"cutoff\": 16, \"regionidzip\": \"96123.0\", \"precision\": 0.0, \"recall\": 0.0}, {\"count\": 63, \"cutoff\": 21, \"regionidzip\": \"96123.0\", \"precision\": 0.0, \"recall\": 0.0}, {\"count\": 63, \"cutoff\": 26, \"regionidzip\": \"96123.0\", \"precision\": 0.0, \"recall\": 0.0}, {\"count\": 63, \"cutoff\": 31, \"regionidzip\": \"96123.0\", \"precision\": 0.0, \"recall\": 0.0}, {\"count\": 63, \"cutoff\": 36, \"regionidzip\": \"96123.0\", \"precision\": 0.0, \"recall\": 0.0}, {\"count\": 63, \"cutoff\": 41, \"regionidzip\": \"96123.0\", \"precision\": 0.0, \"recall\": 0.0}, {\"count\": 63, \"cutoff\": 46, \"regionidzip\": \"96123.0\", \"precision\": 0.0, \"recall\": 0.0}, {\"count\": 96, \"cutoff\": 1, \"regionidzip\": \"96186.0\", \"precision\": 0.0, \"recall\": 0.0}, {\"count\": 96, \"cutoff\": 2, \"regionidzip\": \"96186.0\", \"precision\": 0.0, \"recall\": 0.0}, {\"count\": 96, \"cutoff\": 3, \"regionidzip\": \"96186.0\", \"precision\": 0.0, \"recall\": 0.0}, {\"count\": 96, \"cutoff\": 4, \"regionidzip\": \"96186.0\", \"precision\": 0.0, \"recall\": 0.0}, {\"count\": 96, \"cutoff\": 5, \"regionidzip\": \"96186.0\", \"precision\": 0.0, \"recall\": 0.0}, {\"count\": 96, \"cutoff\": 6, \"regionidzip\": \"96186.0\", \"precision\": 0.0, \"recall\": 0.0}, {\"count\": 96, \"cutoff\": 7, \"regionidzip\": \"96186.0\", \"precision\": 0.0, \"recall\": 0.0}, {\"count\": 96, \"cutoff\": 8, \"regionidzip\": \"96186.0\", \"precision\": 0.0, \"recall\": 0.0}, {\"count\": 96, \"cutoff\": 9, \"regionidzip\": \"96186.0\", \"precision\": 0.0, \"recall\": 0.0}, {\"count\": 96, \"cutoff\": 10, \"regionidzip\": \"96186.0\", \"precision\": 0.0, \"recall\": 0.0}, {\"count\": 96, \"cutoff\": 11, \"regionidzip\": \"96186.0\", \"precision\": 0.0, \"recall\": 0.0}, {\"count\": 96, \"cutoff\": 16, \"regionidzip\": \"96186.0\", \"precision\": 0.0, \"recall\": 0.0}, {\"count\": 96, \"cutoff\": 21, \"regionidzip\": \"96186.0\", \"precision\": 0.0, \"recall\": 0.0}, {\"count\": 96, \"cutoff\": 26, \"regionidzip\": \"96186.0\", \"precision\": 0.0, \"recall\": 0.0}, {\"count\": 96, \"cutoff\": 31, \"regionidzip\": \"96186.0\", \"precision\": 0.0, \"recall\": 0.0}, {\"count\": 96, \"cutoff\": 36, \"regionidzip\": \"96186.0\", \"precision\": 0.0, \"recall\": 0.0}, {\"count\": 96, \"cutoff\": 41, \"regionidzip\": \"96186.0\", \"precision\": 0.0, \"recall\": 0.0}, {\"count\": 96, \"cutoff\": 46, \"regionidzip\": \"96186.0\", \"precision\": 0.0, \"recall\": 0.0}, {\"count\": 133, \"cutoff\": 1, \"regionidzip\": \"96193.0\", \"precision\": 0.0, \"recall\": 0.0}, {\"count\": 133, \"cutoff\": 2, \"regionidzip\": \"96193.0\", \"precision\": 0.0, \"recall\": 0.0}, {\"count\": 133, \"cutoff\": 3, \"regionidzip\": \"96193.0\", \"precision\": 0.0, \"recall\": 0.0}, {\"count\": 133, \"cutoff\": 4, \"regionidzip\": \"96193.0\", \"precision\": 0.0, \"recall\": 0.0}, {\"count\": 133, \"cutoff\": 5, \"regionidzip\": \"96193.0\", \"precision\": 0.0, \"recall\": 0.0}, {\"count\": 133, \"cutoff\": 6, \"regionidzip\": \"96193.0\", \"precision\": 0.0, \"recall\": 0.0}, {\"count\": 133, \"cutoff\": 7, \"regionidzip\": \"96193.0\", \"precision\": 0.0, \"recall\": 0.0}, {\"count\": 133, \"cutoff\": 8, \"regionidzip\": \"96193.0\", \"precision\": 0.0, \"recall\": 0.0}, {\"count\": 133, \"cutoff\": 9, \"regionidzip\": \"96193.0\", \"precision\": 0.0, \"recall\": 0.0}, {\"count\": 133, \"cutoff\": 10, \"regionidzip\": \"96193.0\", \"precision\": 0.0, \"recall\": 0.0}, {\"count\": 133, \"cutoff\": 11, \"regionidzip\": \"96193.0\", \"precision\": 0.0, \"recall\": 0.0}, {\"count\": 133, \"cutoff\": 16, \"regionidzip\": \"96193.0\", \"precision\": 0.0, \"recall\": 0.0}, {\"count\": 133, \"cutoff\": 21, \"regionidzip\": \"96193.0\", \"precision\": 0.0, \"recall\": 0.0}, {\"count\": 133, \"cutoff\": 26, \"regionidzip\": \"96193.0\", \"precision\": 0.0, \"recall\": 0.0}, {\"count\": 133, \"cutoff\": 31, \"regionidzip\": \"96193.0\", \"precision\": 0.0, \"recall\": 0.0}, {\"count\": 133, \"cutoff\": 36, \"regionidzip\": \"96193.0\", \"precision\": 0.0, \"recall\": 0.0}, {\"count\": 133, \"cutoff\": 41, \"regionidzip\": \"96193.0\", \"precision\": 0.0, \"recall\": 0.0}, {\"count\": 133, \"cutoff\": 46, \"regionidzip\": \"96193.0\", \"precision\": 0.0, \"recall\": 0.0}, {\"count\": 47, \"cutoff\": 1, \"regionidzip\": \"96197.0\", \"precision\": 0.0, \"recall\": 0.0}, {\"count\": 47, \"cutoff\": 2, \"regionidzip\": \"96197.0\", \"precision\": 0.0, \"recall\": 0.0}, {\"count\": 47, \"cutoff\": 3, \"regionidzip\": \"96197.0\", \"precision\": 0.0, \"recall\": 0.0}, {\"count\": 47, \"cutoff\": 4, \"regionidzip\": \"96197.0\", \"precision\": 0.0, \"recall\": 0.0}, {\"count\": 47, \"cutoff\": 5, \"regionidzip\": \"96197.0\", \"precision\": 0.0, \"recall\": 0.0}, {\"count\": 47, \"cutoff\": 6, \"regionidzip\": \"96197.0\", \"precision\": 0.0, \"recall\": 0.0}, {\"count\": 47, \"cutoff\": 7, \"regionidzip\": \"96197.0\", \"precision\": 0.0, \"recall\": 0.0}, {\"count\": 47, \"cutoff\": 8, \"regionidzip\": \"96197.0\", \"precision\": 0.0, \"recall\": 0.0}, {\"count\": 47, \"cutoff\": 9, \"regionidzip\": \"96197.0\", \"precision\": 0.0, \"recall\": 0.0}, {\"count\": 47, \"cutoff\": 10, \"regionidzip\": \"96197.0\", \"precision\": 0.0, \"recall\": 0.0}, {\"count\": 47, \"cutoff\": 11, \"regionidzip\": \"96197.0\", \"precision\": 0.0, \"recall\": 0.0}, {\"count\": 47, \"cutoff\": 16, \"regionidzip\": \"96197.0\", \"precision\": 0.0, \"recall\": 0.0}, {\"count\": 47, \"cutoff\": 21, \"regionidzip\": \"96197.0\", \"precision\": 0.0, \"recall\": 0.0}, {\"count\": 47, \"cutoff\": 26, \"regionidzip\": \"96197.0\", \"precision\": 0.0, \"recall\": 0.0}, {\"count\": 47, \"cutoff\": 31, \"regionidzip\": \"96197.0\", \"precision\": 0.0, \"recall\": 0.0}, {\"count\": 47, \"cutoff\": 36, \"regionidzip\": \"96197.0\", \"precision\": 0.0, \"recall\": 0.0}, {\"count\": 47, \"cutoff\": 41, \"regionidzip\": \"96197.0\", \"precision\": 0.0, \"recall\": 0.0}, {\"count\": 47, \"cutoff\": 46, \"regionidzip\": \"96197.0\", \"precision\": 0.0, \"recall\": 0.0}, {\"count\": 63, \"cutoff\": 1, \"regionidzip\": \"96213.0\", \"precision\": 1.0, \"recall\": 0.015873015873015872}, {\"count\": 63, \"cutoff\": 2, \"regionidzip\": \"96213.0\", \"precision\": 0.5, \"recall\": 0.015873015873015872}, {\"count\": 63, \"cutoff\": 3, \"regionidzip\": \"96213.0\", \"precision\": 0.3333333333333333, \"recall\": 0.015873015873015872}, {\"count\": 63, \"cutoff\": 4, \"regionidzip\": \"96213.0\", \"precision\": 0.25, \"recall\": 0.015873015873015872}, {\"count\": 63, \"cutoff\": 5, \"regionidzip\": \"96213.0\", \"precision\": 0.2, \"recall\": 0.015873015873015872}, {\"count\": 63, \"cutoff\": 6, \"regionidzip\": \"96213.0\", \"precision\": 0.16666666666666666, \"recall\": 0.015873015873015872}, {\"count\": 63, \"cutoff\": 7, \"regionidzip\": \"96213.0\", \"precision\": 0.14285714285714285, \"recall\": 0.015873015873015872}, {\"count\": 63, \"cutoff\": 8, \"regionidzip\": \"96213.0\", \"precision\": 0.125, \"recall\": 0.015873015873015872}, {\"count\": 63, \"cutoff\": 9, \"regionidzip\": \"96213.0\", \"precision\": 0.1111111111111111, \"recall\": 0.015873015873015872}, {\"count\": 63, \"cutoff\": 10, \"regionidzip\": \"96213.0\", \"precision\": 0.1, \"recall\": 0.015873015873015872}, {\"count\": 63, \"cutoff\": 11, \"regionidzip\": \"96213.0\", \"precision\": 0.09090909090909091, \"recall\": 0.015873015873015872}, {\"count\": 63, \"cutoff\": 16, \"regionidzip\": \"96213.0\", \"precision\": 0.08333333333333333, \"recall\": 0.015873015873015872}, {\"count\": 63, \"cutoff\": 21, \"regionidzip\": \"96213.0\", \"precision\": 0.08333333333333333, \"recall\": 0.015873015873015872}, {\"count\": 63, \"cutoff\": 26, \"regionidzip\": \"96213.0\", \"precision\": 0.08333333333333333, \"recall\": 0.015873015873015872}, {\"count\": 63, \"cutoff\": 31, \"regionidzip\": \"96213.0\", \"precision\": 0.08333333333333333, \"recall\": 0.015873015873015872}, {\"count\": 63, \"cutoff\": 36, \"regionidzip\": \"96213.0\", \"precision\": 0.08333333333333333, \"recall\": 0.015873015873015872}, {\"count\": 63, \"cutoff\": 41, \"regionidzip\": \"96213.0\", \"precision\": 0.08333333333333333, \"recall\": 0.015873015873015872}, {\"count\": 63, \"cutoff\": 46, \"regionidzip\": \"96213.0\", \"precision\": 0.08333333333333333, \"recall\": 0.015873015873015872}, {\"count\": 46, \"cutoff\": 1, \"regionidzip\": \"96221.0\", \"precision\": 0.0, \"recall\": 0.0}, {\"count\": 46, \"cutoff\": 2, \"regionidzip\": \"96221.0\", \"precision\": 0.0, \"recall\": 0.0}, {\"count\": 46, \"cutoff\": 3, \"regionidzip\": \"96221.0\", \"precision\": 0.0, \"recall\": 0.0}, {\"count\": 46, \"cutoff\": 4, \"regionidzip\": \"96221.0\", \"precision\": 0.0, \"recall\": 0.0}, {\"count\": 46, \"cutoff\": 5, \"regionidzip\": \"96221.0\", \"precision\": 0.0, \"recall\": 0.0}, {\"count\": 46, \"cutoff\": 6, \"regionidzip\": \"96221.0\", \"precision\": 0.0, \"recall\": 0.0}, {\"count\": 46, \"cutoff\": 7, \"regionidzip\": \"96221.0\", \"precision\": 0.0, \"recall\": 0.0}, {\"count\": 46, \"cutoff\": 8, \"regionidzip\": \"96221.0\", \"precision\": 0.0, \"recall\": 0.0}, {\"count\": 46, \"cutoff\": 9, \"regionidzip\": \"96221.0\", \"precision\": 0.0, \"recall\": 0.0}, {\"count\": 46, \"cutoff\": 10, \"regionidzip\": \"96221.0\", \"precision\": 0.0, \"recall\": 0.0}, {\"count\": 46, \"cutoff\": 11, \"regionidzip\": \"96221.0\", \"precision\": 0.0, \"recall\": 0.0}, {\"count\": 46, \"cutoff\": 16, \"regionidzip\": \"96221.0\", \"precision\": 0.0, \"recall\": 0.0}, {\"count\": 46, \"cutoff\": 21, \"regionidzip\": \"96221.0\", \"precision\": 0.0, \"recall\": 0.0}, {\"count\": 46, \"cutoff\": 26, \"regionidzip\": \"96221.0\", \"precision\": 0.0, \"recall\": 0.0}, {\"count\": 46, \"cutoff\": 31, \"regionidzip\": \"96221.0\", \"precision\": 0.0, \"recall\": 0.0}, {\"count\": 46, \"cutoff\": 36, \"regionidzip\": \"96221.0\", \"precision\": 0.0, \"recall\": 0.0}, {\"count\": 46, \"cutoff\": 41, \"regionidzip\": \"96221.0\", \"precision\": 0.0, \"recall\": 0.0}, {\"count\": 46, \"cutoff\": 46, \"regionidzip\": \"96221.0\", \"precision\": 0.0, \"recall\": 0.0}, {\"count\": 64, \"cutoff\": 1, \"regionidzip\": \"96241.0\", \"precision\": 0.0, \"recall\": 0.0}, {\"count\": 64, \"cutoff\": 2, \"regionidzip\": \"96241.0\", \"precision\": 0.0, \"recall\": 0.0}, {\"count\": 64, \"cutoff\": 3, \"regionidzip\": \"96241.0\", \"precision\": 0.0, \"recall\": 0.0}, {\"count\": 64, \"cutoff\": 4, \"regionidzip\": \"96241.0\", \"precision\": 0.0, \"recall\": 0.0}, {\"count\": 64, \"cutoff\": 5, \"regionidzip\": \"96241.0\", \"precision\": 0.0, \"recall\": 0.0}, {\"count\": 64, \"cutoff\": 6, \"regionidzip\": \"96241.0\", \"precision\": 0.0, \"recall\": 0.0}, {\"count\": 64, \"cutoff\": 7, \"regionidzip\": \"96241.0\", \"precision\": 0.0, \"recall\": 0.0}, {\"count\": 64, \"cutoff\": 8, \"regionidzip\": \"96241.0\", \"precision\": 0.0, \"recall\": 0.0}, {\"count\": 64, \"cutoff\": 9, \"regionidzip\": \"96241.0\", \"precision\": 0.0, \"recall\": 0.0}, {\"count\": 64, \"cutoff\": 10, \"regionidzip\": \"96241.0\", \"precision\": 0.0, \"recall\": 0.0}, {\"count\": 64, \"cutoff\": 11, \"regionidzip\": \"96241.0\", \"precision\": 0.0, \"recall\": 0.0}, {\"count\": 64, \"cutoff\": 16, \"regionidzip\": \"96241.0\", \"precision\": 0.0, \"recall\": 0.0}, {\"count\": 64, \"cutoff\": 21, \"regionidzip\": \"96241.0\", \"precision\": 0.0, \"recall\": 0.0}, {\"count\": 64, \"cutoff\": 26, \"regionidzip\": \"96241.0\", \"precision\": 0.0, \"recall\": 0.0}, {\"count\": 64, \"cutoff\": 31, \"regionidzip\": \"96241.0\", \"precision\": 0.0, \"recall\": 0.0}, {\"count\": 64, \"cutoff\": 36, \"regionidzip\": \"96241.0\", \"precision\": 0.0, \"recall\": 0.0}, {\"count\": 64, \"cutoff\": 41, \"regionidzip\": \"96241.0\", \"precision\": 0.0, \"recall\": 0.0}, {\"count\": 64, \"cutoff\": 46, \"regionidzip\": \"96241.0\", \"precision\": 0.0, \"recall\": 0.0}, {\"count\": 65, \"cutoff\": 1, \"regionidzip\": \"96273.0\", \"precision\": 0.0, \"recall\": 0.0}, {\"count\": 65, \"cutoff\": 2, \"regionidzip\": \"96273.0\", \"precision\": 0.0, \"recall\": 0.0}, {\"count\": 65, \"cutoff\": 3, \"regionidzip\": \"96273.0\", \"precision\": 0.0, \"recall\": 0.0}, {\"count\": 65, \"cutoff\": 4, \"regionidzip\": \"96273.0\", \"precision\": 0.0, \"recall\": 0.0}, {\"count\": 65, \"cutoff\": 5, \"regionidzip\": \"96273.0\", \"precision\": 0.0, \"recall\": 0.0}, {\"count\": 65, \"cutoff\": 6, \"regionidzip\": \"96273.0\", \"precision\": 0.0, \"recall\": 0.0}, {\"count\": 65, \"cutoff\": 7, \"regionidzip\": \"96273.0\", \"precision\": 0.0, \"recall\": 0.0}, {\"count\": 65, \"cutoff\": 8, \"regionidzip\": \"96273.0\", \"precision\": 0.0, \"recall\": 0.0}, {\"count\": 65, \"cutoff\": 9, \"regionidzip\": \"96273.0\", \"precision\": 0.0, \"recall\": 0.0}, {\"count\": 65, \"cutoff\": 10, \"regionidzip\": \"96273.0\", \"precision\": 0.0, \"recall\": 0.0}, {\"count\": 65, \"cutoff\": 11, \"regionidzip\": \"96273.0\", \"precision\": 0.0, \"recall\": 0.0}, {\"count\": 65, \"cutoff\": 16, \"regionidzip\": \"96273.0\", \"precision\": 0.0, \"recall\": 0.0}, {\"count\": 65, \"cutoff\": 21, \"regionidzip\": \"96273.0\", \"precision\": 0.0, \"recall\": 0.0}, {\"count\": 65, \"cutoff\": 26, \"regionidzip\": \"96273.0\", \"precision\": 0.0, \"recall\": 0.0}, {\"count\": 65, \"cutoff\": 31, \"regionidzip\": \"96273.0\", \"precision\": 0.0, \"recall\": 0.0}, {\"count\": 65, \"cutoff\": 36, \"regionidzip\": \"96273.0\", \"precision\": 0.0, \"recall\": 0.0}, {\"count\": 65, \"cutoff\": 41, \"regionidzip\": \"96273.0\", \"precision\": 0.0, \"recall\": 0.0}, {\"count\": 65, \"cutoff\": 46, \"regionidzip\": \"96273.0\", \"precision\": 0.0, \"recall\": 0.0}, {\"count\": 31, \"cutoff\": 1, \"regionidzip\": \"96296.0\", \"precision\": 0.0, \"recall\": 0.0}, {\"count\": 31, \"cutoff\": 2, \"regionidzip\": \"96296.0\", \"precision\": 0.0, \"recall\": 0.0}, {\"count\": 31, \"cutoff\": 3, \"regionidzip\": \"96296.0\", \"precision\": 0.0, \"recall\": 0.0}, {\"count\": 31, \"cutoff\": 4, \"regionidzip\": \"96296.0\", \"precision\": 0.0, \"recall\": 0.0}, {\"count\": 31, \"cutoff\": 5, \"regionidzip\": \"96296.0\", \"precision\": 0.0, \"recall\": 0.0}, {\"count\": 31, \"cutoff\": 6, \"regionidzip\": \"96296.0\", \"precision\": 0.0, \"recall\": 0.0}, {\"count\": 31, \"cutoff\": 7, \"regionidzip\": \"96296.0\", \"precision\": 0.0, \"recall\": 0.0}, {\"count\": 31, \"cutoff\": 8, \"regionidzip\": \"96296.0\", \"precision\": 0.0, \"recall\": 0.0}, {\"count\": 31, \"cutoff\": 9, \"regionidzip\": \"96296.0\", \"precision\": 0.0, \"recall\": 0.0}, {\"count\": 31, \"cutoff\": 10, \"regionidzip\": \"96296.0\", \"precision\": 0.0, \"recall\": 0.0}, {\"count\": 31, \"cutoff\": 11, \"regionidzip\": \"96296.0\", \"precision\": 0.0, \"recall\": 0.0}, {\"count\": 31, \"cutoff\": 16, \"regionidzip\": \"96296.0\", \"precision\": 0.0, \"recall\": 0.0}, {\"count\": 31, \"cutoff\": 21, \"regionidzip\": \"96296.0\", \"precision\": 0.0, \"recall\": 0.0}, {\"count\": 31, \"cutoff\": 26, \"regionidzip\": \"96296.0\", \"precision\": 0.0, \"recall\": 0.0}, {\"count\": 31, \"cutoff\": 31, \"regionidzip\": \"96296.0\", \"precision\": 0.0, \"recall\": 0.0}, {\"count\": 31, \"cutoff\": 36, \"regionidzip\": \"96296.0\", \"precision\": 0.0, \"recall\": 0.0}, {\"count\": 31, \"cutoff\": 41, \"regionidzip\": \"96296.0\", \"precision\": 0.0, \"recall\": 0.0}, {\"count\": 31, \"cutoff\": 46, \"regionidzip\": \"96296.0\", \"precision\": 0.0, \"recall\": 0.0}, {\"count\": 35, \"cutoff\": 1, \"regionidzip\": \"96321.0\", \"precision\": 0.0, \"recall\": 0.0}, {\"count\": 35, \"cutoff\": 2, \"regionidzip\": \"96321.0\", \"precision\": 0.0, \"recall\": 0.0}, {\"count\": 35, \"cutoff\": 3, \"regionidzip\": \"96321.0\", \"precision\": 0.0, \"recall\": 0.0}, {\"count\": 35, \"cutoff\": 4, \"regionidzip\": \"96321.0\", \"precision\": 0.0, \"recall\": 0.0}, {\"count\": 35, \"cutoff\": 5, \"regionidzip\": \"96321.0\", \"precision\": 0.0, \"recall\": 0.0}, {\"count\": 35, \"cutoff\": 6, \"regionidzip\": \"96321.0\", \"precision\": 0.0, \"recall\": 0.0}, {\"count\": 35, \"cutoff\": 7, \"regionidzip\": \"96321.0\", \"precision\": 0.0, \"recall\": 0.0}, {\"count\": 35, \"cutoff\": 8, \"regionidzip\": \"96321.0\", \"precision\": 0.0, \"recall\": 0.0}, {\"count\": 35, \"cutoff\": 9, \"regionidzip\": \"96321.0\", \"precision\": 0.0, \"recall\": 0.0}, {\"count\": 35, \"cutoff\": 10, \"regionidzip\": \"96321.0\", \"precision\": 0.0, \"recall\": 0.0}, {\"count\": 35, \"cutoff\": 11, \"regionidzip\": \"96321.0\", \"precision\": 0.0, \"recall\": 0.0}, {\"count\": 35, \"cutoff\": 16, \"regionidzip\": \"96321.0\", \"precision\": 0.0, \"recall\": 0.0}, {\"count\": 35, \"cutoff\": 21, \"regionidzip\": \"96321.0\", \"precision\": 0.0, \"recall\": 0.0}, {\"count\": 35, \"cutoff\": 26, \"regionidzip\": \"96321.0\", \"precision\": 0.0, \"recall\": 0.0}, {\"count\": 35, \"cutoff\": 31, \"regionidzip\": \"96321.0\", \"precision\": 0.0, \"recall\": 0.0}, {\"count\": 35, \"cutoff\": 36, \"regionidzip\": \"96321.0\", \"precision\": 0.0, \"recall\": 0.0}, {\"count\": 35, \"cutoff\": 41, \"regionidzip\": \"96321.0\", \"precision\": 0.0, \"recall\": 0.0}, {\"count\": 35, \"cutoff\": 46, \"regionidzip\": \"96321.0\", \"precision\": 0.0, \"recall\": 0.0}, {\"count\": 47, \"cutoff\": 1, \"regionidzip\": \"96339.0\", \"precision\": 0.0, \"recall\": 0.0}, {\"count\": 47, \"cutoff\": 2, \"regionidzip\": \"96339.0\", \"precision\": 0.0, \"recall\": 0.0}, {\"count\": 47, \"cutoff\": 3, \"regionidzip\": \"96339.0\", \"precision\": 0.0, \"recall\": 0.0}, {\"count\": 47, \"cutoff\": 4, \"regionidzip\": \"96339.0\", \"precision\": 0.0, \"recall\": 0.0}, {\"count\": 47, \"cutoff\": 5, \"regionidzip\": \"96339.0\", \"precision\": 0.0, \"recall\": 0.0}, {\"count\": 47, \"cutoff\": 6, \"regionidzip\": \"96339.0\", \"precision\": 0.0, \"recall\": 0.0}, {\"count\": 47, \"cutoff\": 7, \"regionidzip\": \"96339.0\", \"precision\": 0.0, \"recall\": 0.0}, {\"count\": 47, \"cutoff\": 8, \"regionidzip\": \"96339.0\", \"precision\": 0.0, \"recall\": 0.0}, {\"count\": 47, \"cutoff\": 9, \"regionidzip\": \"96339.0\", \"precision\": 0.0, \"recall\": 0.0}, {\"count\": 47, \"cutoff\": 10, \"regionidzip\": \"96339.0\", \"precision\": 0.0, \"recall\": 0.0}, {\"count\": 47, \"cutoff\": 11, \"regionidzip\": \"96339.0\", \"precision\": 0.0, \"recall\": 0.0}, {\"count\": 47, \"cutoff\": 16, \"regionidzip\": \"96339.0\", \"precision\": 0.0, \"recall\": 0.0}, {\"count\": 47, \"cutoff\": 21, \"regionidzip\": \"96339.0\", \"precision\": 0.0, \"recall\": 0.0}, {\"count\": 47, \"cutoff\": 26, \"regionidzip\": \"96339.0\", \"precision\": 0.0, \"recall\": 0.0}, {\"count\": 47, \"cutoff\": 31, \"regionidzip\": \"96339.0\", \"precision\": 0.0, \"recall\": 0.0}, {\"count\": 47, \"cutoff\": 36, \"regionidzip\": \"96339.0\", \"precision\": 0.0, \"recall\": 0.0}, {\"count\": 47, \"cutoff\": 41, \"regionidzip\": \"96339.0\", \"precision\": 0.0, \"recall\": 0.0}, {\"count\": 47, \"cutoff\": 46, \"regionidzip\": \"96339.0\", \"precision\": 0.0, \"recall\": 0.0}, {\"count\": 53, \"cutoff\": 1, \"regionidzip\": \"96341.0\", \"precision\": 0.0, \"recall\": 0.0}, {\"count\": 53, \"cutoff\": 2, \"regionidzip\": \"96341.0\", \"precision\": 0.0, \"recall\": 0.0}, {\"count\": 53, \"cutoff\": 3, \"regionidzip\": \"96341.0\", \"precision\": 0.0, \"recall\": 0.0}, {\"count\": 53, \"cutoff\": 4, \"regionidzip\": \"96341.0\", \"precision\": 0.0, \"recall\": 0.0}, {\"count\": 53, \"cutoff\": 5, \"regionidzip\": \"96341.0\", \"precision\": 0.0, \"recall\": 0.0}, {\"count\": 53, \"cutoff\": 6, \"regionidzip\": \"96341.0\", \"precision\": 0.0, \"recall\": 0.0}, {\"count\": 53, \"cutoff\": 7, \"regionidzip\": \"96341.0\", \"precision\": 0.0, \"recall\": 0.0}, {\"count\": 53, \"cutoff\": 8, \"regionidzip\": \"96341.0\", \"precision\": 0.0, \"recall\": 0.0}, {\"count\": 53, \"cutoff\": 9, \"regionidzip\": \"96341.0\", \"precision\": 0.0, \"recall\": 0.0}, {\"count\": 53, \"cutoff\": 10, \"regionidzip\": \"96341.0\", \"precision\": 0.0, \"recall\": 0.0}, {\"count\": 53, \"cutoff\": 11, \"regionidzip\": \"96341.0\", \"precision\": 0.0, \"recall\": 0.0}, {\"count\": 53, \"cutoff\": 16, \"regionidzip\": \"96341.0\", \"precision\": 0.0, \"recall\": 0.0}, {\"count\": 53, \"cutoff\": 21, \"regionidzip\": \"96341.0\", \"precision\": 0.0, \"recall\": 0.0}, {\"count\": 53, \"cutoff\": 26, \"regionidzip\": \"96341.0\", \"precision\": 0.0, \"recall\": 0.0}, {\"count\": 53, \"cutoff\": 31, \"regionidzip\": \"96341.0\", \"precision\": 0.0, \"recall\": 0.0}, {\"count\": 53, \"cutoff\": 36, \"regionidzip\": \"96341.0\", \"precision\": 0.0, \"recall\": 0.0}, {\"count\": 53, \"cutoff\": 41, \"regionidzip\": \"96341.0\", \"precision\": 0.0, \"recall\": 0.0}, {\"count\": 53, \"cutoff\": 46, \"regionidzip\": \"96341.0\", \"precision\": 0.0, \"recall\": 0.0}, {\"count\": 87, \"cutoff\": 1, \"regionidzip\": \"96351.0\", \"precision\": 0.0, \"recall\": 0.0}, {\"count\": 87, \"cutoff\": 2, \"regionidzip\": \"96351.0\", \"precision\": 0.0, \"recall\": 0.0}, {\"count\": 87, \"cutoff\": 3, \"regionidzip\": \"96351.0\", \"precision\": 0.0, \"recall\": 0.0}, {\"count\": 87, \"cutoff\": 4, \"regionidzip\": \"96351.0\", \"precision\": 0.0, \"recall\": 0.0}, {\"count\": 87, \"cutoff\": 5, \"regionidzip\": \"96351.0\", \"precision\": 0.0, \"recall\": 0.0}, {\"count\": 87, \"cutoff\": 6, \"regionidzip\": \"96351.0\", \"precision\": 0.0, \"recall\": 0.0}, {\"count\": 87, \"cutoff\": 7, \"regionidzip\": \"96351.0\", \"precision\": 0.0, \"recall\": 0.0}, {\"count\": 87, \"cutoff\": 8, \"regionidzip\": \"96351.0\", \"precision\": 0.0, \"recall\": 0.0}, {\"count\": 87, \"cutoff\": 9, \"regionidzip\": \"96351.0\", \"precision\": 0.0, \"recall\": 0.0}, {\"count\": 87, \"cutoff\": 10, \"regionidzip\": \"96351.0\", \"precision\": 0.0, \"recall\": 0.0}, {\"count\": 87, \"cutoff\": 11, \"regionidzip\": \"96351.0\", \"precision\": 0.0, \"recall\": 0.0}, {\"count\": 87, \"cutoff\": 16, \"regionidzip\": \"96351.0\", \"precision\": 0.0, \"recall\": 0.0}, {\"count\": 87, \"cutoff\": 21, \"regionidzip\": \"96351.0\", \"precision\": 0.0, \"recall\": 0.0}, {\"count\": 87, \"cutoff\": 26, \"regionidzip\": \"96351.0\", \"precision\": 0.0, \"recall\": 0.0}, {\"count\": 87, \"cutoff\": 31, \"regionidzip\": \"96351.0\", \"precision\": 0.0, \"recall\": 0.0}, {\"count\": 87, \"cutoff\": 36, \"regionidzip\": \"96351.0\", \"precision\": 0.0, \"recall\": 0.0}, {\"count\": 87, \"cutoff\": 41, \"regionidzip\": \"96351.0\", \"precision\": 0.0, \"recall\": 0.0}, {\"count\": 87, \"cutoff\": 46, \"regionidzip\": \"96351.0\", \"precision\": 0.0, \"recall\": 0.0}, {\"count\": 125, \"cutoff\": 1, \"regionidzip\": \"96368.0\", \"precision\": 0.0, \"recall\": 0.0}, {\"count\": 125, \"cutoff\": 2, \"regionidzip\": \"96368.0\", \"precision\": 0.0, \"recall\": 0.0}, {\"count\": 125, \"cutoff\": 3, \"regionidzip\": \"96368.0\", \"precision\": 0.0, \"recall\": 0.0}, {\"count\": 125, \"cutoff\": 4, \"regionidzip\": \"96368.0\", \"precision\": 0.0, \"recall\": 0.0}, {\"count\": 125, \"cutoff\": 5, \"regionidzip\": \"96368.0\", \"precision\": 0.0, \"recall\": 0.0}, {\"count\": 125, \"cutoff\": 6, \"regionidzip\": \"96368.0\", \"precision\": 0.0, \"recall\": 0.0}, {\"count\": 125, \"cutoff\": 7, \"regionidzip\": \"96368.0\", \"precision\": 0.0, \"recall\": 0.0}, {\"count\": 125, \"cutoff\": 8, \"regionidzip\": \"96368.0\", \"precision\": 0.0, \"recall\": 0.0}, {\"count\": 125, \"cutoff\": 9, \"regionidzip\": \"96368.0\", \"precision\": 0.0, \"recall\": 0.0}, {\"count\": 125, \"cutoff\": 10, \"regionidzip\": \"96368.0\", \"precision\": 0.0, \"recall\": 0.0}, {\"count\": 125, \"cutoff\": 11, \"regionidzip\": \"96368.0\", \"precision\": 0.0, \"recall\": 0.0}, {\"count\": 125, \"cutoff\": 16, \"regionidzip\": \"96368.0\", \"precision\": 0.0, \"recall\": 0.0}, {\"count\": 125, \"cutoff\": 21, \"regionidzip\": \"96368.0\", \"precision\": 0.0, \"recall\": 0.0}, {\"count\": 125, \"cutoff\": 26, \"regionidzip\": \"96368.0\", \"precision\": 0.0, \"recall\": 0.0}, {\"count\": 125, \"cutoff\": 31, \"regionidzip\": \"96368.0\", \"precision\": 0.0, \"recall\": 0.0}, {\"count\": 125, \"cutoff\": 36, \"regionidzip\": \"96368.0\", \"precision\": 0.0, \"recall\": 0.0}, {\"count\": 125, \"cutoff\": 41, \"regionidzip\": \"96368.0\", \"precision\": 0.0, \"recall\": 0.0}, {\"count\": 125, \"cutoff\": 46, \"regionidzip\": \"96368.0\", \"precision\": 0.0, \"recall\": 0.0}, {\"count\": 83, \"cutoff\": 1, \"regionidzip\": \"96369.0\", \"precision\": 0.0, \"recall\": 0.0}, {\"count\": 83, \"cutoff\": 2, \"regionidzip\": \"96369.0\", \"precision\": 0.0, \"recall\": 0.0}, {\"count\": 83, \"cutoff\": 3, \"regionidzip\": \"96369.0\", \"precision\": 0.0, \"recall\": 0.0}, {\"count\": 83, \"cutoff\": 4, \"regionidzip\": \"96369.0\", \"precision\": 0.0, \"recall\": 0.0}, {\"count\": 83, \"cutoff\": 5, \"regionidzip\": \"96369.0\", \"precision\": 0.0, \"recall\": 0.0}, {\"count\": 83, \"cutoff\": 6, \"regionidzip\": \"96369.0\", \"precision\": 0.0, \"recall\": 0.0}, {\"count\": 83, \"cutoff\": 7, \"regionidzip\": \"96369.0\", \"precision\": 0.0, \"recall\": 0.0}, {\"count\": 83, \"cutoff\": 8, \"regionidzip\": \"96369.0\", \"precision\": 0.0, \"recall\": 0.0}, {\"count\": 83, \"cutoff\": 9, \"regionidzip\": \"96369.0\", \"precision\": 0.0, \"recall\": 0.0}, {\"count\": 83, \"cutoff\": 10, \"regionidzip\": \"96369.0\", \"precision\": 0.0, \"recall\": 0.0}, {\"count\": 83, \"cutoff\": 11, \"regionidzip\": \"96369.0\", \"precision\": 0.0, \"recall\": 0.0}, {\"count\": 83, \"cutoff\": 16, \"regionidzip\": \"96369.0\", \"precision\": 0.0, \"recall\": 0.0}, {\"count\": 83, \"cutoff\": 21, \"regionidzip\": \"96369.0\", \"precision\": 0.0, \"recall\": 0.0}, {\"count\": 83, \"cutoff\": 26, \"regionidzip\": \"96369.0\", \"precision\": 0.0, \"recall\": 0.0}, {\"count\": 83, \"cutoff\": 31, \"regionidzip\": \"96369.0\", \"precision\": 0.0, \"recall\": 0.0}, {\"count\": 83, \"cutoff\": 36, \"regionidzip\": \"96369.0\", \"precision\": 0.0, \"recall\": 0.0}, {\"count\": 83, \"cutoff\": 41, \"regionidzip\": \"96369.0\", \"precision\": 0.0, \"recall\": 0.0}, {\"count\": 83, \"cutoff\": 46, \"regionidzip\": \"96369.0\", \"precision\": 0.0, \"recall\": 0.0}, {\"count\": 98, \"cutoff\": 1, \"regionidzip\": \"96385.0\", \"precision\": 0.0, \"recall\": 0.0}, {\"count\": 98, \"cutoff\": 2, \"regionidzip\": \"96385.0\", \"precision\": 0.0, \"recall\": 0.0}, {\"count\": 98, \"cutoff\": 3, \"regionidzip\": \"96385.0\", \"precision\": 0.0, \"recall\": 0.0}, {\"count\": 98, \"cutoff\": 4, \"regionidzip\": \"96385.0\", \"precision\": 0.0, \"recall\": 0.0}, {\"count\": 98, \"cutoff\": 5, \"regionidzip\": \"96385.0\", \"precision\": 0.0, \"recall\": 0.0}, {\"count\": 98, \"cutoff\": 6, \"regionidzip\": \"96385.0\", \"precision\": 0.0, \"recall\": 0.0}, {\"count\": 98, \"cutoff\": 7, \"regionidzip\": \"96385.0\", \"precision\": 0.0, \"recall\": 0.0}, {\"count\": 98, \"cutoff\": 8, \"regionidzip\": \"96385.0\", \"precision\": 0.0, \"recall\": 0.0}, {\"count\": 98, \"cutoff\": 9, \"regionidzip\": \"96385.0\", \"precision\": 0.0, \"recall\": 0.0}, {\"count\": 98, \"cutoff\": 10, \"regionidzip\": \"96385.0\", \"precision\": 0.0, \"recall\": 0.0}, {\"count\": 98, \"cutoff\": 11, \"regionidzip\": \"96385.0\", \"precision\": 0.0, \"recall\": 0.0}, {\"count\": 98, \"cutoff\": 16, \"regionidzip\": \"96385.0\", \"precision\": 0.0, \"recall\": 0.0}, {\"count\": 98, \"cutoff\": 21, \"regionidzip\": \"96385.0\", \"precision\": 0.0, \"recall\": 0.0}, {\"count\": 98, \"cutoff\": 26, \"regionidzip\": \"96385.0\", \"precision\": 0.0, \"recall\": 0.0}, {\"count\": 98, \"cutoff\": 31, \"regionidzip\": \"96385.0\", \"precision\": 0.0, \"recall\": 0.0}, {\"count\": 98, \"cutoff\": 36, \"regionidzip\": \"96385.0\", \"precision\": 0.0, \"recall\": 0.0}, {\"count\": 98, \"cutoff\": 41, \"regionidzip\": \"96385.0\", \"precision\": 0.0, \"recall\": 0.0}, {\"count\": 98, \"cutoff\": 46, \"regionidzip\": \"96385.0\", \"precision\": 0.0, \"recall\": 0.0}, {\"count\": 83, \"cutoff\": 1, \"regionidzip\": \"96401.0\", \"precision\": 0.0, \"recall\": 0.0}, {\"count\": 83, \"cutoff\": 2, \"regionidzip\": \"96401.0\", \"precision\": 0.0, \"recall\": 0.0}, {\"count\": 83, \"cutoff\": 3, \"regionidzip\": \"96401.0\", \"precision\": 0.0, \"recall\": 0.0}, {\"count\": 83, \"cutoff\": 4, \"regionidzip\": \"96401.0\", \"precision\": 0.0, \"recall\": 0.0}, {\"count\": 83, \"cutoff\": 5, \"regionidzip\": \"96401.0\", \"precision\": 0.0, \"recall\": 0.0}, {\"count\": 83, \"cutoff\": 6, \"regionidzip\": \"96401.0\", \"precision\": 0.0, \"recall\": 0.0}, {\"count\": 83, \"cutoff\": 7, \"regionidzip\": \"96401.0\", \"precision\": 0.0, \"recall\": 0.0}, {\"count\": 83, \"cutoff\": 8, \"regionidzip\": \"96401.0\", \"precision\": 0.0, \"recall\": 0.0}, {\"count\": 83, \"cutoff\": 9, \"regionidzip\": \"96401.0\", \"precision\": 0.0, \"recall\": 0.0}, {\"count\": 83, \"cutoff\": 10, \"regionidzip\": \"96401.0\", \"precision\": 0.0, \"recall\": 0.0}, {\"count\": 83, \"cutoff\": 11, \"regionidzip\": \"96401.0\", \"precision\": 0.0, \"recall\": 0.0}, {\"count\": 83, \"cutoff\": 16, \"regionidzip\": \"96401.0\", \"precision\": 0.0, \"recall\": 0.0}, {\"count\": 83, \"cutoff\": 21, \"regionidzip\": \"96401.0\", \"precision\": 0.0, \"recall\": 0.0}, {\"count\": 83, \"cutoff\": 26, \"regionidzip\": \"96401.0\", \"precision\": 0.0, \"recall\": 0.0}, {\"count\": 83, \"cutoff\": 31, \"regionidzip\": \"96401.0\", \"precision\": 0.0, \"recall\": 0.0}, {\"count\": 83, \"cutoff\": 36, \"regionidzip\": \"96401.0\", \"precision\": 0.0, \"recall\": 0.0}, {\"count\": 83, \"cutoff\": 41, \"regionidzip\": \"96401.0\", \"precision\": 0.0, \"recall\": 0.0}, {\"count\": 83, \"cutoff\": 46, \"regionidzip\": \"96401.0\", \"precision\": 0.0, \"recall\": 0.0}, {\"count\": 36, \"cutoff\": 1, \"regionidzip\": \"96479.0\", \"precision\": 0.0, \"recall\": 0.0}, {\"count\": 36, \"cutoff\": 2, \"regionidzip\": \"96479.0\", \"precision\": 0.0, \"recall\": 0.0}, {\"count\": 36, \"cutoff\": 3, \"regionidzip\": \"96479.0\", \"precision\": 0.0, \"recall\": 0.0}, {\"count\": 36, \"cutoff\": 4, \"regionidzip\": \"96479.0\", \"precision\": 0.0, \"recall\": 0.0}, {\"count\": 36, \"cutoff\": 5, \"regionidzip\": \"96479.0\", \"precision\": 0.0, \"recall\": 0.0}, {\"count\": 36, \"cutoff\": 6, \"regionidzip\": \"96479.0\", \"precision\": 0.0, \"recall\": 0.0}, {\"count\": 36, \"cutoff\": 7, \"regionidzip\": \"96479.0\", \"precision\": 0.0, \"recall\": 0.0}, {\"count\": 36, \"cutoff\": 8, \"regionidzip\": \"96479.0\", \"precision\": 0.0, \"recall\": 0.0}, {\"count\": 36, \"cutoff\": 9, \"regionidzip\": \"96479.0\", \"precision\": 0.0, \"recall\": 0.0}, {\"count\": 36, \"cutoff\": 10, \"regionidzip\": \"96479.0\", \"precision\": 0.0, \"recall\": 0.0}, {\"count\": 36, \"cutoff\": 11, \"regionidzip\": \"96479.0\", \"precision\": 0.0, \"recall\": 0.0}, {\"count\": 36, \"cutoff\": 16, \"regionidzip\": \"96479.0\", \"precision\": 0.0, \"recall\": 0.0}, {\"count\": 36, \"cutoff\": 21, \"regionidzip\": \"96479.0\", \"precision\": 0.0, \"recall\": 0.0}, {\"count\": 36, \"cutoff\": 26, \"regionidzip\": \"96479.0\", \"precision\": 0.0, \"recall\": 0.0}, {\"count\": 36, \"cutoff\": 31, \"regionidzip\": \"96479.0\", \"precision\": 0.0, \"recall\": 0.0}, {\"count\": 36, \"cutoff\": 36, \"regionidzip\": \"96479.0\", \"precision\": 0.0, \"recall\": 0.0}, {\"count\": 36, \"cutoff\": 41, \"regionidzip\": \"96479.0\", \"precision\": 0.0, \"recall\": 0.0}, {\"count\": 36, \"cutoff\": 46, \"regionidzip\": \"96479.0\", \"precision\": 0.0, \"recall\": 0.0}, {\"count\": 52, \"cutoff\": 1, \"regionidzip\": \"96513.0\", \"precision\": 0.0, \"recall\": 0.0}, {\"count\": 52, \"cutoff\": 2, \"regionidzip\": \"96513.0\", \"precision\": 0.0, \"recall\": 0.0}, {\"count\": 52, \"cutoff\": 3, \"regionidzip\": \"96513.0\", \"precision\": 0.0, \"recall\": 0.0}, {\"count\": 52, \"cutoff\": 4, \"regionidzip\": \"96513.0\", \"precision\": 0.0, \"recall\": 0.0}, {\"count\": 52, \"cutoff\": 5, \"regionidzip\": \"96513.0\", \"precision\": 0.0, \"recall\": 0.0}, {\"count\": 52, \"cutoff\": 6, \"regionidzip\": \"96513.0\", \"precision\": 0.0, \"recall\": 0.0}, {\"count\": 52, \"cutoff\": 7, \"regionidzip\": \"96513.0\", \"precision\": 0.0, \"recall\": 0.0}, {\"count\": 52, \"cutoff\": 8, \"regionidzip\": \"96513.0\", \"precision\": 0.0, \"recall\": 0.0}, {\"count\": 52, \"cutoff\": 9, \"regionidzip\": \"96513.0\", \"precision\": 0.0, \"recall\": 0.0}, {\"count\": 52, \"cutoff\": 10, \"regionidzip\": \"96513.0\", \"precision\": 0.0, \"recall\": 0.0}, {\"count\": 52, \"cutoff\": 11, \"regionidzip\": \"96513.0\", \"precision\": 0.0, \"recall\": 0.0}, {\"count\": 52, \"cutoff\": 16, \"regionidzip\": \"96513.0\", \"precision\": 0.0, \"recall\": 0.0}, {\"count\": 52, \"cutoff\": 21, \"regionidzip\": \"96513.0\", \"precision\": 0.0, \"recall\": 0.0}, {\"count\": 52, \"cutoff\": 26, \"regionidzip\": \"96513.0\", \"precision\": 0.0, \"recall\": 0.0}, {\"count\": 52, \"cutoff\": 31, \"regionidzip\": \"96513.0\", \"precision\": 0.0, \"recall\": 0.0}, {\"count\": 52, \"cutoff\": 36, \"regionidzip\": \"96513.0\", \"precision\": 0.0, \"recall\": 0.0}, {\"count\": 52, \"cutoff\": 41, \"regionidzip\": \"96513.0\", \"precision\": 0.0, \"recall\": 0.0}, {\"count\": 52, \"cutoff\": 46, \"regionidzip\": \"96513.0\", \"precision\": 0.0, \"recall\": 0.0}, {\"count\": 52, \"cutoff\": 1, \"regionidzip\": \"96522.0\", \"precision\": 0.0, \"recall\": 0.0}, {\"count\": 52, \"cutoff\": 2, \"regionidzip\": \"96522.0\", \"precision\": 0.0, \"recall\": 0.0}, {\"count\": 52, \"cutoff\": 3, \"regionidzip\": \"96522.0\", \"precision\": 0.0, \"recall\": 0.0}, {\"count\": 52, \"cutoff\": 4, \"regionidzip\": \"96522.0\", \"precision\": 0.0, \"recall\": 0.0}, {\"count\": 52, \"cutoff\": 5, \"regionidzip\": \"96522.0\", \"precision\": 0.0, \"recall\": 0.0}, {\"count\": 52, \"cutoff\": 6, \"regionidzip\": \"96522.0\", \"precision\": 0.0, \"recall\": 0.0}, {\"count\": 52, \"cutoff\": 7, \"regionidzip\": \"96522.0\", \"precision\": 0.0, \"recall\": 0.0}, {\"count\": 52, \"cutoff\": 8, \"regionidzip\": \"96522.0\", \"precision\": 0.0, \"recall\": 0.0}, {\"count\": 52, \"cutoff\": 9, \"regionidzip\": \"96522.0\", \"precision\": 0.0, \"recall\": 0.0}, {\"count\": 52, \"cutoff\": 10, \"regionidzip\": \"96522.0\", \"precision\": 0.0, \"recall\": 0.0}, {\"count\": 52, \"cutoff\": 11, \"regionidzip\": \"96522.0\", \"precision\": 0.0, \"recall\": 0.0}, {\"count\": 52, \"cutoff\": 16, \"regionidzip\": \"96522.0\", \"precision\": 0.0, \"recall\": 0.0}, {\"count\": 52, \"cutoff\": 21, \"regionidzip\": \"96522.0\", \"precision\": 0.0, \"recall\": 0.0}, {\"count\": 52, \"cutoff\": 26, \"regionidzip\": \"96522.0\", \"precision\": 0.0, \"recall\": 0.0}, {\"count\": 52, \"cutoff\": 31, \"regionidzip\": \"96522.0\", \"precision\": 0.0, \"recall\": 0.0}, {\"count\": 52, \"cutoff\": 36, \"regionidzip\": \"96522.0\", \"precision\": 0.0, \"recall\": 0.0}, {\"count\": 52, \"cutoff\": 41, \"regionidzip\": \"96522.0\", \"precision\": 0.0, \"recall\": 0.0}, {\"count\": 52, \"cutoff\": 46, \"regionidzip\": \"96522.0\", \"precision\": 0.0, \"recall\": 0.0}, {\"count\": 7, \"cutoff\": 1, \"regionidzip\": \"96956.0\", \"precision\": 0.0, \"recall\": 0.0}, {\"count\": 7, \"cutoff\": 2, \"regionidzip\": \"96956.0\", \"precision\": 0.0, \"recall\": 0.0}, {\"count\": 7, \"cutoff\": 3, \"regionidzip\": \"96956.0\", \"precision\": 0.0, \"recall\": 0.0}, {\"count\": 7, \"cutoff\": 4, \"regionidzip\": \"96956.0\", \"precision\": 0.0, \"recall\": 0.0}, {\"count\": 7, \"cutoff\": 5, \"regionidzip\": \"96956.0\", \"precision\": 0.0, \"recall\": 0.0}, {\"count\": 7, \"cutoff\": 6, \"regionidzip\": \"96956.0\", \"precision\": 0.0, \"recall\": 0.0}, {\"count\": 7, \"cutoff\": 7, \"regionidzip\": \"96956.0\", \"precision\": 0.0, \"recall\": 0.0}, {\"count\": 7, \"cutoff\": 8, \"regionidzip\": \"96956.0\", \"precision\": 0.0, \"recall\": 0.0}, {\"count\": 7, \"cutoff\": 9, \"regionidzip\": \"96956.0\", \"precision\": 0.0, \"recall\": 0.0}, {\"count\": 7, \"cutoff\": 10, \"regionidzip\": \"96956.0\", \"precision\": 0.0, \"recall\": 0.0}, {\"count\": 7, \"cutoff\": 11, \"regionidzip\": \"96956.0\", \"precision\": 0.0, \"recall\": 0.0}, {\"count\": 7, \"cutoff\": 16, \"regionidzip\": \"96956.0\", \"precision\": 0.0, \"recall\": 0.0}, {\"count\": 7, \"cutoff\": 21, \"regionidzip\": \"96956.0\", \"precision\": 0.0, \"recall\": 0.0}, {\"count\": 7, \"cutoff\": 26, \"regionidzip\": \"96956.0\", \"precision\": 0.0, \"recall\": 0.0}, {\"count\": 7, \"cutoff\": 31, \"regionidzip\": \"96956.0\", \"precision\": 0.0, \"recall\": 0.0}, {\"count\": 7, \"cutoff\": 36, \"regionidzip\": \"96956.0\", \"precision\": 0.0, \"recall\": 0.0}, {\"count\": 7, \"cutoff\": 41, \"regionidzip\": \"96956.0\", \"precision\": 0.0, \"recall\": 0.0}, {\"count\": 7, \"cutoff\": 46, \"regionidzip\": \"96956.0\", \"precision\": 0.0, \"recall\": 0.0}, {\"count\": 72, \"cutoff\": 1, \"regionidzip\": \"96959.0\", \"precision\": 0.0, \"recall\": 0.0}, {\"count\": 72, \"cutoff\": 2, \"regionidzip\": \"96959.0\", \"precision\": 0.0, \"recall\": 0.0}, {\"count\": 72, \"cutoff\": 3, \"regionidzip\": \"96959.0\", \"precision\": 0.0, \"recall\": 0.0}, {\"count\": 72, \"cutoff\": 4, \"regionidzip\": \"96959.0\", \"precision\": 0.0, \"recall\": 0.0}, {\"count\": 72, \"cutoff\": 5, \"regionidzip\": \"96959.0\", \"precision\": 0.0, \"recall\": 0.0}, {\"count\": 72, \"cutoff\": 6, \"regionidzip\": \"96959.0\", \"precision\": 0.0, \"recall\": 0.0}, {\"count\": 72, \"cutoff\": 7, \"regionidzip\": \"96959.0\", \"precision\": 0.0, \"recall\": 0.0}, {\"count\": 72, \"cutoff\": 8, \"regionidzip\": \"96959.0\", \"precision\": 0.0, \"recall\": 0.0}, {\"count\": 72, \"cutoff\": 9, \"regionidzip\": \"96959.0\", \"precision\": 0.0, \"recall\": 0.0}, {\"count\": 72, \"cutoff\": 10, \"regionidzip\": \"96959.0\", \"precision\": 0.0, \"recall\": 0.0}, {\"count\": 72, \"cutoff\": 11, \"regionidzip\": \"96959.0\", \"precision\": 0.0, \"recall\": 0.0}, {\"count\": 72, \"cutoff\": 16, \"regionidzip\": \"96959.0\", \"precision\": 0.0, \"recall\": 0.0}, {\"count\": 72, \"cutoff\": 21, \"regionidzip\": \"96959.0\", \"precision\": 0.0, \"recall\": 0.0}, {\"count\": 72, \"cutoff\": 26, \"regionidzip\": \"96959.0\", \"precision\": 0.0, \"recall\": 0.0}, {\"count\": 72, \"cutoff\": 31, \"regionidzip\": \"96959.0\", \"precision\": 0.0, \"recall\": 0.0}, {\"count\": 72, \"cutoff\": 36, \"regionidzip\": \"96959.0\", \"precision\": 0.0, \"recall\": 0.0}, {\"count\": 72, \"cutoff\": 41, \"regionidzip\": \"96959.0\", \"precision\": 0.0, \"recall\": 0.0}, {\"count\": 72, \"cutoff\": 46, \"regionidzip\": \"96959.0\", \"precision\": 0.0, \"recall\": 0.0}, {\"count\": 28, \"cutoff\": 1, \"regionidzip\": \"97001.0\", \"precision\": 1.0, \"recall\": 0.03571428571428571}, {\"count\": 28, \"cutoff\": 2, \"regionidzip\": \"97001.0\", \"precision\": 0.5, \"recall\": 0.03571428571428571}, {\"count\": 28, \"cutoff\": 3, \"regionidzip\": \"97001.0\", \"precision\": 0.3333333333333333, \"recall\": 0.03571428571428571}, {\"count\": 28, \"cutoff\": 4, \"regionidzip\": \"97001.0\", \"precision\": 0.25, \"recall\": 0.03571428571428571}, {\"count\": 28, \"cutoff\": 5, \"regionidzip\": \"97001.0\", \"precision\": 0.2, \"recall\": 0.03571428571428571}, {\"count\": 28, \"cutoff\": 6, \"regionidzip\": \"97001.0\", \"precision\": 0.16666666666666666, \"recall\": 0.03571428571428571}, {\"count\": 28, \"cutoff\": 7, \"regionidzip\": \"97001.0\", \"precision\": 0.14285714285714285, \"recall\": 0.03571428571428571}, {\"count\": 28, \"cutoff\": 8, \"regionidzip\": \"97001.0\", \"precision\": 0.125, \"recall\": 0.03571428571428571}, {\"count\": 28, \"cutoff\": 9, \"regionidzip\": \"97001.0\", \"precision\": 0.1111111111111111, \"recall\": 0.03571428571428571}, {\"count\": 28, \"cutoff\": 10, \"regionidzip\": \"97001.0\", \"precision\": 0.1, \"recall\": 0.03571428571428571}, {\"count\": 28, \"cutoff\": 11, \"regionidzip\": \"97001.0\", \"precision\": 0.1, \"recall\": 0.03571428571428571}, {\"count\": 28, \"cutoff\": 16, \"regionidzip\": \"97001.0\", \"precision\": 0.1, \"recall\": 0.03571428571428571}, {\"count\": 28, \"cutoff\": 21, \"regionidzip\": \"97001.0\", \"precision\": 0.1, \"recall\": 0.03571428571428571}, {\"count\": 28, \"cutoff\": 26, \"regionidzip\": \"97001.0\", \"precision\": 0.1, \"recall\": 0.03571428571428571}, {\"count\": 28, \"cutoff\": 31, \"regionidzip\": \"97001.0\", \"precision\": 0.1, \"recall\": 0.03571428571428571}, {\"count\": 28, \"cutoff\": 36, \"regionidzip\": \"97001.0\", \"precision\": 0.1, \"recall\": 0.03571428571428571}, {\"count\": 28, \"cutoff\": 41, \"regionidzip\": \"97001.0\", \"precision\": 0.1, \"recall\": 0.03571428571428571}, {\"count\": 28, \"cutoff\": 46, \"regionidzip\": \"97001.0\", \"precision\": 0.1, \"recall\": 0.03571428571428571}, {\"count\": 51, \"cutoff\": 1, \"regionidzip\": \"97027.0\", \"precision\": 0.0, \"recall\": 0.0}, {\"count\": 51, \"cutoff\": 2, \"regionidzip\": \"97027.0\", \"precision\": 0.0, \"recall\": 0.0}, {\"count\": 51, \"cutoff\": 3, \"regionidzip\": \"97027.0\", \"precision\": 0.0, \"recall\": 0.0}, {\"count\": 51, \"cutoff\": 4, \"regionidzip\": \"97027.0\", \"precision\": 0.0, \"recall\": 0.0}, {\"count\": 51, \"cutoff\": 5, \"regionidzip\": \"97027.0\", \"precision\": 0.0, \"recall\": 0.0}, {\"count\": 51, \"cutoff\": 6, \"regionidzip\": \"97027.0\", \"precision\": 0.0, \"recall\": 0.0}, {\"count\": 51, \"cutoff\": 7, \"regionidzip\": \"97027.0\", \"precision\": 0.0, \"recall\": 0.0}, {\"count\": 51, \"cutoff\": 8, \"regionidzip\": \"97027.0\", \"precision\": 0.0, \"recall\": 0.0}, {\"count\": 51, \"cutoff\": 9, \"regionidzip\": \"97027.0\", \"precision\": 0.0, \"recall\": 0.0}, {\"count\": 51, \"cutoff\": 10, \"regionidzip\": \"97027.0\", \"precision\": 0.0, \"recall\": 0.0}, {\"count\": 51, \"cutoff\": 11, \"regionidzip\": \"97027.0\", \"precision\": 0.0, \"recall\": 0.0}, {\"count\": 51, \"cutoff\": 16, \"regionidzip\": \"97027.0\", \"precision\": 0.0, \"recall\": 0.0}, {\"count\": 51, \"cutoff\": 21, \"regionidzip\": \"97027.0\", \"precision\": 0.0, \"recall\": 0.0}, {\"count\": 51, \"cutoff\": 26, \"regionidzip\": \"97027.0\", \"precision\": 0.0, \"recall\": 0.0}, {\"count\": 51, \"cutoff\": 31, \"regionidzip\": \"97027.0\", \"precision\": 0.0, \"recall\": 0.0}, {\"count\": 51, \"cutoff\": 36, \"regionidzip\": \"97027.0\", \"precision\": 0.0, \"recall\": 0.0}, {\"count\": 51, \"cutoff\": 41, \"regionidzip\": \"97027.0\", \"precision\": 0.0, \"recall\": 0.0}, {\"count\": 51, \"cutoff\": 46, \"regionidzip\": \"97027.0\", \"precision\": 0.0, \"recall\": 0.0}, {\"count\": 51, \"cutoff\": 1, \"regionidzip\": \"97047.0\", \"precision\": 0.0, \"recall\": 0.0}, {\"count\": 51, \"cutoff\": 2, \"regionidzip\": \"97047.0\", \"precision\": 0.0, \"recall\": 0.0}, {\"count\": 51, \"cutoff\": 3, \"regionidzip\": \"97047.0\", \"precision\": 0.0, \"recall\": 0.0}, {\"count\": 51, \"cutoff\": 4, \"regionidzip\": \"97047.0\", \"precision\": 0.0, \"recall\": 0.0}, {\"count\": 51, \"cutoff\": 5, \"regionidzip\": \"97047.0\", \"precision\": 0.0, \"recall\": 0.0}, {\"count\": 51, \"cutoff\": 6, \"regionidzip\": \"97047.0\", \"precision\": 0.0, \"recall\": 0.0}, {\"count\": 51, \"cutoff\": 7, \"regionidzip\": \"97047.0\", \"precision\": 0.0, \"recall\": 0.0}, {\"count\": 51, \"cutoff\": 8, \"regionidzip\": \"97047.0\", \"precision\": 0.0, \"recall\": 0.0}, {\"count\": 51, \"cutoff\": 9, \"regionidzip\": \"97047.0\", \"precision\": 0.0, \"recall\": 0.0}, {\"count\": 51, \"cutoff\": 10, \"regionidzip\": \"97047.0\", \"precision\": 0.0, \"recall\": 0.0}, {\"count\": 51, \"cutoff\": 11, \"regionidzip\": \"97047.0\", \"precision\": 0.0, \"recall\": 0.0}, {\"count\": 51, \"cutoff\": 16, \"regionidzip\": \"97047.0\", \"precision\": 0.0, \"recall\": 0.0}, {\"count\": 51, \"cutoff\": 21, \"regionidzip\": \"97047.0\", \"precision\": 0.0, \"recall\": 0.0}, {\"count\": 51, \"cutoff\": 26, \"regionidzip\": \"97047.0\", \"precision\": 0.0, \"recall\": 0.0}, {\"count\": 51, \"cutoff\": 31, \"regionidzip\": \"97047.0\", \"precision\": 0.0, \"recall\": 0.0}, {\"count\": 51, \"cutoff\": 36, \"regionidzip\": \"97047.0\", \"precision\": 0.0, \"recall\": 0.0}, {\"count\": 51, \"cutoff\": 41, \"regionidzip\": \"97047.0\", \"precision\": 0.0, \"recall\": 0.0}, {\"count\": 51, \"cutoff\": 46, \"regionidzip\": \"97047.0\", \"precision\": 0.0, \"recall\": 0.0}, {\"count\": 65, \"cutoff\": 1, \"regionidzip\": \"97067.0\", \"precision\": 0.0, \"recall\": 0.0}, {\"count\": 65, \"cutoff\": 2, \"regionidzip\": \"97067.0\", \"precision\": 0.0, \"recall\": 0.0}, {\"count\": 65, \"cutoff\": 3, \"regionidzip\": \"97067.0\", \"precision\": 0.0, \"recall\": 0.0}, {\"count\": 65, \"cutoff\": 4, \"regionidzip\": \"97067.0\", \"precision\": 0.0, \"recall\": 0.0}, {\"count\": 65, \"cutoff\": 5, \"regionidzip\": \"97067.0\", \"precision\": 0.0, \"recall\": 0.0}, {\"count\": 65, \"cutoff\": 6, \"regionidzip\": \"97067.0\", \"precision\": 0.0, \"recall\": 0.0}, {\"count\": 65, \"cutoff\": 7, \"regionidzip\": \"97067.0\", \"precision\": 0.0, \"recall\": 0.0}, {\"count\": 65, \"cutoff\": 8, \"regionidzip\": \"97067.0\", \"precision\": 0.0, \"recall\": 0.0}, {\"count\": 65, \"cutoff\": 9, \"regionidzip\": \"97067.0\", \"precision\": 0.0, \"recall\": 0.0}, {\"count\": 65, \"cutoff\": 10, \"regionidzip\": \"97067.0\", \"precision\": 0.0, \"recall\": 0.0}, {\"count\": 65, \"cutoff\": 11, \"regionidzip\": \"97067.0\", \"precision\": 0.0, \"recall\": 0.0}, {\"count\": 65, \"cutoff\": 16, \"regionidzip\": \"97067.0\", \"precision\": 0.0, \"recall\": 0.0}, {\"count\": 65, \"cutoff\": 21, \"regionidzip\": \"97067.0\", \"precision\": 0.0, \"recall\": 0.0}, {\"count\": 65, \"cutoff\": 26, \"regionidzip\": \"97067.0\", \"precision\": 0.0, \"recall\": 0.0}, {\"count\": 65, \"cutoff\": 31, \"regionidzip\": \"97067.0\", \"precision\": 0.0, \"recall\": 0.0}, {\"count\": 65, \"cutoff\": 36, \"regionidzip\": \"97067.0\", \"precision\": 0.0, \"recall\": 0.0}, {\"count\": 65, \"cutoff\": 41, \"regionidzip\": \"97067.0\", \"precision\": 0.0, \"recall\": 0.0}, {\"count\": 65, \"cutoff\": 46, \"regionidzip\": \"97067.0\", \"precision\": 0.0, \"recall\": 0.0}, {\"count\": 51, \"cutoff\": 1, \"regionidzip\": \"97081.0\", \"precision\": 0.0, \"recall\": 0.0}, {\"count\": 51, \"cutoff\": 2, \"regionidzip\": \"97081.0\", \"precision\": 0.0, \"recall\": 0.0}, {\"count\": 51, \"cutoff\": 3, \"regionidzip\": \"97081.0\", \"precision\": 0.0, \"recall\": 0.0}, {\"count\": 51, \"cutoff\": 4, \"regionidzip\": \"97081.0\", \"precision\": 0.25, \"recall\": 0.0196078431372549}, {\"count\": 51, \"cutoff\": 5, \"regionidzip\": \"97081.0\", \"precision\": 0.2, \"recall\": 0.0196078431372549}, {\"count\": 51, \"cutoff\": 6, \"regionidzip\": \"97081.0\", \"precision\": 0.16666666666666666, \"recall\": 0.0196078431372549}, {\"count\": 51, \"cutoff\": 7, \"regionidzip\": \"97081.0\", \"precision\": 0.14285714285714285, \"recall\": 0.0196078431372549}, {\"count\": 51, \"cutoff\": 8, \"regionidzip\": \"97081.0\", \"precision\": 0.14285714285714285, \"recall\": 0.0196078431372549}, {\"count\": 51, \"cutoff\": 9, \"regionidzip\": \"97081.0\", \"precision\": 0.14285714285714285, \"recall\": 0.0196078431372549}, {\"count\": 51, \"cutoff\": 10, \"regionidzip\": \"97081.0\", \"precision\": 0.14285714285714285, \"recall\": 0.0196078431372549}, {\"count\": 51, \"cutoff\": 11, \"regionidzip\": \"97081.0\", \"precision\": 0.14285714285714285, \"recall\": 0.0196078431372549}, {\"count\": 51, \"cutoff\": 16, \"regionidzip\": \"97081.0\", \"precision\": 0.14285714285714285, \"recall\": 0.0196078431372549}, {\"count\": 51, \"cutoff\": 21, \"regionidzip\": \"97081.0\", \"precision\": 0.14285714285714285, \"recall\": 0.0196078431372549}, {\"count\": 51, \"cutoff\": 26, \"regionidzip\": \"97081.0\", \"precision\": 0.14285714285714285, \"recall\": 0.0196078431372549}, {\"count\": 51, \"cutoff\": 31, \"regionidzip\": \"97081.0\", \"precision\": 0.14285714285714285, \"recall\": 0.0196078431372549}, {\"count\": 51, \"cutoff\": 36, \"regionidzip\": \"97081.0\", \"precision\": 0.14285714285714285, \"recall\": 0.0196078431372549}, {\"count\": 51, \"cutoff\": 41, \"regionidzip\": \"97081.0\", \"precision\": 0.14285714285714285, \"recall\": 0.0196078431372549}, {\"count\": 51, \"cutoff\": 46, \"regionidzip\": \"97081.0\", \"precision\": 0.14285714285714285, \"recall\": 0.0196078431372549}, {\"count\": 80, \"cutoff\": 1, \"regionidzip\": \"97083.0\", \"precision\": 0.0, \"recall\": 0.0}, {\"count\": 80, \"cutoff\": 2, \"regionidzip\": \"97083.0\", \"precision\": 0.0, \"recall\": 0.0}, {\"count\": 80, \"cutoff\": 3, \"regionidzip\": \"97083.0\", \"precision\": 0.0, \"recall\": 0.0}, {\"count\": 80, \"cutoff\": 4, \"regionidzip\": \"97083.0\", \"precision\": 0.0, \"recall\": 0.0}, {\"count\": 80, \"cutoff\": 5, \"regionidzip\": \"97083.0\", \"precision\": 0.2, \"recall\": 0.0125}, {\"count\": 80, \"cutoff\": 6, \"regionidzip\": \"97083.0\", \"precision\": 0.16666666666666666, \"recall\": 0.0125}, {\"count\": 80, \"cutoff\": 7, \"regionidzip\": \"97083.0\", \"precision\": 0.14285714285714285, \"recall\": 0.0125}, {\"count\": 80, \"cutoff\": 8, \"regionidzip\": \"97083.0\", \"precision\": 0.125, \"recall\": 0.0125}, {\"count\": 80, \"cutoff\": 9, \"regionidzip\": \"97083.0\", \"precision\": 0.125, \"recall\": 0.0125}, {\"count\": 80, \"cutoff\": 10, \"regionidzip\": \"97083.0\", \"precision\": 0.125, \"recall\": 0.0125}, {\"count\": 80, \"cutoff\": 11, \"regionidzip\": \"97083.0\", \"precision\": 0.125, \"recall\": 0.0125}, {\"count\": 80, \"cutoff\": 16, \"regionidzip\": \"97083.0\", \"precision\": 0.125, \"recall\": 0.0125}, {\"count\": 80, \"cutoff\": 21, \"regionidzip\": \"97083.0\", \"precision\": 0.125, \"recall\": 0.0125}, {\"count\": 80, \"cutoff\": 26, \"regionidzip\": \"97083.0\", \"precision\": 0.125, \"recall\": 0.0125}, {\"count\": 80, \"cutoff\": 31, \"regionidzip\": \"97083.0\", \"precision\": 0.125, \"recall\": 0.0125}, {\"count\": 80, \"cutoff\": 36, \"regionidzip\": \"97083.0\", \"precision\": 0.125, \"recall\": 0.0125}, {\"count\": 80, \"cutoff\": 41, \"regionidzip\": \"97083.0\", \"precision\": 0.125, \"recall\": 0.0125}, {\"count\": 80, \"cutoff\": 46, \"regionidzip\": \"97083.0\", \"precision\": 0.125, \"recall\": 0.0125}, {\"count\": 78, \"cutoff\": 1, \"regionidzip\": \"97089.0\", \"precision\": 0.0, \"recall\": 0.0}, {\"count\": 78, \"cutoff\": 2, \"regionidzip\": \"97089.0\", \"precision\": 0.0, \"recall\": 0.0}, {\"count\": 78, \"cutoff\": 3, \"regionidzip\": \"97089.0\", \"precision\": 0.0, \"recall\": 0.0}, {\"count\": 78, \"cutoff\": 4, \"regionidzip\": \"97089.0\", \"precision\": 0.0, \"recall\": 0.0}, {\"count\": 78, \"cutoff\": 5, \"regionidzip\": \"97089.0\", \"precision\": 0.0, \"recall\": 0.0}, {\"count\": 78, \"cutoff\": 6, \"regionidzip\": \"97089.0\", \"precision\": 0.0, \"recall\": 0.0}, {\"count\": 78, \"cutoff\": 7, \"regionidzip\": \"97089.0\", \"precision\": 0.0, \"recall\": 0.0}, {\"count\": 78, \"cutoff\": 8, \"regionidzip\": \"97089.0\", \"precision\": 0.0, \"recall\": 0.0}, {\"count\": 78, \"cutoff\": 9, \"regionidzip\": \"97089.0\", \"precision\": 0.0, \"recall\": 0.0}, {\"count\": 78, \"cutoff\": 10, \"regionidzip\": \"97089.0\", \"precision\": 0.0, \"recall\": 0.0}, {\"count\": 78, \"cutoff\": 11, \"regionidzip\": \"97089.0\", \"precision\": 0.0, \"recall\": 0.0}, {\"count\": 78, \"cutoff\": 16, \"regionidzip\": \"97089.0\", \"precision\": 0.0, \"recall\": 0.0}, {\"count\": 78, \"cutoff\": 21, \"regionidzip\": \"97089.0\", \"precision\": 0.0, \"recall\": 0.0}, {\"count\": 78, \"cutoff\": 26, \"regionidzip\": \"97089.0\", \"precision\": 0.0, \"recall\": 0.0}, {\"count\": 78, \"cutoff\": 31, \"regionidzip\": \"97089.0\", \"precision\": 0.0, \"recall\": 0.0}, {\"count\": 78, \"cutoff\": 36, \"regionidzip\": \"97089.0\", \"precision\": 0.0, \"recall\": 0.0}, {\"count\": 78, \"cutoff\": 41, \"regionidzip\": \"97089.0\", \"precision\": 0.0, \"recall\": 0.0}, {\"count\": 78, \"cutoff\": 46, \"regionidzip\": \"97089.0\", \"precision\": 0.0, \"recall\": 0.0}, {\"count\": 45, \"cutoff\": 1, \"regionidzip\": \"97099.0\", \"precision\": 0.0, \"recall\": 0.0}, {\"count\": 45, \"cutoff\": 2, \"regionidzip\": \"97099.0\", \"precision\": 0.0, \"recall\": 0.0}, {\"count\": 45, \"cutoff\": 3, \"regionidzip\": \"97099.0\", \"precision\": 0.0, \"recall\": 0.0}, {\"count\": 45, \"cutoff\": 4, \"regionidzip\": \"97099.0\", \"precision\": 0.0, \"recall\": 0.0}, {\"count\": 45, \"cutoff\": 5, \"regionidzip\": \"97099.0\", \"precision\": 0.0, \"recall\": 0.0}, {\"count\": 45, \"cutoff\": 6, \"regionidzip\": \"97099.0\", \"precision\": 0.0, \"recall\": 0.0}, {\"count\": 45, \"cutoff\": 7, \"regionidzip\": \"97099.0\", \"precision\": 0.0, \"recall\": 0.0}, {\"count\": 45, \"cutoff\": 8, \"regionidzip\": \"97099.0\", \"precision\": 0.0, \"recall\": 0.0}, {\"count\": 45, \"cutoff\": 9, \"regionidzip\": \"97099.0\", \"precision\": 0.0, \"recall\": 0.0}, {\"count\": 45, \"cutoff\": 10, \"regionidzip\": \"97099.0\", \"precision\": 0.0, \"recall\": 0.0}, {\"count\": 45, \"cutoff\": 11, \"regionidzip\": \"97099.0\", \"precision\": 0.0, \"recall\": 0.0}, {\"count\": 45, \"cutoff\": 16, \"regionidzip\": \"97099.0\", \"precision\": 0.0, \"recall\": 0.0}, {\"count\": 45, \"cutoff\": 21, \"regionidzip\": \"97099.0\", \"precision\": 0.0, \"recall\": 0.0}, {\"count\": 45, \"cutoff\": 26, \"regionidzip\": \"97099.0\", \"precision\": 0.0, \"recall\": 0.0}, {\"count\": 45, \"cutoff\": 31, \"regionidzip\": \"97099.0\", \"precision\": 0.0, \"recall\": 0.0}, {\"count\": 45, \"cutoff\": 36, \"regionidzip\": \"97099.0\", \"precision\": 0.0, \"recall\": 0.0}, {\"count\": 45, \"cutoff\": 41, \"regionidzip\": \"97099.0\", \"precision\": 0.0, \"recall\": 0.0}, {\"count\": 45, \"cutoff\": 46, \"regionidzip\": \"97099.0\", \"precision\": 0.0, \"recall\": 0.0}, {\"count\": 88, \"cutoff\": 1, \"regionidzip\": \"97330.0\", \"precision\": 0.0, \"recall\": 0.0}, {\"count\": 88, \"cutoff\": 2, \"regionidzip\": \"97330.0\", \"precision\": 0.0, \"recall\": 0.0}, {\"count\": 88, \"cutoff\": 3, \"regionidzip\": \"97330.0\", \"precision\": 0.0, \"recall\": 0.0}, {\"count\": 88, \"cutoff\": 4, \"regionidzip\": \"97330.0\", \"precision\": 0.0, \"recall\": 0.0}, {\"count\": 88, \"cutoff\": 5, \"regionidzip\": \"97330.0\", \"precision\": 0.0, \"recall\": 0.0}, {\"count\": 88, \"cutoff\": 6, \"regionidzip\": \"97330.0\", \"precision\": 0.0, \"recall\": 0.0}, {\"count\": 88, \"cutoff\": 7, \"regionidzip\": \"97330.0\", \"precision\": 0.0, \"recall\": 0.0}, {\"count\": 88, \"cutoff\": 8, \"regionidzip\": \"97330.0\", \"precision\": 0.0, \"recall\": 0.0}, {\"count\": 88, \"cutoff\": 9, \"regionidzip\": \"97330.0\", \"precision\": 0.0, \"recall\": 0.0}, {\"count\": 88, \"cutoff\": 10, \"regionidzip\": \"97330.0\", \"precision\": 0.0, \"recall\": 0.0}, {\"count\": 88, \"cutoff\": 11, \"regionidzip\": \"97330.0\", \"precision\": 0.0, \"recall\": 0.0}, {\"count\": 88, \"cutoff\": 16, \"regionidzip\": \"97330.0\", \"precision\": 0.0, \"recall\": 0.0}, {\"count\": 88, \"cutoff\": 21, \"regionidzip\": \"97330.0\", \"precision\": 0.0, \"recall\": 0.0}, {\"count\": 88, \"cutoff\": 26, \"regionidzip\": \"97330.0\", \"precision\": 0.0, \"recall\": 0.0}, {\"count\": 88, \"cutoff\": 31, \"regionidzip\": \"97330.0\", \"precision\": 0.0, \"recall\": 0.0}, {\"count\": 88, \"cutoff\": 36, \"regionidzip\": \"97330.0\", \"precision\": 0.0, \"recall\": 0.0}, {\"count\": 88, \"cutoff\": 41, \"regionidzip\": \"97330.0\", \"precision\": 0.0, \"recall\": 0.0}, {\"count\": 88, \"cutoff\": 46, \"regionidzip\": \"97330.0\", \"precision\": 0.0, \"recall\": 0.0}, {\"count\": 19, \"cutoff\": 1, \"regionidzip\": \"97344.0\", \"precision\": 0.0, \"recall\": 0.0}, {\"count\": 19, \"cutoff\": 2, \"regionidzip\": \"97344.0\", \"precision\": 0.0, \"recall\": 0.0}, {\"count\": 19, \"cutoff\": 3, \"regionidzip\": \"97344.0\", \"precision\": 0.0, \"recall\": 0.0}, {\"count\": 19, \"cutoff\": 4, \"regionidzip\": \"97344.0\", \"precision\": 0.0, \"recall\": 0.0}, {\"count\": 19, \"cutoff\": 5, \"regionidzip\": \"97344.0\", \"precision\": 0.0, \"recall\": 0.0}, {\"count\": 19, \"cutoff\": 6, \"regionidzip\": \"97344.0\", \"precision\": 0.0, \"recall\": 0.0}, {\"count\": 19, \"cutoff\": 7, \"regionidzip\": \"97344.0\", \"precision\": 0.0, \"recall\": 0.0}, {\"count\": 19, \"cutoff\": 8, \"regionidzip\": \"97344.0\", \"precision\": 0.0, \"recall\": 0.0}, {\"count\": 19, \"cutoff\": 9, \"regionidzip\": \"97344.0\", \"precision\": 0.0, \"recall\": 0.0}, {\"count\": 19, \"cutoff\": 10, \"regionidzip\": \"97344.0\", \"precision\": 0.0, \"recall\": 0.0}, {\"count\": 19, \"cutoff\": 11, \"regionidzip\": \"97344.0\", \"precision\": 0.0, \"recall\": 0.0}, {\"count\": 19, \"cutoff\": 16, \"regionidzip\": \"97344.0\", \"precision\": 0.0, \"recall\": 0.0}, {\"count\": 19, \"cutoff\": 21, \"regionidzip\": \"97344.0\", \"precision\": 0.0, \"recall\": 0.0}, {\"count\": 19, \"cutoff\": 26, \"regionidzip\": \"97344.0\", \"precision\": 0.0, \"recall\": 0.0}, {\"count\": 19, \"cutoff\": 31, \"regionidzip\": \"97344.0\", \"precision\": 0.0, \"recall\": 0.0}, {\"count\": 19, \"cutoff\": 36, \"regionidzip\": \"97344.0\", \"precision\": 0.0, \"recall\": 0.0}, {\"count\": 19, \"cutoff\": 41, \"regionidzip\": \"97344.0\", \"precision\": 0.0, \"recall\": 0.0}, {\"count\": 19, \"cutoff\": 46, \"regionidzip\": \"97344.0\", \"precision\": 0.0, \"recall\": 0.0}]}]], \"type\": \"Model\"}, \"ipython\": true, \"view_params\": {\"model_type\": \"recommender\", \"view\": \"Comparison\"}, \"model_type\": \"recommender\", \"attributes\": {\"section_titles\": [\"Schema\", \"Statistics\", \"Training summary\", \"Model Parameters\", \"Regularization Settings\", \"Optimization Settings\"], \"sections\": [[[\"User ID\", \"regionidzip\"], [\"Item ID\", \"propertylandusetypeid\"], [\"Target\", \"bedroomcnt\"], [\"Additional observation features\", 0], [\"User side features\", []], [\"Item side features\", []]], [[\"Number of observations\", 88044], [\"Number of users\", 388], [\"Number of items\", 14]], [[\"Training time\", 3.9783]], [[\"Model class\", \"RankingFactorizationRecommender\"], [\"num_factors\", 8], [\"binary_target\", 0], [\"side_data_factorization\", 1], [\"solver\", \"auto\"], [\"nmf\", 0], [\"max_iterations\", 25]], [[\"regularization\", 0.001], [\"regularization_type\", \"normal\"], [\"linear_regularization\", 0.001], [\"ranking_regularization\", 0.5], [\"unobserved_rating_value\", -1.7976931348623157e+308], [\"num_sampled_negative_examples\", 4], [\"ials_confidence_scaling_type\", \"auto\"], [\"ials_confidence_scaling_factor\", 1]], [[\"init_random_sigma\", 0.01], [\"sgd_convergence_interval\", 4], [\"sgd_convergence_threshold\", 0.0], [\"sgd_max_trial_iterations\", 5], [\"sgd_sampling_block_size\", 131072], [\"sgd_step_adjustment_interval\", 4], [\"sgd_step_size\", 0.0], [\"sgd_trial_sample_minimum_size\", 10000], [\"sgd_trial_sample_proportion\", 0.125], [\"step_size_decrease_rate\", 0.75], [\"additional_iterations_if_unhealthy\", 5], [\"adagrad_momentum_weighting\", 0.9], [\"num_tempering_iterations\", 4], [\"tempering_regularization_start_value\", 0.0], [\"track_exact_loss\", 0]]]}, \"evaluations\": [[\"dataset\", {\"precision_recall_overall\": [{\"cutoff\": 1, \"precision\": 0.05128205128205128, \"recall\": 0.001322751322751323}, {\"cutoff\": 2, \"precision\": 0.02564102564102564, \"recall\": 0.001322751322751323}, {\"cutoff\": 3, \"precision\": 0.017094017094017096, \"recall\": 0.0013227513227513227}, {\"cutoff\": 4, \"precision\": 0.019230769230769232, \"recall\": 0.0018255165313988842}, {\"cutoff\": 5, \"precision\": 0.020512820512820516, \"recall\": 0.0021460293519117053}, {\"cutoff\": 6, \"precision\": 0.017094017094017092, \"recall\": 0.0021460293519117053}, {\"cutoff\": 7, \"precision\": 0.014652014652014652, \"recall\": 0.0021460293519117053}, {\"cutoff\": 8, \"precision\": 0.013278388278388283, \"recall\": 0.0021460293519117053}, {\"cutoff\": 9, \"precision\": 0.012566137566137565, \"recall\": 0.0021460293519117053}, {\"cutoff\": 10, \"precision\": 0.011996336996336997, \"recall\": 0.0021460293519117053}, {\"cutoff\": 11, \"precision\": 0.011763236763236767, \"recall\": 0.0021460293519117053}, {\"cutoff\": 16, \"precision\": 0.01156898656898657, \"recall\": 0.0021460293519117053}, {\"cutoff\": 21, \"precision\": 0.01156898656898657, \"recall\": 0.0021460293519117053}, {\"cutoff\": 26, \"precision\": 0.01156898656898657, \"recall\": 0.0021460293519117053}, {\"cutoff\": 31, \"precision\": 0.01156898656898657, \"recall\": 0.0021460293519117053}, {\"cutoff\": 36, \"precision\": 0.01156898656898657, \"recall\": 0.0021460293519117053}, {\"cutoff\": 41, \"precision\": 0.01156898656898657, \"recall\": 0.0021460293519117053}, {\"cutoff\": 46, \"precision\": 0.01156898656898657, \"recall\": 0.0021460293519117053}], \"precision_recall_by_user\": [{\"count\": 20, \"cutoff\": 1, \"regionidzip\": \"95989.0\", \"precision\": 0.0, \"recall\": 0.0}, {\"count\": 20, \"cutoff\": 2, \"regionidzip\": \"95989.0\", \"precision\": 0.0, \"recall\": 0.0}, {\"count\": 20, \"cutoff\": 3, \"regionidzip\": \"95989.0\", \"precision\": 0.0, \"recall\": 0.0}, {\"count\": 20, \"cutoff\": 4, \"regionidzip\": \"95989.0\", \"precision\": 0.0, \"recall\": 0.0}, {\"count\": 20, \"cutoff\": 5, \"regionidzip\": \"95989.0\", \"precision\": 0.0, \"recall\": 0.0}, {\"count\": 20, \"cutoff\": 6, \"regionidzip\": \"95989.0\", \"precision\": 0.0, \"recall\": 0.0}, {\"count\": 20, \"cutoff\": 7, \"regionidzip\": \"95989.0\", \"precision\": 0.0, \"recall\": 0.0}, {\"count\": 20, \"cutoff\": 8, \"regionidzip\": \"95989.0\", \"precision\": 0.0, \"recall\": 0.0}, {\"count\": 20, \"cutoff\": 9, \"regionidzip\": \"95989.0\", \"precision\": 0.0, \"recall\": 0.0}, {\"count\": 20, \"cutoff\": 10, \"regionidzip\": \"95989.0\", \"precision\": 0.0, \"recall\": 0.0}, {\"count\": 20, \"cutoff\": 11, \"regionidzip\": \"95989.0\", \"precision\": 0.0, \"recall\": 0.0}, {\"count\": 20, \"cutoff\": 16, \"regionidzip\": \"95989.0\", \"precision\": 0.0, \"recall\": 0.0}, {\"count\": 20, \"cutoff\": 21, \"regionidzip\": \"95989.0\", \"precision\": 0.0, \"recall\": 0.0}, {\"count\": 20, \"cutoff\": 26, \"regionidzip\": \"95989.0\", \"precision\": 0.0, \"recall\": 0.0}, {\"count\": 20, \"cutoff\": 31, \"regionidzip\": \"95989.0\", \"precision\": 0.0, \"recall\": 0.0}, {\"count\": 20, \"cutoff\": 36, \"regionidzip\": \"95989.0\", \"precision\": 0.0, \"recall\": 0.0}, {\"count\": 20, \"cutoff\": 41, \"regionidzip\": \"95989.0\", \"precision\": 0.0, \"recall\": 0.0}, {\"count\": 20, \"cutoff\": 46, \"regionidzip\": \"95989.0\", \"precision\": 0.0, \"recall\": 0.0}, {\"count\": 7, \"cutoff\": 1, \"regionidzip\": \"95998.0\", \"precision\": 0.0, \"recall\": 0.0}, {\"count\": 7, \"cutoff\": 2, \"regionidzip\": \"95998.0\", \"precision\": 0.0, \"recall\": 0.0}, {\"count\": 7, \"cutoff\": 3, \"regionidzip\": \"95998.0\", \"precision\": 0.0, \"recall\": 0.0}, {\"count\": 7, \"cutoff\": 4, \"regionidzip\": \"95998.0\", \"precision\": 0.0, \"recall\": 0.0}, {\"count\": 7, \"cutoff\": 5, \"regionidzip\": \"95998.0\", \"precision\": 0.0, \"recall\": 0.0}, {\"count\": 7, \"cutoff\": 6, \"regionidzip\": \"95998.0\", \"precision\": 0.0, \"recall\": 0.0}, {\"count\": 7, \"cutoff\": 7, \"regionidzip\": \"95998.0\", \"precision\": 0.0, \"recall\": 0.0}, {\"count\": 7, \"cutoff\": 8, \"regionidzip\": \"95998.0\", \"precision\": 0.0, \"recall\": 0.0}, {\"count\": 7, \"cutoff\": 9, \"regionidzip\": \"95998.0\", \"precision\": 0.0, \"recall\": 0.0}, {\"count\": 7, \"cutoff\": 10, \"regionidzip\": \"95998.0\", \"precision\": 0.0, \"recall\": 0.0}, {\"count\": 7, \"cutoff\": 11, \"regionidzip\": \"95998.0\", \"precision\": 0.0, \"recall\": 0.0}, {\"count\": 7, \"cutoff\": 16, \"regionidzip\": \"95998.0\", \"precision\": 0.0, \"recall\": 0.0}, {\"count\": 7, \"cutoff\": 21, \"regionidzip\": \"95998.0\", \"precision\": 0.0, \"recall\": 0.0}, {\"count\": 7, \"cutoff\": 26, \"regionidzip\": \"95998.0\", \"precision\": 0.0, \"recall\": 0.0}, {\"count\": 7, \"cutoff\": 31, \"regionidzip\": \"95998.0\", \"precision\": 0.0, \"recall\": 0.0}, {\"count\": 7, \"cutoff\": 36, \"regionidzip\": \"95998.0\", \"precision\": 0.0, \"recall\": 0.0}, {\"count\": 7, \"cutoff\": 41, \"regionidzip\": \"95998.0\", \"precision\": 0.0, \"recall\": 0.0}, {\"count\": 7, \"cutoff\": 46, \"regionidzip\": \"95998.0\", \"precision\": 0.0, \"recall\": 0.0}, {\"count\": 43, \"cutoff\": 1, \"regionidzip\": \"96007.0\", \"precision\": 0.0, \"recall\": 0.0}, {\"count\": 43, \"cutoff\": 2, \"regionidzip\": \"96007.0\", \"precision\": 0.0, \"recall\": 0.0}, {\"count\": 43, \"cutoff\": 3, \"regionidzip\": \"96007.0\", \"precision\": 0.0, \"recall\": 0.0}, {\"count\": 43, \"cutoff\": 4, \"regionidzip\": \"96007.0\", \"precision\": 0.0, \"recall\": 0.0}, {\"count\": 43, \"cutoff\": 5, \"regionidzip\": \"96007.0\", \"precision\": 0.0, \"recall\": 0.0}, {\"count\": 43, \"cutoff\": 6, \"regionidzip\": \"96007.0\", \"precision\": 0.0, \"recall\": 0.0}, {\"count\": 43, \"cutoff\": 7, \"regionidzip\": \"96007.0\", \"precision\": 0.0, \"recall\": 0.0}, {\"count\": 43, \"cutoff\": 8, \"regionidzip\": \"96007.0\", \"precision\": 0.0, \"recall\": 0.0}, {\"count\": 43, \"cutoff\": 9, \"regionidzip\": \"96007.0\", \"precision\": 0.0, \"recall\": 0.0}, {\"count\": 43, \"cutoff\": 10, \"regionidzip\": \"96007.0\", \"precision\": 0.0, \"recall\": 0.0}, {\"count\": 43, \"cutoff\": 11, \"regionidzip\": \"96007.0\", \"precision\": 0.0, \"recall\": 0.0}, {\"count\": 43, \"cutoff\": 16, \"regionidzip\": \"96007.0\", \"precision\": 0.0, \"recall\": 0.0}, {\"count\": 43, \"cutoff\": 21, \"regionidzip\": \"96007.0\", \"precision\": 0.0, \"recall\": 0.0}, {\"count\": 43, \"cutoff\": 26, \"regionidzip\": \"96007.0\", \"precision\": 0.0, \"recall\": 0.0}, {\"count\": 43, \"cutoff\": 31, \"regionidzip\": \"96007.0\", \"precision\": 0.0, \"recall\": 0.0}, {\"count\": 43, \"cutoff\": 36, \"regionidzip\": \"96007.0\", \"precision\": 0.0, \"recall\": 0.0}, {\"count\": 43, \"cutoff\": 41, \"regionidzip\": \"96007.0\", \"precision\": 0.0, \"recall\": 0.0}, {\"count\": 43, \"cutoff\": 46, \"regionidzip\": \"96007.0\", \"precision\": 0.0, \"recall\": 0.0}, {\"count\": 38, \"cutoff\": 1, \"regionidzip\": \"96015.0\", \"precision\": 0.0, \"recall\": 0.0}, {\"count\": 38, \"cutoff\": 2, \"regionidzip\": \"96015.0\", \"precision\": 0.0, \"recall\": 0.0}, {\"count\": 38, \"cutoff\": 3, \"regionidzip\": \"96015.0\", \"precision\": 0.0, \"recall\": 0.0}, {\"count\": 38, \"cutoff\": 4, \"regionidzip\": \"96015.0\", \"precision\": 0.0, \"recall\": 0.0}, {\"count\": 38, \"cutoff\": 5, \"regionidzip\": \"96015.0\", \"precision\": 0.0, \"recall\": 0.0}, {\"count\": 38, \"cutoff\": 6, \"regionidzip\": \"96015.0\", \"precision\": 0.0, \"recall\": 0.0}, {\"count\": 38, \"cutoff\": 7, \"regionidzip\": \"96015.0\", \"precision\": 0.0, \"recall\": 0.0}, {\"count\": 38, \"cutoff\": 8, \"regionidzip\": \"96015.0\", \"precision\": 0.0, \"recall\": 0.0}, {\"count\": 38, \"cutoff\": 9, \"regionidzip\": \"96015.0\", \"precision\": 0.0, \"recall\": 0.0}, {\"count\": 38, \"cutoff\": 10, \"regionidzip\": \"96015.0\", \"precision\": 0.0, \"recall\": 0.0}, {\"count\": 38, \"cutoff\": 11, \"regionidzip\": \"96015.0\", \"precision\": 0.0, \"recall\": 0.0}, {\"count\": 38, \"cutoff\": 16, \"regionidzip\": \"96015.0\", \"precision\": 0.0, \"recall\": 0.0}, {\"count\": 38, \"cutoff\": 21, \"regionidzip\": \"96015.0\", \"precision\": 0.0, \"recall\": 0.0}, {\"count\": 38, \"cutoff\": 26, \"regionidzip\": \"96015.0\", \"precision\": 0.0, \"recall\": 0.0}, {\"count\": 38, \"cutoff\": 31, \"regionidzip\": \"96015.0\", \"precision\": 0.0, \"recall\": 0.0}, {\"count\": 38, \"cutoff\": 36, \"regionidzip\": \"96015.0\", \"precision\": 0.0, \"recall\": 0.0}, {\"count\": 38, \"cutoff\": 41, \"regionidzip\": \"96015.0\", \"precision\": 0.0, \"recall\": 0.0}, {\"count\": 38, \"cutoff\": 46, \"regionidzip\": \"96015.0\", \"precision\": 0.0, \"recall\": 0.0}, {\"count\": 79, \"cutoff\": 1, \"regionidzip\": \"96030.0\", \"precision\": 0.0, \"recall\": 0.0}, {\"count\": 79, \"cutoff\": 2, \"regionidzip\": \"96030.0\", \"precision\": 0.0, \"recall\": 0.0}, {\"count\": 79, \"cutoff\": 3, \"regionidzip\": \"96030.0\", \"precision\": 0.0, \"recall\": 0.0}, {\"count\": 79, \"cutoff\": 4, \"regionidzip\": \"96030.0\", \"precision\": 0.0, \"recall\": 0.0}, {\"count\": 79, \"cutoff\": 5, \"regionidzip\": \"96030.0\", \"precision\": 0.0, \"recall\": 0.0}, {\"count\": 79, \"cutoff\": 6, \"regionidzip\": \"96030.0\", \"precision\": 0.0, \"recall\": 0.0}, {\"count\": 79, \"cutoff\": 7, \"regionidzip\": \"96030.0\", \"precision\": 0.0, \"recall\": 0.0}, {\"count\": 79, \"cutoff\": 8, \"regionidzip\": \"96030.0\", \"precision\": 0.0, \"recall\": 0.0}, {\"count\": 79, \"cutoff\": 9, \"regionidzip\": \"96030.0\", \"precision\": 0.0, \"recall\": 0.0}, {\"count\": 79, \"cutoff\": 10, \"regionidzip\": \"96030.0\", \"precision\": 0.0, \"recall\": 0.0}, {\"count\": 79, \"cutoff\": 11, \"regionidzip\": \"96030.0\", \"precision\": 0.0, \"recall\": 0.0}, {\"count\": 79, \"cutoff\": 16, \"regionidzip\": \"96030.0\", \"precision\": 0.0, \"recall\": 0.0}, {\"count\": 79, \"cutoff\": 21, \"regionidzip\": \"96030.0\", \"precision\": 0.0, \"recall\": 0.0}, {\"count\": 79, \"cutoff\": 26, \"regionidzip\": \"96030.0\", \"precision\": 0.0, \"recall\": 0.0}, {\"count\": 79, \"cutoff\": 31, \"regionidzip\": \"96030.0\", \"precision\": 0.0, \"recall\": 0.0}, {\"count\": 79, \"cutoff\": 36, \"regionidzip\": \"96030.0\", \"precision\": 0.0, \"recall\": 0.0}, {\"count\": 79, \"cutoff\": 41, \"regionidzip\": \"96030.0\", \"precision\": 0.0, \"recall\": 0.0}, {\"count\": 79, \"cutoff\": 46, \"regionidzip\": \"96030.0\", \"precision\": 0.0, \"recall\": 0.0}, {\"count\": 29, \"cutoff\": 1, \"regionidzip\": \"96104.0\", \"precision\": 0.0, \"recall\": 0.0}, {\"count\": 29, \"cutoff\": 2, \"regionidzip\": \"96104.0\", \"precision\": 0.0, \"recall\": 0.0}, {\"count\": 29, \"cutoff\": 3, \"regionidzip\": \"96104.0\", \"precision\": 0.0, \"recall\": 0.0}, {\"count\": 29, \"cutoff\": 4, \"regionidzip\": \"96104.0\", \"precision\": 0.0, \"recall\": 0.0}, {\"count\": 29, \"cutoff\": 5, \"regionidzip\": \"96104.0\", \"precision\": 0.0, \"recall\": 0.0}, {\"count\": 29, \"cutoff\": 6, \"regionidzip\": \"96104.0\", \"precision\": 0.0, \"recall\": 0.0}, {\"count\": 29, \"cutoff\": 7, \"regionidzip\": \"96104.0\", \"precision\": 0.0, \"recall\": 0.0}, {\"count\": 29, \"cutoff\": 8, \"regionidzip\": \"96104.0\", \"precision\": 0.0, \"recall\": 0.0}, {\"count\": 29, \"cutoff\": 9, \"regionidzip\": \"96104.0\", \"precision\": 0.0, \"recall\": 0.0}, {\"count\": 29, \"cutoff\": 10, \"regionidzip\": \"96104.0\", \"precision\": 0.0, \"recall\": 0.0}, {\"count\": 29, \"cutoff\": 11, \"regionidzip\": \"96104.0\", \"precision\": 0.0, \"recall\": 0.0}, {\"count\": 29, \"cutoff\": 16, \"regionidzip\": \"96104.0\", \"precision\": 0.0, \"recall\": 0.0}, {\"count\": 29, \"cutoff\": 21, \"regionidzip\": \"96104.0\", \"precision\": 0.0, \"recall\": 0.0}, {\"count\": 29, \"cutoff\": 26, \"regionidzip\": \"96104.0\", \"precision\": 0.0, \"recall\": 0.0}, {\"count\": 29, \"cutoff\": 31, \"regionidzip\": \"96104.0\", \"precision\": 0.0, \"recall\": 0.0}, {\"count\": 29, \"cutoff\": 36, \"regionidzip\": \"96104.0\", \"precision\": 0.0, \"recall\": 0.0}, {\"count\": 29, \"cutoff\": 41, \"regionidzip\": \"96104.0\", \"precision\": 0.0, \"recall\": 0.0}, {\"count\": 29, \"cutoff\": 46, \"regionidzip\": \"96104.0\", \"precision\": 0.0, \"recall\": 0.0}, {\"count\": 21, \"cutoff\": 1, \"regionidzip\": \"96110.0\", \"precision\": 0.0, \"recall\": 0.0}, {\"count\": 21, \"cutoff\": 2, \"regionidzip\": \"96110.0\", \"precision\": 0.0, \"recall\": 0.0}, {\"count\": 21, \"cutoff\": 3, \"regionidzip\": \"96110.0\", \"precision\": 0.0, \"recall\": 0.0}, {\"count\": 21, \"cutoff\": 4, \"regionidzip\": \"96110.0\", \"precision\": 0.0, \"recall\": 0.0}, {\"count\": 21, \"cutoff\": 5, \"regionidzip\": \"96110.0\", \"precision\": 0.0, \"recall\": 0.0}, {\"count\": 21, \"cutoff\": 6, \"regionidzip\": \"96110.0\", \"precision\": 0.0, \"recall\": 0.0}, {\"count\": 21, \"cutoff\": 7, \"regionidzip\": \"96110.0\", \"precision\": 0.0, \"recall\": 0.0}, {\"count\": 21, \"cutoff\": 8, \"regionidzip\": \"96110.0\", \"precision\": 0.0, \"recall\": 0.0}, {\"count\": 21, \"cutoff\": 9, \"regionidzip\": \"96110.0\", \"precision\": 0.0, \"recall\": 0.0}, {\"count\": 21, \"cutoff\": 10, \"regionidzip\": \"96110.0\", \"precision\": 0.0, \"recall\": 0.0}, {\"count\": 21, \"cutoff\": 11, \"regionidzip\": \"96110.0\", \"precision\": 0.0, \"recall\": 0.0}, {\"count\": 21, \"cutoff\": 16, \"regionidzip\": \"96110.0\", \"precision\": 0.0, \"recall\": 0.0}, {\"count\": 21, \"cutoff\": 21, \"regionidzip\": \"96110.0\", \"precision\": 0.0, \"recall\": 0.0}, {\"count\": 21, \"cutoff\": 26, \"regionidzip\": \"96110.0\", \"precision\": 0.0, \"recall\": 0.0}, {\"count\": 21, \"cutoff\": 31, \"regionidzip\": \"96110.0\", \"precision\": 0.0, \"recall\": 0.0}, {\"count\": 21, \"cutoff\": 36, \"regionidzip\": \"96110.0\", \"precision\": 0.0, \"recall\": 0.0}, {\"count\": 21, \"cutoff\": 41, \"regionidzip\": \"96110.0\", \"precision\": 0.0, \"recall\": 0.0}, {\"count\": 21, \"cutoff\": 46, \"regionidzip\": \"96110.0\", \"precision\": 0.0, \"recall\": 0.0}, {\"count\": 63, \"cutoff\": 1, \"regionidzip\": \"96123.0\", \"precision\": 0.0, \"recall\": 0.0}, {\"count\": 63, \"cutoff\": 2, \"regionidzip\": \"96123.0\", \"precision\": 0.0, \"recall\": 0.0}, {\"count\": 63, \"cutoff\": 3, \"regionidzip\": \"96123.0\", \"precision\": 0.0, \"recall\": 0.0}, {\"count\": 63, \"cutoff\": 4, \"regionidzip\": \"96123.0\", \"precision\": 0.0, \"recall\": 0.0}, {\"count\": 63, \"cutoff\": 5, \"regionidzip\": \"96123.0\", \"precision\": 0.0, \"recall\": 0.0}, {\"count\": 63, \"cutoff\": 6, \"regionidzip\": \"96123.0\", \"precision\": 0.0, \"recall\": 0.0}, {\"count\": 63, \"cutoff\": 7, \"regionidzip\": \"96123.0\", \"precision\": 0.0, \"recall\": 0.0}, {\"count\": 63, \"cutoff\": 8, \"regionidzip\": \"96123.0\", \"precision\": 0.0, \"recall\": 0.0}, {\"count\": 63, \"cutoff\": 9, \"regionidzip\": \"96123.0\", \"precision\": 0.0, \"recall\": 0.0}, {\"count\": 63, \"cutoff\": 10, \"regionidzip\": \"96123.0\", \"precision\": 0.0, \"recall\": 0.0}, {\"count\": 63, \"cutoff\": 11, \"regionidzip\": \"96123.0\", \"precision\": 0.0, \"recall\": 0.0}, {\"count\": 63, \"cutoff\": 16, \"regionidzip\": \"96123.0\", \"precision\": 0.0, \"recall\": 0.0}, {\"count\": 63, \"cutoff\": 21, \"regionidzip\": \"96123.0\", \"precision\": 0.0, \"recall\": 0.0}, {\"count\": 63, \"cutoff\": 26, \"regionidzip\": \"96123.0\", \"precision\": 0.0, \"recall\": 0.0}, {\"count\": 63, \"cutoff\": 31, \"regionidzip\": \"96123.0\", \"precision\": 0.0, \"recall\": 0.0}, {\"count\": 63, \"cutoff\": 36, \"regionidzip\": \"96123.0\", \"precision\": 0.0, \"recall\": 0.0}, {\"count\": 63, \"cutoff\": 41, \"regionidzip\": \"96123.0\", \"precision\": 0.0, \"recall\": 0.0}, {\"count\": 63, \"cutoff\": 46, \"regionidzip\": \"96123.0\", \"precision\": 0.0, \"recall\": 0.0}, {\"count\": 96, \"cutoff\": 1, \"regionidzip\": \"96186.0\", \"precision\": 0.0, \"recall\": 0.0}, {\"count\": 96, \"cutoff\": 2, \"regionidzip\": \"96186.0\", \"precision\": 0.0, \"recall\": 0.0}, {\"count\": 96, \"cutoff\": 3, \"regionidzip\": \"96186.0\", \"precision\": 0.0, \"recall\": 0.0}, {\"count\": 96, \"cutoff\": 4, \"regionidzip\": \"96186.0\", \"precision\": 0.0, \"recall\": 0.0}, {\"count\": 96, \"cutoff\": 5, \"regionidzip\": \"96186.0\", \"precision\": 0.0, \"recall\": 0.0}, {\"count\": 96, \"cutoff\": 6, \"regionidzip\": \"96186.0\", \"precision\": 0.0, \"recall\": 0.0}, {\"count\": 96, \"cutoff\": 7, \"regionidzip\": \"96186.0\", \"precision\": 0.0, \"recall\": 0.0}, {\"count\": 96, \"cutoff\": 8, \"regionidzip\": \"96186.0\", \"precision\": 0.0, \"recall\": 0.0}, {\"count\": 96, \"cutoff\": 9, \"regionidzip\": \"96186.0\", \"precision\": 0.0, \"recall\": 0.0}, {\"count\": 96, \"cutoff\": 10, \"regionidzip\": \"96186.0\", \"precision\": 0.0, \"recall\": 0.0}, {\"count\": 96, \"cutoff\": 11, \"regionidzip\": \"96186.0\", \"precision\": 0.0, \"recall\": 0.0}, {\"count\": 96, \"cutoff\": 16, \"regionidzip\": \"96186.0\", \"precision\": 0.0, \"recall\": 0.0}, {\"count\": 96, \"cutoff\": 21, \"regionidzip\": \"96186.0\", \"precision\": 0.0, \"recall\": 0.0}, {\"count\": 96, \"cutoff\": 26, \"regionidzip\": \"96186.0\", \"precision\": 0.0, \"recall\": 0.0}, {\"count\": 96, \"cutoff\": 31, \"regionidzip\": \"96186.0\", \"precision\": 0.0, \"recall\": 0.0}, {\"count\": 96, \"cutoff\": 36, \"regionidzip\": \"96186.0\", \"precision\": 0.0, \"recall\": 0.0}, {\"count\": 96, \"cutoff\": 41, \"regionidzip\": \"96186.0\", \"precision\": 0.0, \"recall\": 0.0}, {\"count\": 96, \"cutoff\": 46, \"regionidzip\": \"96186.0\", \"precision\": 0.0, \"recall\": 0.0}, {\"count\": 133, \"cutoff\": 1, \"regionidzip\": \"96193.0\", \"precision\": 0.0, \"recall\": 0.0}, {\"count\": 133, \"cutoff\": 2, \"regionidzip\": \"96193.0\", \"precision\": 0.0, \"recall\": 0.0}, {\"count\": 133, \"cutoff\": 3, \"regionidzip\": \"96193.0\", \"precision\": 0.0, \"recall\": 0.0}, {\"count\": 133, \"cutoff\": 4, \"regionidzip\": \"96193.0\", \"precision\": 0.0, \"recall\": 0.0}, {\"count\": 133, \"cutoff\": 5, \"regionidzip\": \"96193.0\", \"precision\": 0.0, \"recall\": 0.0}, {\"count\": 133, \"cutoff\": 6, \"regionidzip\": \"96193.0\", \"precision\": 0.0, \"recall\": 0.0}, {\"count\": 133, \"cutoff\": 7, \"regionidzip\": \"96193.0\", \"precision\": 0.0, \"recall\": 0.0}, {\"count\": 133, \"cutoff\": 8, \"regionidzip\": \"96193.0\", \"precision\": 0.0, \"recall\": 0.0}, {\"count\": 133, \"cutoff\": 9, \"regionidzip\": \"96193.0\", \"precision\": 0.0, \"recall\": 0.0}, {\"count\": 133, \"cutoff\": 10, \"regionidzip\": \"96193.0\", \"precision\": 0.0, \"recall\": 0.0}, {\"count\": 133, \"cutoff\": 11, \"regionidzip\": \"96193.0\", \"precision\": 0.0, \"recall\": 0.0}, {\"count\": 133, \"cutoff\": 16, \"regionidzip\": \"96193.0\", \"precision\": 0.0, \"recall\": 0.0}, {\"count\": 133, \"cutoff\": 21, \"regionidzip\": \"96193.0\", \"precision\": 0.0, \"recall\": 0.0}, {\"count\": 133, \"cutoff\": 26, \"regionidzip\": \"96193.0\", \"precision\": 0.0, \"recall\": 0.0}, {\"count\": 133, \"cutoff\": 31, \"regionidzip\": \"96193.0\", \"precision\": 0.0, \"recall\": 0.0}, {\"count\": 133, \"cutoff\": 36, \"regionidzip\": \"96193.0\", \"precision\": 0.0, \"recall\": 0.0}, {\"count\": 133, \"cutoff\": 41, \"regionidzip\": \"96193.0\", \"precision\": 0.0, \"recall\": 0.0}, {\"count\": 133, \"cutoff\": 46, \"regionidzip\": \"96193.0\", \"precision\": 0.0, \"recall\": 0.0}, {\"count\": 47, \"cutoff\": 1, \"regionidzip\": \"96197.0\", \"precision\": 0.0, \"recall\": 0.0}, {\"count\": 47, \"cutoff\": 2, \"regionidzip\": \"96197.0\", \"precision\": 0.0, \"recall\": 0.0}, {\"count\": 47, \"cutoff\": 3, \"regionidzip\": \"96197.0\", \"precision\": 0.0, \"recall\": 0.0}, {\"count\": 47, \"cutoff\": 4, \"regionidzip\": \"96197.0\", \"precision\": 0.0, \"recall\": 0.0}, {\"count\": 47, \"cutoff\": 5, \"regionidzip\": \"96197.0\", \"precision\": 0.0, \"recall\": 0.0}, {\"count\": 47, \"cutoff\": 6, \"regionidzip\": \"96197.0\", \"precision\": 0.0, \"recall\": 0.0}, {\"count\": 47, \"cutoff\": 7, \"regionidzip\": \"96197.0\", \"precision\": 0.0, \"recall\": 0.0}, {\"count\": 47, \"cutoff\": 8, \"regionidzip\": \"96197.0\", \"precision\": 0.0, \"recall\": 0.0}, {\"count\": 47, \"cutoff\": 9, \"regionidzip\": \"96197.0\", \"precision\": 0.0, \"recall\": 0.0}, {\"count\": 47, \"cutoff\": 10, \"regionidzip\": \"96197.0\", \"precision\": 0.0, \"recall\": 0.0}, {\"count\": 47, \"cutoff\": 11, \"regionidzip\": \"96197.0\", \"precision\": 0.0, \"recall\": 0.0}, {\"count\": 47, \"cutoff\": 16, \"regionidzip\": \"96197.0\", \"precision\": 0.0, \"recall\": 0.0}, {\"count\": 47, \"cutoff\": 21, \"regionidzip\": \"96197.0\", \"precision\": 0.0, \"recall\": 0.0}, {\"count\": 47, \"cutoff\": 26, \"regionidzip\": \"96197.0\", \"precision\": 0.0, \"recall\": 0.0}, {\"count\": 47, \"cutoff\": 31, \"regionidzip\": \"96197.0\", \"precision\": 0.0, \"recall\": 0.0}, {\"count\": 47, \"cutoff\": 36, \"regionidzip\": \"96197.0\", \"precision\": 0.0, \"recall\": 0.0}, {\"count\": 47, \"cutoff\": 41, \"regionidzip\": \"96197.0\", \"precision\": 0.0, \"recall\": 0.0}, {\"count\": 47, \"cutoff\": 46, \"regionidzip\": \"96197.0\", \"precision\": 0.0, \"recall\": 0.0}, {\"count\": 63, \"cutoff\": 1, \"regionidzip\": \"96213.0\", \"precision\": 1.0, \"recall\": 0.015873015873015872}, {\"count\": 63, \"cutoff\": 2, \"regionidzip\": \"96213.0\", \"precision\": 0.5, \"recall\": 0.015873015873015872}, {\"count\": 63, \"cutoff\": 3, \"regionidzip\": \"96213.0\", \"precision\": 0.3333333333333333, \"recall\": 0.015873015873015872}, {\"count\": 63, \"cutoff\": 4, \"regionidzip\": \"96213.0\", \"precision\": 0.25, \"recall\": 0.015873015873015872}, {\"count\": 63, \"cutoff\": 5, \"regionidzip\": \"96213.0\", \"precision\": 0.2, \"recall\": 0.015873015873015872}, {\"count\": 63, \"cutoff\": 6, \"regionidzip\": \"96213.0\", \"precision\": 0.16666666666666666, \"recall\": 0.015873015873015872}, {\"count\": 63, \"cutoff\": 7, \"regionidzip\": \"96213.0\", \"precision\": 0.14285714285714285, \"recall\": 0.015873015873015872}, {\"count\": 63, \"cutoff\": 8, \"regionidzip\": \"96213.0\", \"precision\": 0.125, \"recall\": 0.015873015873015872}, {\"count\": 63, \"cutoff\": 9, \"regionidzip\": \"96213.0\", \"precision\": 0.1111111111111111, \"recall\": 0.015873015873015872}, {\"count\": 63, \"cutoff\": 10, \"regionidzip\": \"96213.0\", \"precision\": 0.1, \"recall\": 0.015873015873015872}, {\"count\": 63, \"cutoff\": 11, \"regionidzip\": \"96213.0\", \"precision\": 0.09090909090909091, \"recall\": 0.015873015873015872}, {\"count\": 63, \"cutoff\": 16, \"regionidzip\": \"96213.0\", \"precision\": 0.08333333333333333, \"recall\": 0.015873015873015872}, {\"count\": 63, \"cutoff\": 21, \"regionidzip\": \"96213.0\", \"precision\": 0.08333333333333333, \"recall\": 0.015873015873015872}, {\"count\": 63, \"cutoff\": 26, \"regionidzip\": \"96213.0\", \"precision\": 0.08333333333333333, \"recall\": 0.015873015873015872}, {\"count\": 63, \"cutoff\": 31, \"regionidzip\": \"96213.0\", \"precision\": 0.08333333333333333, \"recall\": 0.015873015873015872}, {\"count\": 63, \"cutoff\": 36, \"regionidzip\": \"96213.0\", \"precision\": 0.08333333333333333, \"recall\": 0.015873015873015872}, {\"count\": 63, \"cutoff\": 41, \"regionidzip\": \"96213.0\", \"precision\": 0.08333333333333333, \"recall\": 0.015873015873015872}, {\"count\": 63, \"cutoff\": 46, \"regionidzip\": \"96213.0\", \"precision\": 0.08333333333333333, \"recall\": 0.015873015873015872}, {\"count\": 46, \"cutoff\": 1, \"regionidzip\": \"96221.0\", \"precision\": 0.0, \"recall\": 0.0}, {\"count\": 46, \"cutoff\": 2, \"regionidzip\": \"96221.0\", \"precision\": 0.0, \"recall\": 0.0}, {\"count\": 46, \"cutoff\": 3, \"regionidzip\": \"96221.0\", \"precision\": 0.0, \"recall\": 0.0}, {\"count\": 46, \"cutoff\": 4, \"regionidzip\": \"96221.0\", \"precision\": 0.0, \"recall\": 0.0}, {\"count\": 46, \"cutoff\": 5, \"regionidzip\": \"96221.0\", \"precision\": 0.0, \"recall\": 0.0}, {\"count\": 46, \"cutoff\": 6, \"regionidzip\": \"96221.0\", \"precision\": 0.0, \"recall\": 0.0}, {\"count\": 46, \"cutoff\": 7, \"regionidzip\": \"96221.0\", \"precision\": 0.0, \"recall\": 0.0}, {\"count\": 46, \"cutoff\": 8, \"regionidzip\": \"96221.0\", \"precision\": 0.0, \"recall\": 0.0}, {\"count\": 46, \"cutoff\": 9, \"regionidzip\": \"96221.0\", \"precision\": 0.0, \"recall\": 0.0}, {\"count\": 46, \"cutoff\": 10, \"regionidzip\": \"96221.0\", \"precision\": 0.0, \"recall\": 0.0}, {\"count\": 46, \"cutoff\": 11, \"regionidzip\": \"96221.0\", \"precision\": 0.0, \"recall\": 0.0}, {\"count\": 46, \"cutoff\": 16, \"regionidzip\": \"96221.0\", \"precision\": 0.0, \"recall\": 0.0}, {\"count\": 46, \"cutoff\": 21, \"regionidzip\": \"96221.0\", \"precision\": 0.0, \"recall\": 0.0}, {\"count\": 46, \"cutoff\": 26, \"regionidzip\": \"96221.0\", \"precision\": 0.0, \"recall\": 0.0}, {\"count\": 46, \"cutoff\": 31, \"regionidzip\": \"96221.0\", \"precision\": 0.0, \"recall\": 0.0}, {\"count\": 46, \"cutoff\": 36, \"regionidzip\": \"96221.0\", \"precision\": 0.0, \"recall\": 0.0}, {\"count\": 46, \"cutoff\": 41, \"regionidzip\": \"96221.0\", \"precision\": 0.0, \"recall\": 0.0}, {\"count\": 46, \"cutoff\": 46, \"regionidzip\": \"96221.0\", \"precision\": 0.0, \"recall\": 0.0}, {\"count\": 64, \"cutoff\": 1, \"regionidzip\": \"96241.0\", \"precision\": 0.0, \"recall\": 0.0}, {\"count\": 64, \"cutoff\": 2, \"regionidzip\": \"96241.0\", \"precision\": 0.0, \"recall\": 0.0}, {\"count\": 64, \"cutoff\": 3, \"regionidzip\": \"96241.0\", \"precision\": 0.0, \"recall\": 0.0}, {\"count\": 64, \"cutoff\": 4, \"regionidzip\": \"96241.0\", \"precision\": 0.0, \"recall\": 0.0}, {\"count\": 64, \"cutoff\": 5, \"regionidzip\": \"96241.0\", \"precision\": 0.0, \"recall\": 0.0}, {\"count\": 64, \"cutoff\": 6, \"regionidzip\": \"96241.0\", \"precision\": 0.0, \"recall\": 0.0}, {\"count\": 64, \"cutoff\": 7, \"regionidzip\": \"96241.0\", \"precision\": 0.0, \"recall\": 0.0}, {\"count\": 64, \"cutoff\": 8, \"regionidzip\": \"96241.0\", \"precision\": 0.0, \"recall\": 0.0}, {\"count\": 64, \"cutoff\": 9, \"regionidzip\": \"96241.0\", \"precision\": 0.0, \"recall\": 0.0}, {\"count\": 64, \"cutoff\": 10, \"regionidzip\": \"96241.0\", \"precision\": 0.0, \"recall\": 0.0}, {\"count\": 64, \"cutoff\": 11, \"regionidzip\": \"96241.0\", \"precision\": 0.0, \"recall\": 0.0}, {\"count\": 64, \"cutoff\": 16, \"regionidzip\": \"96241.0\", \"precision\": 0.0, \"recall\": 0.0}, {\"count\": 64, \"cutoff\": 21, \"regionidzip\": \"96241.0\", \"precision\": 0.0, \"recall\": 0.0}, {\"count\": 64, \"cutoff\": 26, \"regionidzip\": \"96241.0\", \"precision\": 0.0, \"recall\": 0.0}, {\"count\": 64, \"cutoff\": 31, \"regionidzip\": \"96241.0\", \"precision\": 0.0, \"recall\": 0.0}, {\"count\": 64, \"cutoff\": 36, \"regionidzip\": \"96241.0\", \"precision\": 0.0, \"recall\": 0.0}, {\"count\": 64, \"cutoff\": 41, \"regionidzip\": \"96241.0\", \"precision\": 0.0, \"recall\": 0.0}, {\"count\": 64, \"cutoff\": 46, \"regionidzip\": \"96241.0\", \"precision\": 0.0, \"recall\": 0.0}, {\"count\": 65, \"cutoff\": 1, \"regionidzip\": \"96273.0\", \"precision\": 0.0, \"recall\": 0.0}, {\"count\": 65, \"cutoff\": 2, \"regionidzip\": \"96273.0\", \"precision\": 0.0, \"recall\": 0.0}, {\"count\": 65, \"cutoff\": 3, \"regionidzip\": \"96273.0\", \"precision\": 0.0, \"recall\": 0.0}, {\"count\": 65, \"cutoff\": 4, \"regionidzip\": \"96273.0\", \"precision\": 0.0, \"recall\": 0.0}, {\"count\": 65, \"cutoff\": 5, \"regionidzip\": \"96273.0\", \"precision\": 0.0, \"recall\": 0.0}, {\"count\": 65, \"cutoff\": 6, \"regionidzip\": \"96273.0\", \"precision\": 0.0, \"recall\": 0.0}, {\"count\": 65, \"cutoff\": 7, \"regionidzip\": \"96273.0\", \"precision\": 0.0, \"recall\": 0.0}, {\"count\": 65, \"cutoff\": 8, \"regionidzip\": \"96273.0\", \"precision\": 0.0, \"recall\": 0.0}, {\"count\": 65, \"cutoff\": 9, \"regionidzip\": \"96273.0\", \"precision\": 0.0, \"recall\": 0.0}, {\"count\": 65, \"cutoff\": 10, \"regionidzip\": \"96273.0\", \"precision\": 0.0, \"recall\": 0.0}, {\"count\": 65, \"cutoff\": 11, \"regionidzip\": \"96273.0\", \"precision\": 0.0, \"recall\": 0.0}, {\"count\": 65, \"cutoff\": 16, \"regionidzip\": \"96273.0\", \"precision\": 0.0, \"recall\": 0.0}, {\"count\": 65, \"cutoff\": 21, \"regionidzip\": \"96273.0\", \"precision\": 0.0, \"recall\": 0.0}, {\"count\": 65, \"cutoff\": 26, \"regionidzip\": \"96273.0\", \"precision\": 0.0, \"recall\": 0.0}, {\"count\": 65, \"cutoff\": 31, \"regionidzip\": \"96273.0\", \"precision\": 0.0, \"recall\": 0.0}, {\"count\": 65, \"cutoff\": 36, \"regionidzip\": \"96273.0\", \"precision\": 0.0, \"recall\": 0.0}, {\"count\": 65, \"cutoff\": 41, \"regionidzip\": \"96273.0\", \"precision\": 0.0, \"recall\": 0.0}, {\"count\": 65, \"cutoff\": 46, \"regionidzip\": \"96273.0\", \"precision\": 0.0, \"recall\": 0.0}, {\"count\": 31, \"cutoff\": 1, \"regionidzip\": \"96296.0\", \"precision\": 0.0, \"recall\": 0.0}, {\"count\": 31, \"cutoff\": 2, \"regionidzip\": \"96296.0\", \"precision\": 0.0, \"recall\": 0.0}, {\"count\": 31, \"cutoff\": 3, \"regionidzip\": \"96296.0\", \"precision\": 0.0, \"recall\": 0.0}, {\"count\": 31, \"cutoff\": 4, \"regionidzip\": \"96296.0\", \"precision\": 0.0, \"recall\": 0.0}, {\"count\": 31, \"cutoff\": 5, \"regionidzip\": \"96296.0\", \"precision\": 0.0, \"recall\": 0.0}, {\"count\": 31, \"cutoff\": 6, \"regionidzip\": \"96296.0\", \"precision\": 0.0, \"recall\": 0.0}, {\"count\": 31, \"cutoff\": 7, \"regionidzip\": \"96296.0\", \"precision\": 0.0, \"recall\": 0.0}, {\"count\": 31, \"cutoff\": 8, \"regionidzip\": \"96296.0\", \"precision\": 0.0, \"recall\": 0.0}, {\"count\": 31, \"cutoff\": 9, \"regionidzip\": \"96296.0\", \"precision\": 0.0, \"recall\": 0.0}, {\"count\": 31, \"cutoff\": 10, \"regionidzip\": \"96296.0\", \"precision\": 0.0, \"recall\": 0.0}, {\"count\": 31, \"cutoff\": 11, \"regionidzip\": \"96296.0\", \"precision\": 0.0, \"recall\": 0.0}, {\"count\": 31, \"cutoff\": 16, \"regionidzip\": \"96296.0\", \"precision\": 0.0, \"recall\": 0.0}, {\"count\": 31, \"cutoff\": 21, \"regionidzip\": \"96296.0\", \"precision\": 0.0, \"recall\": 0.0}, {\"count\": 31, \"cutoff\": 26, \"regionidzip\": \"96296.0\", \"precision\": 0.0, \"recall\": 0.0}, {\"count\": 31, \"cutoff\": 31, \"regionidzip\": \"96296.0\", \"precision\": 0.0, \"recall\": 0.0}, {\"count\": 31, \"cutoff\": 36, \"regionidzip\": \"96296.0\", \"precision\": 0.0, \"recall\": 0.0}, {\"count\": 31, \"cutoff\": 41, \"regionidzip\": \"96296.0\", \"precision\": 0.0, \"recall\": 0.0}, {\"count\": 31, \"cutoff\": 46, \"regionidzip\": \"96296.0\", \"precision\": 0.0, \"recall\": 0.0}, {\"count\": 35, \"cutoff\": 1, \"regionidzip\": \"96321.0\", \"precision\": 0.0, \"recall\": 0.0}, {\"count\": 35, \"cutoff\": 2, \"regionidzip\": \"96321.0\", \"precision\": 0.0, \"recall\": 0.0}, {\"count\": 35, \"cutoff\": 3, \"regionidzip\": \"96321.0\", \"precision\": 0.0, \"recall\": 0.0}, {\"count\": 35, \"cutoff\": 4, \"regionidzip\": \"96321.0\", \"precision\": 0.0, \"recall\": 0.0}, {\"count\": 35, \"cutoff\": 5, \"regionidzip\": \"96321.0\", \"precision\": 0.0, \"recall\": 0.0}, {\"count\": 35, \"cutoff\": 6, \"regionidzip\": \"96321.0\", \"precision\": 0.0, \"recall\": 0.0}, {\"count\": 35, \"cutoff\": 7, \"regionidzip\": \"96321.0\", \"precision\": 0.0, \"recall\": 0.0}, {\"count\": 35, \"cutoff\": 8, \"regionidzip\": \"96321.0\", \"precision\": 0.0, \"recall\": 0.0}, {\"count\": 35, \"cutoff\": 9, \"regionidzip\": \"96321.0\", \"precision\": 0.0, \"recall\": 0.0}, {\"count\": 35, \"cutoff\": 10, \"regionidzip\": \"96321.0\", \"precision\": 0.0, \"recall\": 0.0}, {\"count\": 35, \"cutoff\": 11, \"regionidzip\": \"96321.0\", \"precision\": 0.0, \"recall\": 0.0}, {\"count\": 35, \"cutoff\": 16, \"regionidzip\": \"96321.0\", \"precision\": 0.0, \"recall\": 0.0}, {\"count\": 35, \"cutoff\": 21, \"regionidzip\": \"96321.0\", \"precision\": 0.0, \"recall\": 0.0}, {\"count\": 35, \"cutoff\": 26, \"regionidzip\": \"96321.0\", \"precision\": 0.0, \"recall\": 0.0}, {\"count\": 35, \"cutoff\": 31, \"regionidzip\": \"96321.0\", \"precision\": 0.0, \"recall\": 0.0}, {\"count\": 35, \"cutoff\": 36, \"regionidzip\": \"96321.0\", \"precision\": 0.0, \"recall\": 0.0}, {\"count\": 35, \"cutoff\": 41, \"regionidzip\": \"96321.0\", \"precision\": 0.0, \"recall\": 0.0}, {\"count\": 35, \"cutoff\": 46, \"regionidzip\": \"96321.0\", \"precision\": 0.0, \"recall\": 0.0}, {\"count\": 47, \"cutoff\": 1, \"regionidzip\": \"96339.0\", \"precision\": 0.0, \"recall\": 0.0}, {\"count\": 47, \"cutoff\": 2, \"regionidzip\": \"96339.0\", \"precision\": 0.0, \"recall\": 0.0}, {\"count\": 47, \"cutoff\": 3, \"regionidzip\": \"96339.0\", \"precision\": 0.0, \"recall\": 0.0}, {\"count\": 47, \"cutoff\": 4, \"regionidzip\": \"96339.0\", \"precision\": 0.0, \"recall\": 0.0}, {\"count\": 47, \"cutoff\": 5, \"regionidzip\": \"96339.0\", \"precision\": 0.0, \"recall\": 0.0}, {\"count\": 47, \"cutoff\": 6, \"regionidzip\": \"96339.0\", \"precision\": 0.0, \"recall\": 0.0}, {\"count\": 47, \"cutoff\": 7, \"regionidzip\": \"96339.0\", \"precision\": 0.0, \"recall\": 0.0}, {\"count\": 47, \"cutoff\": 8, \"regionidzip\": \"96339.0\", \"precision\": 0.0, \"recall\": 0.0}, {\"count\": 47, \"cutoff\": 9, \"regionidzip\": \"96339.0\", \"precision\": 0.0, \"recall\": 0.0}, {\"count\": 47, \"cutoff\": 10, \"regionidzip\": \"96339.0\", \"precision\": 0.0, \"recall\": 0.0}, {\"count\": 47, \"cutoff\": 11, \"regionidzip\": \"96339.0\", \"precision\": 0.0, \"recall\": 0.0}, {\"count\": 47, \"cutoff\": 16, \"regionidzip\": \"96339.0\", \"precision\": 0.0, \"recall\": 0.0}, {\"count\": 47, \"cutoff\": 21, \"regionidzip\": \"96339.0\", \"precision\": 0.0, \"recall\": 0.0}, {\"count\": 47, \"cutoff\": 26, \"regionidzip\": \"96339.0\", \"precision\": 0.0, \"recall\": 0.0}, {\"count\": 47, \"cutoff\": 31, \"regionidzip\": \"96339.0\", \"precision\": 0.0, \"recall\": 0.0}, {\"count\": 47, \"cutoff\": 36, \"regionidzip\": \"96339.0\", \"precision\": 0.0, \"recall\": 0.0}, {\"count\": 47, \"cutoff\": 41, \"regionidzip\": \"96339.0\", \"precision\": 0.0, \"recall\": 0.0}, {\"count\": 47, \"cutoff\": 46, \"regionidzip\": \"96339.0\", \"precision\": 0.0, \"recall\": 0.0}, {\"count\": 53, \"cutoff\": 1, \"regionidzip\": \"96341.0\", \"precision\": 0.0, \"recall\": 0.0}, {\"count\": 53, \"cutoff\": 2, \"regionidzip\": \"96341.0\", \"precision\": 0.0, \"recall\": 0.0}, {\"count\": 53, \"cutoff\": 3, \"regionidzip\": \"96341.0\", \"precision\": 0.0, \"recall\": 0.0}, {\"count\": 53, \"cutoff\": 4, \"regionidzip\": \"96341.0\", \"precision\": 0.0, \"recall\": 0.0}, {\"count\": 53, \"cutoff\": 5, \"regionidzip\": \"96341.0\", \"precision\": 0.0, \"recall\": 0.0}, {\"count\": 53, \"cutoff\": 6, \"regionidzip\": \"96341.0\", \"precision\": 0.0, \"recall\": 0.0}, {\"count\": 53, \"cutoff\": 7, \"regionidzip\": \"96341.0\", \"precision\": 0.0, \"recall\": 0.0}, {\"count\": 53, \"cutoff\": 8, \"regionidzip\": \"96341.0\", \"precision\": 0.0, \"recall\": 0.0}, {\"count\": 53, \"cutoff\": 9, \"regionidzip\": \"96341.0\", \"precision\": 0.0, \"recall\": 0.0}, {\"count\": 53, \"cutoff\": 10, \"regionidzip\": \"96341.0\", \"precision\": 0.0, \"recall\": 0.0}, {\"count\": 53, \"cutoff\": 11, \"regionidzip\": \"96341.0\", \"precision\": 0.0, \"recall\": 0.0}, {\"count\": 53, \"cutoff\": 16, \"regionidzip\": \"96341.0\", \"precision\": 0.0, \"recall\": 0.0}, {\"count\": 53, \"cutoff\": 21, \"regionidzip\": \"96341.0\", \"precision\": 0.0, \"recall\": 0.0}, {\"count\": 53, \"cutoff\": 26, \"regionidzip\": \"96341.0\", \"precision\": 0.0, \"recall\": 0.0}, {\"count\": 53, \"cutoff\": 31, \"regionidzip\": \"96341.0\", \"precision\": 0.0, \"recall\": 0.0}, {\"count\": 53, \"cutoff\": 36, \"regionidzip\": \"96341.0\", \"precision\": 0.0, \"recall\": 0.0}, {\"count\": 53, \"cutoff\": 41, \"regionidzip\": \"96341.0\", \"precision\": 0.0, \"recall\": 0.0}, {\"count\": 53, \"cutoff\": 46, \"regionidzip\": \"96341.0\", \"precision\": 0.0, \"recall\": 0.0}, {\"count\": 87, \"cutoff\": 1, \"regionidzip\": \"96351.0\", \"precision\": 0.0, \"recall\": 0.0}, {\"count\": 87, \"cutoff\": 2, \"regionidzip\": \"96351.0\", \"precision\": 0.0, \"recall\": 0.0}, {\"count\": 87, \"cutoff\": 3, \"regionidzip\": \"96351.0\", \"precision\": 0.0, \"recall\": 0.0}, {\"count\": 87, \"cutoff\": 4, \"regionidzip\": \"96351.0\", \"precision\": 0.0, \"recall\": 0.0}, {\"count\": 87, \"cutoff\": 5, \"regionidzip\": \"96351.0\", \"precision\": 0.0, \"recall\": 0.0}, {\"count\": 87, \"cutoff\": 6, \"regionidzip\": \"96351.0\", \"precision\": 0.0, \"recall\": 0.0}, {\"count\": 87, \"cutoff\": 7, \"regionidzip\": \"96351.0\", \"precision\": 0.0, \"recall\": 0.0}, {\"count\": 87, \"cutoff\": 8, \"regionidzip\": \"96351.0\", \"precision\": 0.0, \"recall\": 0.0}, {\"count\": 87, \"cutoff\": 9, \"regionidzip\": \"96351.0\", \"precision\": 0.0, \"recall\": 0.0}, {\"count\": 87, \"cutoff\": 10, \"regionidzip\": \"96351.0\", \"precision\": 0.0, \"recall\": 0.0}, {\"count\": 87, \"cutoff\": 11, \"regionidzip\": \"96351.0\", \"precision\": 0.0, \"recall\": 0.0}, {\"count\": 87, \"cutoff\": 16, \"regionidzip\": \"96351.0\", \"precision\": 0.0, \"recall\": 0.0}, {\"count\": 87, \"cutoff\": 21, \"regionidzip\": \"96351.0\", \"precision\": 0.0, \"recall\": 0.0}, {\"count\": 87, \"cutoff\": 26, \"regionidzip\": \"96351.0\", \"precision\": 0.0, \"recall\": 0.0}, {\"count\": 87, \"cutoff\": 31, \"regionidzip\": \"96351.0\", \"precision\": 0.0, \"recall\": 0.0}, {\"count\": 87, \"cutoff\": 36, \"regionidzip\": \"96351.0\", \"precision\": 0.0, \"recall\": 0.0}, {\"count\": 87, \"cutoff\": 41, \"regionidzip\": \"96351.0\", \"precision\": 0.0, \"recall\": 0.0}, {\"count\": 87, \"cutoff\": 46, \"regionidzip\": \"96351.0\", \"precision\": 0.0, \"recall\": 0.0}, {\"count\": 125, \"cutoff\": 1, \"regionidzip\": \"96368.0\", \"precision\": 0.0, \"recall\": 0.0}, {\"count\": 125, \"cutoff\": 2, \"regionidzip\": \"96368.0\", \"precision\": 0.0, \"recall\": 0.0}, {\"count\": 125, \"cutoff\": 3, \"regionidzip\": \"96368.0\", \"precision\": 0.0, \"recall\": 0.0}, {\"count\": 125, \"cutoff\": 4, \"regionidzip\": \"96368.0\", \"precision\": 0.0, \"recall\": 0.0}, {\"count\": 125, \"cutoff\": 5, \"regionidzip\": \"96368.0\", \"precision\": 0.0, \"recall\": 0.0}, {\"count\": 125, \"cutoff\": 6, \"regionidzip\": \"96368.0\", \"precision\": 0.0, \"recall\": 0.0}, {\"count\": 125, \"cutoff\": 7, \"regionidzip\": \"96368.0\", \"precision\": 0.0, \"recall\": 0.0}, {\"count\": 125, \"cutoff\": 8, \"regionidzip\": \"96368.0\", \"precision\": 0.0, \"recall\": 0.0}, {\"count\": 125, \"cutoff\": 9, \"regionidzip\": \"96368.0\", \"precision\": 0.0, \"recall\": 0.0}, {\"count\": 125, \"cutoff\": 10, \"regionidzip\": \"96368.0\", \"precision\": 0.0, \"recall\": 0.0}, {\"count\": 125, \"cutoff\": 11, \"regionidzip\": \"96368.0\", \"precision\": 0.0, \"recall\": 0.0}, {\"count\": 125, \"cutoff\": 16, \"regionidzip\": \"96368.0\", \"precision\": 0.0, \"recall\": 0.0}, {\"count\": 125, \"cutoff\": 21, \"regionidzip\": \"96368.0\", \"precision\": 0.0, \"recall\": 0.0}, {\"count\": 125, \"cutoff\": 26, \"regionidzip\": \"96368.0\", \"precision\": 0.0, \"recall\": 0.0}, {\"count\": 125, \"cutoff\": 31, \"regionidzip\": \"96368.0\", \"precision\": 0.0, \"recall\": 0.0}, {\"count\": 125, \"cutoff\": 36, \"regionidzip\": \"96368.0\", \"precision\": 0.0, \"recall\": 0.0}, {\"count\": 125, \"cutoff\": 41, \"regionidzip\": \"96368.0\", \"precision\": 0.0, \"recall\": 0.0}, {\"count\": 125, \"cutoff\": 46, \"regionidzip\": \"96368.0\", \"precision\": 0.0, \"recall\": 0.0}, {\"count\": 83, \"cutoff\": 1, \"regionidzip\": \"96369.0\", \"precision\": 0.0, \"recall\": 0.0}, {\"count\": 83, \"cutoff\": 2, \"regionidzip\": \"96369.0\", \"precision\": 0.0, \"recall\": 0.0}, {\"count\": 83, \"cutoff\": 3, \"regionidzip\": \"96369.0\", \"precision\": 0.0, \"recall\": 0.0}, {\"count\": 83, \"cutoff\": 4, \"regionidzip\": \"96369.0\", \"precision\": 0.0, \"recall\": 0.0}, {\"count\": 83, \"cutoff\": 5, \"regionidzip\": \"96369.0\", \"precision\": 0.0, \"recall\": 0.0}, {\"count\": 83, \"cutoff\": 6, \"regionidzip\": \"96369.0\", \"precision\": 0.0, \"recall\": 0.0}, {\"count\": 83, \"cutoff\": 7, \"regionidzip\": \"96369.0\", \"precision\": 0.0, \"recall\": 0.0}, {\"count\": 83, \"cutoff\": 8, \"regionidzip\": \"96369.0\", \"precision\": 0.0, \"recall\": 0.0}, {\"count\": 83, \"cutoff\": 9, \"regionidzip\": \"96369.0\", \"precision\": 0.0, \"recall\": 0.0}, {\"count\": 83, \"cutoff\": 10, \"regionidzip\": \"96369.0\", \"precision\": 0.0, \"recall\": 0.0}, {\"count\": 83, \"cutoff\": 11, \"regionidzip\": \"96369.0\", \"precision\": 0.0, \"recall\": 0.0}, {\"count\": 83, \"cutoff\": 16, \"regionidzip\": \"96369.0\", \"precision\": 0.0, \"recall\": 0.0}, {\"count\": 83, \"cutoff\": 21, \"regionidzip\": \"96369.0\", \"precision\": 0.0, \"recall\": 0.0}, {\"count\": 83, \"cutoff\": 26, \"regionidzip\": \"96369.0\", \"precision\": 0.0, \"recall\": 0.0}, {\"count\": 83, \"cutoff\": 31, \"regionidzip\": \"96369.0\", \"precision\": 0.0, \"recall\": 0.0}, {\"count\": 83, \"cutoff\": 36, \"regionidzip\": \"96369.0\", \"precision\": 0.0, \"recall\": 0.0}, {\"count\": 83, \"cutoff\": 41, \"regionidzip\": \"96369.0\", \"precision\": 0.0, \"recall\": 0.0}, {\"count\": 83, \"cutoff\": 46, \"regionidzip\": \"96369.0\", \"precision\": 0.0, \"recall\": 0.0}, {\"count\": 98, \"cutoff\": 1, \"regionidzip\": \"96385.0\", \"precision\": 0.0, \"recall\": 0.0}, {\"count\": 98, \"cutoff\": 2, \"regionidzip\": \"96385.0\", \"precision\": 0.0, \"recall\": 0.0}, {\"count\": 98, \"cutoff\": 3, \"regionidzip\": \"96385.0\", \"precision\": 0.0, \"recall\": 0.0}, {\"count\": 98, \"cutoff\": 4, \"regionidzip\": \"96385.0\", \"precision\": 0.0, \"recall\": 0.0}, {\"count\": 98, \"cutoff\": 5, \"regionidzip\": \"96385.0\", \"precision\": 0.0, \"recall\": 0.0}, {\"count\": 98, \"cutoff\": 6, \"regionidzip\": \"96385.0\", \"precision\": 0.0, \"recall\": 0.0}, {\"count\": 98, \"cutoff\": 7, \"regionidzip\": \"96385.0\", \"precision\": 0.0, \"recall\": 0.0}, {\"count\": 98, \"cutoff\": 8, \"regionidzip\": \"96385.0\", \"precision\": 0.0, \"recall\": 0.0}, {\"count\": 98, \"cutoff\": 9, \"regionidzip\": \"96385.0\", \"precision\": 0.0, \"recall\": 0.0}, {\"count\": 98, \"cutoff\": 10, \"regionidzip\": \"96385.0\", \"precision\": 0.0, \"recall\": 0.0}, {\"count\": 98, \"cutoff\": 11, \"regionidzip\": \"96385.0\", \"precision\": 0.0, \"recall\": 0.0}, {\"count\": 98, \"cutoff\": 16, \"regionidzip\": \"96385.0\", \"precision\": 0.0, \"recall\": 0.0}, {\"count\": 98, \"cutoff\": 21, \"regionidzip\": \"96385.0\", \"precision\": 0.0, \"recall\": 0.0}, {\"count\": 98, \"cutoff\": 26, \"regionidzip\": \"96385.0\", \"precision\": 0.0, \"recall\": 0.0}, {\"count\": 98, \"cutoff\": 31, \"regionidzip\": \"96385.0\", \"precision\": 0.0, \"recall\": 0.0}, {\"count\": 98, \"cutoff\": 36, \"regionidzip\": \"96385.0\", \"precision\": 0.0, \"recall\": 0.0}, {\"count\": 98, \"cutoff\": 41, \"regionidzip\": \"96385.0\", \"precision\": 0.0, \"recall\": 0.0}, {\"count\": 98, \"cutoff\": 46, \"regionidzip\": \"96385.0\", \"precision\": 0.0, \"recall\": 0.0}, {\"count\": 83, \"cutoff\": 1, \"regionidzip\": \"96401.0\", \"precision\": 0.0, \"recall\": 0.0}, {\"count\": 83, \"cutoff\": 2, \"regionidzip\": \"96401.0\", \"precision\": 0.0, \"recall\": 0.0}, {\"count\": 83, \"cutoff\": 3, \"regionidzip\": \"96401.0\", \"precision\": 0.0, \"recall\": 0.0}, {\"count\": 83, \"cutoff\": 4, \"regionidzip\": \"96401.0\", \"precision\": 0.0, \"recall\": 0.0}, {\"count\": 83, \"cutoff\": 5, \"regionidzip\": \"96401.0\", \"precision\": 0.0, \"recall\": 0.0}, {\"count\": 83, \"cutoff\": 6, \"regionidzip\": \"96401.0\", \"precision\": 0.0, \"recall\": 0.0}, {\"count\": 83, \"cutoff\": 7, \"regionidzip\": \"96401.0\", \"precision\": 0.0, \"recall\": 0.0}, {\"count\": 83, \"cutoff\": 8, \"regionidzip\": \"96401.0\", \"precision\": 0.0, \"recall\": 0.0}, {\"count\": 83, \"cutoff\": 9, \"regionidzip\": \"96401.0\", \"precision\": 0.0, \"recall\": 0.0}, {\"count\": 83, \"cutoff\": 10, \"regionidzip\": \"96401.0\", \"precision\": 0.0, \"recall\": 0.0}, {\"count\": 83, \"cutoff\": 11, \"regionidzip\": \"96401.0\", \"precision\": 0.0, \"recall\": 0.0}, {\"count\": 83, \"cutoff\": 16, \"regionidzip\": \"96401.0\", \"precision\": 0.0, \"recall\": 0.0}, {\"count\": 83, \"cutoff\": 21, \"regionidzip\": \"96401.0\", \"precision\": 0.0, \"recall\": 0.0}, {\"count\": 83, \"cutoff\": 26, \"regionidzip\": \"96401.0\", \"precision\": 0.0, \"recall\": 0.0}, {\"count\": 83, \"cutoff\": 31, \"regionidzip\": \"96401.0\", \"precision\": 0.0, \"recall\": 0.0}, {\"count\": 83, \"cutoff\": 36, \"regionidzip\": \"96401.0\", \"precision\": 0.0, \"recall\": 0.0}, {\"count\": 83, \"cutoff\": 41, \"regionidzip\": \"96401.0\", \"precision\": 0.0, \"recall\": 0.0}, {\"count\": 83, \"cutoff\": 46, \"regionidzip\": \"96401.0\", \"precision\": 0.0, \"recall\": 0.0}, {\"count\": 36, \"cutoff\": 1, \"regionidzip\": \"96479.0\", \"precision\": 0.0, \"recall\": 0.0}, {\"count\": 36, \"cutoff\": 2, \"regionidzip\": \"96479.0\", \"precision\": 0.0, \"recall\": 0.0}, {\"count\": 36, \"cutoff\": 3, \"regionidzip\": \"96479.0\", \"precision\": 0.0, \"recall\": 0.0}, {\"count\": 36, \"cutoff\": 4, \"regionidzip\": \"96479.0\", \"precision\": 0.0, \"recall\": 0.0}, {\"count\": 36, \"cutoff\": 5, \"regionidzip\": \"96479.0\", \"precision\": 0.0, \"recall\": 0.0}, {\"count\": 36, \"cutoff\": 6, \"regionidzip\": \"96479.0\", \"precision\": 0.0, \"recall\": 0.0}, {\"count\": 36, \"cutoff\": 7, \"regionidzip\": \"96479.0\", \"precision\": 0.0, \"recall\": 0.0}, {\"count\": 36, \"cutoff\": 8, \"regionidzip\": \"96479.0\", \"precision\": 0.0, \"recall\": 0.0}, {\"count\": 36, \"cutoff\": 9, \"regionidzip\": \"96479.0\", \"precision\": 0.0, \"recall\": 0.0}, {\"count\": 36, \"cutoff\": 10, \"regionidzip\": \"96479.0\", \"precision\": 0.0, \"recall\": 0.0}, {\"count\": 36, \"cutoff\": 11, \"regionidzip\": \"96479.0\", \"precision\": 0.0, \"recall\": 0.0}, {\"count\": 36, \"cutoff\": 16, \"regionidzip\": \"96479.0\", \"precision\": 0.0, \"recall\": 0.0}, {\"count\": 36, \"cutoff\": 21, \"regionidzip\": \"96479.0\", \"precision\": 0.0, \"recall\": 0.0}, {\"count\": 36, \"cutoff\": 26, \"regionidzip\": \"96479.0\", \"precision\": 0.0, \"recall\": 0.0}, {\"count\": 36, \"cutoff\": 31, \"regionidzip\": \"96479.0\", \"precision\": 0.0, \"recall\": 0.0}, {\"count\": 36, \"cutoff\": 36, \"regionidzip\": \"96479.0\", \"precision\": 0.0, \"recall\": 0.0}, {\"count\": 36, \"cutoff\": 41, \"regionidzip\": \"96479.0\", \"precision\": 0.0, \"recall\": 0.0}, {\"count\": 36, \"cutoff\": 46, \"regionidzip\": \"96479.0\", \"precision\": 0.0, \"recall\": 0.0}, {\"count\": 52, \"cutoff\": 1, \"regionidzip\": \"96513.0\", \"precision\": 0.0, \"recall\": 0.0}, {\"count\": 52, \"cutoff\": 2, \"regionidzip\": \"96513.0\", \"precision\": 0.0, \"recall\": 0.0}, {\"count\": 52, \"cutoff\": 3, \"regionidzip\": \"96513.0\", \"precision\": 0.0, \"recall\": 0.0}, {\"count\": 52, \"cutoff\": 4, \"regionidzip\": \"96513.0\", \"precision\": 0.0, \"recall\": 0.0}, {\"count\": 52, \"cutoff\": 5, \"regionidzip\": \"96513.0\", \"precision\": 0.0, \"recall\": 0.0}, {\"count\": 52, \"cutoff\": 6, \"regionidzip\": \"96513.0\", \"precision\": 0.0, \"recall\": 0.0}, {\"count\": 52, \"cutoff\": 7, \"regionidzip\": \"96513.0\", \"precision\": 0.0, \"recall\": 0.0}, {\"count\": 52, \"cutoff\": 8, \"regionidzip\": \"96513.0\", \"precision\": 0.0, \"recall\": 0.0}, {\"count\": 52, \"cutoff\": 9, \"regionidzip\": \"96513.0\", \"precision\": 0.0, \"recall\": 0.0}, {\"count\": 52, \"cutoff\": 10, \"regionidzip\": \"96513.0\", \"precision\": 0.0, \"recall\": 0.0}, {\"count\": 52, \"cutoff\": 11, \"regionidzip\": \"96513.0\", \"precision\": 0.0, \"recall\": 0.0}, {\"count\": 52, \"cutoff\": 16, \"regionidzip\": \"96513.0\", \"precision\": 0.0, \"recall\": 0.0}, {\"count\": 52, \"cutoff\": 21, \"regionidzip\": \"96513.0\", \"precision\": 0.0, \"recall\": 0.0}, {\"count\": 52, \"cutoff\": 26, \"regionidzip\": \"96513.0\", \"precision\": 0.0, \"recall\": 0.0}, {\"count\": 52, \"cutoff\": 31, \"regionidzip\": \"96513.0\", \"precision\": 0.0, \"recall\": 0.0}, {\"count\": 52, \"cutoff\": 36, \"regionidzip\": \"96513.0\", \"precision\": 0.0, \"recall\": 0.0}, {\"count\": 52, \"cutoff\": 41, \"regionidzip\": \"96513.0\", \"precision\": 0.0, \"recall\": 0.0}, {\"count\": 52, \"cutoff\": 46, \"regionidzip\": \"96513.0\", \"precision\": 0.0, \"recall\": 0.0}, {\"count\": 52, \"cutoff\": 1, \"regionidzip\": \"96522.0\", \"precision\": 0.0, \"recall\": 0.0}, {\"count\": 52, \"cutoff\": 2, \"regionidzip\": \"96522.0\", \"precision\": 0.0, \"recall\": 0.0}, {\"count\": 52, \"cutoff\": 3, \"regionidzip\": \"96522.0\", \"precision\": 0.0, \"recall\": 0.0}, {\"count\": 52, \"cutoff\": 4, \"regionidzip\": \"96522.0\", \"precision\": 0.0, \"recall\": 0.0}, {\"count\": 52, \"cutoff\": 5, \"regionidzip\": \"96522.0\", \"precision\": 0.0, \"recall\": 0.0}, {\"count\": 52, \"cutoff\": 6, \"regionidzip\": \"96522.0\", \"precision\": 0.0, \"recall\": 0.0}, {\"count\": 52, \"cutoff\": 7, \"regionidzip\": \"96522.0\", \"precision\": 0.0, \"recall\": 0.0}, {\"count\": 52, \"cutoff\": 8, \"regionidzip\": \"96522.0\", \"precision\": 0.0, \"recall\": 0.0}, {\"count\": 52, \"cutoff\": 9, \"regionidzip\": \"96522.0\", \"precision\": 0.0, \"recall\": 0.0}, {\"count\": 52, \"cutoff\": 10, \"regionidzip\": \"96522.0\", \"precision\": 0.0, \"recall\": 0.0}, {\"count\": 52, \"cutoff\": 11, \"regionidzip\": \"96522.0\", \"precision\": 0.0, \"recall\": 0.0}, {\"count\": 52, \"cutoff\": 16, \"regionidzip\": \"96522.0\", \"precision\": 0.0, \"recall\": 0.0}, {\"count\": 52, \"cutoff\": 21, \"regionidzip\": \"96522.0\", \"precision\": 0.0, \"recall\": 0.0}, {\"count\": 52, \"cutoff\": 26, \"regionidzip\": \"96522.0\", \"precision\": 0.0, \"recall\": 0.0}, {\"count\": 52, \"cutoff\": 31, \"regionidzip\": \"96522.0\", \"precision\": 0.0, \"recall\": 0.0}, {\"count\": 52, \"cutoff\": 36, \"regionidzip\": \"96522.0\", \"precision\": 0.0, \"recall\": 0.0}, {\"count\": 52, \"cutoff\": 41, \"regionidzip\": \"96522.0\", \"precision\": 0.0, \"recall\": 0.0}, {\"count\": 52, \"cutoff\": 46, \"regionidzip\": \"96522.0\", \"precision\": 0.0, \"recall\": 0.0}, {\"count\": 7, \"cutoff\": 1, \"regionidzip\": \"96956.0\", \"precision\": 0.0, \"recall\": 0.0}, {\"count\": 7, \"cutoff\": 2, \"regionidzip\": \"96956.0\", \"precision\": 0.0, \"recall\": 0.0}, {\"count\": 7, \"cutoff\": 3, \"regionidzip\": \"96956.0\", \"precision\": 0.0, \"recall\": 0.0}, {\"count\": 7, \"cutoff\": 4, \"regionidzip\": \"96956.0\", \"precision\": 0.0, \"recall\": 0.0}, {\"count\": 7, \"cutoff\": 5, \"regionidzip\": \"96956.0\", \"precision\": 0.0, \"recall\": 0.0}, {\"count\": 7, \"cutoff\": 6, \"regionidzip\": \"96956.0\", \"precision\": 0.0, \"recall\": 0.0}, {\"count\": 7, \"cutoff\": 7, \"regionidzip\": \"96956.0\", \"precision\": 0.0, \"recall\": 0.0}, {\"count\": 7, \"cutoff\": 8, \"regionidzip\": \"96956.0\", \"precision\": 0.0, \"recall\": 0.0}, {\"count\": 7, \"cutoff\": 9, \"regionidzip\": \"96956.0\", \"precision\": 0.0, \"recall\": 0.0}, {\"count\": 7, \"cutoff\": 10, \"regionidzip\": \"96956.0\", \"precision\": 0.0, \"recall\": 0.0}, {\"count\": 7, \"cutoff\": 11, \"regionidzip\": \"96956.0\", \"precision\": 0.0, \"recall\": 0.0}, {\"count\": 7, \"cutoff\": 16, \"regionidzip\": \"96956.0\", \"precision\": 0.0, \"recall\": 0.0}, {\"count\": 7, \"cutoff\": 21, \"regionidzip\": \"96956.0\", \"precision\": 0.0, \"recall\": 0.0}, {\"count\": 7, \"cutoff\": 26, \"regionidzip\": \"96956.0\", \"precision\": 0.0, \"recall\": 0.0}, {\"count\": 7, \"cutoff\": 31, \"regionidzip\": \"96956.0\", \"precision\": 0.0, \"recall\": 0.0}, {\"count\": 7, \"cutoff\": 36, \"regionidzip\": \"96956.0\", \"precision\": 0.0, \"recall\": 0.0}, {\"count\": 7, \"cutoff\": 41, \"regionidzip\": \"96956.0\", \"precision\": 0.0, \"recall\": 0.0}, {\"count\": 7, \"cutoff\": 46, \"regionidzip\": \"96956.0\", \"precision\": 0.0, \"recall\": 0.0}, {\"count\": 72, \"cutoff\": 1, \"regionidzip\": \"96959.0\", \"precision\": 0.0, \"recall\": 0.0}, {\"count\": 72, \"cutoff\": 2, \"regionidzip\": \"96959.0\", \"precision\": 0.0, \"recall\": 0.0}, {\"count\": 72, \"cutoff\": 3, \"regionidzip\": \"96959.0\", \"precision\": 0.0, \"recall\": 0.0}, {\"count\": 72, \"cutoff\": 4, \"regionidzip\": \"96959.0\", \"precision\": 0.0, \"recall\": 0.0}, {\"count\": 72, \"cutoff\": 5, \"regionidzip\": \"96959.0\", \"precision\": 0.0, \"recall\": 0.0}, {\"count\": 72, \"cutoff\": 6, \"regionidzip\": \"96959.0\", \"precision\": 0.0, \"recall\": 0.0}, {\"count\": 72, \"cutoff\": 7, \"regionidzip\": \"96959.0\", \"precision\": 0.0, \"recall\": 0.0}, {\"count\": 72, \"cutoff\": 8, \"regionidzip\": \"96959.0\", \"precision\": 0.0, \"recall\": 0.0}, {\"count\": 72, \"cutoff\": 9, \"regionidzip\": \"96959.0\", \"precision\": 0.0, \"recall\": 0.0}, {\"count\": 72, \"cutoff\": 10, \"regionidzip\": \"96959.0\", \"precision\": 0.0, \"recall\": 0.0}, {\"count\": 72, \"cutoff\": 11, \"regionidzip\": \"96959.0\", \"precision\": 0.0, \"recall\": 0.0}, {\"count\": 72, \"cutoff\": 16, \"regionidzip\": \"96959.0\", \"precision\": 0.0, \"recall\": 0.0}, {\"count\": 72, \"cutoff\": 21, \"regionidzip\": \"96959.0\", \"precision\": 0.0, \"recall\": 0.0}, {\"count\": 72, \"cutoff\": 26, \"regionidzip\": \"96959.0\", \"precision\": 0.0, \"recall\": 0.0}, {\"count\": 72, \"cutoff\": 31, \"regionidzip\": \"96959.0\", \"precision\": 0.0, \"recall\": 0.0}, {\"count\": 72, \"cutoff\": 36, \"regionidzip\": \"96959.0\", \"precision\": 0.0, \"recall\": 0.0}, {\"count\": 72, \"cutoff\": 41, \"regionidzip\": \"96959.0\", \"precision\": 0.0, \"recall\": 0.0}, {\"count\": 72, \"cutoff\": 46, \"regionidzip\": \"96959.0\", \"precision\": 0.0, \"recall\": 0.0}, {\"count\": 28, \"cutoff\": 1, \"regionidzip\": \"97001.0\", \"precision\": 1.0, \"recall\": 0.03571428571428571}, {\"count\": 28, \"cutoff\": 2, \"regionidzip\": \"97001.0\", \"precision\": 0.5, \"recall\": 0.03571428571428571}, {\"count\": 28, \"cutoff\": 3, \"regionidzip\": \"97001.0\", \"precision\": 0.3333333333333333, \"recall\": 0.03571428571428571}, {\"count\": 28, \"cutoff\": 4, \"regionidzip\": \"97001.0\", \"precision\": 0.25, \"recall\": 0.03571428571428571}, {\"count\": 28, \"cutoff\": 5, \"regionidzip\": \"97001.0\", \"precision\": 0.2, \"recall\": 0.03571428571428571}, {\"count\": 28, \"cutoff\": 6, \"regionidzip\": \"97001.0\", \"precision\": 0.16666666666666666, \"recall\": 0.03571428571428571}, {\"count\": 28, \"cutoff\": 7, \"regionidzip\": \"97001.0\", \"precision\": 0.14285714285714285, \"recall\": 0.03571428571428571}, {\"count\": 28, \"cutoff\": 8, \"regionidzip\": \"97001.0\", \"precision\": 0.125, \"recall\": 0.03571428571428571}, {\"count\": 28, \"cutoff\": 9, \"regionidzip\": \"97001.0\", \"precision\": 0.1111111111111111, \"recall\": 0.03571428571428571}, {\"count\": 28, \"cutoff\": 10, \"regionidzip\": \"97001.0\", \"precision\": 0.1, \"recall\": 0.03571428571428571}, {\"count\": 28, \"cutoff\": 11, \"regionidzip\": \"97001.0\", \"precision\": 0.1, \"recall\": 0.03571428571428571}, {\"count\": 28, \"cutoff\": 16, \"regionidzip\": \"97001.0\", \"precision\": 0.1, \"recall\": 0.03571428571428571}, {\"count\": 28, \"cutoff\": 21, \"regionidzip\": \"97001.0\", \"precision\": 0.1, \"recall\": 0.03571428571428571}, {\"count\": 28, \"cutoff\": 26, \"regionidzip\": \"97001.0\", \"precision\": 0.1, \"recall\": 0.03571428571428571}, {\"count\": 28, \"cutoff\": 31, \"regionidzip\": \"97001.0\", \"precision\": 0.1, \"recall\": 0.03571428571428571}, {\"count\": 28, \"cutoff\": 36, \"regionidzip\": \"97001.0\", \"precision\": 0.1, \"recall\": 0.03571428571428571}, {\"count\": 28, \"cutoff\": 41, \"regionidzip\": \"97001.0\", \"precision\": 0.1, \"recall\": 0.03571428571428571}, {\"count\": 28, \"cutoff\": 46, \"regionidzip\": \"97001.0\", \"precision\": 0.1, \"recall\": 0.03571428571428571}, {\"count\": 51, \"cutoff\": 1, \"regionidzip\": \"97027.0\", \"precision\": 0.0, \"recall\": 0.0}, {\"count\": 51, \"cutoff\": 2, \"regionidzip\": \"97027.0\", \"precision\": 0.0, \"recall\": 0.0}, {\"count\": 51, \"cutoff\": 3, \"regionidzip\": \"97027.0\", \"precision\": 0.0, \"recall\": 0.0}, {\"count\": 51, \"cutoff\": 4, \"regionidzip\": \"97027.0\", \"precision\": 0.0, \"recall\": 0.0}, {\"count\": 51, \"cutoff\": 5, \"regionidzip\": \"97027.0\", \"precision\": 0.0, \"recall\": 0.0}, {\"count\": 51, \"cutoff\": 6, \"regionidzip\": \"97027.0\", \"precision\": 0.0, \"recall\": 0.0}, {\"count\": 51, \"cutoff\": 7, \"regionidzip\": \"97027.0\", \"precision\": 0.0, \"recall\": 0.0}, {\"count\": 51, \"cutoff\": 8, \"regionidzip\": \"97027.0\", \"precision\": 0.0, \"recall\": 0.0}, {\"count\": 51, \"cutoff\": 9, \"regionidzip\": \"97027.0\", \"precision\": 0.0, \"recall\": 0.0}, {\"count\": 51, \"cutoff\": 10, \"regionidzip\": \"97027.0\", \"precision\": 0.0, \"recall\": 0.0}, {\"count\": 51, \"cutoff\": 11, \"regionidzip\": \"97027.0\", \"precision\": 0.0, \"recall\": 0.0}, {\"count\": 51, \"cutoff\": 16, \"regionidzip\": \"97027.0\", \"precision\": 0.0, \"recall\": 0.0}, {\"count\": 51, \"cutoff\": 21, \"regionidzip\": \"97027.0\", \"precision\": 0.0, \"recall\": 0.0}, {\"count\": 51, \"cutoff\": 26, \"regionidzip\": \"97027.0\", \"precision\": 0.0, \"recall\": 0.0}, {\"count\": 51, \"cutoff\": 31, \"regionidzip\": \"97027.0\", \"precision\": 0.0, \"recall\": 0.0}, {\"count\": 51, \"cutoff\": 36, \"regionidzip\": \"97027.0\", \"precision\": 0.0, \"recall\": 0.0}, {\"count\": 51, \"cutoff\": 41, \"regionidzip\": \"97027.0\", \"precision\": 0.0, \"recall\": 0.0}, {\"count\": 51, \"cutoff\": 46, \"regionidzip\": \"97027.0\", \"precision\": 0.0, \"recall\": 0.0}, {\"count\": 51, \"cutoff\": 1, \"regionidzip\": \"97047.0\", \"precision\": 0.0, \"recall\": 0.0}, {\"count\": 51, \"cutoff\": 2, \"regionidzip\": \"97047.0\", \"precision\": 0.0, \"recall\": 0.0}, {\"count\": 51, \"cutoff\": 3, \"regionidzip\": \"97047.0\", \"precision\": 0.0, \"recall\": 0.0}, {\"count\": 51, \"cutoff\": 4, \"regionidzip\": \"97047.0\", \"precision\": 0.0, \"recall\": 0.0}, {\"count\": 51, \"cutoff\": 5, \"regionidzip\": \"97047.0\", \"precision\": 0.0, \"recall\": 0.0}, {\"count\": 51, \"cutoff\": 6, \"regionidzip\": \"97047.0\", \"precision\": 0.0, \"recall\": 0.0}, {\"count\": 51, \"cutoff\": 7, \"regionidzip\": \"97047.0\", \"precision\": 0.0, \"recall\": 0.0}, {\"count\": 51, \"cutoff\": 8, \"regionidzip\": \"97047.0\", \"precision\": 0.0, \"recall\": 0.0}, {\"count\": 51, \"cutoff\": 9, \"regionidzip\": \"97047.0\", \"precision\": 0.0, \"recall\": 0.0}, {\"count\": 51, \"cutoff\": 10, \"regionidzip\": \"97047.0\", \"precision\": 0.0, \"recall\": 0.0}, {\"count\": 51, \"cutoff\": 11, \"regionidzip\": \"97047.0\", \"precision\": 0.0, \"recall\": 0.0}, {\"count\": 51, \"cutoff\": 16, \"regionidzip\": \"97047.0\", \"precision\": 0.0, \"recall\": 0.0}, {\"count\": 51, \"cutoff\": 21, \"regionidzip\": \"97047.0\", \"precision\": 0.0, \"recall\": 0.0}, {\"count\": 51, \"cutoff\": 26, \"regionidzip\": \"97047.0\", \"precision\": 0.0, \"recall\": 0.0}, {\"count\": 51, \"cutoff\": 31, \"regionidzip\": \"97047.0\", \"precision\": 0.0, \"recall\": 0.0}, {\"count\": 51, \"cutoff\": 36, \"regionidzip\": \"97047.0\", \"precision\": 0.0, \"recall\": 0.0}, {\"count\": 51, \"cutoff\": 41, \"regionidzip\": \"97047.0\", \"precision\": 0.0, \"recall\": 0.0}, {\"count\": 51, \"cutoff\": 46, \"regionidzip\": \"97047.0\", \"precision\": 0.0, \"recall\": 0.0}, {\"count\": 65, \"cutoff\": 1, \"regionidzip\": \"97067.0\", \"precision\": 0.0, \"recall\": 0.0}, {\"count\": 65, \"cutoff\": 2, \"regionidzip\": \"97067.0\", \"precision\": 0.0, \"recall\": 0.0}, {\"count\": 65, \"cutoff\": 3, \"regionidzip\": \"97067.0\", \"precision\": 0.0, \"recall\": 0.0}, {\"count\": 65, \"cutoff\": 4, \"regionidzip\": \"97067.0\", \"precision\": 0.0, \"recall\": 0.0}, {\"count\": 65, \"cutoff\": 5, \"regionidzip\": \"97067.0\", \"precision\": 0.0, \"recall\": 0.0}, {\"count\": 65, \"cutoff\": 6, \"regionidzip\": \"97067.0\", \"precision\": 0.0, \"recall\": 0.0}, {\"count\": 65, \"cutoff\": 7, \"regionidzip\": \"97067.0\", \"precision\": 0.0, \"recall\": 0.0}, {\"count\": 65, \"cutoff\": 8, \"regionidzip\": \"97067.0\", \"precision\": 0.0, \"recall\": 0.0}, {\"count\": 65, \"cutoff\": 9, \"regionidzip\": \"97067.0\", \"precision\": 0.0, \"recall\": 0.0}, {\"count\": 65, \"cutoff\": 10, \"regionidzip\": \"97067.0\", \"precision\": 0.0, \"recall\": 0.0}, {\"count\": 65, \"cutoff\": 11, \"regionidzip\": \"97067.0\", \"precision\": 0.0, \"recall\": 0.0}, {\"count\": 65, \"cutoff\": 16, \"regionidzip\": \"97067.0\", \"precision\": 0.0, \"recall\": 0.0}, {\"count\": 65, \"cutoff\": 21, \"regionidzip\": \"97067.0\", \"precision\": 0.0, \"recall\": 0.0}, {\"count\": 65, \"cutoff\": 26, \"regionidzip\": \"97067.0\", \"precision\": 0.0, \"recall\": 0.0}, {\"count\": 65, \"cutoff\": 31, \"regionidzip\": \"97067.0\", \"precision\": 0.0, \"recall\": 0.0}, {\"count\": 65, \"cutoff\": 36, \"regionidzip\": \"97067.0\", \"precision\": 0.0, \"recall\": 0.0}, {\"count\": 65, \"cutoff\": 41, \"regionidzip\": \"97067.0\", \"precision\": 0.0, \"recall\": 0.0}, {\"count\": 65, \"cutoff\": 46, \"regionidzip\": \"97067.0\", \"precision\": 0.0, \"recall\": 0.0}, {\"count\": 51, \"cutoff\": 1, \"regionidzip\": \"97081.0\", \"precision\": 0.0, \"recall\": 0.0}, {\"count\": 51, \"cutoff\": 2, \"regionidzip\": \"97081.0\", \"precision\": 0.0, \"recall\": 0.0}, {\"count\": 51, \"cutoff\": 3, \"regionidzip\": \"97081.0\", \"precision\": 0.0, \"recall\": 0.0}, {\"count\": 51, \"cutoff\": 4, \"regionidzip\": \"97081.0\", \"precision\": 0.25, \"recall\": 0.0196078431372549}, {\"count\": 51, \"cutoff\": 5, \"regionidzip\": \"97081.0\", \"precision\": 0.2, \"recall\": 0.0196078431372549}, {\"count\": 51, \"cutoff\": 6, \"regionidzip\": \"97081.0\", \"precision\": 0.16666666666666666, \"recall\": 0.0196078431372549}, {\"count\": 51, \"cutoff\": 7, \"regionidzip\": \"97081.0\", \"precision\": 0.14285714285714285, \"recall\": 0.0196078431372549}, {\"count\": 51, \"cutoff\": 8, \"regionidzip\": \"97081.0\", \"precision\": 0.14285714285714285, \"recall\": 0.0196078431372549}, {\"count\": 51, \"cutoff\": 9, \"regionidzip\": \"97081.0\", \"precision\": 0.14285714285714285, \"recall\": 0.0196078431372549}, {\"count\": 51, \"cutoff\": 10, \"regionidzip\": \"97081.0\", \"precision\": 0.14285714285714285, \"recall\": 0.0196078431372549}, {\"count\": 51, \"cutoff\": 11, \"regionidzip\": \"97081.0\", \"precision\": 0.14285714285714285, \"recall\": 0.0196078431372549}, {\"count\": 51, \"cutoff\": 16, \"regionidzip\": \"97081.0\", \"precision\": 0.14285714285714285, \"recall\": 0.0196078431372549}, {\"count\": 51, \"cutoff\": 21, \"regionidzip\": \"97081.0\", \"precision\": 0.14285714285714285, \"recall\": 0.0196078431372549}, {\"count\": 51, \"cutoff\": 26, \"regionidzip\": \"97081.0\", \"precision\": 0.14285714285714285, \"recall\": 0.0196078431372549}, {\"count\": 51, \"cutoff\": 31, \"regionidzip\": \"97081.0\", \"precision\": 0.14285714285714285, \"recall\": 0.0196078431372549}, {\"count\": 51, \"cutoff\": 36, \"regionidzip\": \"97081.0\", \"precision\": 0.14285714285714285, \"recall\": 0.0196078431372549}, {\"count\": 51, \"cutoff\": 41, \"regionidzip\": \"97081.0\", \"precision\": 0.14285714285714285, \"recall\": 0.0196078431372549}, {\"count\": 51, \"cutoff\": 46, \"regionidzip\": \"97081.0\", \"precision\": 0.14285714285714285, \"recall\": 0.0196078431372549}, {\"count\": 80, \"cutoff\": 1, \"regionidzip\": \"97083.0\", \"precision\": 0.0, \"recall\": 0.0}, {\"count\": 80, \"cutoff\": 2, \"regionidzip\": \"97083.0\", \"precision\": 0.0, \"recall\": 0.0}, {\"count\": 80, \"cutoff\": 3, \"regionidzip\": \"97083.0\", \"precision\": 0.0, \"recall\": 0.0}, {\"count\": 80, \"cutoff\": 4, \"regionidzip\": \"97083.0\", \"precision\": 0.0, \"recall\": 0.0}, {\"count\": 80, \"cutoff\": 5, \"regionidzip\": \"97083.0\", \"precision\": 0.2, \"recall\": 0.0125}, {\"count\": 80, \"cutoff\": 6, \"regionidzip\": \"97083.0\", \"precision\": 0.16666666666666666, \"recall\": 0.0125}, {\"count\": 80, \"cutoff\": 7, \"regionidzip\": \"97083.0\", \"precision\": 0.14285714285714285, \"recall\": 0.0125}, {\"count\": 80, \"cutoff\": 8, \"regionidzip\": \"97083.0\", \"precision\": 0.125, \"recall\": 0.0125}, {\"count\": 80, \"cutoff\": 9, \"regionidzip\": \"97083.0\", \"precision\": 0.125, \"recall\": 0.0125}, {\"count\": 80, \"cutoff\": 10, \"regionidzip\": \"97083.0\", \"precision\": 0.125, \"recall\": 0.0125}, {\"count\": 80, \"cutoff\": 11, \"regionidzip\": \"97083.0\", \"precision\": 0.125, \"recall\": 0.0125}, {\"count\": 80, \"cutoff\": 16, \"regionidzip\": \"97083.0\", \"precision\": 0.125, \"recall\": 0.0125}, {\"count\": 80, \"cutoff\": 21, \"regionidzip\": \"97083.0\", \"precision\": 0.125, \"recall\": 0.0125}, {\"count\": 80, \"cutoff\": 26, \"regionidzip\": \"97083.0\", \"precision\": 0.125, \"recall\": 0.0125}, {\"count\": 80, \"cutoff\": 31, \"regionidzip\": \"97083.0\", \"precision\": 0.125, \"recall\": 0.0125}, {\"count\": 80, \"cutoff\": 36, \"regionidzip\": \"97083.0\", \"precision\": 0.125, \"recall\": 0.0125}, {\"count\": 80, \"cutoff\": 41, \"regionidzip\": \"97083.0\", \"precision\": 0.125, \"recall\": 0.0125}, {\"count\": 80, \"cutoff\": 46, \"regionidzip\": \"97083.0\", \"precision\": 0.125, \"recall\": 0.0125}, {\"count\": 78, \"cutoff\": 1, \"regionidzip\": \"97089.0\", \"precision\": 0.0, \"recall\": 0.0}, {\"count\": 78, \"cutoff\": 2, \"regionidzip\": \"97089.0\", \"precision\": 0.0, \"recall\": 0.0}, {\"count\": 78, \"cutoff\": 3, \"regionidzip\": \"97089.0\", \"precision\": 0.0, \"recall\": 0.0}, {\"count\": 78, \"cutoff\": 4, \"regionidzip\": \"97089.0\", \"precision\": 0.0, \"recall\": 0.0}, {\"count\": 78, \"cutoff\": 5, \"regionidzip\": \"97089.0\", \"precision\": 0.0, \"recall\": 0.0}, {\"count\": 78, \"cutoff\": 6, \"regionidzip\": \"97089.0\", \"precision\": 0.0, \"recall\": 0.0}, {\"count\": 78, \"cutoff\": 7, \"regionidzip\": \"97089.0\", \"precision\": 0.0, \"recall\": 0.0}, {\"count\": 78, \"cutoff\": 8, \"regionidzip\": \"97089.0\", \"precision\": 0.0, \"recall\": 0.0}, {\"count\": 78, \"cutoff\": 9, \"regionidzip\": \"97089.0\", \"precision\": 0.0, \"recall\": 0.0}, {\"count\": 78, \"cutoff\": 10, \"regionidzip\": \"97089.0\", \"precision\": 0.0, \"recall\": 0.0}, {\"count\": 78, \"cutoff\": 11, \"regionidzip\": \"97089.0\", \"precision\": 0.0, \"recall\": 0.0}, {\"count\": 78, \"cutoff\": 16, \"regionidzip\": \"97089.0\", \"precision\": 0.0, \"recall\": 0.0}, {\"count\": 78, \"cutoff\": 21, \"regionidzip\": \"97089.0\", \"precision\": 0.0, \"recall\": 0.0}, {\"count\": 78, \"cutoff\": 26, \"regionidzip\": \"97089.0\", \"precision\": 0.0, \"recall\": 0.0}, {\"count\": 78, \"cutoff\": 31, \"regionidzip\": \"97089.0\", \"precision\": 0.0, \"recall\": 0.0}, {\"count\": 78, \"cutoff\": 36, \"regionidzip\": \"97089.0\", \"precision\": 0.0, \"recall\": 0.0}, {\"count\": 78, \"cutoff\": 41, \"regionidzip\": \"97089.0\", \"precision\": 0.0, \"recall\": 0.0}, {\"count\": 78, \"cutoff\": 46, \"regionidzip\": \"97089.0\", \"precision\": 0.0, \"recall\": 0.0}, {\"count\": 45, \"cutoff\": 1, \"regionidzip\": \"97099.0\", \"precision\": 0.0, \"recall\": 0.0}, {\"count\": 45, \"cutoff\": 2, \"regionidzip\": \"97099.0\", \"precision\": 0.0, \"recall\": 0.0}, {\"count\": 45, \"cutoff\": 3, \"regionidzip\": \"97099.0\", \"precision\": 0.0, \"recall\": 0.0}, {\"count\": 45, \"cutoff\": 4, \"regionidzip\": \"97099.0\", \"precision\": 0.0, \"recall\": 0.0}, {\"count\": 45, \"cutoff\": 5, \"regionidzip\": \"97099.0\", \"precision\": 0.0, \"recall\": 0.0}, {\"count\": 45, \"cutoff\": 6, \"regionidzip\": \"97099.0\", \"precision\": 0.0, \"recall\": 0.0}, {\"count\": 45, \"cutoff\": 7, \"regionidzip\": \"97099.0\", \"precision\": 0.0, \"recall\": 0.0}, {\"count\": 45, \"cutoff\": 8, \"regionidzip\": \"97099.0\", \"precision\": 0.0, \"recall\": 0.0}, {\"count\": 45, \"cutoff\": 9, \"regionidzip\": \"97099.0\", \"precision\": 0.0, \"recall\": 0.0}, {\"count\": 45, \"cutoff\": 10, \"regionidzip\": \"97099.0\", \"precision\": 0.0, \"recall\": 0.0}, {\"count\": 45, \"cutoff\": 11, \"regionidzip\": \"97099.0\", \"precision\": 0.0, \"recall\": 0.0}, {\"count\": 45, \"cutoff\": 16, \"regionidzip\": \"97099.0\", \"precision\": 0.0, \"recall\": 0.0}, {\"count\": 45, \"cutoff\": 21, \"regionidzip\": \"97099.0\", \"precision\": 0.0, \"recall\": 0.0}, {\"count\": 45, \"cutoff\": 26, \"regionidzip\": \"97099.0\", \"precision\": 0.0, \"recall\": 0.0}, {\"count\": 45, \"cutoff\": 31, \"regionidzip\": \"97099.0\", \"precision\": 0.0, \"recall\": 0.0}, {\"count\": 45, \"cutoff\": 36, \"regionidzip\": \"97099.0\", \"precision\": 0.0, \"recall\": 0.0}, {\"count\": 45, \"cutoff\": 41, \"regionidzip\": \"97099.0\", \"precision\": 0.0, \"recall\": 0.0}, {\"count\": 45, \"cutoff\": 46, \"regionidzip\": \"97099.0\", \"precision\": 0.0, \"recall\": 0.0}, {\"count\": 88, \"cutoff\": 1, \"regionidzip\": \"97330.0\", \"precision\": 0.0, \"recall\": 0.0}, {\"count\": 88, \"cutoff\": 2, \"regionidzip\": \"97330.0\", \"precision\": 0.0, \"recall\": 0.0}, {\"count\": 88, \"cutoff\": 3, \"regionidzip\": \"97330.0\", \"precision\": 0.0, \"recall\": 0.0}, {\"count\": 88, \"cutoff\": 4, \"regionidzip\": \"97330.0\", \"precision\": 0.0, \"recall\": 0.0}, {\"count\": 88, \"cutoff\": 5, \"regionidzip\": \"97330.0\", \"precision\": 0.0, \"recall\": 0.0}, {\"count\": 88, \"cutoff\": 6, \"regionidzip\": \"97330.0\", \"precision\": 0.0, \"recall\": 0.0}, {\"count\": 88, \"cutoff\": 7, \"regionidzip\": \"97330.0\", \"precision\": 0.0, \"recall\": 0.0}, {\"count\": 88, \"cutoff\": 8, \"regionidzip\": \"97330.0\", \"precision\": 0.0, \"recall\": 0.0}, {\"count\": 88, \"cutoff\": 9, \"regionidzip\": \"97330.0\", \"precision\": 0.0, \"recall\": 0.0}, {\"count\": 88, \"cutoff\": 10, \"regionidzip\": \"97330.0\", \"precision\": 0.0, \"recall\": 0.0}, {\"count\": 88, \"cutoff\": 11, \"regionidzip\": \"97330.0\", \"precision\": 0.0, \"recall\": 0.0}, {\"count\": 88, \"cutoff\": 16, \"regionidzip\": \"97330.0\", \"precision\": 0.0, \"recall\": 0.0}, {\"count\": 88, \"cutoff\": 21, \"regionidzip\": \"97330.0\", \"precision\": 0.0, \"recall\": 0.0}, {\"count\": 88, \"cutoff\": 26, \"regionidzip\": \"97330.0\", \"precision\": 0.0, \"recall\": 0.0}, {\"count\": 88, \"cutoff\": 31, \"regionidzip\": \"97330.0\", \"precision\": 0.0, \"recall\": 0.0}, {\"count\": 88, \"cutoff\": 36, \"regionidzip\": \"97330.0\", \"precision\": 0.0, \"recall\": 0.0}, {\"count\": 88, \"cutoff\": 41, \"regionidzip\": \"97330.0\", \"precision\": 0.0, \"recall\": 0.0}, {\"count\": 88, \"cutoff\": 46, \"regionidzip\": \"97330.0\", \"precision\": 0.0, \"recall\": 0.0}, {\"count\": 19, \"cutoff\": 1, \"regionidzip\": \"97344.0\", \"precision\": 0.0, \"recall\": 0.0}, {\"count\": 19, \"cutoff\": 2, \"regionidzip\": \"97344.0\", \"precision\": 0.0, \"recall\": 0.0}, {\"count\": 19, \"cutoff\": 3, \"regionidzip\": \"97344.0\", \"precision\": 0.0, \"recall\": 0.0}, {\"count\": 19, \"cutoff\": 4, \"regionidzip\": \"97344.0\", \"precision\": 0.0, \"recall\": 0.0}, {\"count\": 19, \"cutoff\": 5, \"regionidzip\": \"97344.0\", \"precision\": 0.0, \"recall\": 0.0}, {\"count\": 19, \"cutoff\": 6, \"regionidzip\": \"97344.0\", \"precision\": 0.0, \"recall\": 0.0}, {\"count\": 19, \"cutoff\": 7, \"regionidzip\": \"97344.0\", \"precision\": 0.0, \"recall\": 0.0}, {\"count\": 19, \"cutoff\": 8, \"regionidzip\": \"97344.0\", \"precision\": 0.0, \"recall\": 0.0}, {\"count\": 19, \"cutoff\": 9, \"regionidzip\": \"97344.0\", \"precision\": 0.0, \"recall\": 0.0}, {\"count\": 19, \"cutoff\": 10, \"regionidzip\": \"97344.0\", \"precision\": 0.0, \"recall\": 0.0}, {\"count\": 19, \"cutoff\": 11, \"regionidzip\": \"97344.0\", \"precision\": 0.0, \"recall\": 0.0}, {\"count\": 19, \"cutoff\": 16, \"regionidzip\": \"97344.0\", \"precision\": 0.0, \"recall\": 0.0}, {\"count\": 19, \"cutoff\": 21, \"regionidzip\": \"97344.0\", \"precision\": 0.0, \"recall\": 0.0}, {\"count\": 19, \"cutoff\": 26, \"regionidzip\": \"97344.0\", \"precision\": 0.0, \"recall\": 0.0}, {\"count\": 19, \"cutoff\": 31, \"regionidzip\": \"97344.0\", \"precision\": 0.0, \"recall\": 0.0}, {\"count\": 19, \"cutoff\": 36, \"regionidzip\": \"97344.0\", \"precision\": 0.0, \"recall\": 0.0}, {\"count\": 19, \"cutoff\": 41, \"regionidzip\": \"97344.0\", \"precision\": 0.0, \"recall\": 0.0}, {\"count\": 19, \"cutoff\": 46, \"regionidzip\": \"97344.0\", \"precision\": 0.0, \"recall\": 0.0}]}]]}, e);\n",
       "                });\n",
       "            })();\n",
       "        "
      ]
     },
     "metadata": {},
     "output_type": "display_data"
    }
   ],
   "source": [
    "comparisonstruct = gl.compare(test,models)\n",
    "gl.show_comparison(comparisonstruct,models)"
   ]
  },
  {
   "cell_type": "code",
   "execution_count": 96,
   "metadata": {
    "collapsed": false
   },
   "outputs": [
    {
     "data": {
      "text/plain": [
       "['parcelid',\n",
       " 'logerror',\n",
       " 'airconditioningtypeid',\n",
       " 'architecturalstyletypeid',\n",
       " 'basementsqft',\n",
       " 'bathroomcnt',\n",
       " 'bedroomcnt',\n",
       " 'buildingclasstypeid',\n",
       " 'buildingqualitytypeid',\n",
       " 'calculatedbathnbr',\n",
       " 'decktypeid',\n",
       " 'finishedfloor1squarefeet',\n",
       " 'calculatedfinishedsquarefeet',\n",
       " 'finishedsquarefeet12',\n",
       " 'finishedsquarefeet13',\n",
       " 'finishedsquarefeet15',\n",
       " 'finishedsquarefeet50',\n",
       " 'finishedsquarefeet6',\n",
       " 'fips',\n",
       " 'fireplacecnt',\n",
       " 'fullbathcnt',\n",
       " 'garagecarcnt',\n",
       " 'garagetotalsqft',\n",
       " 'hashottuborspa',\n",
       " 'heatingorsystemtypeid',\n",
       " 'latitude',\n",
       " 'longitude',\n",
       " 'lotsizesquarefeet',\n",
       " 'poolcnt',\n",
       " 'poolsizesum',\n",
       " 'pooltypeid10',\n",
       " 'pooltypeid2',\n",
       " 'pooltypeid7',\n",
       " 'propertylandusetypeid',\n",
       " 'rawcensustractandblock',\n",
       " 'regionidcity',\n",
       " 'regionidcounty',\n",
       " 'regionidneighborhood',\n",
       " 'regionidzip',\n",
       " 'roomcnt',\n",
       " 'storytypeid',\n",
       " 'threequarterbathnbr',\n",
       " 'typeconstructiontypeid',\n",
       " 'unitcnt',\n",
       " 'yardbuildingsqft17',\n",
       " 'yardbuildingsqft26',\n",
       " 'yearbuilt',\n",
       " 'numberofstories',\n",
       " 'structuretaxvaluedollarcnt',\n",
       " 'taxvaluedollarcnt',\n",
       " 'assessmentyear',\n",
       " 'landtaxvaluedollarcnt',\n",
       " 'taxamount',\n",
       " 'taxdelinquencyyear',\n",
       " 'censustractandblock',\n",
       " 'hasbasement',\n",
       " 'hasdeck',\n",
       " 'hasfireplace',\n",
       " 'haspatio',\n",
       " 'log10TaxValue',\n",
       " 'HSTypeId_1.0',\n",
       " 'HSTypeId_2.0',\n",
       " 'HSTypeId_6.0',\n",
       " 'HSTypeId_7.0',\n",
       " 'HSTypeId_10.0',\n",
       " 'HSTypeId_11.0',\n",
       " 'HSTypeId_12.0',\n",
       " 'HSTypeId_13.0',\n",
       " 'HSTypeId_14.0',\n",
       " 'HSTypeId_18.0',\n",
       " 'HSTypeId_20.0',\n",
       " 'HSTypeId_24.0',\n",
       " 'ACTypeId_1.0',\n",
       " 'ACTypeId_3.0',\n",
       " 'ACTypeId_5.0',\n",
       " 'ACTypeId_9.0',\n",
       " 'ACTypeId_11.0',\n",
       " 'ACTypeId_13.0',\n",
       " 'ArchStyleTypeId_2.0',\n",
       " 'ArchStyleTypeId_3.0',\n",
       " 'ArchStyleTypeId_7.0',\n",
       " 'ArchStyleTypeId_8.0',\n",
       " 'ArchStyleTypeId_10.0',\n",
       " 'ArchStyleTypeId_21.0',\n",
       " 'DeckTypeId_66.0',\n",
       " 'BuildClassTypeId_4.0',\n",
       " 'ConstructionTypeId_4.0',\n",
       " 'ConstructionTypeId_6.0',\n",
       " 'ConstructionTypeId_13.0',\n",
       " 'BuildingQualTypeId_1.0',\n",
       " 'BuildingQualTypeId_4.0',\n",
       " 'BuildingQualTypeId_6.0',\n",
       " 'BuildingQualTypeId_7.0',\n",
       " 'BuildingQualTypeId_8.0',\n",
       " 'BuildingQualTypeId_10.0',\n",
       " 'BuildingQualTypeId_11.0',\n",
       " 'BuildingQualTypeId_12.0',\n",
       " 'LandUseTypeId_31.0',\n",
       " 'LandUseTypeId_47.0',\n",
       " 'LandUseTypeId_246.0',\n",
       " 'LandUseTypeId_247.0',\n",
       " 'LandUseTypeId_248.0',\n",
       " 'LandUseTypeId_260.0',\n",
       " 'LandUseTypeId_261.0',\n",
       " 'LandUseTypeId_263.0',\n",
       " 'LandUseTypeId_264.0',\n",
       " 'LandUseTypeId_265.0',\n",
       " 'LandUseTypeId_266.0',\n",
       " 'LandUseTypeId_267.0',\n",
       " 'LandUseTypeId_269.0',\n",
       " 'LandUseTypeId_275.0',\n",
       " 'StoryTypeId7.0',\n",
       " 'StoryTypeId24.0',\n",
       " 'hasgarage']"
      ]
     },
     "execution_count": 96,
     "metadata": {},
     "output_type": "execute_result"
    }
   ],
   "source": [
    "list(dfZillowDataNumeric)"
   ]
  },
  {
   "cell_type": "code",
   "execution_count": null,
   "metadata": {
    "collapsed": true
   },
   "outputs": [],
   "source": []
  }
 ],
 "metadata": {
  "anaconda-cloud": {},
  "kernelspec": {
   "display_name": "Python 2",
   "language": "python",
   "name": "python2"
  },
  "language_info": {
   "codemirror_mode": {
    "name": "ipython",
    "version": 2
   },
   "file_extension": ".py",
   "mimetype": "text/x-python",
   "name": "python",
   "nbconvert_exporter": "python",
   "pygments_lexer": "ipython2",
   "version": "2.7.11"
  }
 },
 "nbformat": 4,
 "nbformat_minor": 1
}
