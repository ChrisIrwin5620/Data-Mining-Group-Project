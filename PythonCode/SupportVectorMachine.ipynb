{
 "cells": [
  {
   "cell_type": "code",
   "execution_count": null,
   "metadata": {
    "collapsed": true
   },
   "outputs": [],
   "source": [
    "from matplotlib import pyplot as svmplt\n",
    "%matplotlib inline\n",
    "# lets investigate SVMs on the data and play with the parameters and kernels\n",
    "from sklearn.svm import SVC\n",
    "\n",
    "#change between the Kernal test rbf, linear, Polynomial, sigmoid\n",
    "#only linear will produce a graph below. \n",
    "kernelTest = 'linear'\n",
    "# train the model just as before\n",
    "svm_clf = SVC(C=0.5, kernel=kernelTest, degree=3, gamma='auto') # get object\n",
    "svm_clf.fit(X_train_scaled, y_train)  # train object\n",
    "\n",
    "y_hat = svm_clf.predict(X_test_scaled) # get test set precitions\n",
    "\n",
    "acc = mt.accuracy_score(y_test,y_hat)\n",
    "conf = mt.confusion_matrix(y_test,y_hat)\n",
    "print('accuracy:', acc )\n",
    "print(conf)\n",
    "\n",
    "if kernelTest == 'linear':\n",
    "        svmplt.style.use('ggplot')\n",
    "        #svmplt.axis('off')\n",
    "        svmweights = pd.Series(svm_clf.coef_[0])\n",
    "        svmweights.plot(kind='line')\n",
    "        svmplt.show()\n",
    "else:\n",
    "        print 'No Graph due to Kernal Type'\n",
    "#print(svm_clf.coef_)\n",
    "\n"
   ]
  }
 ],
 "metadata": {
  "anaconda-cloud": {},
  "kernelspec": {
   "display_name": "Python [default]",
   "language": "python",
   "name": "python2"
  },
  "language_info": {
   "codemirror_mode": {
    "name": "ipython",
    "version": 2
   },
   "file_extension": ".py",
   "mimetype": "text/x-python",
   "name": "python",
   "nbconvert_exporter": "python",
   "pygments_lexer": "ipython2",
   "version": "2.7.12"
  }
 },
 "nbformat": 4,
 "nbformat_minor": 1
}
